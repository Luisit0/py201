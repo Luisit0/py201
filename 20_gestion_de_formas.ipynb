{
 "cells": [
  {
   "cell_type": "markdown",
   "metadata": {},
   "source": [
    "[![imagenes/pythonista.png](imagenes/pythonista.png)](https://pythonista.io)"
   ]
  },
  {
   "cell_type": "markdown",
   "metadata": {},
   "source": [
    "**ADVERTENCIA:**  \n",
    "\n",
    "Para poder realizar exitosamente los ejercicios de esta notebook, es necesario haber seguido al pie de la letra y en orden sucesivo las instrucciones de todas las notebooks previas."
   ]
  },
  {
   "cell_type": "markdown",
   "metadata": {},
   "source": [
    "https://docs.djangoproject.com/en/2.1/topics/forms/"
   ]
  },
  {
   "cell_type": "markdown",
   "metadata": {},
   "source": [
    "## Formas en HTML.\n",
    "\n",
    "Las formas en HTML se definene mediante la etiquete *&tl;form&gt;* de la siguiente forma:\n",
    "\n",
    "```\n",
    "<form action=\"una acción\" method=\"método\">\n",
    "...\n",
    "...\n",
    "</form>\n",
    "```\n",
    "Las formas fueron creadas para interactuar con el usuario obteniendo información y/o ejecutando una acción a partir de elementos tipo *&lt;input&gt;*.\n",
    "\n",
    "Las acciones pueden:\n",
    "* Enviar la información recabada a una URL específica.\n",
    "   * El método HTTP de envío de la información puede ser *GET* o *POST*.\n",
    "   * O por medio de la ejecución de una función de Javascript.\n",
    "\n",
    "Para mayor referencia consultar en https://www.w3schools.com/html/html_forms.asp"
   ]
  },
  {
   "cell_type": "markdown",
   "metadata": {},
   "source": [
    "## Elementos de una forma en *Django*.\n",
    "\n",
    "Django cuenta con un manejo muy avanzado de formas definiendo los siguientes elementos.\n",
    " \n",
    "* Formas.\n",
    "* Campos (field).\n",
    "* Widgets.\n",
    "* Validadores."
   ]
  },
  {
   "cell_type": "markdown",
   "metadata": {},
   "source": [
    "## El archivo *forms.py*.\n",
    "\n",
    "Por convención, el archivo *forms.py* contiene las definiciones de formas de una aplicación."
   ]
  },
  {
   "cell_type": "markdown",
   "metadata": {},
   "source": [
    "## La clase *django.forms.Form*.\n",
    "\n",
    "La clase *django.forms.Form* es el elemento principal de una forma en *Django*. \n",
    "\n",
    "Un objeto instanciado de esta clase se puede contener atributos muy similares a los definidos en los modelos, los cuales se conocen como campos (fields).\n",
    "\n",
    "https://docs.djangoproject.com/en/2.1/ref/forms/api/#django.forms.Form"
   ]
  },
  {
   "cell_type": "markdown",
   "metadata": {},
   "source": [
    "## La clase *django.forms.ModelForm*.\n",
    "\n",
    "https://docs.djangoproject.com/en/2.1/topics/forms/modelforms/#django.forms.ModelForm"
   ]
  },
  {
   "cell_type": "markdown",
   "metadata": {},
   "source": [
    "## Los campos.\n",
    "\n",
    "https://docs.djangoproject.com/en/2.1/ref/forms/fields/#built-in-field-classes"
   ]
  },
  {
   "cell_type": "markdown",
   "metadata": {},
   "source": [
    "## Los *widgets* de los campos.\n",
    "\n",
    "https://docs.djangoproject.com/en/2.1/ref/forms/widgets/"
   ]
  },
  {
   "cell_type": "code",
   "execution_count": 1,
   "metadata": {},
   "outputs": [],
   "source": [
    "from django.forms import Widget"
   ]
  },
  {
   "cell_type": "markdown",
   "metadata": {},
   "source": [
    "## Validadores.\n",
    "https://docs.djangoproject.com/en/2.1/ref/validators/"
   ]
  },
  {
   "cell_type": "markdown",
   "metadata": {},
   "source": [
    "## Protección contra el envío de falsificación de peticiones entre sitios (CSRF).\n",
    "\n",
    "Cross Site Request Forgery.\n",
    "\n",
    "https://docs.djangoproject.com/en/2.1/ref/csrf/\n",
    "\n",
    "django.middleware.csrf.CsrfViewMiddleware\n",
    "\n",
    "### La etiqueta de plantilla *csrf*.\n",
    "\n",
    "```\n",
    "{% csrf_token %}\n",
    "```\n"
   ]
  },
  {
   "cell_type": "code",
   "execution_count": 2,
   "metadata": {},
   "outputs": [],
   "source": [
    "from tutorial.tutorial import settings as settings"
   ]
  },
  {
   "cell_type": "code",
   "execution_count": 3,
   "metadata": {},
   "outputs": [
    {
     "data": {
      "text/plain": [
       "['django.middleware.security.SecurityMiddleware',\n",
       " 'django.contrib.sessions.middleware.SessionMiddleware',\n",
       " 'django.middleware.common.CommonMiddleware',\n",
       " 'django.middleware.csrf.CsrfViewMiddleware',\n",
       " 'django.contrib.auth.middleware.AuthenticationMiddleware',\n",
       " 'django.contrib.messages.middleware.MessageMiddleware',\n",
       " 'django.middleware.clickjacking.XFrameOptionsMiddleware']"
      ]
     },
     "execution_count": 3,
     "metadata": {},
     "output_type": "execute_result"
    }
   ],
   "source": [
    "settings.MIDDLEWARE"
   ]
  },
  {
   "cell_type": "markdown",
   "metadata": {},
   "source": [
    "## La función *django.shortcuts.render()*\n",
    "\n",
    "```\n",
    "render(request, '<plantilla>', context=<contexto>)\n",
    "```"
   ]
  },
  {
   "cell_type": "markdown",
   "metadata": {},
   "source": [
    "## Creación de una forma que consume una API REST para realizar altas."
   ]
  },
  {
   "cell_type": "markdown",
   "metadata": {},
   "source": [
    "### Definición de la ruta para la forma."
   ]
  },
  {
   "cell_type": "code",
   "execution_count": 4,
   "metadata": {},
   "outputs": [],
   "source": [
    "%cp src/20/urls.py tutorial/api/urls.py"
   ]
  },
  {
   "cell_type": "code",
   "execution_count": 5,
   "metadata": {},
   "outputs": [
    {
     "name": "stdout",
     "output_type": "stream",
     "text": [
      "from django.urls import path, re_path\r\n",
      "from . import views, endpoint_views, template_views\r\n",
      "\r\n",
      "urlpatterns = [path('', views.vista),\r\n",
      "               path('carga', views.carga),\r\n",
      "               re_path(r'^(?P<clave>[0-9]{4}$)', endpoint_views.clave),\r\n",
      "               path('vista/', template_views.vista),\r\n",
      "               path('valida/', template_views.valida),\r\n",
      "               path('alta/', template_views.forma),\r\n",
      "         ]"
     ]
    }
   ],
   "source": [
    "%cat tutorial/api/urls.py"
   ]
  },
  {
   "cell_type": "markdown",
   "metadata": {},
   "source": [
    "### Definción de una forma."
   ]
  },
  {
   "cell_type": "code",
   "execution_count": 6,
   "metadata": {},
   "outputs": [],
   "source": [
    "%cp src/20/forms.py tutorial/api/forms.py"
   ]
  },
  {
   "cell_type": "code",
   "execution_count": 7,
   "metadata": {},
   "outputs": [
    {
     "name": "stdout",
     "output_type": "stream",
     "text": [
      "from django import forms\r\n",
      "\r\n",
      "CARRERAS =(('Sistemas', 'Sistemas'), \r\n",
      "           ('Derecho', 'Derecho'), \r\n",
      "           ('Actuaría', 'Actuaría'),\r\n",
      "           ('Arquitectura', 'Arquitectura'),\r\n",
      "           ('Administración', 'Administración'))\r\n",
      "\r\n",
      "class FormaAlumno(forms.Form):\r\n",
      "    numero_de_cuenta = forms.IntegerField(label='Número de cuenta',\r\n",
      "                                          min_value=1000, \r\n",
      "                                          max_value=9999,\r\n",
      "                                          error_messages={'required': 'Dato requerido'})\r\n",
      "    nombre = forms.CharField(max_length=50, \r\n",
      "                             label='Nombre')\r\n",
      "    primer_apellido = forms.CharField(max_length=50, \r\n",
      "                                      label='Primer apellido')\r\n",
      "    segundo_apellido = forms.CharField(max_length=50, \r\n",
      "                                       label='Segundo apellido', \r\n",
      "                                       required=False)\r\n",
      "    carrera = forms.ChoiceField(label='Carrera', \r\n",
      "                                choices=CARRERAS)\r\n",
      "    semestre = forms.IntegerField(label='Semestre', \r\n",
      "                                  min_value=1)\r\n",
      "    promedio = forms.FloatField(label='Promedio',\r\n",
      "                                min_value=0.,\r\n",
      "                                max_value=10.0)   \r\n",
      "    al_corriente = forms.BooleanField(required=False)"
     ]
    }
   ],
   "source": [
    "%cat tutorial/api/forms.py"
   ]
  },
  {
   "cell_type": "markdown",
   "metadata": {},
   "source": [
    "### La función de vista que contiene la forma."
   ]
  },
  {
   "cell_type": "code",
   "execution_count": 8,
   "metadata": {},
   "outputs": [],
   "source": [
    "%cp src/20/template_views.py tutorial/api/template_views.py"
   ]
  },
  {
   "cell_type": "code",
   "execution_count": 9,
   "metadata": {},
   "outputs": [
    {
     "name": "stdout",
     "output_type": "stream",
     "text": [
      "from .models import Alumno\r\n",
      "from .forms import FormaAlumno\r\n",
      "from django.http import HttpResponseRedirect, HttpResponse, JsonResponse\r\n",
      "from django.shortcuts import render, render_to_response\r\n",
      "from requests import post\r\n",
      "\r\n",
      "campos = ('numero_de_cuenta', 'nombre', 'primer_apellido', 'segundo_apellido', 'carrera', 'semestre', 'promedio', 'al_corriente')\r\n",
      "\r\n",
      "\r\n",
      "def vista(request):\r\n",
      "    lista = [[(campo, getattr(alumno, campo)) for campo in campos] for alumno in Alumno.objects.all()]\r\n",
      "    return render_to_response('listado.html',{'lista': lista}) \r\n",
      "\r\n",
      "\r\n",
      "def valida(request):\r\n",
      "    lista = [[getattr(alumno, campo) for campo in campos] for alumno in Alumno.objects.all()]\r\n",
      "    return render_to_response('valida.html',{'lista': lista}) \r\n",
      "\r\n",
      "def forma(request):\r\n",
      "    if request.method == 'POST':\r\n",
      "        forma = FormaAlumno(request.POST)\r\n",
      "        if forma.is_valid():\r\n",
      "            datos = request.POST.dict()\r\n",
      "            '''\r\n",
      "            datos.pop('csrfmiddlewaretoken')\r\n",
      "            cuenta = datos.pop('numero_de_cuenta')\r\n",
      "            if 'al_corriente' in datos:\r\n",
      "                datos['al_corriente']=True\r\n",
      "            else:\r\n",
      "                datos['al_corriente']=False\r\n",
      "            resultado = post('http://' + request.get_host() + '/api/{}'.format(cuenta), data=datos)\r\n",
      "            if resultado.status_code == 200:\r\n",
      "                return HttpResponse('<h1>¡Alta Exitosa!</h1>')    \r\n",
      "            else: \r\n",
      "                return HttpResponse('<h1>Ocurrió un error en el alta.</h1>')'''\r\n",
      "            return JsonResponse(datos)\r\n",
      "            \r\n",
      "    else:\r\n",
      "        forma = FormaAlumno()\r\n",
      "\r\n",
      "    return render(request, 'forma.html', {'forma': forma}) "
     ]
    }
   ],
   "source": [
    "%cat tutorial/api/template_views.py"
   ]
  },
  {
   "cell_type": "markdown",
   "metadata": {},
   "source": [
    "### La plantilla que incluye a la forma."
   ]
  },
  {
   "cell_type": "code",
   "execution_count": 10,
   "metadata": {},
   "outputs": [],
   "source": [
    "%cp src/20/forma.html tutorial/templates/forma.html"
   ]
  },
  {
   "cell_type": "code",
   "execution_count": 11,
   "metadata": {},
   "outputs": [
    {
     "name": "stdout",
     "output_type": "stream",
     "text": [
      "{% extends \"base.html\" %}\r\n",
      "{% block encabezado %}Forma de alta {% endblock %}\r\n",
      "{% block cuerpo %}\r\n",
      "    <form action=\"/api/alta/\" method=\"post\">\r\n",
      "        <div class=\"form-group\">\r\n",
      "            {% csrf_token %}\r\n",
      "            {{ forma }}\r\n",
      "        </div>\r\n",
      "        <input type=\"submit\" value=\"Enviar\">\r\n",
      "    </form>\r\n",
      "{% endblock %}"
     ]
    }
   ],
   "source": [
    "%cat tutorial/templates/forma.html"
   ]
  },
  {
   "cell_type": "markdown",
   "metadata": {},
   "source": [
    "* Se iniciará el servidor."
   ]
  },
  {
   "cell_type": "code",
   "execution_count": 12,
   "metadata": {},
   "outputs": [
    {
     "name": "stdout",
     "output_type": "stream",
     "text": [
      "/opt/pythonista/py231/tutorial\n"
     ]
    }
   ],
   "source": [
    "%cd tutorial"
   ]
  },
  {
   "cell_type": "markdown",
   "metadata": {},
   "source": [
    "**ADVERTENCIAS:** \n",
    "\n",
    "* Al ejecutar la siguiente celda el servidor se inciará desde la notebook, por lo que para ejecutar cualquier otra celda es necesario interrumpir la ejecución del kernel.\n",
    "\n",
    "* Asegúrese que no haya otro servicio escuchando en el puerto *5000*."
   ]
  },
  {
   "cell_type": "code",
   "execution_count": 13,
   "metadata": {},
   "outputs": [
    {
     "name": "stdout",
     "output_type": "stream",
     "text": [
      "Performing system checks...\n",
      "\n",
      "System check identified no issues (0 silenced).\n",
      "February 28, 2019 - 22:43:47\n",
      "Django version 2.1.7, using settings 'tutorial.settings'\n",
      "Starting development server at http://0.0.0.0:5000/\n",
      "Quit the server with CONTROL-C.\n",
      "[28/Feb/2019 22:43:58] \u001b[m\"GET /api/alta/ HTTP/1.1\" 200 2123\u001b[0m\n",
      "[28/Feb/2019 22:44:13] \u001b[m\"POST /api/alta/ HTTP/1.1\" 200 256\u001b[0m\n",
      "[28/Feb/2019 22:44:53] \u001b[m\"GET /api/alta/ HTTP/1.1\" 200 2123\u001b[0m\n",
      "[28/Feb/2019 22:45:12] \u001b[m\"POST /api/alta/ HTTP/1.1\" 200 277\u001b[0m\n",
      "^C\n"
     ]
    }
   ],
   "source": [
    "!./manage.py runserver 0.0.0.0:5000"
   ]
  },
  {
   "cell_type": "markdown",
   "metadata": {},
   "source": [
    "http://localhost:5000/api/alta/"
   ]
  },
  {
   "cell_type": "markdown",
   "metadata": {},
   "source": [
    "<p style=\"text-align: center\"><a rel=\"license\" href=\"http://creativecommons.org/licenses/by/4.0/\"><img alt=\"Licencia Creative Commons\" style=\"border-width:0\" src=\"https://i.creativecommons.org/l/by/4.0/80x15.png\" /></a><br />Esta obra está bajo una <a rel=\"license\" href=\"http://creativecommons.org/licenses/by/4.0/\">Licencia Creative Commons Atribución 4.0 Internacional</a>.</p>\n",
    "<p style=\"text-align: center\">&copy; José Luis Chiquete Valdivieso. 2019.</p>"
   ]
  }
 ],
 "metadata": {
  "kernelspec": {
   "display_name": "Python 3",
   "language": "python",
   "name": "python3"
  },
  "language_info": {
   "codemirror_mode": {
    "name": "ipython",
    "version": 3
   },
   "file_extension": ".py",
   "mimetype": "text/x-python",
   "name": "python",
   "nbconvert_exporter": "python",
   "pygments_lexer": "ipython3",
   "version": "3.6.6"
  }
 },
 "nbformat": 4,
 "nbformat_minor": 2
}
