{
 "cells": [
  {
   "cell_type": "markdown",
   "metadata": {},
   "source": [
    "[![imagenes/pythonista.png](imagenes/pythonista.png)](https://pythonista.io)"
   ]
  },
  {
   "cell_type": "markdown",
   "metadata": {},
   "source": [
    "**ADVERTENCIA:**  \n",
    "\n",
    "Para poder realizar exitosamente los ejercicios de esta notebook, es necesario haber seguido al pie de la letra y en orden sucesivo las instrucciones de todas las notebooks previas."
   ]
  },
  {
   "cell_type": "markdown",
   "metadata": {},
   "source": [
    "## Notas preliminares sobre el capítulo 12.\n",
    "\n",
    "Este capítulo está dividido en dos notebooks:\n",
    "\n",
    "* La parte teórica y del servidor, corresponde al presente documento.\n",
    "* La parte del cliente, corresponde a la notebook [12b_cliente_operaciones_con_http.ipynb](12b_cliente_operaciones_con_http.ipynb).\n",
    "\n",
    "La notebook del cliente consume los recursos que el servidor que esta notebook despliega, por lo que es necesario que el servidor de Django de esta notebook esté en ejecución cuando la notebook del cliente se esté ejecutando."
   ]
  },
  {
   "cell_type": "markdown",
   "metadata": {},
   "source": [
    "## El paquete *django.http*.\n",
    "\n",
    "Este paquete cuenta con herramientas diseñadas para gestionar las peticiones y repuestas más comunes de *HTTP*, incluyendo algunos mensajes de estado.\n",
    "\n",
    "En el capítulo [*07_peticiones_y_respuestas.ipynb*](07_peticiones_y_respuestas.ipynb) se describió someramente lo siguiente:\n",
    "\n",
    "* El modo en el que los datos de las peticiones (*requests*) enviadas por un cliente son recibidas por el servidor de *Django* y contenidas en objetos instanciados de la clase *django.http.HttpRequest*.\n",
    "* El modo en el que una función de vista  permite enviar una respuestas (*responses*) a un cliente por medio de una instancia de la clase *django.http.HttpResponse*. \n",
    "\n",
    "En este capítulo se explorarán a detalle los recursos del módulo *django.http*, incluyendo más información sobre *django.http.HttpRequest* y *django.http.HttpResponse*.\n",
    "\n",
    "La referencia de este paquete puede ser consultada en https://docs.djangoproject.com/en/2.1/ref/request-response/."
   ]
  },
  {
   "cell_type": "markdown",
   "metadata": {},
   "source": [
    "## Detalles sobre la clase *django.http.HttpRequest*."
   ]
  },
  {
   "cell_type": "markdown",
   "metadata": {},
   "source": [
    "### Métodos *django.http.HttpRequest*.\n",
    "\n",
    "#### Métodos informativos.\n",
    "\n",
    "* *get_host()*, regresa la URL del servidor.\n",
    "* *get_port()*, regresa el puerto de conexión al servidor.\n",
    "* *get_full_path()*, regresa la URL incluyendo las peticiones.\n",
    "* *get_full_path_info()* similar a *get_full_path()*, pero utiliznado el atributo *path_info()*.\n",
    "* *build_absolute_uri()*\n",
    "* *is_secure()*\n",
    "\n",
    "#### Métodos de XML.\n",
    "\n",
    "* *is_ajax()*\n",
    "* *read()*\n",
    "* *readline()*\n",
    "* *\\_\\_iter\\_\\_()*\n",
    "\n",
    "#### Métodos de *cookies*.\n",
    "\n",
    "* *get_signed_cookie()*"
   ]
  },
  {
   "cell_type": "markdown",
   "metadata": {},
   "source": [
    "## La clase *django.http.QueryDict*.\n",
    "\n",
    "Los atributos *GET* y *PUT* de la clase *django.http.HtmlRequest* son instancias de la clase *django.http.QueryDict*.\n",
    "\n",
    "La clase *django.http.QueryDict* es similar a un objeto tipo *dict*, con la diferencia de que puede contener más de un elemento con el mismo identificador.\n",
    "\n",
    "La clase *django.http.QueryDict* es inmutable.\n",
    "``` python\n",
    "QueryDict.(query_string=None, mutable=False, encoding=None)\n",
    "````"
   ]
  },
  {
   "cell_type": "markdown",
   "metadata": {},
   "source": [
    "### Métodos de *django.http.QueryDict*.\n",
    "Cuenta con los siguientes métodos que son similares a los del tipo *dict*:\n",
    "* *clear()*\n",
    "* *pop()*\n",
    "* *popitem()*\n",
    "* *setdefault()*\n",
    "* *update()*\n",
    "* *items()*\n",
    "* *values()*\n",
    "\n",
    "#### Métodos de gestión.\n",
    "\n",
    "* *\\_\\_setitem\\_\\_()*\n",
    "* *\\_\\_getitem\\_\\_()*\n",
    "* *\\_\\_contains\\_\\_()*\n",
    "* *get()*\n",
    "* *dict()*\n",
    "* *copy()*\n",
    "* *urlencode()*\n",
    "\n",
    "#### Métodos de listas.\n",
    "\n",
    "* *getlist()*\n",
    "* *setlist()*\n",
    "* *appendlist()*\n",
    "* *setlistdefault()*\n",
    "* *lists()*"
   ]
  },
  {
   "cell_type": "markdown",
   "metadata": {},
   "source": [
    "## Detalles sobre la clase *django.http.HttpResponse*.\n",
    "\n",
    "``` python\n",
    "django.http.HttpResponse(content='', content_type=None, status=200, reason=None, charset=None)\n",
    "```"
   ]
  },
  {
   "cell_type": "markdown",
   "metadata": {},
   "source": [
    "### Métodos de *django.http.HttpResponse*.\n",
    "\n",
    "#### Métodos de gestión.\n",
    "\n",
    "* *\\_\\_setitem\\_\\_()*\n",
    "* *\\_\\_getitem\\_\\_()*\n",
    "* *\\_\\_delitem\\_\\_()*\n",
    "* *has_header()*\n",
    "* *setdefault()*\n",
    "\n",
    "\n",
    "\n",
    "#### Métodos de gestión de *cookies*.\n",
    "\n",
    "* *set_cookie()*\n",
    "* *set_signed_cookie()*\n",
    "* *delete_cookie()*\n",
    "\n"
   ]
  },
  {
   "cell_type": "markdown",
   "metadata": {},
   "source": [
    "## Otras respuestas de *Django*."
   ]
  },
  {
   "cell_type": "markdown",
   "metadata": {},
   "source": [
    "### Respuestas por tipo.\n",
    "\n",
    "* *JsonResponse*.\n",
    "* *FileResponse*.\n",
    "* *StreamingResponse*."
   ]
  },
  {
   "cell_type": "markdown",
   "metadata": {},
   "source": [
    "### Mensajes de estado.\n",
    "\n",
    "####  Mensajes de reenvío (300).\n",
    "\n",
    "* *HttpResponseRedirect* (302).\n",
    "* *HttpResponseNotModified* (304).\n",
    "* *HttpResponsePermanentRedirect* (308). \n",
    "\n",
    "#### Mensajes de error del cliente (400).\n",
    "* *HttpResponseBadRequest* (400)\n",
    "* *HttpResponseForbidden* (403)\n",
    "* *HttpResponseNotFound* (404)\n",
    "* *HttpResponseNotAllowed* (405)\n",
    "* *HttpResponseGone* (410)\n",
    "\n",
    "#### Mensajes de error del servidor (500).\n",
    "* *HttpResponseServerError* (500)."
   ]
  },
  {
   "cell_type": "markdown",
   "metadata": {},
   "source": [
    "## Excepciones.\n",
    "\n",
    "* *UnreadablePostError*\n",
    "* *Http404*\n",
    "* *BadHeaderError*"
   ]
  },
  {
   "cell_type": "code",
   "execution_count": null,
   "metadata": {},
   "outputs": [],
   "source": [
    "%cp src/12/urls.py tutorial/main/urls.py "
   ]
  },
  {
   "cell_type": "code",
   "execution_count": null,
   "metadata": {},
   "outputs": [],
   "source": [
    "%cat tutorial/main/urls.py "
   ]
  },
  {
   "cell_type": "code",
   "execution_count": null,
   "metadata": {},
   "outputs": [],
   "source": [
    "%cp src/12/views.py tutorial/main/views.py "
   ]
  },
  {
   "cell_type": "code",
   "execution_count": null,
   "metadata": {},
   "outputs": [],
   "source": [
    "%cat tutorial/main/views.py "
   ]
  },
  {
   "cell_type": "markdown",
   "metadata": {},
   "source": [
    "* Iniciar el servidor."
   ]
  },
  {
   "cell_type": "code",
   "execution_count": null,
   "metadata": {},
   "outputs": [],
   "source": [
    "%cd tutorial"
   ]
  },
  {
   "cell_type": "markdown",
   "metadata": {},
   "source": [
    "**ADVERTENCIAS:** \n",
    "\n",
    "* Al ejecutar la siguiente celda el servidor se inciará desde la notebook, por lo que para ejecutar cualquier otra celda es necesario interrumpir la ejecución del kernel.\n",
    "\n",
    "* Asegúrese que no haya otro servicio escuchando en el puerto *5000*."
   ]
  },
  {
   "cell_type": "code",
   "execution_count": null,
   "metadata": {
    "scrolled": true
   },
   "outputs": [],
   "source": [
    "! ./manage.py runserver 0.0.0.0:5000"
   ]
  },
  {
   "cell_type": "markdown",
   "metadata": {},
   "source": [
    "http://localhost:5000/main/error\n",
    "\n",
    "http://localhost:5000/main/otro_error"
   ]
  },
  {
   "cell_type": "markdown",
   "metadata": {},
   "source": [
    "<p style=\"text-align: center\"><a rel=\"license\" href=\"http://creativecommons.org/licenses/by/4.0/\"><img alt=\"Licencia Creative Commons\" style=\"border-width:0\" src=\"https://i.creativecommons.org/l/by/4.0/80x15.png\" /></a><br />Esta obra está bajo una <a rel=\"license\" href=\"http://creativecommons.org/licenses/by/4.0/\">Licencia Creative Commons Atribución 4.0 Internacional</a>.</p>\n",
    "<p style=\"text-align: center\">&copy; José Luis Chiquete Valdivieso. 2019.</p>"
   ]
  }
 ],
 "metadata": {
  "kernelspec": {
   "display_name": "Python 3",
   "language": "python",
   "name": "python3"
  },
  "language_info": {
   "codemirror_mode": {
    "name": "ipython",
    "version": 3
   },
   "file_extension": ".py",
   "mimetype": "text/x-python",
   "name": "python",
   "nbconvert_exporter": "python",
   "pygments_lexer": "ipython3",
   "version": "3.6.6"
  }
 },
 "nbformat": 4,
 "nbformat_minor": 2
}
