{
 "cells": [
  {
   "cell_type": "markdown",
   "metadata": {},
   "source": [
    "[![imagenes/pythonista.png](imagenes/pythonista.png)](https://pythonista.io)"
   ]
  },
  {
   "cell_type": "markdown",
   "metadata": {},
   "source": [
    "**ADVERTENCIA:**  \n",
    "\n",
    "Para poder realizar exitosamente los ejercicios de esta notebook, es necesario haber seguido al pie de la letra y en orden sucesivo las instrucciones de todas las notebooks previas."
   ]
  },
  {
   "cell_type": "markdown",
   "metadata": {},
   "source": [
    "El paquete *django.http* cuenta con herramientas diseñadas para gestionar las peticiones y repuestas más comunes de *HTTP*, incluyendo algunos mensajes de estado.\n",
    "\n",
    "Debido a que *Django* se apega al modelo *MVT*, los recursos de este módulo están diseñados para desplegar aplicaciones basadas en páginas web. Sin embargo, en este capítulo se hará énfasis en aplicaciones enfocasdas en servicios web con *JSON*.\n",
    "\n",
    "La referencia de este paquete puede ser consultada en https://docs.djangoproject.com/en/2.1/ref/request-response/."
   ]
  },
  {
   "cell_type": "markdown",
   "metadata": {},
   "source": [
    "## Los objetos *response*.\n",
    "\n",
    "*Django* define a los objetos instanciados de la clase *django.http.HtmlResponse* como los objetos capaces de contener los datos recibidos mediante una petición al servidor.\n",
    "\n",
    "En el capítulo [*07_peticiones_y_respuestas.ipynb*](07_peticiones_y_respuestas.ipynb) se estudió de forma \n",
    "\n"
   ]
  },
  {
   "cell_type": "markdown",
   "metadata": {},
   "source": [
    "## Respuestas\n",
    "\n",
    "* HttpResponse\n",
    "* JsonResponse\n",
    "* FileResponse\n",
    "* StreamingResponse"
   ]
  },
  {
   "cell_type": "markdown",
   "metadata": {},
   "source": [
    "### Mensajes serie 300\n",
    "* HttpResponsePermanentRedirect\n",
    "* HttpResponseRedirect\n",
    "\n",
    "\n",
    "### Mensajes serie 400\n",
    "* BadHeaderError\n",
    "* Http404\n",
    "* HttpResponseBadRequest\n",
    "* HttpResponseForbidden\n",
    "* HttpResponseNotAllowed\n",
    "* HttpResponseNotFound\n",
    "\n",
    "### Mensajes serie 500\n",
    "\n",
    "* HttpResponseGone\n",
    "* HttpResponseNotModified\n",
    "* HttpResponseServerError\n",
    "* UnreadablePostError\n"
   ]
  },
  {
   "cell_type": "markdown",
   "metadata": {},
   "source": [
    "Sintaxis para regresar un mensaje.\n",
    "\n",
    "``` python\n",
    "HttpResponseServerError('<mensaje>')\n",
    "``"
   ]
  },
  {
   "cell_type": "markdown",
   "metadata": {},
   "source": [
    "## La clase *django.http.QueryDict*.\n",
    "\n",
    "\n"
   ]
  },
  {
   "cell_type": "code",
   "execution_count": null,
   "metadata": {},
   "outputs": [],
   "source": [
    "cd .."
   ]
  },
  {
   "cell_type": "code",
   "execution_count": null,
   "metadata": {},
   "outputs": [],
   "source": [
    "%cp src/12/urls.py tutorial/main/urls.py "
   ]
  },
  {
   "cell_type": "code",
   "execution_count": null,
   "metadata": {},
   "outputs": [],
   "source": [
    "%cp src/12/views.py tutorial/main/views.py "
   ]
  },
  {
   "cell_type": "markdown",
   "metadata": {},
   "source": [
    "* Iniciar el servidor."
   ]
  },
  {
   "cell_type": "code",
   "execution_count": null,
   "metadata": {},
   "outputs": [],
   "source": [
    "%cd tutorial"
   ]
  },
  {
   "cell_type": "markdown",
   "metadata": {},
   "source": [
    "**ADVERTENCIAS:** \n",
    "\n",
    "* Al ejecutar la siguiente celda el servidor se inciará desde la notebook, por lo que para ejecutar cualquier otra celda es necesario interrumpir la ejecución del kernel.\n",
    "\n",
    "* Asegúrese que no haya otro servicio escuchando en el puerto *5000*."
   ]
  },
  {
   "cell_type": "code",
   "execution_count": null,
   "metadata": {
    "scrolled": true
   },
   "outputs": [],
   "source": [
    "! ./manage.py runserver 0.0.0.0:5000"
   ]
  },
  {
   "cell_type": "markdown",
   "metadata": {},
   "source": [
    "http://localhost:5000/main/error\n",
    "\n",
    "http://localhost:5000/main/otro_error"
   ]
  },
  {
   "cell_type": "markdown",
   "metadata": {},
   "source": [
    "<p style=\"text-align: center\"><a rel=\"license\" href=\"http://creativecommons.org/licenses/by/4.0/\"><img alt=\"Licencia Creative Commons\" style=\"border-width:0\" src=\"https://i.creativecommons.org/l/by/4.0/80x15.png\" /></a><br />Esta obra está bajo una <a rel=\"license\" href=\"http://creativecommons.org/licenses/by/4.0/\">Licencia Creative Commons Atribución 4.0 Internacional</a>.</p>\n",
    "<p style=\"text-align: center\">&copy; José Luis Chiquete Valdivieso. 2019.</p>"
   ]
  }
 ],
 "metadata": {
  "kernelspec": {
   "display_name": "Python 3",
   "language": "python",
   "name": "python3"
  },
  "language_info": {
   "codemirror_mode": {
    "name": "ipython",
    "version": 3
   },
   "file_extension": ".py",
   "mimetype": "text/x-python",
   "name": "python",
   "nbconvert_exporter": "python",
   "pygments_lexer": "ipython3",
   "version": "3.6.6"
  }
 },
 "nbformat": 4,
 "nbformat_minor": 2
}
