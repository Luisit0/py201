{
 "cells": [
  {
   "cell_type": "markdown",
   "metadata": {},
   "source": [
    "[![imagenes/pythonista.png](imagenes/pythonista.png)](https://pythonista.io)"
   ]
  },
  {
   "cell_type": "markdown",
   "metadata": {},
   "source": [
    "## El patrón Modelo Vista Controlador (MVC).\n",
    "\n",
    "Este patrón de diseño de aplicaciones web consiste en separar los datos a los que accede una aplicación de las interfaces de dicha aplicación.\n",
    "\n",
    "El patrón MCV se volvió muy popular en el desarrolo de aplicaciones web particularmente con su implementación por medio de [Ruby on Rails](https://rubyonrails.org/).\n",
    "\n",
    "![MVC](imagenes/MVC.gif)"
   ]
  },
  {
   "cell_type": "markdown",
   "metadata": {},
   "source": [
    "### *Modelo*.\n",
    "\n",
    "El Modelo corresponde a la estructura de datos de la aplicación, la cual por lo general es gestionada por una base e datos y puede ser ligada a una estructura orientada a objetos mediante un Modelo Relacional de Objetos (ORM por sus siglas en inglés). \n",
    "\n",
    "El estado de una aplicación se refleja en el modelo, mientras que las vistas y los contrloadores son interfaces que permiten interactuar con el modelo."
   ]
  },
  {
   "cell_type": "markdown",
   "metadata": {},
   "source": [
    "### *Controlador*.\n",
    "\n",
    "Los controladores son gestores de eventos, los cuales tienen la capacidad de cambiar el estado del Modelo."
   ]
  },
  {
   "cell_type": "markdown",
   "metadata": {},
   "source": [
    "###*Vista*.\n",
    "\n",
    "La vista es el modo en el que el estado del Modelo es presentado al usuario. "
   ]
  },
  {
   "cell_type": "markdown",
   "metadata": {},
   "source": [
    "## La arquitectura Modelo-Vista-Plantilla (MVT). "
   ]
  },
  {
   "cell_type": "markdown",
   "metadata": {},
   "source": [
    "En el caso de *Django*, se utiliza la arquitectura *MVT*, en la que:\n",
    "* El *Modelo* está ligado a un *ORM*.\n",
    "  * Cada modelo de Django es una subclase de la clase *django.db.models.Model*.\n",
    "  * Un modelo por lo general corresponde a una tabla de la base de datos.\n",
    "  * Un campo de la tabla corresponde una instancia de un modelo.\n",
    "  * Los atributos de un objeto corresponde a un elemento de la columna de un campo. \n",
    "* Las *Vistas* hacen la vez del controlador y gestionan todas las reglas de negocio.\n",
    "* Las *Plantillas* (Templates), se encargan de presentar una interfaz al usuario."
   ]
  },
  {
   "cell_type": "markdown",
   "metadata": {},
   "source": [
    "## Aplicación web y servicios web.\n",
    "\n",
    "### Aplicación web.\n",
    "\n",
    "Una aplicación web por lo general está enfocada a realizar transacciones que son accesibles a un usuario final y em que en la que la interfaz juega un papel predominate.\n",
    "\n",
    "### Servicio web.\n",
    "\n",
    "Un servicio web está enfocado a la realización de transacciones en la que el énfasis se hace en la correcta transmisión de datos.\n",
    "\n",
    "### *Endpoints*.\n",
    "\n",
    "Un *endpoint* es una URL a la que se puede acceder a un servicio web en particular.\n",
    "\n",
    "### Aplicaciones web a partir de servicios web.\n",
    "\n",
    "Se ha vuelto una práctica recomendada, crear interfaces hechas a la medida de las necesidades y plataformas de acceso a los usuarios que interactúen con servicios web aprovechando el acceso a los endpoints.\n",
    "\n",
    "\n",
    "### Interfaces de programación de aplicaciones (API).\n",
    "\n",
    "Las API son un conjunto de endpoinst que exponendiversas funcionalidades de un servicio web, las cuales pueden ser utilizadas para el desarrollo de aplicaiones web."
   ]
  },
  {
   "cell_type": "markdown",
   "metadata": {},
   "source": [
    "## *API RESTFul* o *API REST*.\n",
    "\n",
    "\n",
    "*REST* corresponde a la ssiglas en inglés de *Representación de Estado Transaccional* y fue propuesta por primera vez en la [tesis doctoral de Roy Fielding](https://www.ics.uci.edu/~fielding/pubs/dissertation/rest_arch_style.htm) como una serie de reglas para aprovechar los métodos de HTTP con la finalidad de  crear servicios web ligeros y rápidos.\n",
    "\n",
    "\n",
    "\n",
    "Referencia: https://www.restapitutorial.com/"
   ]
  },
  {
   "cell_type": "markdown",
   "metadata": {},
   "source": [
    "<p style=\"text-align: center\"><a rel=\"license\" href=\"http://creativecommons.org/licenses/by/4.0/\"><img alt=\"Licencia Creative Commons\" style=\"border-width:0\" src=\"https://i.creativecommons.org/l/by/4.0/80x15.png\" /></a><br />Esta obra está bajo una <a rel=\"license\" href=\"http://creativecommons.org/licenses/by/4.0/\">Licencia Creative Commons Atribución 4.0 Internacional</a>.</p>\n",
    "<p style=\"text-align: center\">&copy; José Luis Chiquete Valdivieso. 2019.</p>"
   ]
  }
 ],
 "metadata": {
  "kernelspec": {
   "display_name": "Python 3",
   "language": "python",
   "name": "python3"
  },
  "language_info": {
   "codemirror_mode": {
    "name": "ipython",
    "version": 3
   },
   "file_extension": ".py",
   "mimetype": "text/x-python",
   "name": "python",
   "nbconvert_exporter": "python",
   "pygments_lexer": "ipython3",
   "version": "3.6.6"
  }
 },
 "nbformat": 4,
 "nbformat_minor": 2
}
