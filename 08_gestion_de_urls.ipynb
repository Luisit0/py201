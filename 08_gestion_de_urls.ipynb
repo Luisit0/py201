{
 "cells": [
  {
   "cell_type": "markdown",
   "metadata": {},
   "source": [
    "[![imagenes/pythonista.png](imagenes/pythonista.png)](https://pythonista.io)"
   ]
  },
  {
   "cell_type": "markdown",
   "metadata": {},
   "source": [
    "**ADVERTENCIA:**  \n",
    "\n",
    "Para poder realizar exitosamente los ejercicios de esta notebook, es necesario haber seguido al pie de la letra y en orden sucesivo las instrucciones de todas las notebooks previas."
   ]
  },
  {
   "cell_type": "markdown",
   "metadata": {},
   "source": [
    "El módulo *django.urls* cuenta con las herramientas que permiten identificar y filtrar URLs de modo tal que pueda crear servicios dinámicos a partir de la información contenida en ellos.\n",
    "\n",
    "https://docs.djangoproject.com/en/2.1/topics/http/urls/"
   ]
  },
  {
   "cell_type": "markdown",
   "metadata": {},
   "source": [
    "## Conversión de segmentos de una URL.\n",
    "\n",
    "Previamente se estudió la funcionalidad básica de *django.urls.path()* realizando las siguientes operaciones:\n",
    "\n",
    "* Identificando un patrón de URL.\n",
    "* Llamando a una función de vista relacionada con el patrón.\n",
    "* Ingresando el objeto *request* como argumento de la función de vista.\n",
    "\n",
    "Esta funcionalidad puede ser extendida permitiendo no sólo identificar un patrón de URL, sino identificando y obteniendo datos a partir de la URL.\n",
    "\n",
    "La sintaxis el la siguiente:\n",
    "\n",
    "* La cadena de caracteres correspondiente al patron de URL puede contener un texto delimitado por los signos *&lt;* y *&gt;*.\n",
    "* Este texto delimitado define un par ```<tipo>:<nombre>```.\n",
    "* En caso de que el segmento de URL de una petición coincida con el tipo de dato definido, este será capturado como un valor y ligado al nombre correspondiente.\n",
    "\n",
    "```python\n",
    "path('{patrón}/<<tipo>:<nombre 1>>/<{<tipo>:<nombre 2>>/ ... / <<tipo>:<nombre n>>', <funcion de vista>, <argumentos>)\n",
    "```\n",
    "De tal forma que si el segmento de la URL coincide con el tipo inidicado, éste será ligado al nombre con el que se encuentra relacionado."
   ]
  },
  {
   "cell_type": "markdown",
   "metadata": {},
   "source": [
    "### Tipos de datos extraibles de una URL:\n",
    "\n",
    "* *string*: es el tipo de datos por defecto y corresponde a una cadena de caracteres.\n",
    "* *int*: corrsponde a un número entero positivo, incluyendo al cero.\n",
    "* *slug*: es una combinación de caracteres ASCII, guiones medios (-) y guiones bajos (\\_)\n",
    "* *uuid*: para las secuencias que se apegan al [RFC 4122](https://tools.ietf.org/html/rfc4122.html).\n",
    "* *path*: captura el segmento de la URL incluyendo las diagonales (*/*)."
   ]
  },
  {
   "cell_type": "markdown",
   "metadata": {},
   "source": [
    "## Identificación de rutas con expresiones regulares.\n",
    "\n",
    "La función *django.url.re_path()* permite hacer búsquedas que coincidan con una expresión regular.\n",
    "```python\n",
    "re_path(r'<expresión regular>' <función de vista>)\n",
    "```\n",
    "En caso de que la expresión regular extraiga datos, estos datos se ingresarán como argumentos después del objeto *request*. \n"
   ]
  },
  {
   "cell_type": "markdown",
   "metadata": {},
   "source": [
    "**Ejemplos:**\n",
    "\n",
    "El archivo *src/08/urls.py* contiene lo siguiente:\n",
    "\n",
    "\n",
    "``` python\n",
    "from django.urls import path, re_path \n",
    "from . import views\n",
    "\n",
    "urlpatterns = [path('', views.index, name=\"inicio\"), \n",
    "               path('calif', views.calificaciones),\n",
    "               re_path(r'^claves/(?P<clave>[0-9]{4}$)', views.clave),\n",
    "               path('claves/<int:numero>', views.numero),\n",
    "               path('claves/<str:nombre>', views.saluda),]\n",
    "```\n",
    "\n",
    "* En caso de que se ingrese una URL con exatamente 4 dígitos después de *...main/claves/*, se ejecutará la función *views.clave()* y se enviarán los 4 dígitos como segundo argumento.\n",
    "* En caso de que se ingrese una URL con números que no sean de 4 dígitos dígitos después de *...main/claves/*, se ejecutará la función *views.numero()* y se enviará el número entero como segundo argumento.\n",
    "* En caso de que se ingrese una URL con algo que no cumpla las condiciones previas después de *...main/claves/*, se ejecutará la función *views.saluda()* y se enviará el contenido como segundo argumento."
   ]
  },
  {
   "cell_type": "markdown",
   "metadata": {},
   "source": [
    "* La siguiente celda sustituirá al archivo *tutorial/main/urls.py*  con el archivo *src/08/urls.py*."
   ]
  },
  {
   "cell_type": "code",
   "execution_count": null,
   "metadata": {},
   "outputs": [],
   "source": [
    "%cp src/08/urls.py tutorial/main/urls.py "
   ]
  },
  {
   "cell_type": "markdown",
   "metadata": {},
   "source": [
    "El archivo *src/08/views.py contiene entre otras a las funciones *clave()*, *numero()* y *saluda()*."
   ]
  },
  {
   "cell_type": "markdown",
   "metadata": {},
   "source": [
    "``` python\n",
    "from django.http import HttpResponse\n",
    "\n",
    "\n",
    "def index(request):\n",
    "    return HttpResponse(\"<h1>Hola, mundo.</h1>\")\n",
    "\n",
    "\n",
    "def calificaciones(request):\n",
    "    return HttpResponse(request.method)\n",
    "\n",
    "\n",
    "def clave(request, clave):\n",
    "    return HttpResponse('<h1>Introdujiste la clave: {}</h1>'.format(str(clave)))\n",
    "\n",
    "\n",
    "def numero(request, numero):\n",
    "    return HttpResponse('<h1>Introdujiste el número: {}</h1>'.format(str(numero)))\n",
    "\n",
    "\n",
    "def saluda(request, nombre):\n",
    "    return HttpResponse('<h1>¡Hola, {}!</h1>'.format(nombre))\n",
    "```"
   ]
  },
  {
   "cell_type": "markdown",
   "metadata": {},
   "source": [
    "* La siguiente celda sustituirá al archivo *tutorial/main/views.py*  con el archivo *src/08/views.py*."
   ]
  },
  {
   "cell_type": "code",
   "execution_count": null,
   "metadata": {},
   "outputs": [],
   "source": [
    "%cp src/08/views.py tutorial/main/views.py "
   ]
  },
  {
   "cell_type": "markdown",
   "metadata": {},
   "source": [
    "* Inicie el servidor."
   ]
  },
  {
   "cell_type": "code",
   "execution_count": null,
   "metadata": {},
   "outputs": [],
   "source": [
    "%cd tutorial"
   ]
  },
  {
   "cell_type": "markdown",
   "metadata": {},
   "source": [
    "**ADVERTENCIAS:** \n",
    "\n",
    "* Al ejecutar la siguiente celda el servidor se inciará desde la notebook, por lo que para ejecutar cualquier otra celda es necesario interrumpir la ejecución del kernel.\n",
    "\n",
    "* Asegúrese que no haya otro servicio escuchando en el puerto *5000*."
   ]
  },
  {
   "cell_type": "code",
   "execution_count": null,
   "metadata": {
    "scrolled": true
   },
   "outputs": [],
   "source": [
    "! ./manage.py runserver 0.0.0.0:5000"
   ]
  },
  {
   "cell_type": "markdown",
   "metadata": {},
   "source": [
    "* La URL *http://localhost:5000/main/claves/12345678* ejecutará la función *views.numero()*.\n",
    "\n",
    "* La URL *http://localhost:5000/main/claves/0* ejecutará la función *views.numero()*.\n",
    "\n",
    "* La URL *http://localhost:5000/main/claves/1234* ejecutará la función *views.clave()*.\n",
    "\n",
    "* La URL *http://localhost:5000/main/claves/Juan* ejecutará la función *views.saluda()*."
   ]
  },
  {
   "cell_type": "markdown",
   "metadata": {},
   "source": [
    "<p style=\"text-align: center\"><a rel=\"license\" href=\"http://creativecommons.org/licenses/by/4.0/\"><img alt=\"Licencia Creative Commons\" style=\"border-width:0\" src=\"https://i.creativecommons.org/l/by/4.0/80x15.png\" /></a><br />Esta obra está bajo una <a rel=\"license\" href=\"http://creativecommons.org/licenses/by/4.0/\">Licencia Creative Commons Atribución 4.0 Internacional</a>.</p>\n",
    "<p style=\"text-align: center\">&copy; José Luis Chiquete Valdivieso. 2019.</p>"
   ]
  }
 ],
 "metadata": {
  "kernelspec": {
   "display_name": "Python 3",
   "language": "python",
   "name": "python3"
  },
  "language_info": {
   "codemirror_mode": {
    "name": "ipython",
    "version": 3
   },
   "file_extension": ".py",
   "mimetype": "text/x-python",
   "name": "python",
   "nbconvert_exporter": "python",
   "pygments_lexer": "ipython3",
   "version": "3.6.6"
  }
 },
 "nbformat": 4,
 "nbformat_minor": 2
}
