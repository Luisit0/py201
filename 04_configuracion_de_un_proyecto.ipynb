{
 "cells": [
  {
   "cell_type": "markdown",
   "metadata": {},
   "source": [
    "[![imagenes/pythonista.png](imagenes/pythonista.png)](https://pythonista.io)"
   ]
  },
  {
   "cell_type": "markdown",
   "metadata": {},
   "source": [
    "# Configuración inicial de un proyecto."
   ]
  },
  {
   "cell_type": "markdown",
   "metadata": {},
   "source": [
    "**ADVERTENCIA:** Es necesario haber creado previamente el proyecto definido en la notebook [```02_introduccion_a_django.ipynb```](02_introduccion_a_django.ipynb) localizado en el directorio [```tutorial```](tutorial)."
   ]
  },
  {
   "cell_type": "markdown",
   "metadata": {},
   "source": [
    "## El script ```settings.py```.\n",
    "\n",
    "La configuración básica de un proyecto de *Django* se encuentra en un script de Python llamado ```settings.py```. \n",
    "\n",
    "La documentación de la configuración de *Django* puede ser consultada en https://docs.djangoproject.com/en/2.2/ref/settings\n",
    "\n",
    "\n",
    "**Nota:** En el caso del proyecto creado previamente, dicho archivo se encuentra en ```tutorial/tutorial/settings.py```."
   ]
  },
  {
   "cell_type": "markdown",
   "metadata": {},
   "source": [
    "**Ejemplo:**\n",
    "\n",
    "* El comando mágico de Jupyter ```%pycat``` permite ver el contenido de un script de de Python en una ventana del navegador.\n",
    "* La siguiente celda desplegará el contenido del archivo ```tutorial/tutorial/settings.py```.\n"
   ]
  },
  {
   "cell_type": "code",
   "execution_count": 3,
   "metadata": {},
   "outputs": [],
   "source": [
    "%pycat tutorial/tutorial/settings.py"
   ]
  },
  {
   "cell_type": "markdown",
   "metadata": {},
   "source": [
    "* El archivo define diversas variables, las cuales se encuentran escritas en mayúsculas.\n",
    "\n",
    "* Cada variable definen ciertos parámentros de configuración del proyecto."
   ]
  },
  {
   "cell_type": "markdown",
   "metadata": {},
   "source": [
    "**Ejemplo:**"
   ]
  },
  {
   "cell_type": "markdown",
   "metadata": {},
   "source": [
    "* A continuación se importará al archivo ```tutorial/tutorial/settings.py```."
   ]
  },
  {
   "cell_type": "code",
   "execution_count": 6,
   "metadata": {},
   "outputs": [],
   "source": [
    "from tutorial.tutorial import settings"
   ]
  },
  {
   "cell_type": "code",
   "execution_count": 8,
   "metadata": {},
   "outputs": [
    {
     "data": {
      "text/plain": [
       "True"
      ]
     },
     "execution_count": 8,
     "metadata": {},
     "output_type": "execute_result"
    }
   ],
   "source": [
    "settings.DEBUG"
   ]
  },
  {
   "cell_type": "code",
   "execution_count": null,
   "metadata": {
    "scrolled": true
   },
   "outputs": [],
   "source": [
    "dir(settings)"
   ]
  },
  {
   "cell_type": "markdown",
   "metadata": {},
   "source": [
    "### La variable ```settings.DEBUG```.\n",
    "\n",
    "Esta variable corresponde a un objeto tipo ```bool```, el cual le indica al servidor de *Django* si se encuentra en un entorno de desarrollo y pruebas o en un entorno de producción."
   ]
  },
  {
   "cell_type": "code",
   "execution_count": 9,
   "metadata": {},
   "outputs": [
    {
     "data": {
      "text/plain": [
       "True"
      ]
     },
     "execution_count": 9,
     "metadata": {},
     "output_type": "execute_result"
    }
   ],
   "source": [
    "settings.DEBUG"
   ]
  },
  {
   "cell_type": "markdown",
   "metadata": {},
   "source": [
    "### La variable ```settings.SECRET_KEY```.\n",
    "\n",
    "Esta variable contiene una cadena de caracteres que fue creada junto con la estructura incial del proyecto, la cual será utilizada para autenticar y cifrar los accesos a las aplicaciones"
   ]
  },
  {
   "cell_type": "code",
   "execution_count": 10,
   "metadata": {},
   "outputs": [
    {
     "data": {
      "text/plain": [
       "'gg70t^0=+@l5e07#!m%q^933&ht5y!+xdir0dt9_^*wnrxg@2p'"
      ]
     },
     "execution_count": 10,
     "metadata": {},
     "output_type": "execute_result"
    }
   ],
   "source": [
    "settings.SECRET_KEY"
   ]
  },
  {
   "cell_type": "markdown",
   "metadata": {},
   "source": [
    "### La variable ```settings.BASE_DIR```.\n",
    "\n",
    "Esta variable define la ruta en la que se encuentra el directorio de origen del proyecto."
   ]
  },
  {
   "cell_type": "code",
   "execution_count": 11,
   "metadata": {},
   "outputs": [
    {
     "data": {
      "text/plain": [
       "'C:\\\\Users\\\\josech\\\\Dropbox\\\\Codigo\\\\Pythonista\\\\Cursos\\\\py231\\\\tutorial'"
      ]
     },
     "execution_count": 11,
     "metadata": {},
     "output_type": "execute_result"
    }
   ],
   "source": [
    "settings.BASE_DIR"
   ]
  },
  {
   "cell_type": "markdown",
   "metadata": {},
   "source": [
    "### La variable ```settings.ROOT_URLCONF```.\n",
    "\n",
    "Define la ruta en la que se puede acceder al módulo principal de configuración de *URLs*."
   ]
  },
  {
   "cell_type": "code",
   "execution_count": 12,
   "metadata": {},
   "outputs": [
    {
     "data": {
      "text/plain": [
       "'tutorial.urls'"
      ]
     },
     "execution_count": 12,
     "metadata": {},
     "output_type": "execute_result"
    }
   ],
   "source": [
    "settings.ROOT_URLCONF"
   ]
  },
  {
   "cell_type": "markdown",
   "metadata": {},
   "source": [
    "### La variable ```settings.TEMPLATES```.\n",
    "\n",
    "Esta variable define la localización y los componentes que gestionarán las plantillas del proyecto. "
   ]
  },
  {
   "cell_type": "code",
   "execution_count": 13,
   "metadata": {},
   "outputs": [
    {
     "data": {
      "text/plain": [
       "[{'BACKEND': 'django.template.backends.django.DjangoTemplates',\n",
       "  'DIRS': [],\n",
       "  'APP_DIRS': True,\n",
       "  'OPTIONS': {'context_processors': ['django.template.context_processors.debug',\n",
       "    'django.template.context_processors.request',\n",
       "    'django.contrib.auth.context_processors.auth',\n",
       "    'django.contrib.messages.context_processors.messages']}}]"
      ]
     },
     "execution_count": 13,
     "metadata": {},
     "output_type": "execute_result"
    }
   ],
   "source": [
    "settings.TEMPLATES"
   ]
  },
  {
   "cell_type": "markdown",
   "metadata": {},
   "source": [
    "### La variable ```settings.DATABASE```.\n",
    "\n",
    "Esta variable define las conexiones a bases de datos de la aplicación.\n",
    "\n",
    "Para este proyecto se creó el archivo ```tutorial/db.sqlite3```, el cual corresponde a una base de datos de [SQLite](https://www.sqlite.org/index.html).\n",
    "\n",
    "Para saber más sobre SQLite, es posible consultar el tutorial localizado en http://www.sqlitetutorial.net/."
   ]
  },
  {
   "cell_type": "code",
   "execution_count": 14,
   "metadata": {},
   "outputs": [
    {
     "data": {
      "text/plain": [
       "{'default': {'ENGINE': 'django.db.backends.sqlite3',\n",
       "  'NAME': 'C:\\\\Users\\\\josech\\\\Dropbox\\\\Codigo\\\\Pythonista\\\\Cursos\\\\py231\\\\tutorial\\\\db.sqlite3'}}"
      ]
     },
     "execution_count": 14,
     "metadata": {},
     "output_type": "execute_result"
    }
   ],
   "source": [
    "settings.DATABASES"
   ]
  },
  {
   "cell_type": "markdown",
   "metadata": {},
   "source": [
    "## La variable ```settings.INSTALLED_APPS```.\n",
    "\n",
    "Esta variable define a las diversas aplicaciones que puede utilizar el proyecto.\n",
    "\n",
    "https://docs.djangoproject.com/en/2.2/ref/applications/"
   ]
  },
  {
   "cell_type": "code",
   "execution_count": null,
   "metadata": {},
   "outputs": [],
   "source": [
    "settings.INSTALLED_APPS"
   ]
  },
  {
   "cell_type": "markdown",
   "metadata": {},
   "source": [
    "### La variable ``` settings.MIDDLEWARE```.\n",
    "\n",
    "https://docs.djangoproject.com/en/2.2/ref/middleware/#module-django.middleware"
   ]
  },
  {
   "cell_type": "code",
   "execution_count": null,
   "metadata": {},
   "outputs": [],
   "source": [
    "settings.MIDDLEWARE"
   ]
  },
  {
   "cell_type": "markdown",
   "metadata": {},
   "source": [
    "### La variable ``` settings.STATIC_URL```.\n",
    "\n",
    "Define las rutas en las que se encuentra el contenido estático del proyecto. "
   ]
  },
  {
   "cell_type": "code",
   "execution_count": null,
   "metadata": {},
   "outputs": [],
   "source": [
    "settings.STATIC_URL"
   ]
  },
  {
   "cell_type": "markdown",
   "metadata": {},
   "source": [
    "### La variable ```settings.WSGI_APPLICATION```.\n",
    "\n",
    "Define el recurso encargado de gestionar las conexiones web mediante [```WSGI```}(https://en.wikipedia.org/wiki/Web_Server_Gateway_Interface)."
   ]
  },
  {
   "cell_type": "code",
   "execution_count": null,
   "metadata": {},
   "outputs": [],
   "source": [
    "settings.WSGI_APPLICATION"
   ]
  },
  {
   "cell_type": "markdown",
   "metadata": {},
   "source": [
    "## Despliegue en producción.\n",
    "\n",
    "*Django* puede ser configurado de tal forma que pueda ejecutrase en un entorno de desarrollo y pruebas o en un entorno de producción.\n",
    "\n",
    "La siguiente liga muestra una serie de sugerencia en caso de publicar un proyecto en un entorno de producción.\n",
    "\n",
    "https://docs.djangoproject.com/en/2.2/howto/deployment/checklist/"
   ]
  },
  {
   "cell_type": "markdown",
   "metadata": {},
   "source": [
    "<p style=\"text-align: center\"><a rel=\"license\" href=\"http://creativecommons.org/licenses/by/4.0/\"><img alt=\"Licencia Creative Commons\" style=\"border-width:0\" src=\"https://i.creativecommons.org/l/by/4.0/80x15.png\" /></a><br />Esta obra está bajo una <a rel=\"license\" href=\"http://creativecommons.org/licenses/by/4.0/\">Licencia Creative Commons Atribución 4.0 Internacional</a>.</p>\n",
    "<p style=\"text-align: center\">&copy; José Luis Chiquete Valdivieso. 2019.</p>"
   ]
  }
 ],
 "metadata": {
  "kernelspec": {
   "display_name": "Python 3",
   "language": "python",
   "name": "python3"
  },
  "language_info": {
   "codemirror_mode": {
    "name": "ipython",
    "version": 3
   },
   "file_extension": ".py",
   "mimetype": "text/x-python",
   "name": "python",
   "nbconvert_exporter": "python",
   "pygments_lexer": "ipython3",
   "version": "3.7.0"
  }
 },
 "nbformat": 4,
 "nbformat_minor": 2
}
