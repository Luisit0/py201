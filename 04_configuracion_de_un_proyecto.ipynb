{
 "cells": [
  {
   "cell_type": "markdown",
   "metadata": {},
   "source": [
    "[![imagenes/pythonista.png](imagenes/pythonista.png)](https://pythonista.io)"
   ]
  },
  {
   "cell_type": "markdown",
   "metadata": {},
   "source": [
    "**ADVERTENCIA:** Es necesario haber creado previamente el proyecto definido en la notebook [02_introduccion_a_django.ipynb](02_introduccion_a_django.ipynb) localizado en el directorio [tutorial](tutorial)."
   ]
  },
  {
   "cell_type": "markdown",
   "metadata": {},
   "source": [
    "## El archivo *settings.py*.\n",
    "\n",
    "La configuración básica de un proyecto de *Django* se encuentra en un archivo de Python llamado *settings.py* \n",
    "\n",
    "En el caso del proyecto creado previamente, dicho archivo se encuentra en *tutorial/tutorial/settings.py*."
   ]
  },
  {
   "cell_type": "markdown",
   "metadata": {},
   "source": [
    "**Ejemplo:**\n",
    "\n",
    "* El comando mágico de Jupyter *%cat* permite ver el contenido de un archivo.\n",
    "* La siguiente celda desplegará el contenido del archivo *tutorial/tutorial/settings.py*\n"
   ]
  },
  {
   "cell_type": "code",
   "execution_count": null,
   "metadata": {},
   "outputs": [],
   "source": [
    "%cat tutorial/tutorial/settings.py"
   ]
  },
  {
   "cell_type": "markdown",
   "metadata": {},
   "source": [
    "El archivo define diversas variables, las cuales se encuentran escritas en mayúsculas, que definen ciertos parámentros de configuración del proyecto.\n",
    "\n",
    "* A continuación se importará al archivo *tutorial/tutorial/settings.py* como un módulo."
   ]
  },
  {
   "cell_type": "code",
   "execution_count": 8,
   "metadata": {},
   "outputs": [],
   "source": [
    "from tutorial.tutorial import settings as settings"
   ]
  },
  {
   "cell_type": "code",
   "execution_count": 9,
   "metadata": {},
   "outputs": [
    {
     "data": {
      "text/plain": [
       "['ALLOWED_HOSTS',\n",
       " 'AUTH_PASSWORD_VALIDATORS',\n",
       " 'BASE_DIR',\n",
       " 'DATABASES',\n",
       " 'DEBUG',\n",
       " 'INSTALLED_APPS',\n",
       " 'LANGUAGE_CODE',\n",
       " 'MIDDLEWARE',\n",
       " 'ROOT_URLCONF',\n",
       " 'SECRET_KEY',\n",
       " 'STATIC_URL',\n",
       " 'TEMPLATES',\n",
       " 'TIME_ZONE',\n",
       " 'USE_I18N',\n",
       " 'USE_L10N',\n",
       " 'USE_TZ',\n",
       " 'WSGI_APPLICATION',\n",
       " '__builtins__',\n",
       " '__cached__',\n",
       " '__doc__',\n",
       " '__file__',\n",
       " '__loader__',\n",
       " '__name__',\n",
       " '__package__',\n",
       " '__spec__',\n",
       " 'os']"
      ]
     },
     "execution_count": 9,
     "metadata": {},
     "output_type": "execute_result"
    }
   ],
   "source": [
    "dir(settings)"
   ]
  },
  {
   "cell_type": "markdown",
   "metadata": {},
   "source": [
    "## La variable *settings.BASE_DIR*."
   ]
  },
  {
   "cell_type": "code",
   "execution_count": 10,
   "metadata": {},
   "outputs": [
    {
     "data": {
      "text/plain": [
       "'/opt/pythonista/py231/tutorial'"
      ]
     },
     "execution_count": 10,
     "metadata": {},
     "output_type": "execute_result"
    }
   ],
   "source": [
    "settings.BASE_DIR"
   ]
  },
  {
   "cell_type": "markdown",
   "metadata": {},
   "source": [
    "## La variable *settings.INSTALLED_APPS*."
   ]
  },
  {
   "cell_type": "code",
   "execution_count": null,
   "metadata": {},
   "outputs": [],
   "source": [
    "settings.INSTALLED_APPS"
   ]
  },
  {
   "cell_type": "markdown",
   "metadata": {},
   "source": [
    "## La variable *settings.ROOT_URLCONF*."
   ]
  },
  {
   "cell_type": "code",
   "execution_count": 11,
   "metadata": {},
   "outputs": [
    {
     "data": {
      "text/plain": [
       "'tutorial.urls'"
      ]
     },
     "execution_count": 11,
     "metadata": {},
     "output_type": "execute_result"
    }
   ],
   "source": [
    "settings.ROOT_URLCONF"
   ]
  },
  {
   "cell_type": "markdown",
   "metadata": {},
   "source": [
    "## La variable *settings.TEMPLATES*."
   ]
  },
  {
   "cell_type": "code",
   "execution_count": 16,
   "metadata": {},
   "outputs": [
    {
     "data": {
      "text/plain": [
       "[{'BACKEND': 'django.template.backends.django.DjangoTemplates',\n",
       "  'DIRS': [],\n",
       "  'APP_DIRS': True,\n",
       "  'OPTIONS': {'context_processors': ['django.template.context_processors.debug',\n",
       "    'django.template.context_processors.request',\n",
       "    'django.contrib.auth.context_processors.auth',\n",
       "    'django.contrib.messages.context_processors.messages']}}]"
      ]
     },
     "execution_count": 16,
     "metadata": {},
     "output_type": "execute_result"
    }
   ],
   "source": [
    "settings.TEMPLATES"
   ]
  },
  {
   "cell_type": "markdown",
   "metadata": {},
   "source": [
    "## La variable *settings.DATABASE*.\n",
    "\n",
    "Para este proyecto se ha creado el archivo *tutorial/db.sqlite3*, el cual orreposnde a una base de datos de [SQLite](https://www.sqlite.org/index.html).\n",
    "\n",
    "Para saber más sobre SQLite, es posible consultar el tutorial localizado en http://www.sqlitetutorial.net/."
   ]
  },
  {
   "cell_type": "code",
   "execution_count": 4,
   "metadata": {},
   "outputs": [
    {
     "data": {
      "text/plain": [
       "{'default': {'ENGINE': 'mysql.connector.django',\n",
       "  'NAME': 'db_django',\n",
       "  'USER': 'root',\n",
       "  'PASSWORD': '0p3n5t4ck',\n",
       "  'HOST': 'localhost',\n",
       "  'PORT': 3306}}"
      ]
     },
     "execution_count": 4,
     "metadata": {},
     "output_type": "execute_result"
    }
   ],
   "source": [
    "settings.DATABASES"
   ]
  },
  {
   "cell_type": "code",
   "execution_count": 7,
   "metadata": {},
   "outputs": [
    {
     "name": "stdout",
     "output_type": "stream",
     "text": [
      "tutorial/db.sqlite3\r\n"
     ]
    }
   ],
   "source": [
    "%ls tutorial/db.sqlite3"
   ]
  },
  {
   "cell_type": "markdown",
   "metadata": {},
   "source": [
    "## La variable *settings.MIDDLEWARE*.\n",
    "\n",
    "https://docs.djangoproject.com/en/1.10/ref/middleware/#module-django.middleware"
   ]
  },
  {
   "cell_type": "code",
   "execution_count": 13,
   "metadata": {},
   "outputs": [
    {
     "data": {
      "text/plain": [
       "['django.middleware.security.SecurityMiddleware',\n",
       " 'django.contrib.sessions.middleware.SessionMiddleware',\n",
       " 'django.middleware.common.CommonMiddleware',\n",
       " 'django.middleware.csrf.CsrfViewMiddleware',\n",
       " 'django.contrib.auth.middleware.AuthenticationMiddleware',\n",
       " 'django.contrib.messages.middleware.MessageMiddleware',\n",
       " 'django.middleware.clickjacking.XFrameOptionsMiddleware']"
      ]
     },
     "execution_count": 13,
     "metadata": {},
     "output_type": "execute_result"
    }
   ],
   "source": [
    "settings.MIDDLEWARE"
   ]
  },
  {
   "cell_type": "markdown",
   "metadata": {},
   "source": [
    "## La variable *settings.STATIC_URL*."
   ]
  },
  {
   "cell_type": "code",
   "execution_count": 17,
   "metadata": {},
   "outputs": [
    {
     "data": {
      "text/plain": [
       "'/static/'"
      ]
     },
     "execution_count": 17,
     "metadata": {},
     "output_type": "execute_result"
    }
   ],
   "source": [
    "settings.STATIC_URL"
   ]
  },
  {
   "cell_type": "markdown",
   "metadata": {},
   "source": [
    "## Despliegue en producción.\n",
    "\n",
    "https://docs.djangoproject.com/en/2.1/howto/deployment/checklist/"
   ]
  },
  {
   "cell_type": "markdown",
   "metadata": {},
   "source": [
    "<p style=\"text-align: center\"><a rel=\"license\" href=\"http://creativecommons.org/licenses/by/4.0/\"><img alt=\"Licencia Creative Commons\" style=\"border-width:0\" src=\"https://i.creativecommons.org/l/by/4.0/80x15.png\" /></a><br />Esta obra está bajo una <a rel=\"license\" href=\"http://creativecommons.org/licenses/by/4.0/\">Licencia Creative Commons Atribución 4.0 Internacional</a>.</p>\n",
    "<p style=\"text-align: center\">&copy; José Luis Chiquete Valdivieso. 2019.</p>"
   ]
  }
 ],
 "metadata": {
  "kernelspec": {
   "display_name": "Python 3",
   "language": "python",
   "name": "python3"
  },
  "language_info": {
   "codemirror_mode": {
    "name": "ipython",
    "version": 3
   },
   "file_extension": ".py",
   "mimetype": "text/x-python",
   "name": "python",
   "nbconvert_exporter": "python",
   "pygments_lexer": "ipython3",
   "version": "3.6.6"
  }
 },
 "nbformat": 4,
 "nbformat_minor": 2
}
