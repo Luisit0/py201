{
 "cells": [
  {
   "cell_type": "markdown",
   "metadata": {},
   "source": [
    "[![imagenes](imagenes/pythonista.png)](https://pythonista.io)"
   ]
  },
  {
   "cell_type": "markdown",
   "metadata": {},
   "source": [
    "## El protocolo HTTP.\n",
    "\n",
    "Creado por Tim Berners-Lee en 1989, es el protocolo utilizado para acceder y publicar en la World Wide Web (o  web).\n",
    "Significa Protocolo de transmisión de hipertexto.\n",
    "\n",
    "Actualmente el World Wide Web Consortium (W3C) es la entidad encargada, entre otras cosas, de publicar la especificación del protocolo HTTP. La versión más reciente es HTTP/2, pero la mayoría de los servidores utilizan la versión HTTP/1.1.\n",
    "\n",
    "https://www.w3.org/Protocols/\n",
    "\n",
    "HTTP está basado en  una arquitectura cliente-servidor en la que se intercambian peticiones (requests) por parte del cliente y respuestas (responses) por parte del servidor."
   ]
  },
  {
   "cell_type": "markdown",
   "metadata": {},
   "source": [
    "### Características.\n",
    "* **Sin estado.** Es decir, que cada una de las transacciones request/response que se realizan no afectan al estado del cliente o del servidor, además de que cada transacción es totalmente independiente de el resto.\n",
    "* **Independiente del contenido.** Aún cuando es muy común que un servidor HTTP entregue documentos HTML, pero no existe restricción en el tipo de recurso al que se pueda acceder.\n",
    "* **Sin conexión.** Una vez que la transacción request/response es terminada, la conexión entre cliente y servidor es destruida.\n"
   ]
  },
  {
   "cell_type": "markdown",
   "metadata": {},
   "source": [
    "### Uniform Resource Locator (URL).\n",
    "\n",
    "El protocolo HTTP permite localizar los diversos recursos disponbles en la web mediante los Localizadores Uniformes de Recursos (URL). La estructura de una URL es la siguiente:\n",
    "\n",
    "```\n",
    "http://<subdominio>.<dominio>:<puerto>/<ruta absoluta>?<parámetros>\n",
    "```\n",
    "\n",
    "HTTP utiliza por defecto el puerto 80.\n",
    "\n",
    "El protocolo HTTPS es una variación del HTTP que permite cifrar las comunicaciones entre el cliente y el servdor. \n",
    "\n",
    "```\n",
    "https://<subdominio>.<dominio>:<puerto>/<ruta absoluta>?<parámetros>\n",
    "```\n",
    "\n",
    "HTTPS utiliza el puerto 443 por defecto."
   ]
  },
  {
   "cell_type": "markdown",
   "metadata": {},
   "source": [
    "## Peticiones, respuestas y sesiones.\n",
    "\n",
    "Las comunicaciones entre el cliente y el servidor consisten en un serie de intercambios de datos.\n",
    "\n",
    "*  Un cliente por lo general envía una petición (request) a un servidor que se encuentra atendiendo a una dirección específica. La petición incluye generalmente los datos del cliente, asi como la información necesaria para que el servidor pueda procesar correctamente el requerimiento.\n",
    "* El servidor recibe la petición y procesa los datos. Dependiendo de la petición, el servidor puede enviar cualquier tipo de recurso, así como mensajes de estado.\n",
    "* A este intercambio de peticiones y respuestas entre un cliente y un servidor se conocen como sesiones."
   ]
  },
  {
   "cell_type": "markdown",
   "metadata": {},
   "source": [
    "## Mensajes de estado.\n",
    "Los mensajes de estado permiten informar al cliente sobre la manera en la que ha sido procesada la petición. Está conformado por un número entero de 3 dígitos. En caso de que la petición haya sido procesada exitosamente, el servidor regresa el número 200.\n",
    "\n",
    "### Tipos por el número inicial:\n",
    "* 1xx Información.\n",
    "* 2xx Éxito.\n",
    "* 3xx Redireccionamiento.\n",
    "* 4xx Error del cliente.\n",
    "* 5xx Error del servidor.\n",
    "\n",
    "Puede consultar los mensajes de estado de HTTP en la siguiente liga: http://www.restapitutorial.com/httpstatuscodes.html"
   ]
  },
  {
   "cell_type": "markdown",
   "metadata": {},
   "source": [
    "## Métodos HTTP.\n",
    "\n",
    "El protocolo HTTP define métodos o \"verbos\", los cuales permiten realizar peticiones específicas entre un cliente y un servidor. Algunos de los métodos más utilizados son:\n",
    "\n",
    "* ***GET*** se utiliza para obtener los datos de un recurso a partir de una URI. La información enviada mediante *GET* puede ser añadida a marcadores y puede ser regsitrada en las bitácoras del servidor.\n",
    "* ***HEAD*** es similar al método GET, pero sólo proporciona el encabezado de la petición y el mensaje de estado resultante.\n",
    "* ***POST*** se utiliza para cear un recurso. Los datos enviados no son expuestos en la URI sino que son enviados dentro de la estructura de la petición. \n",
    "* ***PUT*** se utiliza para sustituir un recurso existente y su estructura es similar a la de *POST*.\n",
    "* ***PATCH*** es un método que se utiliza para modificar parcialmente un recurso.\n",
    "* ***DELETE*** es un método que se utiliza para eliminar un recurso. \n",
    "\n",
    "Existen algunos otros métodos como *OPTIONS*, *TRACE* y *CONNECT*, pero no están contemplados en el alcance de este taller. Puede consultar más al respecto puede acceder a https://developer.mozilla.org/es/docs/Web/HTTP/Methods.\n",
    "\n",
    "### Idempotencia.\n",
    "\n",
    "Un método es 'idempotente' cuando no importan las veces que se envíe la misma petición, ésta dará el mismo resultado.\n",
    "\n",
    "### Seguridad.\n",
    "\n",
    "Un método se considera seguro si no modifica los recursos a los que accede.\n",
    "\n",
    "\n",
    "|*  Método  *|*  Idempotente  *|*  Seguro  *|\n",
    "| -------- | ------------- | -------- |\n",
    "|  **GET**  | Sí | Sí |\n",
    "|  **HEAD**  | Sí | Sí |\n",
    "|  **DELETE**  |Sí| No |\n",
    "|  **POST**  | No | No|\n",
    "|  **PUT**  | Sí | No|\n",
    "|  **PATCH**  |No| No| \n",
    "\n",
    "### Advertencia sobre los métodos seguros.\n",
    "\n",
    "La seguridad de un método depende de su implementación y aún cuando se considera como una mala práctica, es posible que los métodos como *GET* sean capaces de modificar al recurso al que acceden."
   ]
  },
  {
   "cell_type": "markdown",
   "metadata": {},
   "source": [
    "## El paquete _requests_.\n",
    "\n",
    "El paquete [requests](http://docs.python-requests.org)  permite hacer peticiones mediante funciones que emulan los métodos del protocolo HTTP, regresando un objeto de Python que contiene los mensajes y datos de la respuesta del servidor a modo de atributos.\n",
    "\n",
    "El paquete *requests* presenta funcionalidades avanzadas como autenticación, conexiones seguras, manejo de 'cookies', etc. "
   ]
  },
  {
   "cell_type": "code",
   "execution_count": 1,
   "metadata": {},
   "outputs": [
    {
     "name": "stdout",
     "output_type": "stream",
     "text": [
      "Collecting requests\n",
      "\u001b[?25l  Downloading https://files.pythonhosted.org/packages/7d/e3/20f3d364d6c8e5d2353c72a67778eb189176f08e873c9900e10c0287b84b/requests-2.21.0-py2.py3-none-any.whl (57kB)\n",
      "\u001b[K    100% |████████████████████████████████| 61kB 980kB/s ta 0:00:011\n",
      "\u001b[?25hCollecting idna<2.9,>=2.5 (from requests)\n",
      "\u001b[?25l  Downloading https://files.pythonhosted.org/packages/14/2c/cd551d81dbe15200be1cf41cd03869a46fe7226e7450af7a6545bfc474c9/idna-2.8-py2.py3-none-any.whl (58kB)\n",
      "\u001b[K    100% |████████████████████████████████| 61kB 1.8MB/s ta 0:00:011\n",
      "\u001b[?25hCollecting certifi>=2017.4.17 (from requests)\n",
      "\u001b[?25l  Downloading https://files.pythonhosted.org/packages/9f/e0/accfc1b56b57e9750eba272e24c4dddeac86852c2bebd1236674d7887e8a/certifi-2018.11.29-py2.py3-none-any.whl (154kB)\n",
      "\u001b[K    100% |████████████████████████████████| 163kB 2.8MB/s ta 0:00:011\n",
      "\u001b[?25hCollecting chardet<3.1.0,>=3.0.2 (from requests)\n",
      "\u001b[?25l  Downloading https://files.pythonhosted.org/packages/bc/a9/01ffebfb562e4274b6487b4bb1ddec7ca55ec7510b22e4c51f14098443b8/chardet-3.0.4-py2.py3-none-any.whl (133kB)\n",
      "\u001b[K    100% |████████████████████████████████| 143kB 26.0MB/s ta 0:00:01\n",
      "\u001b[?25hCollecting urllib3<1.25,>=1.21.1 (from requests)\n",
      "\u001b[?25l  Downloading https://files.pythonhosted.org/packages/62/00/ee1d7de624db8ba7090d1226aebefab96a2c71cd5cfa7629d6ad3f61b79e/urllib3-1.24.1-py2.py3-none-any.whl (118kB)\n",
      "\u001b[K    100% |████████████████████████████████| 122kB 26.5MB/s ta 0:00:01\n",
      "\u001b[?25hInstalling collected packages: idna, certifi, chardet, urllib3, requests\n",
      "Successfully installed certifi-2018.11.29 chardet-3.0.4 idna-2.8 requests-2.21.0 urllib3-1.24.1\n"
     ]
    }
   ],
   "source": [
    "!pip install requests"
   ]
  },
  {
   "cell_type": "code",
   "execution_count": 2,
   "metadata": {},
   "outputs": [],
   "source": [
    "import requests"
   ]
  },
  {
   "cell_type": "code",
   "execution_count": 6,
   "metadata": {},
   "outputs": [
    {
     "name": "stdout",
     "output_type": "stream",
     "text": [
      "Help on function get in module requests.api:\n",
      "\n",
      "get(url, params=None, **kwargs)\n",
      "    Sends a GET request.\n",
      "    \n",
      "    :param url: URL for the new :class:`Request` object.\n",
      "    :param params: (optional) Dictionary, list of tuples or bytes to send\n",
      "        in the body of the :class:`Request`.\n",
      "    :param \\*\\*kwargs: Optional arguments that ``request`` takes.\n",
      "    :return: :class:`Response <Response>` object\n",
      "    :rtype: requests.Response\n",
      "\n"
     ]
    }
   ],
   "source": [
    "help(requests.get)"
   ]
  },
  {
   "cell_type": "markdown",
   "metadata": {},
   "source": [
    "**Ejemplo:**\n",
    "\n",
    "* Se utilizará la función *requests.get()* en la URL https://pythonista.io/cursos para abir una conexión enviando una petición *GET*. \n",
    "* Se desplegarán los siguientes datos guardados en el objeto resultante. ligado al nombre *sitio*.\n",
    "    * Los encabezados de la petición contenidos en el atributo *sitios.headers*\n",
    "    * El mensaje de estado resultante contenido en el atributo *sitio.status_code*.\n",
    "    * El contenido de la respuesta contenido en el atributo *sitio.content*. \n",
    "* Se cerrará la conexión mediante el método *sitio.close()*."
   ]
  },
  {
   "cell_type": "code",
   "execution_count": 7,
   "metadata": {},
   "outputs": [],
   "source": [
    "sitio = requests.get(\"https://pythonista.io/cursos\") "
   ]
  },
  {
   "cell_type": "code",
   "execution_count": 8,
   "metadata": {},
   "outputs": [
    {
     "data": {
      "text/plain": [
       "['__attrs__',\n",
       " '__bool__',\n",
       " '__class__',\n",
       " '__delattr__',\n",
       " '__dict__',\n",
       " '__dir__',\n",
       " '__doc__',\n",
       " '__enter__',\n",
       " '__eq__',\n",
       " '__exit__',\n",
       " '__format__',\n",
       " '__ge__',\n",
       " '__getattribute__',\n",
       " '__getstate__',\n",
       " '__gt__',\n",
       " '__hash__',\n",
       " '__init__',\n",
       " '__init_subclass__',\n",
       " '__iter__',\n",
       " '__le__',\n",
       " '__lt__',\n",
       " '__module__',\n",
       " '__ne__',\n",
       " '__new__',\n",
       " '__nonzero__',\n",
       " '__reduce__',\n",
       " '__reduce_ex__',\n",
       " '__repr__',\n",
       " '__setattr__',\n",
       " '__setstate__',\n",
       " '__sizeof__',\n",
       " '__str__',\n",
       " '__subclasshook__',\n",
       " '__weakref__',\n",
       " '_content',\n",
       " '_content_consumed',\n",
       " '_next',\n",
       " 'apparent_encoding',\n",
       " 'close',\n",
       " 'connection',\n",
       " 'content',\n",
       " 'cookies',\n",
       " 'elapsed',\n",
       " 'encoding',\n",
       " 'headers',\n",
       " 'history',\n",
       " 'is_permanent_redirect',\n",
       " 'is_redirect',\n",
       " 'iter_content',\n",
       " 'iter_lines',\n",
       " 'json',\n",
       " 'links',\n",
       " 'next',\n",
       " 'ok',\n",
       " 'raise_for_status',\n",
       " 'raw',\n",
       " 'reason',\n",
       " 'request',\n",
       " 'status_code',\n",
       " 'text',\n",
       " 'url']"
      ]
     },
     "execution_count": 8,
     "metadata": {},
     "output_type": "execute_result"
    }
   ],
   "source": [
    "dir(sitio)"
   ]
  },
  {
   "cell_type": "code",
   "execution_count": 9,
   "metadata": {
    "scrolled": true
   },
   "outputs": [
    {
     "name": "stdout",
     "output_type": "stream",
     "text": [
      "{'Date': 'Tue, 05 Feb 2019 21:20:02 GMT', 'Server': 'Zope/(2.13.26, python 2.7.12, linux2) ZServer/1.1', 'Content-Language': 'es', 'Expires': 'Sat, 01 Jan 2000 00:00:00 GMT', 'X-Ua-Compatible': 'IE=edge', 'X-Frame-Options': 'SAMEORIGIN', 'Content-Type': 'text/html;charset=utf-8', 'Via': '1.1 pythonista.io', 'Vary': 'Accept-Encoding', 'Content-Encoding': 'gzip', 'Strict-Transport-Security': 'max-age=15768000', 'X-XSS-Protection': '1; mode=block', 'X-Content-Type-Options': 'nosniff', 'Content-Security-Policy-Report-Only': \"default-src 'self'; img-src *; style-src 'unsafe-inline'; script-src 'unsafe-inline' 'unsafe-eval'\", 'Content-Length': '5599', 'Keep-Alive': 'timeout=5, max=100', 'Connection': 'Keep-Alive'}\n"
     ]
    }
   ],
   "source": [
    "print(sitio.headers)"
   ]
  },
  {
   "cell_type": "code",
   "execution_count": 10,
   "metadata": {
    "scrolled": true
   },
   "outputs": [
    {
     "name": "stdout",
     "output_type": "stream",
     "text": [
      "200\n"
     ]
    }
   ],
   "source": [
    "print(sitio.status_code)"
   ]
  },
  {
   "cell_type": "code",
   "execution_count": 11,
   "metadata": {},
   "outputs": [
    {
     "name": "stdout",
     "output_type": "stream",
     "text": [
      "b'<!DOCTYPE html>\\n<html xmlns=\"http://www.w3.org/1999/xhtml\" lang=\"es\" xml:lang=\"es\">\\n  <head><meta http-equiv=\"Content-Type\" content=\"text/html; charset=UTF-8\" />\\n      \\n    <title>Cursos \\xe2\\x80\\x94 Pythonista</title>\\n    <!--\\n    <link rel=\"shortcut icon\" type=\"image/x-icon\"\\n          href=\"barceloneta-favicon.ico\" />\\n    <link rel=\"apple-touch-icon\"\\n          href=\"barceloneta-apple-touch-icon.png\" />\\n    <link rel=\"apple-touch-icon-precomposed\" sizes=\"144x144\"\\n          href=\"barceloneta-apple-touch-icon-144x144-precomposed.png\" />\\n    <link rel=\"apple-touch-icon-precomposed\" sizes=\"114x114\"\\n          href=\"barceloneta-apple-touch-icon-114x114-precomposed.png\" />\\n    <link rel=\"apple-touch-icon-precomposed\" sizes=\"72x72\"\\n          href=\"barceloneta-apple-touch-icon-72x72-precomposed.png\" />\\n    <link rel=\"apple-touch-icon-precomposed\" sizes=\"57x57\"\\n          href=\"barceloneta-apple-touch-icon-57x57-precomposed.png\" />\\n    <link rel=\"apple-touch-icon-precomposed\"\\n          href=\"barceloneta-apple-touch-icon-precomposed.png\" />\\n          -->\\n          \\n<link rel=\"apple-touch-icon\" sizes=\"57x57\" href=\"/apple-icon-57x57.png\" />\\n<link rel=\"apple-touch-icon\" sizes=\"60x60\" href=\"/apple-icon-60x60.png\" />\\n<link rel=\"apple-touch-icon\" sizes=\"72x72\" href=\"/apple-icon-72x72.png\" />\\n<link rel=\"apple-touch-icon\" sizes=\"76x76\" href=\"/apple-icon-76x76.png\" />\\n<link rel=\"apple-touch-icon\" sizes=\"114x114\" href=\"/apple-icon-114x114.png\" />\\n<link rel=\"apple-touch-icon\" sizes=\"120x120\" href=\"/apple-icon-120x120.png\" />\\n<link rel=\"apple-touch-icon\" sizes=\"144x144\" href=\"/apple-icon-144x144.png\" />\\n<link rel=\"apple-touch-icon\" sizes=\"152x152\" href=\"/apple-icon-152x152.png\" />\\n<link rel=\"apple-touch-icon\" sizes=\"180x180\" href=\"/apple-icon-180x180.png\" />\\n<link rel=\"icon\" type=\"image/png\" sizes=\"192x192\" href=\"/android-icon-192x192.png\" />\\n<link rel=\"icon\" type=\"image/png\" sizes=\"32x32\" href=\"/favicon-32x32.png\" />\\n<link rel=\"icon\" type=\"image/png\" sizes=\"96x96\" href=\"/favicon-96x96.png\" />\\n<link rel=\"icon\" type=\"image/png\" sizes=\"16x16\" href=\"/favicon-16x16.png\" />\\n<link rel=\"shortcut icon\" type=\"image/x-icon\" href=\"/++theme++my-theme/favicon.ico\" />\\n\\n  <meta name=\"description\" content=\"Todos los contenidos de los cursos de Pythonista\\xc2\\xae est\\xc3\\xa1n disponibles para su libre uso y distribuci\\xc3\\xb3n bajo la licencia CC-BY, incluyendo las notebooks de Jupyter que est\\xc3\\xa1n en la secci\\xc3\\xb3n de descargas de cada curso.\" /><meta content=\"summary\" name=\"twitter:card\" /><meta content=\"Cursos\" name=\"twitter:title\" /><meta content=\"pythonista.mx\" property=\"og:site_name\" /><meta content=\"Cursos\" property=\"og:title\" /><meta content=\"website\" property=\"og:type\" /><meta content=\"@pythonistamx\" name=\"twitter:site\" /><meta content=\"https://www.facebook.com/pythonistamx\" property=\"og:article:publisher\" /><meta content=\"Todos los contenidos de los cursos de Pythonista\\xc2\\xae est\\xc3\\xa1n disponibles para su libre uso y distribuci\\xc3\\xb3n bajo la licencia CC-BY, incluyendo las notebooks de Jupyter que est\\xc3\\xa1n en la secci\\xc3\\xb3n de descargas de cada curso.\" name=\"twitter:description\" /><meta content=\"https://pythonista.io/cursos\" name=\"twitter:url\" /><meta content=\"Todos los contenidos de los cursos de Pythonista\\xc2\\xae est\\xc3\\xa1n disponibles para su libre uso y distribuci\\xc3\\xb3n bajo la licencia CC-BY, incluyendo las notebooks de Jupyter que est\\xc3\\xa1n en la secci\\xc3\\xb3n de descargas de cada curso.\" property=\"og:description\" /><meta content=\"https://pythonista.io/cursos\" property=\"og:url\" /><meta content=\"https://pythonista.io/@@site-logo/pythonista-sitio.png\" name=\"twitter:image\" /><meta content=\"https://pythonista.io/@@site-logo/pythonista-sitio.png\" property=\"og:image\" /><meta content=\"image/png\" property=\"og:image:type\" /><meta name=\"viewport\" content=\"width=device-width, initial-scale=1.0\" /><meta name=\"generator\" content=\"Plone - http://plone.com\" /><link rel=\"canonical\" href=\"https://pythonista.io/cursos\" /><link rel=\"search\" href=\"https://pythonista.io/@@search\" title=\"Buscar en este sitio\" /><link rel=\"stylesheet\" type=\"text/css\" href=\"https://pythonista.io/++plone++production/++unique++2017-09-07T14:55:07.424118/default.css\" data-bundle=\"production\" /><link rel=\"stylesheet\" type=\"text/css\" href=\"https://pythonista.io//++theme++my-theme/less/barceloneta-compiled.css\" data-bundle=\"diazo\" /><script type=\"text/javascript\">PORTAL_URL = \\'https://pythonista.io\\';</script><script type=\"text/javascript\" src=\"https://pythonista.io/++plone++production/++unique++2017-09-07T14:55:07.424118/default.js\" data-bundle=\"production\"></script></head>\\n  <body id=\"visual-portal-wrapper\" class=\"template-summary_view portaltype-folder site-pythonista.mx section-cursos icons-on thumbs-on frontend viewpermission-view userrole-anonymous pat-markspeciallinks\" dir=\"ltr\" data-i18ncatalogurl=\"https://pythonista.io/plonejsi18n\" data-pat-plone-modal=\"{&quot;actionOptions&quot;: {&quot;displayInModal&quot;: false}}\" data-view-url=\"https://pythonista.io/cursos\" data-pat-tinymce=\"{&quot;loadingBaseUrl&quot;: &quot;https://pythonista.io/++plone++static/components/tinymce-builded/js/tinymce&quot;, &quot;relatedItems&quot;: {&quot;sort_order&quot;: &quot;ascending&quot;, &quot;vocabularyUrl&quot;: &quot;https://pythonista.io/@@getVocabulary?name=plone.app.vocabularies.Catalog&quot;, &quot;sort_on&quot;: &quot;sortable_title&quot;, &quot;folderTypes&quot;: [&quot;Folder&quot;, &quot;Large Plone Folder&quot;, &quot;Plone Site&quot;], &quot;rootPath&quot;: &quot;/pythonista.mx&quot;}, &quot;prependToScalePart&quot;: &quot;/@@images/image/&quot;, &quot;linkAttribute&quot;: &quot;UID&quot;, &quot;prependToUrl&quot;: &quot;/resolveuid/&quot;, &quot;imageTypes&quot;: [&quot;Image&quot;], &quot;upload&quot;: {&quot;maxFiles&quot;: 1, &quot;currentPath&quot;: &quot;/cursos&quot;, &quot;initialFolder&quot;: &quot;5c0cf742cd404f8fa6a5567f5fe098d8&quot;, &quot;baseUrl&quot;: &quot;https://pythonista.io&quot;, &quot;uploadMultiple&quot;: false, &quot;relativePath&quot;: &quot;@@fileUpload&quot;, &quot;showTitle&quot;: false}, &quot;tiny&quot;: {&quot;templates&quot;: {}, &quot;content_css&quot;: &quot;https://pythonista.io/++plone++static/plone-compiled.css,https://pythonista.io/++plone++static/tinymce-styles.css,https://pythonista.io/++plone++static/components/tinymce-builded/js/tinymce/skins/lightgray/content.min.css,https://pythonista.io/++theme++my-theme/less/barceloneta-compiled.css&quot;, &quot;external_plugins&quot;: {}, &quot;plugins&quot;: [&quot;plonelink&quot;, &quot;ploneimage&quot;, &quot;importcss&quot;, &quot;advlist&quot;, &quot;fullscreen&quot;, &quot;hr&quot;, &quot;lists&quot;, &quot;media&quot;, &quot;nonbreaking&quot;, &quot;noneditable&quot;, &quot;pagebreak&quot;, &quot;paste&quot;, &quot;preview&quot;, &quot;print&quot;, &quot;searchreplace&quot;, &quot;tabfocus&quot;, &quot;table&quot;, &quot;visualchars&quot;, &quot;wordcount&quot;, &quot;code&quot;], &quot;toolbar&quot;: &quot;ltr rtl | undo redo | styleselect | bold italic | alignleft aligncenter alignright alignjustify | bullist numlist outdent indent | unlink plonelink ploneimage&quot;, &quot;menubar&quot;: [&quot;edit&quot;, &quot;table&quot;, &quot;format&quot;, &quot;toolsview&quot;, &quot;insert&quot;], &quot;importcss_file_filter&quot;: &quot;https://pythonista.io/++plone++static/tinymce-styles.css&quot;, &quot;menu&quot;: {&quot;insert&quot;: {&quot;items&quot;: &quot;link media | template hr&quot;, &quot;title&quot;: &quot;Insert&quot;}, &quot;format&quot;: {&quot;items&quot;: &quot;bold italic underline strikethrough superscript subscript | formats | removeformat&quot;, &quot;title&quot;: &quot;Format&quot;}, &quot;edit&quot;: {&quot;items&quot;: &quot;undo redo | cut copy paste pastetext | searchreplace textpattern selectall | textcolor&quot;, &quot;title&quot;: &quot;Edit&quot;}, &quot;table&quot;: {&quot;items&quot;: &quot;inserttable tableprops deletetable | cell row column&quot;, &quot;title&quot;: &quot;Table&quot;}, &quot;tools&quot;: {&quot;items&quot;: &quot;spellchecker charmap emoticons insertdatetime layer code&quot;, &quot;title&quot;: &quot;Tools&quot;}, &quot;view&quot;: {&quot;items&quot;: &quot;visualaid visualchars visualblocks preview fullpage fullscreen&quot;, &quot;title&quot;: &quot;View&quot;}}, &quot;browser_spellcheck&quot;: true, &quot;entity_encoding&quot;: &quot;raw&quot;, &quot;style_formats&quot;: [{&quot;items&quot;: [{&quot;title&quot;: &quot;Header 1&quot;, &quot;format&quot;: &quot;h1&quot;}, {&quot;title&quot;: &quot;Header 2&quot;, &quot;format&quot;: &quot;h2&quot;}, {&quot;title&quot;: &quot;Header 3&quot;, &quot;format&quot;: &quot;h3&quot;}, {&quot;title&quot;: &quot;Header 4&quot;, &quot;format&quot;: &quot;h4&quot;}, {&quot;title&quot;: &quot;Header 5&quot;, &quot;format&quot;: &quot;h5&quot;}, {&quot;title&quot;: &quot;Header 6&quot;, &quot;format&quot;: &quot;h6&quot;}], &quot;title&quot;: &quot;Headers&quot;}, {&quot;items&quot;: [{&quot;title&quot;: &quot;Paragraph&quot;, &quot;format&quot;: &quot;p&quot;}, {&quot;title&quot;: &quot;Blockquote&quot;, &quot;format&quot;: &quot;blockquote&quot;}, {&quot;title&quot;: &quot;Div&quot;, &quot;format&quot;: &quot;div&quot;}, {&quot;title&quot;: &quot;Pre&quot;, &quot;format&quot;: &quot;pre&quot;}], &quot;title&quot;: &quot;Block&quot;}, {&quot;items&quot;: [{&quot;title&quot;: &quot;Bold&quot;, &quot;icon&quot;: &quot;bold&quot;, &quot;format&quot;: &quot;bold&quot;}, {&quot;title&quot;: &quot;Italic&quot;, &quot;icon&quot;: &quot;italic&quot;, &quot;format&quot;: &quot;italic&quot;}, {&quot;title&quot;: &quot;Underline&quot;, &quot;icon&quot;: &quot;underline&quot;, &quot;format&quot;: &quot;underline&quot;}, {&quot;title&quot;: &quot;Strikethrough&quot;, &quot;icon&quot;: &quot;strikethrough&quot;, &quot;format&quot;: &quot;strikethrough&quot;}, {&quot;title&quot;: &quot;Superscript&quot;, &quot;icon&quot;: &quot;superscript&quot;, &quot;format&quot;: &quot;superscript&quot;}, {&quot;title&quot;: &quot;Subscript&quot;, &quot;icon&quot;: &quot;subscript&quot;, &quot;format&quot;: &quot;subscript&quot;}, {&quot;title&quot;: &quot;Code&quot;, &quot;icon&quot;: &quot;code&quot;, &quot;format&quot;: &quot;code&quot;}], &quot;title&quot;: &quot;Inline&quot;}, {&quot;items&quot;: [{&quot;title&quot;: &quot;Left&quot;, &quot;icon&quot;: &quot;alignleft&quot;, &quot;format&quot;: &quot;alignleft&quot;}, {&quot;title&quot;: &quot;Center&quot;, &quot;icon&quot;: &quot;aligncenter&quot;, &quot;format&quot;: &quot;aligncenter&quot;}, {&quot;title&quot;: &quot;Right&quot;, &quot;icon&quot;: &quot;alignright&quot;, &quot;format&quot;: &quot;alignright&quot;}, {&quot;title&quot;: &quot;Justify&quot;, &quot;icon&quot;: &quot;alignjustify&quot;, &quot;format&quot;: &quot;alignjustify&quot;}], &quot;title&quot;: &quot;Alignment&quot;}, {&quot;items&quot;: [{&quot;title&quot;: &quot;Listing&quot;, &quot;classes&quot;: &quot;listing&quot;, &quot;selector&quot;: &quot;table&quot;}], &quot;title&quot;: &quot;Tables&quot;}], &quot;resize&quot;: &quot;both&quot;, &quot;formats&quot;: {&quot;clearfix&quot;: {&quot;classes&quot;: &quot;clearfix&quot;, &quot;block&quot;: &quot;div&quot;}, &quot;discreet&quot;: {&quot;inline&quot;: &quot;span&quot;, &quot;classes&quot;: &quot;discreet&quot;}}, &quot;importcss_append&quot;: true}, &quot;base_url&quot;: &quot;https://pythonista.io/cursos&quot;}\" data-pat-markspeciallinks=\"{&quot;external_links_open_new_window&quot;: &quot;False&quot;,&quot;mark_special_links&quot;: &quot;True&quot;}\" data-portal-url=\"https://pythonista.io\" data-pat-pickadate=\"{&quot;date&quot;: {&quot;selectYears&quot;: 200}, &quot;time&quot;: {&quot;interval&quot;: 5 } }\" data-base-url=\"https://pythonista.io/cursos\"><div class=\"outer-wrapper\">\\n      <header id=\"content-header\">\\n        <div class=\"container\">\\n          \\n      <div id=\"portal-header\">\\n    <a id=\"portal-logo\" title=\"Pythonista\" href=\"https://pythonista.io\">\\n    <img src=\"https://pythonista.io/@@site-logo/pythonista-sitio.png\" alt=\"pythonista.mx\" title=\"pythonista.mx\" /></a>\\n\\n<div id=\"portal-searchbox\">\\n\\n    <form id=\"searchGadget_form\" action=\"https://pythonista.io/@@search\" role=\"search\" data-pat-livesearch=\"ajaxUrl:https://pythonista.io/@@ajax-search\" class=\"pat-livesearch\">\\n\\n        <div class=\"LSBox\">\\n        <label class=\"hiddenStructure\" for=\"searchGadget\">Buscar</label>\\n\\n        <input name=\"SearchableText\" type=\"text\" size=\"18\" id=\"searchGadget\" title=\"Buscar en el Sitio\" placeholder=\"Buscar en el Sitio\" class=\"searchField\" />\\n\\n        <input class=\"searchButton\" type=\"submit\" value=\"Buscar\" />\\n\\n        <div class=\"searchSection\">\\n            <input id=\"searchbox_currentfolder_only\" class=\"noborder\" type=\"checkbox\" name=\"path\" value=\"/pythonista.mx/cursos\" />\\n            <label for=\"searchbox_currentfolder_only\" style=\"cursor: pointer\">solo en la secci\\xc3\\xb3n actual</label>\\n        </div>\\n        </div>\\n    </form>\\n\\n    <div id=\"portal-advanced-search\" class=\"hiddenStructure\">\\n        <a href=\"https://pythonista.io/@@search\">B\\xc3\\xbasqueda Avanzada\\xe2\\x80\\xa6</a>\\n    </div>\\n\\n</div>\\n\\n<div id=\"portal-anontools\">\\n  <ul>\\n    <li>\\n      \\n          <a title=\"Entrar\" data-pat-plone-modal=\"{&quot;prependContent&quot;: &quot;.portalMessage&quot;, &quot;title&quot;: &quot;Log in&quot;, &quot;width&quot;: &quot;26em&quot;}\" id=\"personaltools-login\" href=\"https://pythonista.io/login\" class=\"pat-plone-modal\">Entrar</a>\\n      \\n    </li>\\n  </ul>\\n</div>\\n\\n\\n\\n</div>\\n\\n    \\n          \\n        </div>\\n      </header>\\n      <div id=\"mainnavigation-wrapper\">\\n        <div id=\"mainnavigation\">\\n\\n  <p class=\"hiddenStructure\">Navegaci\\xc3\\xb3n</p>\\n  <nav class=\"plone-navbar\" id=\"portal-globalnav-wrapper\">\\n    <div class=\"container\">\\n      <div class=\"plone-navbar-header\">\\n        <button type=\"button\" class=\"plone-navbar-toggle\" data-toggle=\"collapse\" data-target=\"#portal-globalnav-collapse\">\\n          <span class=\"sr-only\">Toggle navigation</span>\\n          <span class=\"icon-bar\"></span>\\n          <span class=\"icon-bar\"></span>\\n          <span class=\"icon-bar\"></span>\\n        </button>\\n      </div>\\n\\n      <div class=\"plone-collapse plone-navbar-collapse\" id=\"portal-globalnav-collapse\">\\n        <ul class=\"plone-nav plone-navbar-nav\" id=\"portal-globalnav\">\\n            \\n              <li id=\"portaltab-index_html\">\\n                  <a href=\"https://pythonista.io\" title=\"\">Inicio</a>\\n              </li>\\n            \\n              <li id=\"portaltab-events\">\\n                  <a href=\"https://pythonista.io/events\" title=\"Eventos del Sitio\">Eventos</a>\\n              </li>\\n            \\n              <li id=\"portaltab-cursos\" class=\"selected\">\\n                  <a href=\"https://pythonista.io/cursos\" title=\"Todos los contenidos de los cursos de Pythonista\\xc2\\xae est\\xc3\\xa1n disponibles para su libre uso y distribuci\\xc3\\xb3n bajo la licencia CC-BY, incluyendo las notebooks de Jupyter que est\\xc3\\xa1n en la secci\\xc3\\xb3n de descargas de cada curso.\">Cursos</a>\\n              </li>\\n            \\n              <li id=\"portaltab-descargas\">\\n                  <a href=\"https://pythonista.io/descargas\" title=\"En esta secci\\xc3\\xb3n podr\\xc3\\xa1s descargar las m\\xc3\\xa1quinas virtuales de Pythonista\\xc2\\xae con las herramientas y los contenidos  actualizados a tu disposici\\xc3\\xb3n.  Los datos de acceso a los recursos de la VM (usuarios, rutas de los servicios habilitados, contrase\\xc3\\xb1as, etc.) se pueden consultar en el apartado de Descripci\\xc3\\xb3n de la propia m\\xc3\\xa1quina.\">Descargas</a>\\n              </li>\\n            \\n              <li id=\"portaltab-comunidades\">\\n                  <a href=\"https://pythonista.io/comunidades\" title=\"Espacio con ofertas exclusivas para nuestras comunidades aliadas.\">Comunidades</a>\\n              </li>\\n            \\n        </ul>\\n      </div>\\n    </div>\\n  </nav>\\n\\n\\n</div>\\n      </div>\\n      \\n      <div id=\"above-content-wrapper\">\\n          <section id=\"viewlet-above-content\"><nav id=\"portal-breadcrumbs\" class=\"plone-breadcrumb\">\\n  <div class=\"container\">\\n    <span id=\"breadcrumbs-you-are-here\" class=\"hiddenStructure\">Usted est\\xc3\\xa1 aqu\\xc3\\xad:</span>\\n    <ol aria-labelledby=\"breadcrumbs-you-are-here\">\\n      <li id=\"breadcrumbs-home\">\\n        <a href=\"https://pythonista.io\">Inicio</a>\\n      </li>\\n      <li id=\"breadcrumbs-1\">\\n        \\n          \\n          <span id=\"breadcrumbs-current\">Cursos</span>\\n        \\n      </li>\\n    </ol>\\n  </div>\\n</nav>\\n</section>\\n      </div>\\n      <div class=\"container\">\\n        <div class=\"row\">\\n          <aside id=\"global_statusmessage\">\\n      \\n\\n      <div>\\n      </div>\\n    </aside>\\n        </div>\\n        <main id=\"main-container\" class=\"row row-offcanvas row-offcanvas-right\">\\n          <div id=\"column1-container\">\\n          </div>\\n          \\n\\n    \\n\\n    <div class=\"col-xs-12 col-sm-12\">\\n      <div class=\"row\">\\n        <div class=\"col-xs-12 col-sm-12\">\\n          <article id=\"content\">\\n\\n          \\n\\n          <header>\\n            <div id=\"viewlet-above-content-title\"><span id=\"social-tags-body\" style=\"display: none\" itemscope=\"\" itemtype=\"http://schema.org/WebPage\">\\n  <span itemprop=\"name\">Cursos</span>\\n  <span itemprop=\"description\">Todos los contenidos de los cursos de Pythonista\\xc2\\xae est\\xc3\\xa1n disponibles para su libre uso y distribuci\\xc3\\xb3n bajo la licencia CC-BY, incluyendo las notebooks de Jupyter que est\\xc3\\xa1n en la secci\\xc3\\xb3n de descargas de cada curso.</span>\\n  <span itemprop=\"url\">https://pythonista.io/cursos</span>\\n  <span itemprop=\"image\">https://pythonista.io/@@site-logo/pythonista-sitio.png</span>\\n</span>\\n</div>\\n            \\n                <h1 class=\"documentFirstHeading\">Cursos</h1>\\n            \\n            <div id=\"viewlet-below-content-title\"></div>\\n\\n            \\n                <div class=\"documentDescription description\">Todos los contenidos de los cursos de Pythonista\\xc2\\xae est\\xc3\\xa1n disponibles para su libre uso y distribuci\\xc3\\xb3n bajo la licencia CC-BY, incluyendo las notebooks de Jupyter que est\\xc3\\xa1n en la secci\\xc3\\xb3n de descargas de cada curso.</div>\\n            \\n          </header>\\n\\n          <section id=\"viewlet-above-content-body\"></section>\\n          <section id=\"content-core\">\\n            \\n\\n\\n  \\n\\n  \\n    \\n      \\n        \\n    \\n            \\n              \\n\\n        <article class=\"tileItem\">\\n          <h2 class=\"tileHeadline\">\\n            <a class=\"summary url\" href=\"https://pythonista.io/cursos/py101\" title=\"Folder\">py101 Introducci\\xc3\\xb3n a la programaci\\xc3\\xb3n con Python 3</a>\\n          </h2>\\n\\n          \\n                      <div class=\"documentByLine\">\\n                        \\n                        \\n                      </div>\\n                    \\n\\n          \\n\\n          <div class=\"tileBody\">\\n            <span class=\"description\">Curso de introducci\\xc3\\xb3n a Python 3 en espa\\xc3\\xb1ol.</span>\\n          </div>\\n\\n          <div class=\"tileFooter\">\\n            <a href=\"https://pythonista.io/cursos/py101\">Leer M\\xc3\\xa1s</a>\\n          </div>\\n\\n          <div class=\"visualClear\"><!-- --></div>\\n\\n        </article>\\n\\n      \\n            \\n          \\n            \\n              \\n\\n        <article class=\"tileItem\">\\n          <h2 class=\"tileHeadline\">\\n            <a class=\"summary url\" href=\"https://pythonista.io/cursos/py111\" title=\"Folder\">py111 Introducci\\xc3\\xb3n a OOP con Python 3</a>\\n          </h2>\\n\\n          \\n                      <div class=\"documentByLine\">\\n                        \\n                        \\n                      </div>\\n                    \\n\\n          \\n\\n          <div class=\"tileBody\">\\n            <span class=\"description\">Curso introductorio de programaci\\xc3\\xb3n orientada a objetos con Python 3.</span>\\n          </div>\\n\\n          <div class=\"tileFooter\">\\n            <a href=\"https://pythonista.io/cursos/py111\">Leer M\\xc3\\xa1s</a>\\n          </div>\\n\\n          <div class=\"visualClear\"><!-- --></div>\\n\\n        </article>\\n\\n      \\n            \\n          \\n            \\n              \\n\\n        <article class=\"tileItem\">\\n          <h2 class=\"tileHeadline\">\\n            <a class=\"summary url\" href=\"https://pythonista.io/cursos/py121\" title=\"Folder\">py121 Introducci\\xc3\\xb3n a manejo de datos con Python</a>\\n          </h2>\\n\\n          \\n                      <div class=\"documentByLine\">\\n                        \\n                        \\n                      </div>\\n                    \\n\\n          \\n\\n          \\n\\n          <div class=\"tileFooter\">\\n            <a href=\"https://pythonista.io/cursos/py121\">Leer M\\xc3\\xa1s</a>\\n          </div>\\n\\n          <div class=\"visualClear\"><!-- --></div>\\n\\n        </article>\\n\\n      \\n            \\n          \\n            \\n              \\n\\n        <article class=\"tileItem\">\\n          <h2 class=\"tileHeadline\">\\n            <a class=\"summary url\" href=\"https://pythonista.io/cursos/py201\" title=\"Folder\">py201 Introducci\\xc3\\xb3n a desarrollo web con Flask</a>\\n          </h2>\\n\\n          \\n                      <div class=\"documentByLine\">\\n                        \\n                        \\n                      </div>\\n                    \\n\\n          \\n\\n          \\n\\n          <div class=\"tileFooter\">\\n            <a href=\"https://pythonista.io/cursos/py201\">Leer M\\xc3\\xa1s</a>\\n          </div>\\n\\n          <div class=\"visualClear\"><!-- --></div>\\n\\n        </article>\\n\\n      \\n            \\n          \\n  \\n\\n        \\n\\n    <!-- Navigation -->\\n\\n\\n  \\n\\n\\n\\n\\n\\n\\n      \\n\\n      \\n        \\n      \\n\\n    \\n  \\n\\n\\n\\n          </section>\\n          <section id=\"viewlet-below-content-body\">\\n\\n\\n\\n    <div class=\"visualClear\"><!-- --></div>\\n\\n    <div class=\"documentActions\">\\n        \\n\\n        \\n\\n    </div>\\n\\n</section>\\n\\n          \\n        </article>\\n        </div>\\n      </div>\\n      <footer class=\"row\">\\n        <div class=\"col-xs-12 col-sm-12\">\\n          <div id=\"viewlet-below-content\">\\n\\n\\n\\n\\n</div>\\n        </div>\\n      </footer>\\n    </div>\\n  \\n          <div id=\"column2-container\">\\n          </div>\\n        </main><!--/row-->\\n      </div><!--/container-->\\n    </div><!--/outer-wrapper --><footer id=\"portal-footer-wrapper\">\\n      <div class=\"container\" id=\"portal-footer\">\\n      <div class=\"row\">\\n\\t<div class=\"col-xs-12\">\\n\\t\\t\\n<div class=\"portletWrapper\" id=\"portletwrapper-706c6f6e652e666f6f746572706f72746c6574730a636f6e746578740a2f707974686f6e697374612e6d780a666f6f746572\" data-portlethash=\"706c6f6e652e666f6f746572706f72746c6574730a636f6e746578740a2f707974686f6e697374612e6d780a666f6f746572\">\\n\\n  \\n\\n  \\n    \\n\\n  <section class=\"portlet portletClassic\" id=\"portal-footer-signature\">\\n    <div class=\"portletContent\">\\n      El \\n           <a href=\"http://plone.com\">Plone<sup>\\xc2\\xae</sup> CMS/WCM de Fuentes Abiertos</a>\\n       es <abbr title=\"Copyright\">\\xc2\\xa9</abbr> 2000-2019 por la \\n           <a href=\"http://plone.org/foundation\">Fundaci\\xc3\\xb3n Plone</a> y amigos.\\n\\n      Distribuido bajo la \\n                <a href=\"http://creativecommons.org/licenses/GPL/2.0/\">Licencia GNU GPL</a>\\n    </div>\\n  </section>\\n\\n\\n  \\n\\n</div>\\n\\n<div class=\"portletWrapper\" id=\"portletwrapper-706c6f6e652e666f6f746572706f72746c6574730a636f6e746578740a2f707974686f6e697374612e6d780a616374696f6e73\" data-portlethash=\"706c6f6e652e666f6f746572706f72746c6574730a636f6e746578740a2f707974686f6e697374612e6d780a616374696f6e73\">\\n\\n<section class=\"portlet portletActions\" role=\"menu\">\\n\\n  \\n  <section class=\"portletContent\">\\n    <ul>\\n      \\n        <li class=\"portletItem\">\\n          <a href=\"https://pythonista.io/sitemap\">\\n\\n            <span>Mapa del Sitio</span>\\n\\n            \\n\\n          </a>\\n        </li>\\n      \\n        <li class=\"portletItem\">\\n          <a href=\"https://pythonista.io/accessibility-info\">\\n\\n            <span>Accesibilidad</span>\\n\\n            \\n\\n          </a>\\n        </li>\\n      \\n        <li class=\"portletItem\">\\n          <a href=\"https://pythonista.io/contact-info\" class=\"pat-plone-modal\" data-pat-plone-modal=\"{}\">\\n\\n            <span>Contacto</span>\\n\\n            \\n\\n          </a>\\n        </li>\\n      \\n    </ul>\\n  </section>\\n</section>\\n\\n</div>\\n\\n<div class=\"portletWrapper\" id=\"portletwrapper-706c6f6e652e666f6f746572706f72746c6574730a636f6e746578740a2f707974686f6e697374612e6d780a636f6c6f70686f6e\" data-portlethash=\"706c6f6e652e666f6f746572706f72746c6574730a636f6e746578740a2f707974686f6e697374612e6d780a636f6c6f70686f6e\">\\n\\n  \\n\\n  \\n    \\n\\n  <section class=\"portlet portletClassic\" id=\"portal-colophon\">\\n    <div class=\"portletContent\">\\n      <a href=\"http://plone.com\" target=\"_blank\" title=\"Este sitio ha sido construido usando el CMS/WCM de Fuentes Abiertos Plone.\">Powered by Plone &amp; Python</a>\\n    </div>\\n  </section>\\n\\n\\n  \\n\\n</div>\\n\\n\\n\\t</div>\\n</div>\\n\\n<script>\\n  (function(i,s,o,g,r,a,m){i[\\'GoogleAnalyticsObject\\']=r;i[r]=i[r]||function(){\\n  (i[r].q=i[r].q||[]).push(arguments)},i[r].l=1*new Date();a=s.createElement(o),\\n  m=s.getElementsByTagName(o)[0];a.async=1;a.src=g;m.parentNode.insertBefore(a,m)\\n  })(window,document,\\'script\\',\\'https://www.google-analytics.com/analytics.js\\',\\'ga\\');\\n\\n  ga(\\'create\\', \\'UA-100381738-1\\', \\'auto\\');\\n  ga(\\'send\\', \\'pageview\\');\\n\\n</script>\\n    </div>\\n    </footer></body>\\n</html>'\n"
     ]
    }
   ],
   "source": [
    "print(sitio.content)"
   ]
  },
  {
   "cell_type": "code",
   "execution_count": 14,
   "metadata": {
    "scrolled": false
   },
   "outputs": [
    {
     "data": {
      "text/plain": [
       "'<!DOCTYPE html>\\n<html xmlns=\"http://www.w3.org/1999/xhtml\" lang=\"es\" xml:lang=\"es\">\\n  <head><meta http-equiv=\"Content-Type\" content=\"text/html; charset=UTF-8\" />\\n      \\n    <title>Cursos — Pythonista</title>\\n    <!--\\n    <link rel=\"shortcut icon\" type=\"image/x-icon\"\\n          href=\"barceloneta-favicon.ico\" />\\n    <link rel=\"apple-touch-icon\"\\n          href=\"barceloneta-apple-touch-icon.png\" />\\n    <link rel=\"apple-touch-icon-precomposed\" sizes=\"144x144\"\\n          href=\"barceloneta-apple-touch-icon-144x144-precomposed.png\" />\\n    <link rel=\"apple-touch-icon-precomposed\" sizes=\"114x114\"\\n          href=\"barceloneta-apple-touch-icon-114x114-precomposed.png\" />\\n    <link rel=\"apple-touch-icon-precomposed\" sizes=\"72x72\"\\n          href=\"barceloneta-apple-touch-icon-72x72-precomposed.png\" />\\n    <link rel=\"apple-touch-icon-precomposed\" sizes=\"57x57\"\\n          href=\"barceloneta-apple-touch-icon-57x57-precomposed.png\" />\\n    <link rel=\"apple-touch-icon-precomposed\"\\n          href=\"barceloneta-apple-touch-icon-precomposed.png\" />\\n          -->\\n          \\n<link rel=\"apple-touch-icon\" sizes=\"57x57\" href=\"/apple-icon-57x57.png\" />\\n<link rel=\"apple-touch-icon\" sizes=\"60x60\" href=\"/apple-icon-60x60.png\" />\\n<link rel=\"apple-touch-icon\" sizes=\"72x72\" href=\"/apple-icon-72x72.png\" />\\n<link rel=\"apple-touch-icon\" sizes=\"76x76\" href=\"/apple-icon-76x76.png\" />\\n<link rel=\"apple-touch-icon\" sizes=\"114x114\" href=\"/apple-icon-114x114.png\" />\\n<link rel=\"apple-touch-icon\" sizes=\"120x120\" href=\"/apple-icon-120x120.png\" />\\n<link rel=\"apple-touch-icon\" sizes=\"144x144\" href=\"/apple-icon-144x144.png\" />\\n<link rel=\"apple-touch-icon\" sizes=\"152x152\" href=\"/apple-icon-152x152.png\" />\\n<link rel=\"apple-touch-icon\" sizes=\"180x180\" href=\"/apple-icon-180x180.png\" />\\n<link rel=\"icon\" type=\"image/png\" sizes=\"192x192\" href=\"/android-icon-192x192.png\" />\\n<link rel=\"icon\" type=\"image/png\" sizes=\"32x32\" href=\"/favicon-32x32.png\" />\\n<link rel=\"icon\" type=\"image/png\" sizes=\"96x96\" href=\"/favicon-96x96.png\" />\\n<link rel=\"icon\" type=\"image/png\" sizes=\"16x16\" href=\"/favicon-16x16.png\" />\\n<link rel=\"shortcut icon\" type=\"image/x-icon\" href=\"/++theme++my-theme/favicon.ico\" />\\n\\n  <meta name=\"description\" content=\"Todos los contenidos de los cursos de Pythonista® están disponibles para su libre uso y distribución bajo la licencia CC-BY, incluyendo las notebooks de Jupyter que están en la sección de descargas de cada curso.\" /><meta content=\"summary\" name=\"twitter:card\" /><meta content=\"Cursos\" name=\"twitter:title\" /><meta content=\"pythonista.mx\" property=\"og:site_name\" /><meta content=\"Cursos\" property=\"og:title\" /><meta content=\"website\" property=\"og:type\" /><meta content=\"@pythonistamx\" name=\"twitter:site\" /><meta content=\"https://www.facebook.com/pythonistamx\" property=\"og:article:publisher\" /><meta content=\"Todos los contenidos de los cursos de Pythonista® están disponibles para su libre uso y distribución bajo la licencia CC-BY, incluyendo las notebooks de Jupyter que están en la sección de descargas de cada curso.\" name=\"twitter:description\" /><meta content=\"https://pythonista.io/cursos\" name=\"twitter:url\" /><meta content=\"Todos los contenidos de los cursos de Pythonista® están disponibles para su libre uso y distribución bajo la licencia CC-BY, incluyendo las notebooks de Jupyter que están en la sección de descargas de cada curso.\" property=\"og:description\" /><meta content=\"https://pythonista.io/cursos\" property=\"og:url\" /><meta content=\"https://pythonista.io/@@site-logo/pythonista-sitio.png\" name=\"twitter:image\" /><meta content=\"https://pythonista.io/@@site-logo/pythonista-sitio.png\" property=\"og:image\" /><meta content=\"image/png\" property=\"og:image:type\" /><meta name=\"viewport\" content=\"width=device-width, initial-scale=1.0\" /><meta name=\"generator\" content=\"Plone - http://plone.com\" /><link rel=\"canonical\" href=\"https://pythonista.io/cursos\" /><link rel=\"search\" href=\"https://pythonista.io/@@search\" title=\"Buscar en este sitio\" /><link rel=\"stylesheet\" type=\"text/css\" href=\"https://pythonista.io/++plone++production/++unique++2017-09-07T14:55:07.424118/default.css\" data-bundle=\"production\" /><link rel=\"stylesheet\" type=\"text/css\" href=\"https://pythonista.io//++theme++my-theme/less/barceloneta-compiled.css\" data-bundle=\"diazo\" /><script type=\"text/javascript\">PORTAL_URL = \\'https://pythonista.io\\';</script><script type=\"text/javascript\" src=\"https://pythonista.io/++plone++production/++unique++2017-09-07T14:55:07.424118/default.js\" data-bundle=\"production\"></script></head>\\n  <body id=\"visual-portal-wrapper\" class=\"template-summary_view portaltype-folder site-pythonista.mx section-cursos icons-on thumbs-on frontend viewpermission-view userrole-anonymous pat-markspeciallinks\" dir=\"ltr\" data-i18ncatalogurl=\"https://pythonista.io/plonejsi18n\" data-pat-plone-modal=\"{&quot;actionOptions&quot;: {&quot;displayInModal&quot;: false}}\" data-view-url=\"https://pythonista.io/cursos\" data-pat-tinymce=\"{&quot;loadingBaseUrl&quot;: &quot;https://pythonista.io/++plone++static/components/tinymce-builded/js/tinymce&quot;, &quot;relatedItems&quot;: {&quot;sort_order&quot;: &quot;ascending&quot;, &quot;vocabularyUrl&quot;: &quot;https://pythonista.io/@@getVocabulary?name=plone.app.vocabularies.Catalog&quot;, &quot;sort_on&quot;: &quot;sortable_title&quot;, &quot;folderTypes&quot;: [&quot;Folder&quot;, &quot;Large Plone Folder&quot;, &quot;Plone Site&quot;], &quot;rootPath&quot;: &quot;/pythonista.mx&quot;}, &quot;prependToScalePart&quot;: &quot;/@@images/image/&quot;, &quot;linkAttribute&quot;: &quot;UID&quot;, &quot;prependToUrl&quot;: &quot;/resolveuid/&quot;, &quot;imageTypes&quot;: [&quot;Image&quot;], &quot;upload&quot;: {&quot;maxFiles&quot;: 1, &quot;currentPath&quot;: &quot;/cursos&quot;, &quot;initialFolder&quot;: &quot;5c0cf742cd404f8fa6a5567f5fe098d8&quot;, &quot;baseUrl&quot;: &quot;https://pythonista.io&quot;, &quot;uploadMultiple&quot;: false, &quot;relativePath&quot;: &quot;@@fileUpload&quot;, &quot;showTitle&quot;: false}, &quot;tiny&quot;: {&quot;templates&quot;: {}, &quot;content_css&quot;: &quot;https://pythonista.io/++plone++static/plone-compiled.css,https://pythonista.io/++plone++static/tinymce-styles.css,https://pythonista.io/++plone++static/components/tinymce-builded/js/tinymce/skins/lightgray/content.min.css,https://pythonista.io/++theme++my-theme/less/barceloneta-compiled.css&quot;, &quot;external_plugins&quot;: {}, &quot;plugins&quot;: [&quot;plonelink&quot;, &quot;ploneimage&quot;, &quot;importcss&quot;, &quot;advlist&quot;, &quot;fullscreen&quot;, &quot;hr&quot;, &quot;lists&quot;, &quot;media&quot;, &quot;nonbreaking&quot;, &quot;noneditable&quot;, &quot;pagebreak&quot;, &quot;paste&quot;, &quot;preview&quot;, &quot;print&quot;, &quot;searchreplace&quot;, &quot;tabfocus&quot;, &quot;table&quot;, &quot;visualchars&quot;, &quot;wordcount&quot;, &quot;code&quot;], &quot;toolbar&quot;: &quot;ltr rtl | undo redo | styleselect | bold italic | alignleft aligncenter alignright alignjustify | bullist numlist outdent indent | unlink plonelink ploneimage&quot;, &quot;menubar&quot;: [&quot;edit&quot;, &quot;table&quot;, &quot;format&quot;, &quot;toolsview&quot;, &quot;insert&quot;], &quot;importcss_file_filter&quot;: &quot;https://pythonista.io/++plone++static/tinymce-styles.css&quot;, &quot;menu&quot;: {&quot;insert&quot;: {&quot;items&quot;: &quot;link media | template hr&quot;, &quot;title&quot;: &quot;Insert&quot;}, &quot;format&quot;: {&quot;items&quot;: &quot;bold italic underline strikethrough superscript subscript | formats | removeformat&quot;, &quot;title&quot;: &quot;Format&quot;}, &quot;edit&quot;: {&quot;items&quot;: &quot;undo redo | cut copy paste pastetext | searchreplace textpattern selectall | textcolor&quot;, &quot;title&quot;: &quot;Edit&quot;}, &quot;table&quot;: {&quot;items&quot;: &quot;inserttable tableprops deletetable | cell row column&quot;, &quot;title&quot;: &quot;Table&quot;}, &quot;tools&quot;: {&quot;items&quot;: &quot;spellchecker charmap emoticons insertdatetime layer code&quot;, &quot;title&quot;: &quot;Tools&quot;}, &quot;view&quot;: {&quot;items&quot;: &quot;visualaid visualchars visualblocks preview fullpage fullscreen&quot;, &quot;title&quot;: &quot;View&quot;}}, &quot;browser_spellcheck&quot;: true, &quot;entity_encoding&quot;: &quot;raw&quot;, &quot;style_formats&quot;: [{&quot;items&quot;: [{&quot;title&quot;: &quot;Header 1&quot;, &quot;format&quot;: &quot;h1&quot;}, {&quot;title&quot;: &quot;Header 2&quot;, &quot;format&quot;: &quot;h2&quot;}, {&quot;title&quot;: &quot;Header 3&quot;, &quot;format&quot;: &quot;h3&quot;}, {&quot;title&quot;: &quot;Header 4&quot;, &quot;format&quot;: &quot;h4&quot;}, {&quot;title&quot;: &quot;Header 5&quot;, &quot;format&quot;: &quot;h5&quot;}, {&quot;title&quot;: &quot;Header 6&quot;, &quot;format&quot;: &quot;h6&quot;}], &quot;title&quot;: &quot;Headers&quot;}, {&quot;items&quot;: [{&quot;title&quot;: &quot;Paragraph&quot;, &quot;format&quot;: &quot;p&quot;}, {&quot;title&quot;: &quot;Blockquote&quot;, &quot;format&quot;: &quot;blockquote&quot;}, {&quot;title&quot;: &quot;Div&quot;, &quot;format&quot;: &quot;div&quot;}, {&quot;title&quot;: &quot;Pre&quot;, &quot;format&quot;: &quot;pre&quot;}], &quot;title&quot;: &quot;Block&quot;}, {&quot;items&quot;: [{&quot;title&quot;: &quot;Bold&quot;, &quot;icon&quot;: &quot;bold&quot;, &quot;format&quot;: &quot;bold&quot;}, {&quot;title&quot;: &quot;Italic&quot;, &quot;icon&quot;: &quot;italic&quot;, &quot;format&quot;: &quot;italic&quot;}, {&quot;title&quot;: &quot;Underline&quot;, &quot;icon&quot;: &quot;underline&quot;, &quot;format&quot;: &quot;underline&quot;}, {&quot;title&quot;: &quot;Strikethrough&quot;, &quot;icon&quot;: &quot;strikethrough&quot;, &quot;format&quot;: &quot;strikethrough&quot;}, {&quot;title&quot;: &quot;Superscript&quot;, &quot;icon&quot;: &quot;superscript&quot;, &quot;format&quot;: &quot;superscript&quot;}, {&quot;title&quot;: &quot;Subscript&quot;, &quot;icon&quot;: &quot;subscript&quot;, &quot;format&quot;: &quot;subscript&quot;}, {&quot;title&quot;: &quot;Code&quot;, &quot;icon&quot;: &quot;code&quot;, &quot;format&quot;: &quot;code&quot;}], &quot;title&quot;: &quot;Inline&quot;}, {&quot;items&quot;: [{&quot;title&quot;: &quot;Left&quot;, &quot;icon&quot;: &quot;alignleft&quot;, &quot;format&quot;: &quot;alignleft&quot;}, {&quot;title&quot;: &quot;Center&quot;, &quot;icon&quot;: &quot;aligncenter&quot;, &quot;format&quot;: &quot;aligncenter&quot;}, {&quot;title&quot;: &quot;Right&quot;, &quot;icon&quot;: &quot;alignright&quot;, &quot;format&quot;: &quot;alignright&quot;}, {&quot;title&quot;: &quot;Justify&quot;, &quot;icon&quot;: &quot;alignjustify&quot;, &quot;format&quot;: &quot;alignjustify&quot;}], &quot;title&quot;: &quot;Alignment&quot;}, {&quot;items&quot;: [{&quot;title&quot;: &quot;Listing&quot;, &quot;classes&quot;: &quot;listing&quot;, &quot;selector&quot;: &quot;table&quot;}], &quot;title&quot;: &quot;Tables&quot;}], &quot;resize&quot;: &quot;both&quot;, &quot;formats&quot;: {&quot;clearfix&quot;: {&quot;classes&quot;: &quot;clearfix&quot;, &quot;block&quot;: &quot;div&quot;}, &quot;discreet&quot;: {&quot;inline&quot;: &quot;span&quot;, &quot;classes&quot;: &quot;discreet&quot;}}, &quot;importcss_append&quot;: true}, &quot;base_url&quot;: &quot;https://pythonista.io/cursos&quot;}\" data-pat-markspeciallinks=\"{&quot;external_links_open_new_window&quot;: &quot;False&quot;,&quot;mark_special_links&quot;: &quot;True&quot;}\" data-portal-url=\"https://pythonista.io\" data-pat-pickadate=\"{&quot;date&quot;: {&quot;selectYears&quot;: 200}, &quot;time&quot;: {&quot;interval&quot;: 5 } }\" data-base-url=\"https://pythonista.io/cursos\"><div class=\"outer-wrapper\">\\n      <header id=\"content-header\">\\n        <div class=\"container\">\\n          \\n      <div id=\"portal-header\">\\n    <a id=\"portal-logo\" title=\"Pythonista\" href=\"https://pythonista.io\">\\n    <img src=\"https://pythonista.io/@@site-logo/pythonista-sitio.png\" alt=\"pythonista.mx\" title=\"pythonista.mx\" /></a>\\n\\n<div id=\"portal-searchbox\">\\n\\n    <form id=\"searchGadget_form\" action=\"https://pythonista.io/@@search\" role=\"search\" data-pat-livesearch=\"ajaxUrl:https://pythonista.io/@@ajax-search\" class=\"pat-livesearch\">\\n\\n        <div class=\"LSBox\">\\n        <label class=\"hiddenStructure\" for=\"searchGadget\">Buscar</label>\\n\\n        <input name=\"SearchableText\" type=\"text\" size=\"18\" id=\"searchGadget\" title=\"Buscar en el Sitio\" placeholder=\"Buscar en el Sitio\" class=\"searchField\" />\\n\\n        <input class=\"searchButton\" type=\"submit\" value=\"Buscar\" />\\n\\n        <div class=\"searchSection\">\\n            <input id=\"searchbox_currentfolder_only\" class=\"noborder\" type=\"checkbox\" name=\"path\" value=\"/pythonista.mx/cursos\" />\\n            <label for=\"searchbox_currentfolder_only\" style=\"cursor: pointer\">solo en la sección actual</label>\\n        </div>\\n        </div>\\n    </form>\\n\\n    <div id=\"portal-advanced-search\" class=\"hiddenStructure\">\\n        <a href=\"https://pythonista.io/@@search\">Búsqueda Avanzada…</a>\\n    </div>\\n\\n</div>\\n\\n<div id=\"portal-anontools\">\\n  <ul>\\n    <li>\\n      \\n          <a title=\"Entrar\" data-pat-plone-modal=\"{&quot;prependContent&quot;: &quot;.portalMessage&quot;, &quot;title&quot;: &quot;Log in&quot;, &quot;width&quot;: &quot;26em&quot;}\" id=\"personaltools-login\" href=\"https://pythonista.io/login\" class=\"pat-plone-modal\">Entrar</a>\\n      \\n    </li>\\n  </ul>\\n</div>\\n\\n\\n\\n</div>\\n\\n    \\n          \\n        </div>\\n      </header>\\n      <div id=\"mainnavigation-wrapper\">\\n        <div id=\"mainnavigation\">\\n\\n  <p class=\"hiddenStructure\">Navegación</p>\\n  <nav class=\"plone-navbar\" id=\"portal-globalnav-wrapper\">\\n    <div class=\"container\">\\n      <div class=\"plone-navbar-header\">\\n        <button type=\"button\" class=\"plone-navbar-toggle\" data-toggle=\"collapse\" data-target=\"#portal-globalnav-collapse\">\\n          <span class=\"sr-only\">Toggle navigation</span>\\n          <span class=\"icon-bar\"></span>\\n          <span class=\"icon-bar\"></span>\\n          <span class=\"icon-bar\"></span>\\n        </button>\\n      </div>\\n\\n      <div class=\"plone-collapse plone-navbar-collapse\" id=\"portal-globalnav-collapse\">\\n        <ul class=\"plone-nav plone-navbar-nav\" id=\"portal-globalnav\">\\n            \\n              <li id=\"portaltab-index_html\">\\n                  <a href=\"https://pythonista.io\" title=\"\">Inicio</a>\\n              </li>\\n            \\n              <li id=\"portaltab-events\">\\n                  <a href=\"https://pythonista.io/events\" title=\"Eventos del Sitio\">Eventos</a>\\n              </li>\\n            \\n              <li id=\"portaltab-cursos\" class=\"selected\">\\n                  <a href=\"https://pythonista.io/cursos\" title=\"Todos los contenidos de los cursos de Pythonista® están disponibles para su libre uso y distribución bajo la licencia CC-BY, incluyendo las notebooks de Jupyter que están en la sección de descargas de cada curso.\">Cursos</a>\\n              </li>\\n            \\n              <li id=\"portaltab-descargas\">\\n                  <a href=\"https://pythonista.io/descargas\" title=\"En esta sección podrás descargar las máquinas virtuales de Pythonista® con las herramientas y los contenidos  actualizados a tu disposición.  Los datos de acceso a los recursos de la VM (usuarios, rutas de los servicios habilitados, contraseñas, etc.) se pueden consultar en el apartado de Descripción de la propia máquina.\">Descargas</a>\\n              </li>\\n            \\n              <li id=\"portaltab-comunidades\">\\n                  <a href=\"https://pythonista.io/comunidades\" title=\"Espacio con ofertas exclusivas para nuestras comunidades aliadas.\">Comunidades</a>\\n              </li>\\n            \\n        </ul>\\n      </div>\\n    </div>\\n  </nav>\\n\\n\\n</div>\\n      </div>\\n      \\n      <div id=\"above-content-wrapper\">\\n          <section id=\"viewlet-above-content\"><nav id=\"portal-breadcrumbs\" class=\"plone-breadcrumb\">\\n  <div class=\"container\">\\n    <span id=\"breadcrumbs-you-are-here\" class=\"hiddenStructure\">Usted está aquí:</span>\\n    <ol aria-labelledby=\"breadcrumbs-you-are-here\">\\n      <li id=\"breadcrumbs-home\">\\n        <a href=\"https://pythonista.io\">Inicio</a>\\n      </li>\\n      <li id=\"breadcrumbs-1\">\\n        \\n          \\n          <span id=\"breadcrumbs-current\">Cursos</span>\\n        \\n      </li>\\n    </ol>\\n  </div>\\n</nav>\\n</section>\\n      </div>\\n      <div class=\"container\">\\n        <div class=\"row\">\\n          <aside id=\"global_statusmessage\">\\n      \\n\\n      <div>\\n      </div>\\n    </aside>\\n        </div>\\n        <main id=\"main-container\" class=\"row row-offcanvas row-offcanvas-right\">\\n          <div id=\"column1-container\">\\n          </div>\\n          \\n\\n    \\n\\n    <div class=\"col-xs-12 col-sm-12\">\\n      <div class=\"row\">\\n        <div class=\"col-xs-12 col-sm-12\">\\n          <article id=\"content\">\\n\\n          \\n\\n          <header>\\n            <div id=\"viewlet-above-content-title\"><span id=\"social-tags-body\" style=\"display: none\" itemscope=\"\" itemtype=\"http://schema.org/WebPage\">\\n  <span itemprop=\"name\">Cursos</span>\\n  <span itemprop=\"description\">Todos los contenidos de los cursos de Pythonista® están disponibles para su libre uso y distribución bajo la licencia CC-BY, incluyendo las notebooks de Jupyter que están en la sección de descargas de cada curso.</span>\\n  <span itemprop=\"url\">https://pythonista.io/cursos</span>\\n  <span itemprop=\"image\">https://pythonista.io/@@site-logo/pythonista-sitio.png</span>\\n</span>\\n</div>\\n            \\n                <h1 class=\"documentFirstHeading\">Cursos</h1>\\n            \\n            <div id=\"viewlet-below-content-title\"></div>\\n\\n            \\n                <div class=\"documentDescription description\">Todos los contenidos de los cursos de Pythonista® están disponibles para su libre uso y distribución bajo la licencia CC-BY, incluyendo las notebooks de Jupyter que están en la sección de descargas de cada curso.</div>\\n            \\n          </header>\\n\\n          <section id=\"viewlet-above-content-body\"></section>\\n          <section id=\"content-core\">\\n            \\n\\n\\n  \\n\\n  \\n    \\n      \\n        \\n    \\n            \\n              \\n\\n        <article class=\"tileItem\">\\n          <h2 class=\"tileHeadline\">\\n            <a class=\"summary url\" href=\"https://pythonista.io/cursos/py101\" title=\"Folder\">py101 Introducción a la programación con Python 3</a>\\n          </h2>\\n\\n          \\n                      <div class=\"documentByLine\">\\n                        \\n                        \\n                      </div>\\n                    \\n\\n          \\n\\n          <div class=\"tileBody\">\\n            <span class=\"description\">Curso de introducción a Python 3 en español.</span>\\n          </div>\\n\\n          <div class=\"tileFooter\">\\n            <a href=\"https://pythonista.io/cursos/py101\">Leer Más</a>\\n          </div>\\n\\n          <div class=\"visualClear\"><!-- --></div>\\n\\n        </article>\\n\\n      \\n            \\n          \\n            \\n              \\n\\n        <article class=\"tileItem\">\\n          <h2 class=\"tileHeadline\">\\n            <a class=\"summary url\" href=\"https://pythonista.io/cursos/py111\" title=\"Folder\">py111 Introducción a OOP con Python 3</a>\\n          </h2>\\n\\n          \\n                      <div class=\"documentByLine\">\\n                        \\n                        \\n                      </div>\\n                    \\n\\n          \\n\\n          <div class=\"tileBody\">\\n            <span class=\"description\">Curso introductorio de programación orientada a objetos con Python 3.</span>\\n          </div>\\n\\n          <div class=\"tileFooter\">\\n            <a href=\"https://pythonista.io/cursos/py111\">Leer Más</a>\\n          </div>\\n\\n          <div class=\"visualClear\"><!-- --></div>\\n\\n        </article>\\n\\n      \\n            \\n          \\n            \\n              \\n\\n        <article class=\"tileItem\">\\n          <h2 class=\"tileHeadline\">\\n            <a class=\"summary url\" href=\"https://pythonista.io/cursos/py121\" title=\"Folder\">py121 Introducción a manejo de datos con Python</a>\\n          </h2>\\n\\n          \\n                      <div class=\"documentByLine\">\\n                        \\n                        \\n                      </div>\\n                    \\n\\n          \\n\\n          \\n\\n          <div class=\"tileFooter\">\\n            <a href=\"https://pythonista.io/cursos/py121\">Leer Más</a>\\n          </div>\\n\\n          <div class=\"visualClear\"><!-- --></div>\\n\\n        </article>\\n\\n      \\n            \\n          \\n            \\n              \\n\\n        <article class=\"tileItem\">\\n          <h2 class=\"tileHeadline\">\\n            <a class=\"summary url\" href=\"https://pythonista.io/cursos/py201\" title=\"Folder\">py201 Introducción a desarrollo web con Flask</a>\\n          </h2>\\n\\n          \\n                      <div class=\"documentByLine\">\\n                        \\n                        \\n                      </div>\\n                    \\n\\n          \\n\\n          \\n\\n          <div class=\"tileFooter\">\\n            <a href=\"https://pythonista.io/cursos/py201\">Leer Más</a>\\n          </div>\\n\\n          <div class=\"visualClear\"><!-- --></div>\\n\\n        </article>\\n\\n      \\n            \\n          \\n  \\n\\n        \\n\\n    <!-- Navigation -->\\n\\n\\n  \\n\\n\\n\\n\\n\\n\\n      \\n\\n      \\n        \\n      \\n\\n    \\n  \\n\\n\\n\\n          </section>\\n          <section id=\"viewlet-below-content-body\">\\n\\n\\n\\n    <div class=\"visualClear\"><!-- --></div>\\n\\n    <div class=\"documentActions\">\\n        \\n\\n        \\n\\n    </div>\\n\\n</section>\\n\\n          \\n        </article>\\n        </div>\\n      </div>\\n      <footer class=\"row\">\\n        <div class=\"col-xs-12 col-sm-12\">\\n          <div id=\"viewlet-below-content\">\\n\\n\\n\\n\\n</div>\\n        </div>\\n      </footer>\\n    </div>\\n  \\n          <div id=\"column2-container\">\\n          </div>\\n        </main><!--/row-->\\n      </div><!--/container-->\\n    </div><!--/outer-wrapper --><footer id=\"portal-footer-wrapper\">\\n      <div class=\"container\" id=\"portal-footer\">\\n      <div class=\"row\">\\n\\t<div class=\"col-xs-12\">\\n\\t\\t\\n<div class=\"portletWrapper\" id=\"portletwrapper-706c6f6e652e666f6f746572706f72746c6574730a636f6e746578740a2f707974686f6e697374612e6d780a666f6f746572\" data-portlethash=\"706c6f6e652e666f6f746572706f72746c6574730a636f6e746578740a2f707974686f6e697374612e6d780a666f6f746572\">\\n\\n  \\n\\n  \\n    \\n\\n  <section class=\"portlet portletClassic\" id=\"portal-footer-signature\">\\n    <div class=\"portletContent\">\\n      El \\n           <a href=\"http://plone.com\">Plone<sup>®</sup> CMS/WCM de Fuentes Abiertos</a>\\n       es <abbr title=\"Copyright\">©</abbr> 2000-2019 por la \\n           <a href=\"http://plone.org/foundation\">Fundación Plone</a> y amigos.\\n\\n      Distribuido bajo la \\n                <a href=\"http://creativecommons.org/licenses/GPL/2.0/\">Licencia GNU GPL</a>\\n    </div>\\n  </section>\\n\\n\\n  \\n\\n</div>\\n\\n<div class=\"portletWrapper\" id=\"portletwrapper-706c6f6e652e666f6f746572706f72746c6574730a636f6e746578740a2f707974686f6e697374612e6d780a616374696f6e73\" data-portlethash=\"706c6f6e652e666f6f746572706f72746c6574730a636f6e746578740a2f707974686f6e697374612e6d780a616374696f6e73\">\\n\\n<section class=\"portlet portletActions\" role=\"menu\">\\n\\n  \\n  <section class=\"portletContent\">\\n    <ul>\\n      \\n        <li class=\"portletItem\">\\n          <a href=\"https://pythonista.io/sitemap\">\\n\\n            <span>Mapa del Sitio</span>\\n\\n            \\n\\n          </a>\\n        </li>\\n      \\n        <li class=\"portletItem\">\\n          <a href=\"https://pythonista.io/accessibility-info\">\\n\\n            <span>Accesibilidad</span>\\n\\n            \\n\\n          </a>\\n        </li>\\n      \\n        <li class=\"portletItem\">\\n          <a href=\"https://pythonista.io/contact-info\" class=\"pat-plone-modal\" data-pat-plone-modal=\"{}\">\\n\\n            <span>Contacto</span>\\n\\n            \\n\\n          </a>\\n        </li>\\n      \\n    </ul>\\n  </section>\\n</section>\\n\\n</div>\\n\\n<div class=\"portletWrapper\" id=\"portletwrapper-706c6f6e652e666f6f746572706f72746c6574730a636f6e746578740a2f707974686f6e697374612e6d780a636f6c6f70686f6e\" data-portlethash=\"706c6f6e652e666f6f746572706f72746c6574730a636f6e746578740a2f707974686f6e697374612e6d780a636f6c6f70686f6e\">\\n\\n  \\n\\n  \\n    \\n\\n  <section class=\"portlet portletClassic\" id=\"portal-colophon\">\\n    <div class=\"portletContent\">\\n      <a href=\"http://plone.com\" target=\"_blank\" title=\"Este sitio ha sido construido usando el CMS/WCM de Fuentes Abiertos Plone.\">Powered by Plone &amp; Python</a>\\n    </div>\\n  </section>\\n\\n\\n  \\n\\n</div>\\n\\n\\n\\t</div>\\n</div>\\n\\n<script>\\n  (function(i,s,o,g,r,a,m){i[\\'GoogleAnalyticsObject\\']=r;i[r]=i[r]||function(){\\n  (i[r].q=i[r].q||[]).push(arguments)},i[r].l=1*new Date();a=s.createElement(o),\\n  m=s.getElementsByTagName(o)[0];a.async=1;a.src=g;m.parentNode.insertBefore(a,m)\\n  })(window,document,\\'script\\',\\'https://www.google-analytics.com/analytics.js\\',\\'ga\\');\\n\\n  ga(\\'create\\', \\'UA-100381738-1\\', \\'auto\\');\\n  ga(\\'send\\', \\'pageview\\');\\n\\n</script>\\n    </div>\\n    </footer></body>\\n</html>'"
      ]
     },
     "execution_count": 14,
     "metadata": {},
     "output_type": "execute_result"
    }
   ],
   "source": [
    "sitio.text"
   ]
  },
  {
   "cell_type": "code",
   "execution_count": 18,
   "metadata": {},
   "outputs": [],
   "source": [
    "sitio.close()"
   ]
  },
  {
   "cell_type": "markdown",
   "metadata": {},
   "source": [
    "**Ejemplo:**\n",
    "\n",
    "Se utilizará la función *requests.get()* en la URL https://pythonista.mx/cur (la cual no existe) para abir una conexión enviando una petición *GET*. Se desplegarán los siguientes datos guardados en el objeto resultante.\n",
    "\n",
    "* El mensaje de estado resultante contenido en *sitio.status_code*.\n",
    "* El contenido del atributo *sitio.content*. En este caso, un mensaje de error.\n",
    "\n",
    "En este caso se utilizará la declaración *with* para cerrar la conexión ta pronto se ejecute el bloque de código  inscrito."
   ]
  },
  {
   "cell_type": "code",
   "execution_count": 26,
   "metadata": {},
   "outputs": [],
   "source": [
    "def get_url(url):\n",
    "    with requests.get(url) as sitio:\n",
    "        return sitio.status_code, sitio.content"
   ]
  },
  {
   "cell_type": "code",
   "execution_count": 28,
   "metadata": {},
   "outputs": [
    {
     "data": {
      "text/plain": [
       "(200,\n",
       " b'<!DOCTYPE html>\\n<html xmlns=\"http://www.w3.org/1999/xhtml\" lang=\"es\" xml:lang=\"es\">\\n  <head><meta http-equiv=\"Content-Type\" content=\"text/html; charset=UTF-8\" />\\n      \\n    <title>Bienvenidos pythonistas \\xe2\\x80\\x94 Pythonista</title>\\n    <!--\\n    <link rel=\"shortcut icon\" type=\"image/x-icon\"\\n          href=\"barceloneta-favicon.ico\" />\\n    <link rel=\"apple-touch-icon\"\\n          href=\"barceloneta-apple-touch-icon.png\" />\\n    <link rel=\"apple-touch-icon-precomposed\" sizes=\"144x144\"\\n          href=\"barceloneta-apple-touch-icon-144x144-precomposed.png\" />\\n    <link rel=\"apple-touch-icon-precomposed\" sizes=\"114x114\"\\n          href=\"barceloneta-apple-touch-icon-114x114-precomposed.png\" />\\n    <link rel=\"apple-touch-icon-precomposed\" sizes=\"72x72\"\\n          href=\"barceloneta-apple-touch-icon-72x72-precomposed.png\" />\\n    <link rel=\"apple-touch-icon-precomposed\" sizes=\"57x57\"\\n          href=\"barceloneta-apple-touch-icon-57x57-precomposed.png\" />\\n    <link rel=\"apple-touch-icon-precomposed\"\\n          href=\"barceloneta-apple-touch-icon-precomposed.png\" />\\n          -->\\n          \\n<link rel=\"apple-touch-icon\" sizes=\"57x57\" href=\"/apple-icon-57x57.png\" />\\n<link rel=\"apple-touch-icon\" sizes=\"60x60\" href=\"/apple-icon-60x60.png\" />\\n<link rel=\"apple-touch-icon\" sizes=\"72x72\" href=\"/apple-icon-72x72.png\" />\\n<link rel=\"apple-touch-icon\" sizes=\"76x76\" href=\"/apple-icon-76x76.png\" />\\n<link rel=\"apple-touch-icon\" sizes=\"114x114\" href=\"/apple-icon-114x114.png\" />\\n<link rel=\"apple-touch-icon\" sizes=\"120x120\" href=\"/apple-icon-120x120.png\" />\\n<link rel=\"apple-touch-icon\" sizes=\"144x144\" href=\"/apple-icon-144x144.png\" />\\n<link rel=\"apple-touch-icon\" sizes=\"152x152\" href=\"/apple-icon-152x152.png\" />\\n<link rel=\"apple-touch-icon\" sizes=\"180x180\" href=\"/apple-icon-180x180.png\" />\\n<link rel=\"icon\" type=\"image/png\" sizes=\"192x192\" href=\"/android-icon-192x192.png\" />\\n<link rel=\"icon\" type=\"image/png\" sizes=\"32x32\" href=\"/favicon-32x32.png\" />\\n<link rel=\"icon\" type=\"image/png\" sizes=\"96x96\" href=\"/favicon-96x96.png\" />\\n<link rel=\"icon\" type=\"image/png\" sizes=\"16x16\" href=\"/favicon-16x16.png\" />\\n<link rel=\"shortcut icon\" type=\"image/x-icon\" href=\"/++theme++my-theme/favicon.ico\" />\\n\\n  <meta name=\"description\" content=\"Un espacio para los entusiastas de Python de habla hispana.\" /><meta content=\"summary\" name=\"twitter:card\" /><meta content=\"Bienvenidos pythonistas\" name=\"twitter:title\" /><meta content=\"pythonista.mx\" property=\"og:site_name\" /><meta content=\"Bienvenidos pythonistas\" property=\"og:title\" /><meta content=\"website\" property=\"og:type\" /><meta content=\"@pythonistamx\" name=\"twitter:site\" /><meta content=\"https://www.facebook.com/pythonistamx\" property=\"og:article:publisher\" /><meta content=\"Un espacio para los entusiastas de Python de habla hispana.\" name=\"twitter:description\" /><meta content=\"https://pythonista.io/front-page\" name=\"twitter:url\" /><meta content=\"Un espacio para los entusiastas de Python de habla hispana.\" property=\"og:description\" /><meta content=\"https://pythonista.io/front-page\" property=\"og:url\" /><meta content=\"https://pythonista.io/@@site-logo/pythonista-sitio.png\" name=\"twitter:image\" /><meta content=\"https://pythonista.io/@@site-logo/pythonista-sitio.png\" property=\"og:image\" /><meta content=\"image/png\" property=\"og:image:type\" /><meta name=\"viewport\" content=\"width=device-width, initial-scale=1.0\" /><meta name=\"generator\" content=\"Plone - http://plone.com\" /><link rel=\"canonical\" href=\"https://pythonista.io\" /><link rel=\"alternate\" href=\"https://pythonista.io/RSS\" title=\"Pythonista - RSS 1.0\" type=\"application/rss+xml\" /><link rel=\"alternate\" href=\"https://pythonista.io/rss.xml\" title=\"Pythonista - RSS 2.0\" type=\"application/rss+xml\" /><link rel=\"alternate\" href=\"https://pythonista.io/atom.xml\" title=\"Pythonista - Atom\" type=\"application/rss+xml\" /><link rel=\"search\" href=\"https://pythonista.io/@@search\" title=\"Buscar en este sitio\" /><link rel=\"stylesheet\" type=\"text/css\" href=\"https://pythonista.io/++plone++production/++unique++2017-09-07T14:55:07.424118/default.css\" data-bundle=\"production\" /><link rel=\"stylesheet\" type=\"text/css\" href=\"https://pythonista.io//++theme++my-theme/less/barceloneta-compiled.css\" data-bundle=\"diazo\" /><script type=\"text/javascript\">PORTAL_URL = \\'https://pythonista.io\\';</script><script type=\"text/javascript\" src=\"https://pythonista.io/++plone++production/++unique++2017-09-07T14:55:07.424118/default.js\" data-bundle=\"production\"></script></head>\\n  <body id=\"visual-portal-wrapper\" class=\"template-document_view portaltype-document site-pythonista.mx section-front-page icons-on thumbs-on frontend viewpermission-view userrole-anonymous pat-markspeciallinks\" dir=\"ltr\" data-i18ncatalogurl=\"https://pythonista.io/plonejsi18n\" data-pat-plone-modal=\"{&quot;actionOptions&quot;: {&quot;displayInModal&quot;: false}}\" data-view-url=\"https://pythonista.io/front-page\" data-pat-tinymce=\"{&quot;loadingBaseUrl&quot;: &quot;https://pythonista.io/++plone++static/components/tinymce-builded/js/tinymce&quot;, &quot;relatedItems&quot;: {&quot;sort_order&quot;: &quot;ascending&quot;, &quot;vocabularyUrl&quot;: &quot;https://pythonista.io/@@getVocabulary?name=plone.app.vocabularies.Catalog&quot;, &quot;sort_on&quot;: &quot;sortable_title&quot;, &quot;folderTypes&quot;: [&quot;Folder&quot;, &quot;Large Plone Folder&quot;, &quot;Plone Site&quot;], &quot;rootPath&quot;: &quot;/pythonista.mx&quot;}, &quot;prependToScalePart&quot;: &quot;/@@images/image/&quot;, &quot;linkAttribute&quot;: &quot;UID&quot;, &quot;prependToUrl&quot;: &quot;/resolveuid/&quot;, &quot;imageTypes&quot;: [&quot;Image&quot;], &quot;upload&quot;: {&quot;maxFiles&quot;: 1, &quot;currentPath&quot;: &quot;&quot;, &quot;initialFolder&quot;: null, &quot;baseUrl&quot;: &quot;https://pythonista.io&quot;, &quot;uploadMultiple&quot;: false, &quot;relativePath&quot;: &quot;@@fileUpload&quot;, &quot;showTitle&quot;: false}, &quot;tiny&quot;: {&quot;templates&quot;: {}, &quot;content_css&quot;: &quot;https://pythonista.io/++plone++static/plone-compiled.css,https://pythonista.io/++plone++static/tinymce-styles.css,https://pythonista.io/++plone++static/components/tinymce-builded/js/tinymce/skins/lightgray/content.min.css,https://pythonista.io/++theme++my-theme/less/barceloneta-compiled.css&quot;, &quot;external_plugins&quot;: {}, &quot;plugins&quot;: [&quot;plonelink&quot;, &quot;ploneimage&quot;, &quot;importcss&quot;, &quot;advlist&quot;, &quot;fullscreen&quot;, &quot;hr&quot;, &quot;lists&quot;, &quot;media&quot;, &quot;nonbreaking&quot;, &quot;noneditable&quot;, &quot;pagebreak&quot;, &quot;paste&quot;, &quot;preview&quot;, &quot;print&quot;, &quot;searchreplace&quot;, &quot;tabfocus&quot;, &quot;table&quot;, &quot;visualchars&quot;, &quot;wordcount&quot;, &quot;code&quot;], &quot;toolbar&quot;: &quot;ltr rtl | undo redo | styleselect | bold italic | alignleft aligncenter alignright alignjustify | bullist numlist outdent indent | unlink plonelink ploneimage&quot;, &quot;menubar&quot;: [&quot;edit&quot;, &quot;table&quot;, &quot;format&quot;, &quot;toolsview&quot;, &quot;insert&quot;], &quot;importcss_file_filter&quot;: &quot;https://pythonista.io/++plone++static/tinymce-styles.css&quot;, &quot;menu&quot;: {&quot;insert&quot;: {&quot;items&quot;: &quot;link media | template hr&quot;, &quot;title&quot;: &quot;Insert&quot;}, &quot;format&quot;: {&quot;items&quot;: &quot;bold italic underline strikethrough superscript subscript | formats | removeformat&quot;, &quot;title&quot;: &quot;Format&quot;}, &quot;edit&quot;: {&quot;items&quot;: &quot;undo redo | cut copy paste pastetext | searchreplace textpattern selectall | textcolor&quot;, &quot;title&quot;: &quot;Edit&quot;}, &quot;table&quot;: {&quot;items&quot;: &quot;inserttable tableprops deletetable | cell row column&quot;, &quot;title&quot;: &quot;Table&quot;}, &quot;tools&quot;: {&quot;items&quot;: &quot;spellchecker charmap emoticons insertdatetime layer code&quot;, &quot;title&quot;: &quot;Tools&quot;}, &quot;view&quot;: {&quot;items&quot;: &quot;visualaid visualchars visualblocks preview fullpage fullscreen&quot;, &quot;title&quot;: &quot;View&quot;}}, &quot;browser_spellcheck&quot;: true, &quot;entity_encoding&quot;: &quot;raw&quot;, &quot;style_formats&quot;: [{&quot;items&quot;: [{&quot;title&quot;: &quot;Header 1&quot;, &quot;format&quot;: &quot;h1&quot;}, {&quot;title&quot;: &quot;Header 2&quot;, &quot;format&quot;: &quot;h2&quot;}, {&quot;title&quot;: &quot;Header 3&quot;, &quot;format&quot;: &quot;h3&quot;}, {&quot;title&quot;: &quot;Header 4&quot;, &quot;format&quot;: &quot;h4&quot;}, {&quot;title&quot;: &quot;Header 5&quot;, &quot;format&quot;: &quot;h5&quot;}, {&quot;title&quot;: &quot;Header 6&quot;, &quot;format&quot;: &quot;h6&quot;}], &quot;title&quot;: &quot;Headers&quot;}, {&quot;items&quot;: [{&quot;title&quot;: &quot;Paragraph&quot;, &quot;format&quot;: &quot;p&quot;}, {&quot;title&quot;: &quot;Blockquote&quot;, &quot;format&quot;: &quot;blockquote&quot;}, {&quot;title&quot;: &quot;Div&quot;, &quot;format&quot;: &quot;div&quot;}, {&quot;title&quot;: &quot;Pre&quot;, &quot;format&quot;: &quot;pre&quot;}], &quot;title&quot;: &quot;Block&quot;}, {&quot;items&quot;: [{&quot;title&quot;: &quot;Bold&quot;, &quot;icon&quot;: &quot;bold&quot;, &quot;format&quot;: &quot;bold&quot;}, {&quot;title&quot;: &quot;Italic&quot;, &quot;icon&quot;: &quot;italic&quot;, &quot;format&quot;: &quot;italic&quot;}, {&quot;title&quot;: &quot;Underline&quot;, &quot;icon&quot;: &quot;underline&quot;, &quot;format&quot;: &quot;underline&quot;}, {&quot;title&quot;: &quot;Strikethrough&quot;, &quot;icon&quot;: &quot;strikethrough&quot;, &quot;format&quot;: &quot;strikethrough&quot;}, {&quot;title&quot;: &quot;Superscript&quot;, &quot;icon&quot;: &quot;superscript&quot;, &quot;format&quot;: &quot;superscript&quot;}, {&quot;title&quot;: &quot;Subscript&quot;, &quot;icon&quot;: &quot;subscript&quot;, &quot;format&quot;: &quot;subscript&quot;}, {&quot;title&quot;: &quot;Code&quot;, &quot;icon&quot;: &quot;code&quot;, &quot;format&quot;: &quot;code&quot;}], &quot;title&quot;: &quot;Inline&quot;}, {&quot;items&quot;: [{&quot;title&quot;: &quot;Left&quot;, &quot;icon&quot;: &quot;alignleft&quot;, &quot;format&quot;: &quot;alignleft&quot;}, {&quot;title&quot;: &quot;Center&quot;, &quot;icon&quot;: &quot;aligncenter&quot;, &quot;format&quot;: &quot;aligncenter&quot;}, {&quot;title&quot;: &quot;Right&quot;, &quot;icon&quot;: &quot;alignright&quot;, &quot;format&quot;: &quot;alignright&quot;}, {&quot;title&quot;: &quot;Justify&quot;, &quot;icon&quot;: &quot;alignjustify&quot;, &quot;format&quot;: &quot;alignjustify&quot;}], &quot;title&quot;: &quot;Alignment&quot;}, {&quot;items&quot;: [{&quot;title&quot;: &quot;Listing&quot;, &quot;classes&quot;: &quot;listing&quot;, &quot;selector&quot;: &quot;table&quot;}], &quot;title&quot;: &quot;Tables&quot;}], &quot;resize&quot;: &quot;both&quot;, &quot;formats&quot;: {&quot;clearfix&quot;: {&quot;classes&quot;: &quot;clearfix&quot;, &quot;block&quot;: &quot;div&quot;}, &quot;discreet&quot;: {&quot;inline&quot;: &quot;span&quot;, &quot;classes&quot;: &quot;discreet&quot;}}, &quot;importcss_append&quot;: true}, &quot;base_url&quot;: &quot;https://pythonista.io/front-page&quot;}\" data-pat-markspeciallinks=\"{&quot;external_links_open_new_window&quot;: &quot;False&quot;,&quot;mark_special_links&quot;: &quot;True&quot;}\" data-portal-url=\"https://pythonista.io\" data-pat-pickadate=\"{&quot;date&quot;: {&quot;selectYears&quot;: 200}, &quot;time&quot;: {&quot;interval&quot;: 5 } }\" data-base-url=\"https://pythonista.io/front-page\"><div class=\"outer-wrapper\">\\n      <header id=\"content-header\">\\n        <div class=\"container\">\\n          \\n      <div id=\"portal-header\">\\n    <a id=\"portal-logo\" title=\"Pythonista\" href=\"https://pythonista.io\">\\n    <img src=\"https://pythonista.io/@@site-logo/pythonista-sitio.png\" alt=\"pythonista.mx\" title=\"pythonista.mx\" /></a>\\n\\n<div id=\"portal-searchbox\">\\n\\n    <form id=\"searchGadget_form\" action=\"https://pythonista.io/@@search\" role=\"search\" data-pat-livesearch=\"ajaxUrl:https://pythonista.io/@@ajax-search\" class=\"pat-livesearch\">\\n\\n        <div class=\"LSBox\">\\n        <label class=\"hiddenStructure\" for=\"searchGadget\">Buscar</label>\\n\\n        <input name=\"SearchableText\" type=\"text\" size=\"18\" id=\"searchGadget\" title=\"Buscar en el Sitio\" placeholder=\"Buscar en el Sitio\" class=\"searchField\" />\\n\\n        <input class=\"searchButton\" type=\"submit\" value=\"Buscar\" />\\n\\n        <div class=\"searchSection\">\\n            <input id=\"searchbox_currentfolder_only\" class=\"noborder\" type=\"checkbox\" name=\"path\" value=\"/pythonista.mx\" />\\n            <label for=\"searchbox_currentfolder_only\" style=\"cursor: pointer\">solo en la secci\\xc3\\xb3n actual</label>\\n        </div>\\n        </div>\\n    </form>\\n\\n    <div id=\"portal-advanced-search\" class=\"hiddenStructure\">\\n        <a href=\"https://pythonista.io/@@search\">B\\xc3\\xbasqueda Avanzada\\xe2\\x80\\xa6</a>\\n    </div>\\n\\n</div>\\n\\n<div id=\"portal-anontools\">\\n  <ul>\\n    <li>\\n      \\n          <a title=\"Entrar\" data-pat-plone-modal=\"{&quot;prependContent&quot;: &quot;.portalMessage&quot;, &quot;title&quot;: &quot;Log in&quot;, &quot;width&quot;: &quot;26em&quot;}\" id=\"personaltools-login\" href=\"https://pythonista.io/login\" class=\"pat-plone-modal\">Entrar</a>\\n      \\n    </li>\\n  </ul>\\n</div>\\n\\n\\n\\n</div>\\n\\n    \\n          \\n        </div>\\n      </header>\\n      <div id=\"mainnavigation-wrapper\">\\n        <div id=\"mainnavigation\">\\n\\n  <p class=\"hiddenStructure\">Navegaci\\xc3\\xb3n</p>\\n  <nav class=\"plone-navbar\" id=\"portal-globalnav-wrapper\">\\n    <div class=\"container\">\\n      <div class=\"plone-navbar-header\">\\n        <button type=\"button\" class=\"plone-navbar-toggle\" data-toggle=\"collapse\" data-target=\"#portal-globalnav-collapse\">\\n          <span class=\"sr-only\">Toggle navigation</span>\\n          <span class=\"icon-bar\"></span>\\n          <span class=\"icon-bar\"></span>\\n          <span class=\"icon-bar\"></span>\\n        </button>\\n      </div>\\n\\n      <div class=\"plone-collapse plone-navbar-collapse\" id=\"portal-globalnav-collapse\">\\n        <ul class=\"plone-nav plone-navbar-nav\" id=\"portal-globalnav\">\\n            \\n              <li id=\"portaltab-index_html\" class=\"selected\">\\n                  <a href=\"https://pythonista.io\" title=\"\">Inicio</a>\\n              </li>\\n            \\n              <li id=\"portaltab-events\">\\n                  <a href=\"https://pythonista.io/events\" title=\"Eventos del Sitio\">Eventos</a>\\n              </li>\\n            \\n              <li id=\"portaltab-cursos\">\\n                  <a href=\"https://pythonista.io/cursos\" title=\"Todos los contenidos de los cursos de Pythonista\\xc2\\xae est\\xc3\\xa1n disponibles para su libre uso y distribuci\\xc3\\xb3n bajo la licencia CC-BY, incluyendo las notebooks de Jupyter que est\\xc3\\xa1n en la secci\\xc3\\xb3n de descargas de cada curso.\">Cursos</a>\\n              </li>\\n            \\n              <li id=\"portaltab-descargas\">\\n                  <a href=\"https://pythonista.io/descargas\" title=\"En esta secci\\xc3\\xb3n podr\\xc3\\xa1s descargar las m\\xc3\\xa1quinas virtuales de Pythonista\\xc2\\xae con las herramientas y los contenidos  actualizados a tu disposici\\xc3\\xb3n.  Los datos de acceso a los recursos de la VM (usuarios, rutas de los servicios habilitados, contrase\\xc3\\xb1as, etc.) se pueden consultar en el apartado de Descripci\\xc3\\xb3n de la propia m\\xc3\\xa1quina.\">Descargas</a>\\n              </li>\\n            \\n              <li id=\"portaltab-comunidades\">\\n                  <a href=\"https://pythonista.io/comunidades\" title=\"Espacio con ofertas exclusivas para nuestras comunidades aliadas.\">Comunidades</a>\\n              </li>\\n            \\n        </ul>\\n      </div>\\n    </div>\\n  </nav>\\n\\n\\n</div>\\n      </div>\\n      \\n      <div id=\"above-content-wrapper\">\\n          <section id=\"viewlet-above-content\"><nav id=\"portal-breadcrumbs\" class=\"plone-breadcrumb\">\\n  <div class=\"container\">\\n    <span id=\"breadcrumbs-you-are-here\" class=\"hiddenStructure\">Usted est\\xc3\\xa1 aqu\\xc3\\xad:</span>\\n    <ol aria-labelledby=\"breadcrumbs-you-are-here\">\\n      <li id=\"breadcrumbs-home\">\\n        <a href=\"https://pythonista.io\">Inicio</a>\\n      </li>\\n      \\n    </ol>\\n  </div>\\n</nav>\\n</section>\\n      </div>\\n      <div class=\"container\">\\n        <div class=\"row\">\\n          <aside id=\"global_statusmessage\">\\n      \\n\\n      <div>\\n      </div>\\n    </aside>\\n        </div>\\n        <main id=\"main-container\" class=\"row row-offcanvas row-offcanvas-right\">\\n          <div id=\"column1-container\">\\n          </div>\\n          \\n\\n    \\n\\n    <div class=\"col-xs-12 col-sm-9\">\\n      <div class=\"row\">\\n        <div class=\"col-xs-12 col-sm-12\">\\n          <article id=\"content\">\\n\\n          \\n\\n          <header>\\n            <div id=\"viewlet-above-content-title\"><span id=\"social-tags-body\" style=\"display: none\" itemscope=\"\" itemtype=\"http://schema.org/WebPage\">\\n  <span itemprop=\"name\">Bienvenidos pythonistas</span>\\n  <span itemprop=\"description\">Un espacio para los entusiastas de Python de habla hispana.</span>\\n  <span itemprop=\"url\">https://pythonista.io/front-page</span>\\n  <span itemprop=\"image\">https://pythonista.io/@@site-logo/pythonista-sitio.png</span>\\n</span>\\n</div>\\n            \\n                <h1 class=\"documentFirstHeading\">Bienvenidos pythonistas</h1>\\n            \\n            <div id=\"viewlet-below-content-title\"></div>\\n\\n            \\n                <div class=\"documentDescription description\">Un espacio para los entusiastas de Python de habla hispana.</div>\\n            \\n          </header>\\n\\n          <section id=\"viewlet-above-content-body\">\\n</section>\\n          <section id=\"content-core\">\\n            \\n\\n  <div id=\"parent-fieldname-text\" class=\"\"><p>\\xc2\\xa0</p>\\n<p><a href=\"https://www.python.org/\" data-linktype=\"external\" data-val=\"https://www.python.org/\">Python</a> es uno de los lenguajes de programaci\\xc3\\xb3n \\xc2\\xa0<a href=\"https://www.tiobe.com/tiobe-index/\" target=\"_blank\" data-linktype=\"external\" data-val=\"https://www.tiobe.com/tiobe-index/\">m\\xc3\\xa1s populares</a> actualmente.</p>\\n<p>Al ser un lenguaje de prop\\xc3\\xb3sito general, puede ser utilizado en pr\\xc3\\xa1cticamente cualquier tipo de aplicaci\\xc3\\xb3n imaginable. Su versatilidad permite ejecutar c\\xc3\\xb3digo desde un modesto <a href=\"https://micropython.org/\" target=\"_blank\" data-linktype=\"external\" data-val=\"https://micropython.org/\">dispositivo de IoT</a>, hasta en un cluster conformado por<a href=\"https://docs.openstack.org/user-guide/sdk.html\" data-linktype=\"external\" data-val=\"https://docs.openstack.org/user-guide/sdk.html\"> cientos de servidores</a>.\\xc2\\xa0</p>\\n<p style=\"text-align: center;\"><br /><img src=\"https://pythonista.io/imagenes/pythonista-logo-chico.png/@@images/f49862d4-eea0-4dce-95ac-593372354ff3.png\" data-linktype=\"image\" title=\"pythonista-logo-chico.png\" data-val=\"59bee20fa3c6401aa857d9d6861d555c\" height=\"180\" width=\"184\" alt=\"pythonista-logo-chico.png\" data-scale=\"large\" class=\"image-inline\" />\\xc2\\xa0\\xc2\\xa0</p>\\n<p>\\xc2\\xa0</p>\\n<p>El t\\xc3\\xa9rmino \"Pythonista\" se refiere a aquel programador que es eficaz en el uso de las particularidades de Python.</p>\\n<h2>\\xc2\\xbfQu\\xc3\\xa9 hacemos?\\xc2\\xa0</h2>\\n<p>Pythonista\\xc2\\xae es un esfuerzo para fortalecer a la cada vez m\\xc3\\xa1s extensa comunidad de pythonistas novatos y expertos de habla hispana mediante la realizaci\\xc3\\xb3n de:</p>\\n<ul>\\n<li>Eventos, tales como<a href=\"https://www.meetup.com/es-ES/pythonistamx/\" target=\"_blank\" data-linktype=\"external\" data-val=\"https://www.meetup.com/es-ES/pythonistamx/\"> los Meetups</a> que se realizan peri\\xc3\\xb3dicamente en la Ciudad de M\\xc3\\xa9xico.</li>\\n<li>Capacitaci\\xc3\\xb3n presencial y en l\\xc3\\xadnea.</li>\\n<li>Apoyo a las comunidades hermanas de pythonistas y programadores en general.</li>\\n<li>Publicaci\\xc3\\xb3n de ofertas de empleo.</li>\\n<li>Apoyamos a las escuelas ofreciendo cursos a precios preferenciales e incluso gratuitos a grupos de alumnos.</li>\\n</ul>\\n<p>Esta es tu comunidad y estamos felices de darte la bienvenida.</p>\\n<h2>Nuestro curso de Python 3 desde cero.</h2>\\n<p>Si acabas de acercarte a Python, te recomendamos que explores nuestro <a data-val=\"811a6cbfd1404ec5802d63f610823720\" href=\"https://pythonista.io/cursos/py101\" data-linktype=\"internal\">Curso de Introducci\\xc3\\xb3n a Python\\xc2\\xa0</a>en donde encontrar\\xc3\\xa1s recursos de aprendizaje junto con<a data-val=\"b52ec2e9e740402487b5391d7e96b83e\" href=\"https://pythonista.io/cursos/py101/descargas/py101\" data-linktype=\"internal\"> apuntes interactivos</a>, los cuales consisten en notebooks de <a href=\"https://jupyter.org\" target=\"_blank\" data-linktype=\"external\" data-val=\"https://jupyter.org\">Jupyter</a> que incluyen los apuntes con el c\\xc3\\xb3digo ejecutable.</p>\\n<h3>Accede mediante Microsoft Azure Notebooks.</h3>\\n<p>Hemos puesto a tu disposici\\xc3\\xb3n todas las notebooks del curso en<a href=\"https://notebooks.azure.com/josech/libraries/josechpy101\" target=\"_blank\" data-linktype=\"external\" data-val=\"https://notebooks.azure.com/josech/libraries/josechpy101\"> esta direcci\\xc3\\xb3n</a>. Si tienes una cuenta de Microsoft (Hotmail, Outlook, etc.), puedes acceder y ejecutar las notebooks totalmente en l\\xc3\\xadnea.</p>\\n<h3>Descarga Anaconda.</h3>\\n<p>Jupyter es un servidor de notebooks interactivas que puede ser desplegado mediante un servidor web local. Si no eres usuario experto, te recomendamos descargar e instalar\\xc2\\xa0<a href=\"https://www.continuum.io/downloads\" target=\"_blank\" data-linktype=\"external\" data-val=\"https://www.continuum.io/downloads\">Anaconda</a>,\\xc2\\xa0una distribuci\\xc3\\xb3n de Python f\\xc3\\xa1cil de instalar tanto en Windows como en MacOS X y Linux, la cual incluye entre otras cosas un servidor de Jupyter. Los apuntes fueron dise\\xc3\\xb1ados para Python 3, as\\xc3\\xad que es importante que descargues la versi\\xc3\\xb3n para Python 3.6 o superior.</p>\\n<h2>Nuestras m\\xc3\\xa1quinas virtuales.</h2>\\n<p>Existe la problem\\xc3\\xa1tica de que los entornos para la ejecuci\\xc3\\xb3n de las notebooks de los cursos Pythonista\\xc2\\xae son muy heterog\\xc3\\xa9neas. Es por eso por lo que hemos publicado m\\xc3\\xa1quinas virtuales compatibles con <a href=\"https://www.virtualbox.org/\" target=\"_blank\" data-linktype=\"external\" data-val=\"https://www.virtualbox.org/\">Virtualbox,</a> las cuales incluyen un servidor Jupyter habilitado as\\xc3\\xad como los contenidos m\\xc3\\xa1s actualizados de nuestros cursos. Las m\\xc3\\xa1quinas virtuales est\\xc3\\xa1n configuradas de tal forma que s\\xc3\\xb3lo es necesario iniciarla y el resto de las operaciones se realizan desde el navegador de tu sistema de escritorio.</p>\\n<p>Puedes ver nuestras m\\xc3\\xa1quinas virtuales en el apartado de <a data-val=\"62a42b402c364e9998865b3172d5f3d3\" href=\"https://pythonista.io/descargas\" data-linktype=\"internal\" target=\"_blank\">descargas</a>.</p>\\n<h2>\\xc2\\xa0Nuestro canal de Youtube.</h2>\\n<p>Tambi\\xc3\\xa9n tenemos a tu disposici\\xc3\\xb3n nuestro canal de <a href=\"https://www.youtube.com/channel/UC3Duqqwvu-wppF-1IkLx94w\" target=\"_blank\" data-linktype=\"external\" data-val=\"https://www.youtube.com/channel/UC3Duqqwvu-wppF-1IkLx94w\">Youtube.</a></p>\\n<h2>\\xc2\\xa0Nuestro repositorio de Github.</h2>\\n<p>La totalidad del c\\xc3\\xb3digo fuente de nuestros contenidos y desarrollos est\\xc3\\xa1 disponible en <a href=\"https://github.com/pythonistamx\" target=\"_blank\" data-linktype=\"external\" data-val=\"https://github.com/pythonistamx\">https://github.com/pythonistamx</a>.</p>\\n<h2>Queremos saber de ti.</h2>\\n<p>\\xc2\\xa0Si deseas ponerte en contacto para colaborar, \\xc2\\xa0preguntar o charlar, por favor usa <a data-val=\"http://pythonista.mx/contact-info\" href=\"https://pythonista.io/../contact-info\" data-linktype=\"external\" title=\"Contacto\">nuestra forma de contacto</a></p></div>\\n\\n\\n          </section>\\n          <section id=\"viewlet-below-content-body\">\\n\\n\\n\\n    <div class=\"visualClear\"><!-- --></div>\\n\\n    <div class=\"documentActions\">\\n        \\n\\n        \\n\\n    </div>\\n\\n</section>\\n\\n          \\n        </article>\\n        </div>\\n      </div>\\n      <footer class=\"row\">\\n        <div class=\"col-xs-12 col-sm-12\">\\n          <div id=\"viewlet-below-content\">\\n\\n\\n\\n\\n</div>\\n        </div>\\n      </footer>\\n    </div>\\n  \\n          <div class=\"col-xs-6 col-sm-3 sidebar-offcanvas\" role=\"complementary\">\\n        <aside id=\"portal-column-two\">\\n          <div class=\"portletWrapper\" id=\"portletwrapper-706c6f6e652e7269676874636f6c756d6e0a636f6e746578740a2f707974686f6e697374612e6d780a6576656e7473\" data-portlethash=\"706c6f6e652e7269676874636f6c756d6e0a636f6e746578740a2f707974686f6e697374612e6d780a6576656e7473\">\\n<section class=\"portlet portletEvents\">\\n\\n  <header class=\"portletHeader\">\\n    <a href=\"https://pythonista.io/event_listing?mode=future\" class=\"tile\">Pr\\xc3\\xb3ximos eventos</a>\\n  </header>\\n  <section class=\"portletContent\">\\n    <ul>\\n      \\n      <li class=\"portletItem even\">\\n        <a href=\"https://pythonista.io/events/eventos/django-jr\" class=\"tile\" title=\"Diplomado en l\\xc3\\xadnea introductorio para personas interesadas en iniciarse en la programaci\\xc3\\xb3n con Python y el desarrollo de aplicaciones web con Django. No se requiere experiencia previa de programaci\\xc3\\xb3n.\">\\n            \\n          Diplomado en l\\xc3\\xadnea: \"Desarrollo web con Python y Django desde cero\"\\n        </a>\\n        <span class=\"portletItemDetails\">\\n          \\n\\n\\n  21/01/2019\\n  \\n    <abbr class=\"dtstart\" title=\"2019-01-21T15:00:00-06:00\">\\n      <span class=\"explain\">15:00</span>\\n    </abbr>\\n  \\n\\n\\n\\n<br />\\n          <span class=\"timezone\">\\n            (America/Mexico_City)\\n          </span>\\n          \\n        </span>\\n      </li>\\n      \\n      <li class=\"portletItem odd\">\\n        <a href=\"https://pythonista.io/events/py231\" class=\"tile\" title=\"Taller en l\\xc3\\xadnea introductorio para desarrolladores de Python interesados en el desarrollo de aplicaciones web con Django.\">\\n            \\n          py231 Introducci\\xc3\\xb3n a Django\\n        </a>\\n        <span class=\"portletItemDetails\">\\n          \\n\\n\\n  04/02/2019\\n  \\n    <abbr class=\"dtstart\" title=\"2019-02-04T15:00:00-06:00\">\\n      <span class=\"explain\">15:00</span>\\n    </abbr>\\n  \\n\\n\\n\\n<br />\\n          <span class=\"timezone\">\\n            (America/Mexico_City)\\n          </span>\\n          \\n        </span>\\n      </li>\\n      \\n    </ul>\\n  </section>\\n  <footer class=\"portletFooter\">\\n    <a class=\"tile previous-events\" href=\"https://pythonista.io/event_listing?mode=past\">Eventos anteriores\\xe2\\x80\\xa6</a>\\n    <br />\\n    <a class=\"tile upcoming-events\" href=\"https://pythonista.io/event_listing?mode=future\">Eventos pr\\xc3\\xb3ximos\\xe2\\x80\\xa6</a>\\n  </footer>\\n</section>\\n\\n</div>\\n        </aside>\\n      </div>\\n        </main><!--/row-->\\n      </div><!--/container-->\\n    </div><!--/outer-wrapper --><footer id=\"portal-footer-wrapper\">\\n      <div class=\"container\" id=\"portal-footer\">\\n      <div class=\"row\">\\n\\t<div class=\"col-xs-12\">\\n\\t\\t\\n\\n\\t</div>\\n</div>\\n\\n<script>\\n  (function(i,s,o,g,r,a,m){i[\\'GoogleAnalyticsObject\\']=r;i[r]=i[r]||function(){\\n  (i[r].q=i[r].q||[]).push(arguments)},i[r].l=1*new Date();a=s.createElement(o),\\n  m=s.getElementsByTagName(o)[0];a.async=1;a.src=g;m.parentNode.insertBefore(a,m)\\n  })(window,document,\\'script\\',\\'https://www.google-analytics.com/analytics.js\\',\\'ga\\');\\n\\n  ga(\\'create\\', \\'UA-100381738-1\\', \\'auto\\');\\n  ga(\\'send\\', \\'pageview\\');\\n\\n</script>\\n    </div>\\n    </footer></body>\\n</html>')"
      ]
     },
     "execution_count": 28,
     "metadata": {},
     "output_type": "execute_result"
    }
   ],
   "source": [
    "get_url(\"https://pythonista.io\")"
   ]
  },
  {
   "cell_type": "markdown",
   "metadata": {},
   "source": [
    "**Ejemplo:**\n",
    "\n",
    "Se utilizará la función *requests.get()* para acceder a https://pythonista.mx (el cual hace un redireccionamiento a https://pythonista.io) para abir una conexión enviando una petición *GET*. Se desplegarán los siguientes datos guardados en el objeto resultante.\n",
    "\n",
    "* El mensaje de estado resultante.\n",
    "\n",
    "En este caso se utilizará la declaración *with* para cerrar la conexión ta pronto se ejecute el bloque de código  inscrito."
   ]
  },
  {
   "cell_type": "code",
   "execution_count": 29,
   "metadata": {
    "scrolled": true
   },
   "outputs": [
    {
     "name": "stdout",
     "output_type": "stream",
     "text": [
      "301\n",
      "{'Date': 'Tue, 05 Feb 2019 21:38:20 GMT', 'Server': 'Apache/2.4.18 (Ubuntu)', 'Location': 'https://pythonista.io/', 'Keep-Alive': 'timeout=5, max=100', 'Connection': 'Keep-Alive', 'Content-Type': 'text/html; charset=iso-8859-1'}\n"
     ]
    }
   ],
   "source": [
    "with requests.head(\"https://pythonista.mx\") as sitio:\n",
    "    print(sitio.status_code)\n",
    "    print(sitio.headers)"
   ]
  },
  {
   "cell_type": "markdown",
   "metadata": {},
   "source": [
    "## Ejemplos prácticos para el uso de HTTP.\n",
    "\n",
    "El sitio https://httpbin.org/ incluye ejemplos ilustrativos de los posibles usos del protocolo HTTP."
   ]
  },
  {
   "cell_type": "markdown",
   "metadata": {},
   "source": [
    "**Ejemplo:**\n",
    "\n",
    "Se utilizará get para obtener un recurso que corresponde a una imagen https://httpbin.org/image/png."
   ]
  },
  {
   "cell_type": "code",
   "execution_count": 37,
   "metadata": {},
   "outputs": [],
   "source": [
    "resultado = requests.get(\"https://httpbin.org/image/png\")"
   ]
  },
  {
   "cell_type": "code",
   "execution_count": 35,
   "metadata": {
    "scrolled": false
   },
   "outputs": [
    {
     "name": "stdout",
     "output_type": "stream",
     "text": [
      "b'\\x89PNG\\r\\n\\x1a\\n\\x00\\x00\\x00\\rIHDR\\x00\\x00\\x00d\\x00\\x00\\x00d\\x08\\x02\\x00\\x00\\x00\\xff\\x80\\x02\\x03\\x00\\x00\\x1faIDATx\\x9c\\xdd}wXS\\xd9\\xd6\\xfeJ#\\xa1\\x17\\xc1 \\x02\\xa1\\x08\\xc1J\\x19\\x11E\\x10\\x1c\\x11\\x14\\x10\\xf8tl(\\xea\\xd8FGGT\\xac\\x9f\\\\\\xeb\\x8c\\x0eV\\xd4\\xb1\\xdca\\xe4\\n\\xb6\\x11\\x1bEA\\x14QA\\x94&\\x82\\xa2B\\x00EzoI \\x10\\x92\\xf3\\xfbc\\x87\\x10!\\xc4$D\\x7fw\\xbe\\xf7\\xe1\\xe199gg\\xadu\\xde\\xb3\\xf7>{\\xaf\\xbd\\xd6\\x0e\\x0e\\xc30\\x00`\\xb3\\xd9\\xc7\\x8e\\x1dKJJ\\xca\\xc9\\xc9\\xe9\\xec\\xec$\\x93\\xc9\\x14\\n\\x85\\xdc\\x03UUU\\x1a\\x8dfjjjbbbjj\\x8a\\x0eTTT`\\x10\\xc00\\xac\\xbc\\xbc\\xbc\\xb0\\xb0\\x90\\xc1`0\\x18\\x8c\\xf2\\xf2r&\\x93\\xc9b\\xb1\\x98L&\\x93\\xc9\\xe4\\xf3\\xf9\\xea\"000\\xb0\\xec\\x81\\x89\\x89\\t\\x81@\\x18\\x8c\\xea\\xf6\\xf6\\xf6\\xd2\\xd2\\xd2\\x8f\\x1f?~\\xfc\\xf8\\x11\\x1d|\\xfa\\xf4\\x89\\xcdfw\\x8a\\x80\\xc3\\xe1\\x90\\xc9d;;;77\\xb7\\xa0\\xa0 UUU\\x81\\xd1\\xa9\\xa9\\xa9&&&2\\xe9\\xc3\\xe3\\xf1vvvAAAw\\xef\\xdemmm\\xc5\\xa4Fyy\\xf9\\x993g\\xa6O\\x9f\\xae\\xac\\xac,\\xdf\\xad*))9;;\\x1f;v\\xac\\xa4\\xa4Dz\\xbd\\xad\\xad\\xadw\\xef\\xde\\r\\n\\n\\xb2\\xb3\\xb3\\xc3\\xe3\\xf12i411IMM\\xc50\\x0c\\xc7f\\xb3\\xad\\xac\\xac\\xca\\xcb\\xcb\\x01\\xc0\\xd6\\xd4t2\\x9d\\xae\\xa9\\xa2\\xc2\\xe1r;\\xb9\\xdcN.\\x17\\x1d\\xb4wu\\x9574|\\xac\\xabk\\xeb\\xe8\\xe8/\\x8b@ \\xd8\\xd9\\xd9yyy-_\\xbe\\xdc\\xc8\\xc8H\\xac\\xbe\\xfc\\xfc\\xfc\\xe8\\xe8\\xe8\\x98\\x98\\x98\\xec\\xec\\xec\\xfeWU\\xc9d\\x9a\\x9e\\x9e\\x86\\xb2\\xb2\\x86\\x8a\\x8a:\\x85\\xa2\\xa1\\xa2\\x82\\x03`r8m\\xed\\xed\\xe8\\x7fYC\\x83X\\xd5c\\xc6\\x8c\\xf1\\xf3\\xf3\\xf3\\xf5\\xf5\\x1d?~\\xbcX\\xbd\\xe5\\xe5\\xe5\\xe1\\xe1\\xe1\\xf7\\xee\\xdd\\xcb\\xc9\\xc9\\xe1\\xf1x\\xfd\\x0bh(+\\x9b\\x0e\\x1dj\\xa4\\xab\\xab\\xa2\\xa4D&\\x91($\\x12\\x99DB\\x07\\xad\\xed\\xedi\\x85\\x85\\xaf>~\\x04\\x00##\\xa3\\x82\\x82\\x02\\xdc\\xbe}\\xfb\\xf6\\xec\\xd9\\x03\\x00!\\x8b\\x16m\\xf3\\xf5\\x1d\\x90^\\x00\\x00hb\\xb1J\\xeb\\xeb?\\xd6\\xd5\\xbd)+{\\xf2\\xf6mzQQ\\'\\x97+\\xbc\\x8a\\xc7\\xe3g\\xce\\x9c\\xb9z\\xf5j///\\x02\\x81\\xc0\\xe3\\xf1\\xd2\\xd2\\xd2bbbbbbJJJD\\xe5\\x18\\xeb\\xea\\xce\\xb0\\xb1\\x19cdd5|\\xb8\\xd5\\xf0\\xe1\\x86::8\\x1cN\\xb2\\xea\\xea\\xe6\\xe6\\x82\\xaa\\xaa\\xc2\\xaa\\xaaw\\x15\\x15\\x0f\\xf2\\xf2\\n\\xab\\xaaD\\xaf\\x1a\\x1a\\x1a\\xfa\\xf8\\xf8\\xf8\\xf9\\xf9\\xb9\\xba\\xba\\x92H$\\x1e\\x8fw\\xef\\xde\\xbd?\\xff\\xfc3!!\\x81\\xcf\\xe7\\x0b\\x8b\\x91I\\xa4\\x89\\x16\\x16\\xae\\xa3G\\x8f566\\x1d:\\xd4DOOGMM\\xb2\\xde\\xc311\\xdb\\xaf\\\\\\x01\\x80}\\xfb\\xf6\\xe1\\xa6L\\x99\\x92\\x92\\x922\\x8eF\\xcb=|\\x18Y\\\\\\xd1\\xd8\\xf8Wr\\xf2\\xd3w\\xef\\xf08\\x1c\\x1e\\x87\\xc3\\xe3\\xf1d\"\\xd1\\xd6\\xd4t\\x92\\xa5\\xa5\\x83\\x85\\x856j\\xbd\\x00\\x00\\xc0\\xe1r\\x9f\\x17\\x16>~\\xfb6177K\\x84\\x0e\\x03\\x03\\x03{{\\xfb\\x97/_VTT\\x88*\\xb6\\xa6\\xd1|\\xed\\xed\\xfd\\xec\\xedmMM%\\x9b\\xf8E\\x14TV\\xc6dgGgff\\x14\\x17\\xa3n\\x17AWW\\xd7\\xde\\xde>77\\xb7\\xba\\xbaZx\\xd2\\xde\\xdc\\xdc\\xc3\\xc6f\\xea\\xe8\\xd1\\x8et:\\x85D\\x02\\x80f6;\\x9d\\xc1H/*z\\xc1`d\\x16\\x17\\xb7\\xb6\\xb7\\x0b\\x0b\\x9bQ\\xa9\\xcb\\xa7N\\xdd0s\\xa6\\xba\\xb22\\x00`\\x18f\\xb3m\\xdb\\xebO\\x9f\\xa6L\\x99\\x82\\xb3\\xb0\\xb0(**\\n\\x982%r\\xfdz\\x00\\xc8\\xfb\\xf4i\\xfc\\x8e\\x1d\\xdd\\xe2j,\\x00\\xe0p8\\xba\\x81\\xc1\\xb41c\\xd6\\xcd\\x981r\\xf8p\\xd1Ko\\xca\\xca\\xfeLJ\\xba\\x9c\\x9a\\xda\\xc2f\\x8b\\x9e\\'\\x12\\x08\\xceVV~\\x13&\\xf8\\x8c\\x1fo\\xa2\\xa77H\\x8e\\xfa\\xa3\\xa6\\xa5%6;;:++9?_\\xb4\\x9a\\x03\\x80\\x96\\xaa\\xeabg\\xe7\\xd5nnc\\x8d\\x8d\\xd1\\x19>\\x86\\xdd\\xcb\\xc99\\x9d\\x90\\x90\\xf4\\xe6\\x8d(\\xc5\\xfd\\xb1r\\xda\\xb4\\xb0\\x9f~B\\xc7K\\xfe\\xf8\\xe3RJ\\x8a\\x85\\x85\\x05\\x11=\\x01}--taOT\\x14bj\\x8c\\x91\\x91\\x8e\\x9a\\x1a\\x8f\\xcf\\xe7cX\\x0b\\x9b]XU\\xc5\\xc70\\x0c\\xc3\\n*+\\x0b*+\\xcf>x\\xe0>n\\xdcfoowkk\\xf4\\xc5\\xb1\\xc6\\xc6^vv\\xe1\\x8f\\x1f\\x0b\\xf5\\x19\\x0e\\x19\\xf2\\xaf9s\\xe6N\\x9a$Z\\x19\\x15\\x0e}-\\xad\\xd5nn\\xab\\xdd\\xdc\\x98\\x1d\\x1d1\\xd9\\xd9\\x07n\\xded\\xf4\\xd4)\\x0e\\x97\\x8bZ\\x1c\\xfax95u\\xf7\\xf5\\xeb\\x1f\\xeb\\xea\\x84\\xdfE\\xcf\\xde\\xd1\\xd2\\xd2HW\\x17\\x9d\\xe1\\xf1\\xf97\\xd3\\xd3\\x0b*+/$\\'\\xff\\xba`\\x01USSHNuu5\\xb1\\xbb\\xbb\\x1b\\x00\\x08=/\\x08\\x1e\\x9f\\x0f\\x00;\\xff\\xe7\\x7f\\x0e.\\\\(jS[GGVqqzQ\\xd1\\xe3\\xb7o\\x93\\xf3\\xf31\\x0cK\\xcc\\xcbK\\xcc\\xcb{\\x10\\x1c<}\\xdc\\xb8\\xa2\\xea\\xea\\xa0\\xc8\\xc8\\xb8\\x97/QaM\\x15\\x95\\x1d~~\\x81\\x9e\\x9e\\xcaJJ_\\x8b\\xa4~PWV^\\xec\\xec\\xbc\\xc0\\xd11\\xec\\xd1\\xa3}7n\\xd4\\xb6\\xb6r\\xba\\xba~8vl\\xea\\xe8\\xd1\\'\\x96-\\xa3jj.\\xfd\\xe3\\x0f>\\x86!\\xf3\\x96\\xba\\xb8L\\x1f7n\\x92\\xa5\\xe5\\x10u\\xf5>rV\\xbb\\xb9y\\xff\\xfe\\xbb\\x8e\\x9a\\xdaP\\r\\rt\\x06\\x91\\xd3\\xdd\\xdd\\x8d\\xa3R\\xa9\\xb5\\xb5\\xb5k\\xdd\\xdd\\xcf\\xae\\\\\\t\\x00,\\x0e\\xe7S}\\xfd(CC\\t=nQu\\xf5\\x99\\xc4\\xc4\\x8bO\\x9e\\xb08\\x9c\\x87\\xff\\xfa\\xd7\\xcd\\xf4\\xf4?\\x1f>\\xec\\xe6\\xf3\\x01@\\x89H\\\\\\xeb\\xee\\xfe\\xaf9s\\xfa\\x1b\\xf1-\\xc1\\xe2p\\x8e\\xc5\\xc5\\x1d\\x8d\\x8bcq8\\x00\\x80\\xc3\\xe1\\xfc\\x9d\\x9c\\xda\\xda\\xdbK\\xeb\\xebW\\xbb\\xb9-suU\\xa3P\\xa4\\x97\\xf6\\xf3_\\x7f\\x9d{\\xf0\\x80J\\xa5\\xe2\\xe8tzaa\\xa1\\xbf\\x93\\xd3\\x95\\r\\x1bd2\\x88\\xc3\\xe5\\x96\\xd6\\xd7/:y2\\xe7\\xe3Gd\\xd0|G\\xc7\\xdf\\x16,0\\xa3Re\\x92\\xf3\\xf5P\\xd7\\xda\\xba\\xef\\xe6\\xcd\\xb0\\xa4$.\\x8f\\x07\\x00\\x16\\xc3\\x86\\xc5n\\xdbf\\xf5yW+\\r\\x16\\x9f>}%5\\x95N\\xa7\\xe3555\\x01@\\xec(F2r>|p\\xdd\\xb3\\x071\\xe5<rd\\xe6\\xc1\\x83\\xd7\\x02\\x03\\xff{\\x98\\x02\\x80\\xa1\\x9a\\x9agV\\xacx{\\xfc\\xb8\\x9f\\xbd=\\x00\\x14UWO\\xdc\\xb5+\\xe1\\xd5+Y\\xe5\\xa0w\\xa5\\xa6\\xa6\\xa6\\x80,\\xd1w\\xa74\\xb8\\xf8\\xe4\\xc9\\xd4}\\xfbj[[\\x01`\\xb3\\xb7\\xf7\\xe3={\\xc6\\x9b\\x9b\\xcbj\\xc4\\xb7\\x81\\xc5\\xb0aw\\xb6n=\\x12\\x10\\x80\\xc7\\xe1Z\\xdb\\xdb\\xbd\\x7f\\xff\\xfdh\\\\\\x9cL\\x12z\\xc9\\xd2\\xd2\\xd2\\x02\\x80&\\x16K\\xcao\\xf2\\xf8\\xfc\\xa0\\xc8\\xc8\\x1f\\xcf\\x9e\\xed\\xea\\xeeV\"\\x12\\xc3\\xd7\\xae=\\xb6d\\tA\\xc6\\t\\xc4\\xb7\\xc7\\x96Y\\xb3\\xe2v\\xec\\xd0PV\\xe6c\\xd8\\xd6K\\x97\\x96\\x9e9\\xd3g\\x9c!\\x01\\x88\\x1c---<\\x9a\\xa0|\\xa8\\xad\\x95<\\xee@hmo\\xf7:t\\xe8\\xf8\\xdd\\xbb\\x00@\\xd5\\xd4|\\xbcg\\xcf\\x8fS\\xa7\\x0e\\xe2\\x16\\xbe)<mm_\\xfc\\xf6\\x1b\\xea(\"\\x9f>u\\xdd\\xbb\\xb7\\xa6\\xa5\\xe5\\x8b\\xdf\\xc20\\xecCm-\\x00\\x18\\x1b\\x1b\\xe3\\xad\\xac\\xac\\x00\\xa0\\xa3\\xab\\xab\\xb2\\xa9I\\xf2\\xd7Jjk\\x1d\\xfe\\xf7\\x7f\\x13\\xf3\\xf2\\x00\\xc0\\xc6\\xc4$\\xeb\\xf7\\xdf\\x1d\\xe9\\xf4\\xc1\\xdf\\xc3\\xb7\\xc4(C\\xc3\\xcc\\x83\\x07]G\\x8f\\x06\\x80\\xf4\\xa2\"\\xfb\\x9d;sKK%\\x7f\\xa5\\xb2\\xa9\\xa9\\xa3\\xab\\x0b\\x00\\xe8t:\\x9e\\xdes\\xc3E55\\x12\\xbe\\x83\\xea\\x14\\x9a\\x91\\xfd0qb\\xda\\x81\\x03FC\\x86(\\xe4\\x06\\xbe1\\x86\\xa8\\xab?\\x08\\x0e\\xfei\\xfat\\x00\\xa8hl\\xf4<tHr-\\x11\\xd2\\xf2\\x19Y\\x8c\\xcf\\xa7\\xa6\\xa2\\xe0\\xf1\\xf9\\xf3O\\x9c@Lm\\x995+j\\xd3&\\x152Ya\\xe6\\x7fs\\x90\\x08\\x84\\xf3\\xabV\\x1d\\t\\x08\\x00\\x80\\xea\\xe6f\\xbf#GP\\xdd\\x11\\x0b!-t:\\x1dO\\xa5RQ\\x1f/\\xa1fm\\xbb|\\x19\\xb5\\xbe\\x1f&N<\\xbcx\\xf1\\x17=\\x04\\xff\\x08l\\x995k\\x9d\\x87\\x07\\x00d\\x97\\x94\\xfcx\\xf6\\xec@\\xc5\\x10-ZZZT*\\x15\\x0f\\x00\\xa8\\xdbz\\xc1`\\x88-}\\xf1\\xc9\\x13\\xd4\\xa3\\xdb\\x98\\x98D\\xac[\\xf7\\x7f\\x83)\\x84\\xd0e\\xcb\\xa6\\x8d\\x1d\\x0b\\x00\\xd7\\x9f?\\xff\\xf5\\xd6-\\xb1e\\x10-\\x88\"<\\x00\\xb8\\xb8\\xb8\\x00@fq1\\xb3\\xdf\\xd0\\xf4ya\\xe1O\\x7f\\xfe\\t\\x00TM\\xcd\\xd8\\xed\\xdb\\xff\\xd1\\xad\\xaf?\\x88\\x04\\xc2\\x8d\\xcd\\x9bG\\xe8\\xeb\\x03\\xc0\\xee\\xa8\\xa8;\\x99\\x99}\\n0;:2\\x8b\\x8b\\xa1\\x87\"<\\x00L\\x9b6\\r\\x00\\xbay\\xbc\\xa7\\xef\\xde\\x89\\x16-ol\\x9c}\\xf4(\\x1aO\\xdd\\xde\\xb2\\xe5\\x1f\\xda\\xa3K\\x86\\xb6\\xaaj\\xdc\\xf6\\xed\\x9a**\\x18\\x86\\x05\\x9c>\\x9d\\xf7\\xe9\\x93\\xe8\\xd5\\xa7\\xef\\xde!\\x1f\\x0c\\xa2\\x08\\x0f\\x00NNNd2\\x19\\x00\\x92\\xde\\xbc\\x11\\x96k\\xef\\xec\\xf4;|\\x18\\x8d\\xd1\\xcf\\xafZ\\xf5\\x8f\\x1b%H\\x0f\\xab\\xe1\\xc3\\xff\\xde\\xb8\\x91\\x80\\xc7\\xb3;;}BB\\xeaZ[\\x85\\x97\\x10!d2\\xd9\\xc9\\xc9\\t\\x10Y\\xca\\xca\\xca\\x8e\\x8e\\x8e\\x00\\xf0H\\x84\\xac\\xad\\x97/\\xa3y\\xdffo\\xef\\x7f\\xd0\\xc8S>\\xcc\\xb0\\xb19\\xbcx1\\x00\\x9454\\xac\\t\\x0b\\x13\\x9eG\\x848::\\xa2\\xe5\\x15\\xc14\\x05U\\xb3\\xfc\\xf2r4Z-\\xaa\\xae\\xfe3)\\t\\x00\\x9cG\\x8eDR\\xfe\\xcfc\\xb3\\xb7\\xb7\\xbf\\x93\\x13\\x00\\xdc\\xc9\\xcc|^X\\x08\\x00\\x1fjk\\xf3\\xcb\\xcb\\xa1\\x87\\x1c\\x10\\x925w\\xee\\\\tp\\xf1\\xc9\\x13\\x00\\xd8q\\xf5j7\\x8f\\x87\\xc3\\xe1\\x8e\\xff\\x13\\xe6}\\x8a\\xc2\\xd1\\x80\\x00\\xf4\\x06\\xdbz\\xf92\\xf4P\\x01\"\\xe4\\x08\\x88\\xb0\\xb4\\xb4D\\xcd2\\xe2\\xe9\\xd3g\\x05\\x05\\xb732\\x00`\\xbe\\xa3\\xe3\\x7f\\xad/\\xe1k`\\x98\\xb6\\xf6FOO\\x00x^Xx\\xe3\\xc5\\x8b\\x88\\xa7O\\x01\\xc0\\xc9\\xc9\\xc9\\xd2\\xd2\\x12\\x15\\xc0\\t\\xe7\\xcf\\xe1\\xe1\\xe1+V\\xac\\x00\\x005\\n\\x85\\xc5\\xe1(\\x11\\x89\\xefO\\x9c\\xf8\\xaf\\xf2O}\\x03\\xb4ut\\x98\\xad_\\xdf\\xc8dRH$\\x0e\\x97\\x0b\\x00\\x17.\\\\X\\xbe|9\\xba\\xdaK\\x16\\x8b\\xc5\\x1a6l\\x18\\xab\\xc7W\\xb3\\xd1\\xcb\\xeb\\xc4\\xd2\\xa5\\x83W\\xcf\\xe3\\xf3\\xdfUT\\xa0\\x852{s\\xf3Q\\x86\\x86\\nl\\xd7\\xf5mmB\\xc9z=.\\xf3A\"\\xf4\\xde\\xbdM\\x11\\x11\\xe8XMM\\xad\\xba\\xbaZ\\xadgm\\x11\\'\\xea\\x99\\xf9\\xf1\\xc7\\x1f/^\\xbc\\x08\\x00\\x9a**%\\xa7O\\x0f\\xd2\\x8f\\xce\\xe5\\xf1~\\xbd}\\xfbD|\\xbc\\x81\\xbe\\xbe\\x8d\\x8d\\r\\x00\\xe4\\xe6\\xe6V\\xd5\\xd4l\\xf2\\xf4\\x0c\\x9e=\\x9b4\\x88x\\x05\\x0c\\xc3\\xce\\'%\\x85\\xc4\\xc5\\xb18\\x9c\\xeflm\\x01\\xe0\\xe5\\xabWj\\x14\\xca\\xf6Y\\xb3\\xd6\\xb8\\xb9\\rr\\x8e\\xd1\\xd5\\xddM\\x0f\\x0c,\\xad\\xaf\\x07\\x80\\x80\\x80\\x80\\xc8\\xc8H\\xe1%\\xa2h9CCCt\\xb0\\xc3\\xcfo\\x90L\\x15UW\\xcf;u\\xca\\xd0\\xc2\\xa2\\x80\\xc1000\\x10\\x9e\\xaf\\xaa\\xaa\\xfai\\xc5\\x8a\\t\\xc1\\xc1Q\\x1b6X\\x0c\\x1b&\\x87\\xe4\\xaa\\xe6\\xe6\\xa5\\xe7\\xcf\\xb7\\xe1p1\\xf7\\xef[\\xf7,\\xc4\\x01@^^\\xde\\xea\\xe5\\xcboggG\\xacYc\\xa0\\xad-\\xb7\\xe5JD\\xe2\\x81\\x05\\x0b\\x02N\\x9f\\x06\\x00\\xf2\\xe73\\x96\\xde\\x16\\xc1\\xe3\\xf1.]\\xba\\x04\\x00\\x86C\\x86\\x04zz\\xca\\xad\\x0c\\x00\\xb8<\\xde\\xdcS\\xa7\\x96\\xae[\\x17\\x97\\x90PUU\\xb5p\\xe1Bsssss\\xf3\\x85\\x0b\\x17VUU\\xc5%$,]\\xb7n\\xee\\xa9S\\xdc\\x01\\x96r%\\x80\\x8fa\\xf3N\\x9d\\xb2\\xf7\\xf0x\\x9e\\x99\\xc9\\xe5rE%s\\xb9\\xdc\\xe7\\x99\\x99\\xf6\\x1e\\x1e\\xf3N\\x9d\\xe2K\\xe1\\xc8\\x94\\x00\\x7f\\'\\'k\\x1a\\r\\x00\\xae_\\xbf\\xde\"\\xe2 \\xecm\\x86)))h\\x06\\xf4\\xef\\xd5\\xabW\\xbb\\xb9\\rFY\\xf0\\xf5\\xebo::b\\xee\\xdd;q\\xe2\\xc4\\xb6m\\xdb\\xd0\\xd2$\\x02\\x91H<|\\xf8\\xf0\\xa6M\\x9b|\\xbd\\xbc\\xc6*+\\xff:\\x7f\\xbeL\\x92\\x8f\\xdd\\xbd\\x1b_Z\\x9a\\xf4\\xe4Ihh\\xa8X\\xc9\\x1b7ntsu\\xf541\\t\\xf2\\xf6\\x1e\\xcc-\\xc4fg\\xfb\\x1e>\\x0c\\x00\\x11\\x11\\x11K\\x96,A\\'{\\xc9\\n\\n\\n:~\\xfc8\\x91@\\xa8\\xfb\\xeb\\xaf\\xc1\\xac!wuw\\xeb\\xaeZ\\xc5(..++stt\\xec\\x1f\\xbbB \\x10\\x9e?\\x7fnlll9bDCX\\x98\\x12\\x91(VN\\x7f\\xf0\\xf8\\xfc!+W\\xbez\\xfd\\xba\\xbe\\xbe^\\x82d===\\xdbq\\xe3\\x1a\\xff\\xfak0o\\x12.\\x8f7t\\xe5\\xca\\x166{\\xf6\\xec\\xd9\\xb7z\\x1c\\x12\\xbd\\xe2bbb\\x00\\xc0\\xd9\\xcaj\\x90\\xab\\xedo\\xca\\xcaL\\x8d\\x8d\\xf5\\xf5\\xf5CBB\\xc4F\\xf9\\xf0x\\xbc\\x90\\x90\\x10}}}Sc\\xe37ee\\xd2K~[^n\\xa0\\xafojj*Y\\xb2\\xa9\\xa9\\xa9\\x81\\xbe\\xfe\\xdb\\xf2r\\xf9\\xef\\x01\\x80D x\\xda\\xda\\x02@bb\"\\x87\\xc3A\\'\\x05d\\xe5\\xe7\\xe7\\xa3\\xa8 \\xbf\\t\\x13\\x06\\xa3\\x03\\x00\\xb2JJl\\xec\\xec\\x00 \\xb3\\x9f\\xc7C\\x08t\\xc9\\xc6\\xce.\\xeb\\xf3P\\xa4/K\\xb6\\xb5\\x95J\\xb2\\xad\\xadL\\x92\\xc5\\x02\\xad6\\xb2\\xd9\\xec\\xa4\\xa4$tF@Vtt4:\\xf0\\x19 *Lz\\xf0\\xf8|\\x14\\xc6(\\xf6\\xe1\\x0b\\xca\\xf0x\\x00@ \\x10x\"\\xc1S_\\x04\\x8b\\xc3QSW\\x97F\\xb2\\x9a\\xba:\\xab\\xa7:\\xc8\\x8d\\x1966d\\x12\\tD\\xc8\\x11\\x90\\x85\\xda\\xa05\\x8d6\\xf8\\xa8\\xa0\\xf1ff\\xb999\\x00`oo?P\\x19t)7\\'\\xe7;33\\xe9%\\x7f\\xf7\\xd5$\\x8b\\x85\\xba\\xb2\\xf2\\xf7c\\xc6\\x00@\\\\\\\\\\x1c\\x8a\\x88\\xc3\\x03@EE\\x05\\x8a^\\xf4\\x1d\\xd8\\x08\\xe9amb\\xc2()ijj\\xda\\xbcy\\xb3\\xd8\\xf1!\\x0e\\x87\\xdb\\xbcysSS\\x13\\xa3\\xa4\\xc4F\\x96XV;S\\xd3\\xf7\\x0c\\x06\\x9b\\xcd\\x96,\\x99\\xcdf\\xbfg0\\xec\\x06\\x1d/\\x07=-\\xb1\\xae\\xae\\xee\\xc5\\x8b\\x17\\x80\\xc8\\x8a\\x8d\\x8d\\x15\\xbd6HPH\\xa4Unn\\x1b~\\xfe\\xd9\\xc5\\xc5e\\xf7\\xee\\xdd\\xfd\\x0b\\xec\\xde\\xbd\\xdb\\xc5\\xc5e\\xc3\\xcf?\\xafrsCqxRB\\x85L\\x9e;i\\xd2\\xf6-[$K\\xde\\xbee\\xcb\\xdcI\\x93\\x14\\xe2\\x01\\xf7\\x19?\\x1e=\\x15\\xd4\\xf2\\xf0\\xd0\\xd3&\\x8duu\\x07\\x1f\\xbd\\x88\\xf0\\xdb\\xbcy\\x19\\xcf\\x9eEDD\\xec\\xdd\\xbb711\\xf1\\xfb\\xef\\xbf\\xd7\\xd6\\xd6\\xd6\\xd6\\xd6\\xfe\\xfe\\xfb\\xef\\x13\\x13\\x13\\xf7\\xee\\xdd\\x1b\\x11\\x11\\x91\\xf1\\xec\\xd9o\\xf3\\xe6\\xc9*\\xf9D@@\\xdc\\x9d;\\xf1\\xf1\\xf1\\x03I\\x8e\\x8f\\x8f\\x8f\\xbbs\\xe7D@\\x80BnD_K\\xcba\\xc4\\x08\\xe8!\\x0b\\xc7\\xe7\\xf3UUU;::V\\xbb\\xb9\\xfd{\\xf5j\\x85\\xe8\\x00\\x80\\xbcO\\x9f\\xe6\\x9e<i?y\\xf2\\x1f\\xe7\\xcei\\x8bL>\\x9a\\x9b\\x9b\\xd7\\xaf]\\x9b\\x95\\x96v#0\\x10\\x8d\\x92eEZa\\xe1\\xdc\\x93\\'\\x17.^\\xfc\\xdb\\xa1C\\x14\\x910+\\x0e\\x87\\xb3k\\xe7\\xcek\\x97/\\xdf\\x08\\x0c\\x9c\\xac8\\'\\xf8o\\xb7o\\x07\\xff\\xfd7\\x00455\\x11\\xcb\\xcb\\xcb;::\\x00`\\xcc\\x00Q\\xd9}\\xd1\\xdd\\r--\\xc0b\\x01\\x87\\x03<\\x1e\\x10\\x08@\\xa1\\x80\\x9a\\x1ahk\\x83\\xc8\\xdc\\xd8\\x9aF\\xcb=th\\xe7\\xf5\\xeb4#\\xa3q\\xa3G\\x7f7a\\x02\\x00\\xbc\\xcc\\xcc|\\xfd\\xf6\\xed\\x8fS\\xa7\\xe6\\x1e:$w3\\x99L\\xa7\\xbf\\t\\t\\xf9\\xf9\\xe2E3\\x1a\\xcdq\\xe2\\xc4\\xef\\x1c\\x1c\\x00\\xe0eF\\xc6\\xf3\\xf4tg:\\xfdMH\\x88\\x98Y\\xadt6\\x8b\\x850\\xca\\xb2\\xa0\\xa0\\x00\\xf7\\xe0\\xc1\\x03www\\x00@\\x01\\x8f_\\xb0\\xb4\\xa6\\x06\\x1a\\x1b\\x01\\xbd\\xef1\\x0c0\\x0cp8@}-\\x1e\\x0f\\xba\\xba\\xd0\\xcf\\xff\\xc5\\xee\\xec\\xcc\\xf9\\xf0A\\xe8H\\xb133SU\\xd0zZi}}Vqq\\xd6\\xc7\\x8f\\x00`ojj?b\\x84\\xf8W\\xb9\\xec6\\x8b\\xa2\\xa0\\xb2r\\xe4\\xa6M\\x00\\x10\\x1e\\x1eNd\\xf4\\xac\\xad~!$\\x8e\\xc7\\x83\\xb22`\\xb3\\x81\\xcf\\x07>\\x1fx<\\x81V\\xf4\\x9f@\\x00\\x0c\\x83\\xfazho\\x07\\x1a\\rD\\xe6\\x19\\xaad\\xb2\\xf3\\xc8\\x91\\xce#G\\xcaD\\x8440\\xd1\\xd33\\xd1\\xd3\\x9b;i\\x92\\xc2m\\x16\\x85\\x19\\x95J\\xc0\\xe3y|~AA\\x01\\xb1\\xb0\\xb0\\x10\\xdd\\x92\\xa1\\x8e\\x8e$\\xd3\\x90\\xd6\\xee\\xee^\\xad|\\xbe@+\\x1e\\x0f|>\\x10\\x08\\x80\\xc7\\x03\\x9b\\r\\xe5\\xe5 cg\\xd4\\xd6\\xd1\\xf1\\x82\\xc1(\\xa9\\xa9\\xa9okk`2\\x1b\\x98L\\x00\\xd0UW\\xd7UW\\xd7\\xd3\\xd00\\xd7\\xd7\\x9fdi\\xa9!G\\xfa\\x8a\"lV\"\\x12M\\xf4\\xf4Jjk\\x0b\\x0b\\x0b\\x89(\\xae\\x9f\\xa6\\xa7\\'\\xc9gVS#\\xd0\\xda\\xdd\\r<\\x9e@7\\x80@1\\x00\\x10\\x08\\x02\\xdd\\x00\\xc0dBc#|iE\\x16\\xc3\\xb0\\xe4\\xfc\\xfc[\\x19\\x19i\\x85\\x85\\xf9ee\\x92\\x9d*x\\x1cn\\x8c\\xb1\\xf1d:}\\x8e\\x83\\xc3\\xf7c\\xc6H\\xe5\\xdeS\\x9c\\xcd4=\\xbd\\x92\\xda\\xda\\xba\\xba:\"\\x93\\xc9\\x04\\x00I\\xcf\\x8d\\xcb\\x85\\xa6&AMF*\\x85\\xbaQ\\x95F\\xf5\\x99@\\x00\\x1cNP\\xa6\\xb6\\x16tt`\\x80[\\xaaok\\xfb\\xcf\\xe3\\xc7a\\x8f\\x1e\\x15\\xf7\\x0bE\\xc1\\xe3\\xf1\\xda\\x1a\\x1a\\xba\\xda\\xda\\x00\\xd0\\xd0\\xdc\\xdc\\xdc\\xd6\\x86\\x86\\xce|\\x0c{\\xfd\\xe9\\xd3\\xebO\\x9f\\xce=x0B_\\x7f\\xd5\\xb4i?N\\x9d*\\xc9\\x8f\\xacP\\x9b\\x119L&\\xb3\\x87,\\t\\xf9p--\\x02e<\\x9e\\xe0)\\tu\\xf3\\xf9\\x80\\xc7\\x0b\\xb4\"\\xa0\\xbe\\x13\\x87\\x83\\x8e\\x0e\\xe8\\'\\x93\\xc7\\xe7\\x9fNH\\xd8\\x1d\\x15%\\x0c\\xaaP\\xa1P\\x1cmm\\'\\xdb\\xda:\\xda\\xda\\xdaXY\\xe9ji\\x89\\xa6l\\xf1\\xf9\\xfc\\x86\\x96\\x96\\xdc\\x82\\x82\\xe7\\xaf^\\xa5\\xbdz\\xf5\\xfc\\xd5\\xabv\\x0e\\xa7\\xb8\\xa6f\\xfb\\x95+\\xbf\\xde\\xbe\\xbd\\x7f\\xde\\xbc_f\\xce\\x14\\xef\\x87Q\\x9c\\xcdBrX,\\x16\\x11\\xadP\\xa8K\\x88\\x0bg2\\x05\\xad]\\xf4Aq\\xb9\\xbd\\x8a\\x91\\xb9H\\x1f:\\x89a\\xd0\\xd6\\xd6GqvI\\xc9\\xaa\\x7f\\xff[\\x18i7z\\xc4\\x885\\xf3\\xe7/\\xf1\\xf1\\xd1\\x188\\xd5\\x08\\x8f\\xc7\\x0f\\xd5\\xd1qwttwt\\x04\\x806\\x16+26\\xf6\\xfc\\xf5\\xebo\\x8b\\x8b\\x99\\x1d\\x1d\\x9b\"\"\"\\x9e>\\r\\xfb\\xe9\\'1\\xebu\\n\\xb2\\x19\\x01\\x91\\xc3d2\\xf1_\\xaeY\\x9d\\x9d\\x00=/]\\x80\\xcf\\x9e\\x98\\xb0G@\\x7f\\xa2\\xc5\\x98LQ\\x19\\xb732\\x9cw\\xefFLY\\xd0h\\xf1\\xe7\\xcf\\xe7\\xc7\\xc4\\xac\\xf7\\xf7\\x97\\xc0T\\x7fh\\xa8\\xa9\\xad\\xf7\\xf7\\xcf\\x8f\\x89\\x89?\\x7f\\xde\\x82F\\x03\\x80\\xdc\\xd2R\\xe7\\xdd\\xbb\\xd1*\\xa7\\xc2m\\xee\\xd5\\xab\\xa2\" \\x0bu\\n\\x92:L\\xc4\\xba\\xf0\\x18\\x01=7\\xf4\\xa2\\x11{U\\xa4\\xc3>\\x9b\\x988\\xf7\\xf8q\\x0e\\x97K\"\\x12\\x0f\\xfc\\xf2\\xcb\\x9b\\xe8\\xe8\\x99\\xce\\xce_\\xe6f`\\xcctv~\\x13\\x1d}\\xe0\\x97_HD\"\\x87\\xcb\\x9d{\\xfc\\xf8\\xd9\\xc4D\\xc5\\xda,\\n\\x9c\\xa0 \\x1f\\xaf\\xae\\xae\\x0e\\x00\\xcc/z\\x7fP\\xbf(\\xec P\\x05F\\x1d\\xa4\\xb0SD}\\x01\\xfa\\xd8\\xd3\\xae/\\xa7\\xa6\\xae\\xbbp\\x81\\x8fa\\xea\\xaa\\xaa\\xf7\\xce\\x9d\\x0b^\\xb3\\x86\\xac\\x88\\x84\\x1e\\xb2\\x92R\\xf0\\x9a5\\xf7\\xce\\x9dSWU\\xe5c\\xd8\\xba\\x0b\\x17.\\xa7\\xa6*\\xca\\xe6>@\\xe4\\xa8\\xab\\xab\\x0b\\xc8j\\x93\\x904@&\\x0b\\xa4\\xe3\\xf1\\x82\\xffx<\\x10\\x89@\"\\x81\\x92\\x12\\x90H@$\\nN\\n\\xcb\\xe0p\\xa0\\xa6\\x06\\x00E\\xd5\\xd5k\\xc3\\xc2\\x00`\\x88\\x96VJd\\xe4tGG\\xf9\\xe9\\x11\\x87\\xe9\\x8e\\x8e)\\x91\\x91C\\xb4\\xb4\\x00`mXX\\x910\\xc7p\\x106\\xf7\\x07\"\\xa7\\x97,I5KM\\xadW\\x1c\\x12M \\x08\\xfe\\x88\\xc4\\xde\\xe3>eTUy|\\xfe\\x82\\xd0P\\x16\\x87\\x83\\xc3\\xe1\"\\x0e\\x1e\\xb4\\xb1\\xb2R,S\\x086VV\\x11\\x07\\x0f\\xe2p8\\x16\\x87\\xb3 4T\\xe0z\\x95\\xd7f\\xb1*d\\xa9Y::\\x82\\x87 \\xaa\\x89H\\x04%\\xa5\\xde\\xff\\xa2v\\xe0\\xf1\\xa0\\xa2\\x02d\\xf2\\xed\\x8c\\x0c\\x14\\xe1\\xb51 \\xc0\\xcb\\xc5\\xe5+\\x10%\\x80\\x97\\x8b\\xcb\\xc6\\x80\\x00\\x00\\xc8\\xf9\\xf8Q\\xd0\\xd9\\xcbk\\xb3X\\xf9\\xbd5\\x0b-\\x17\\x9754\\x0ch\\x8b\\x92\\x12hk\\xf7>\\x1cT\\x99QMFZ\\x85\\x1f\\x85O\\xcc\\xc8\\x08\\x00N\\xdf\\xbf\\x0f\\x00:\\x9a\\x9a\\xbf\\x06\\x06*\\x9c\\xa0>\\xf850PGSS\\xa8Tn\\x9b\\xc5\\xa2\\xbc\\xb1\\x11\\x00tuu\\xf1(\\x9e\\xa6\\xad\\xa3\\xa3\\xba\\xb9y@[\\xf4\\xf5AYY\\xf0\\x04D\\x9f\\x89\\xa8>\\xd4\\x0b\\x10\\x080|8\\x90Ho\\xca\\xcaR\\xdf\\xbf\\x07\\x80U?\\xfc\\xa0\"Kr\\x9f|P\\xa1PV\\xfd\\xf0\\x03\\x00\\xa4\\xbe\\x7f/X^\\x93\\xddf\\xb1\\x92\\xbby<\\x14\\xe0gii\\x89\\x17\\x06\\x1f\\x15\\x0c\\x9c4\\x008\\x1c\\x98\\x9a\\x82\\x8a\\n\\x10\\x89\\x82?%\\xa5\\xde*\\x8d\\x0e\\xd0\\xf1\\xf0\\xe1\\xa0\\xad\\r\\x00\\xc2\\x95\\xa8\\x15s\\xe6(\\x90\\x14\\t\\x10*\\x12\\xa8\\x96\\xddf\\xb1(\\xad\\xafGa\\x06VVV\\xbdd\\x15J \\x0b\\x00\\x08\\x0403\\x83\\xa1C\\x05\\n\\xd0cA\\x7f\\x04\\x02()\\x81\\x8a\\nXZB\\x8f\\xeb\\x02\\xcd\\xfb\\x94H$s)}\\x8a\\x83\\x86\\xb9\\x91\\x91\\x12\\x89$T-\\x87\\xcdb!\\xcc\\xb8\\xb6\\xb2\\xb2\"\\x9a\\x98\\x98())uuu\\xbd\\xfb|[\\x011\\xc0\\xe1\\x80J\\x85!C\\xa0\\xbd\\x1dZ[\\x81\\xc5\\x02\\x1c\\x0e\\xc8dPS\\x0355\\xa0PDg\\xa1%55\\x00@30\\x90u{\\x0e\\xb9\\x81\\xc7\\xe3i\\x06\\x06E\\x9f>\\x95\\x88\\xce\\xcfe\\xb1Y,\\x84\\xb4\\xd0\\xe9t\"\\x81@pppHMM}\\x90\\x97\\'\\x95QD\"hh\\xc0\\x97\"\\xc7P\\xd5%\\xf6s\\xda6\\xb6\\xb4\\x9c\\x88\\x8c\\xbc\\x93\\x94\\xf4?nn\\x9b\\x96,\\x19\\xd2\\x93\\xf5/%\\x1a[ZB.\\\\\\xb8\\xfd\\xf0\\xe1\\xec\\xe9\\xd3\\xb7-_\\xae\\xfby\\xf3A\\xea\\xc4\\x04\\xe7Hg\\xb3X\\xa0\\xccW\\x1a\\x8d6t\\xe8P\"\\x00\\xf8\\xf9\\xf9\\xa5\\xa6\\xa6\\x16VU\\x15TV\\xca\\x91B,\\x16(m\\xa1\\xb4\\xaa\\n\\xc30Q\\xf7\\xd3\\x81\\xf3\\xe7O^\\xba\\x04\\x00\\xefJJX\\xed\\xed\\xa1;v\\xc8$6\\xe4\\xc2\\x85#\\xe1\\xe1\\x00p$<\\x9c\\xc7\\xe3\\x1d\\xdb\\xb6Mx\\t\\xc3\\xb0\\xd2\\xaa*\\xa1j\\x85\\xa0\\x99\\xcdNy\\xff\\x1e\\x00|||\\x00-\\x85\\xf9\\xf9\\xf9\\xa1k1\\xe26\\x8a\\x91\\x0f\\xe6T*\\x00tp8\\x15\\xb5\\xb5\\xa2\\xe7o\\x88L\\xe2n\\xf4\\x99\\xd0I\\x81[\\x0f\\x1e\\x08\\x8f\\xaf\\xa3QB\\x0f*jk;8\\x1c\\xa1j\\x85\\xe0\\xee\\xcb\\x97(\\xc3\\x02Q\\x84\\x07\\x0033\\xb31c\\xc6\\x00@\\xf4\\xc0\\x01\\x17\\xb2B\\xb8\\xd4|\\xa9g\\x05\\x17\\xc1]d\\xc6\\xe3.\\xfb\\xec\\xc7}\\xf2d\\xe1\\xb1\\xe7\\xe7\\xb3q\\xa1\"\\x99V\\xb9%#:+\\x0b\\x00\\xb4\\xb5\\xb5\\xa7L\\x99\\x02\\xc2X\\x07\\xc4\\\\Fq\\xb14\\x99\\xb0\\xd2\\xc0\\xc1\\xc2\\x02\\x19}\\xe6\\xda5\\xaeH\\xc8Y\\xf0\\x9a5s\\xa6O\\xa7\\x90\\xc9s\\xa6O\\x0f^\\xb3FV\\xb1;V\\xae\\\\\\xe8\\xe9\\xa9\\xa6\\xa2\\xb2\\xd0\\xd3sW\\xcf\\xf6\\'\\x00\\xc0\\xed\\xee>s\\xed\\x1a\\x00\\xd8\\x98\\x988XX(\\xe0\\x06\\x008\\\\nbn.\\x00xyy\\x11\\x89D\\x10\\x92\\xe5\\xeb\\xeb\\x0b\\x00\\x18\\x86\\xc5*\\xae%\\xfe2s&\\x00T\\xd5\\xd5\\x1d\\xef\\t\\xfe\\x05\\x00s#\\xa3\\x9b\\xa1\\xa1m\\x99\\x997CC\\xe5\\x18U\\xd0\\x0c\\x0c\\xae\\x1e9\\xd2\\x9a\\x91q\\xf5\\xc8\\x11\\x9aH\\xa8\\xea\\xf1\\x88\\x88\\xaa\\xba:\\xa1R\\x85\\xe0\\xe1\\xeb\\xd7\\xec\\xceN\\xe8!\\x07\\x84d\\x8d\\x1f?\\x1eE\\xdf\\xa2\\x8a\\xa7\\x10\\xf8;9\\xa10\\xfa\\xe0\\x93\\'\\xd3?\\x7f\\xd5\\x92\\xa4\\x8e\\xf6\\x13\\x8b>\\xc3\\x91\\xf4\\xbc\\xbc\\xe0\\x93\\'\\x01\\xc0\\x8cJE)%\\n\\x01\\xea\\x94\\xc8d\\xf2\\x8c\\x193\\x04z\\x85\\xd7P\\x87\\x9f\\x9c\\x9f\\xdf?\\xebP>PH\\xa4\\xbf7n$\\x11\\x08\\xdd<\\xde\\xc2\\xad[\\xcb%\\xe6`\\xcb\\x8d\\xf2\\x9a\\x9a\\x85[\\xb7v\\xf3x$\\x02\\xe1\\xef\\x8d\\x1be\\x8a4\\x91\\x00>\\x86\\xa1\\xadu\\xa6M\\x9b&\\x8c\\x83\\xef%\\x0bu[\\x9d\\\\\\xae\\x02\\xdf\\x89\\xf6\\xe6\\xe6\\x07\\xfd\\xfd\\x01\\xa0\\xb4\\xb2r\\x92\\xbf\\xff\\xeb\\x01\\x92e\\xe5\\xc6k\\x06c\\x92\\xbf\\x7fie%\\x00\\x1c\\xf4\\xf7\\xb7W\\\\\\xf2\\xcc\\xe3\\xfc\\xfc\\xfa\\xb66\\x10\\x19*\\x80(Y\\xae\\xae\\xaeT*\\x15\\x00\\x0e\\xdc\\xbc9\\xd0\\xfeYr \\xc8\\xdb{\\xab\\x8f\\x0f\\x00T\\xd6\\xd6:\\x07\\x04\\\\\\x96q\\xb7\\x0e\\t\\xb8\\x1c\\x17\\xe7\\x1c\\x10PY[\\x0b\\x00[}|\\x06\\x19\\x9e\\xdc\\x07\\xbb\\xa3\\xa2\\x00\\x80B\\xa1\\xf8\\x8a\\xecV\\xd7K\\x16\\x89DBAO\\x8c\\xea\\xea\\xb0G\\x8f\\x14\\xa5\\x15\\x87\\xc3\\x1d^\\xbc\\xf8\\xc4\\xd2\\xa58\\x1c\\xae\\x8d\\xc5\\n\\xd8\\xb1\\xc3u\\xd9\\xb2\\xfc\\xa2\\xa2\\xc1\\xc8\\xcc/*r]\\xb6,`\\xc7\\x8e6\\x16\\x0b\\x87\\xc3\\x9dX\\xbaT\\xb1i\\xee1YY(\\x8bn\\xc3\\x86\\rC\\x87\\x0e\\x15\\x9e\\xff,\\x1d\\x85\\xcb\\xe5\\x8e\\x1a5\\xaa\\xb8\\xb8\\x98\\xaa\\xa9Y|\\xfa\\xb4L\\xfb&}\\x11\\xb1\\xd9\\xd9k\\xc3\\xc2\\xaa\\x9a\\x9b\\x01\\xed\\x0e\\xe8\\xec\\xbcf\\xfe|Ogg\\xe9\\'\\x8f|>?>5\\xf5\\xfc\\xf5\\xeb\\t\\xa9\\xa9h\\x9d\\xc5@[\\xfb\\xdc\\xaaU\\x83\\x8f\\x83\\x15\\x05\\x8f\\xcf\\x1f\\x1b\\x14\\xf4\\xbe\\xb2R[[\\xfb\\xc3\\x87\\x0fZ\"\\x132\\\\\\x9f]U\\xa2\\xa2\\xa2\\xe6\\xcf\\x9f\\x0f\\x00{\\xe7\\xce\\xdd\\xd3\\x93g\\xa7(0;:vGE\\x9dNH\\x10\\xc6\\xdd\\x1a\\xe9\\xeb{89M\\xb6\\xb5u\\xb4\\xb1\\xb1\\x1c`0\\xc9(-}\\x9e\\x9b\\x9b\\xf6\\xeaU\\xe2\\xb3g\\xc2\\xb7\\x04\\x01\\x8f\\xffe\\xe6\\xcc\\xfd\\xf3\\xe6\\xa9\\xcb\\xbb\\x85\\xe7@\\xb8\\x90\\x9c\\xbc\\xf2\\xfcy\\x008z\\xf4hPP\\x90\\xe8\\xa5\\xbeda\\x186a\\xc2\\x84\\xec\\xecl5\\n\\xa5\\xe4\\xf4\\xe9\\xa1\\x9a\\x9a\\x8a5\\x05\\x00\\xdeUT\\xfcq\\xff\\xfe\\x95\\xd4\\xd4>\\xfbP)S(Cutt\\xb5\\xb5u\\xb5\\xb4\\x00\\xa0\\xa1\\xa5\\xa5\\xa1\\xb9\\xb9\\xae\\xa9\\xa9\\xe3\\xf3\\xf5\\x01\\re\\xe5E\\xce\\xce\\xebg\\xcc\\x18\\xd5\\x93i\\xa4@ttuYl\\xd8P\\xd9\\xd4D\\xa3\\xd1\\n\\x0b\\x0b\\xfb\\xe4\\xee\\xf4%\\x0b\\x00\\x92\\x93\\x93Q\\xa2\\xeb\\xcf\\x1e\\x1egV\\xacP\\xb8A\\x08\\xec\\xce\\xce\\xbf\\xd3\\xd2ned\\xbc`0\\xfa\\xec\\xa9(\\x16Z\\xaa\\xaa\\x93,-\\xe788,\\x98<YQ\\x11^\\xfd\\xf1{t\\xf4\\xce\\xabW\\x01 222\\xa0_\\xac\\xa5\\x18\\xb2\\x00`\\xc6\\x8c\\x19\\x89\\x89\\x89$\\x02\\xe1\\xed\\xf1\\xe3\\xf2\\xe5n\\x01\\xc0\\xce\\xabW\\x9f\\x15\\x14\\x04\\xcf\\x99\\xe3!\\x92\\xbb\\xd5\\x1f\\x18\\x86\\xbd\\xad\\xa8H+((\\xa9\\xad\\x15\\x84\\x1c\\xb5\\xb5\\x01\\x80\\xae\\x86\\x86 \\xe4\\x88J\\x9dle5Z\\xe2\\xcez\\x00p/\\'g\\xfb\\x95+>\\xe3\\xc7\\xf7\\xd9\\xadPz4\\xb1X\\xe6\\xbf\\xfc\\xd2\\xc2f[[[\\xe7\\xe4\\xe4\\xf4\\xefL\\xc5\\x93\\x95\\x97\\x97gkk\\x8ba\\x98\\x9f\\xbd\\xfd\\x9d\\xad[\\xe5\\xd3m\\x19\\x18\\x88\\x16\\xf2\\x96\\xb9\\xba\\x1e_\\xba\\xf4\\xeb\\xed)\\xd9\\xccf\\x07\\xfe\\xe7?\\x97RR\\x00\\xc0\\xd6\\xd44\\'$D>9k\\xc3\\xc2\\xce?|\\x08\\x00\\xf7\\xef\\xdf\\xf7\\xf0\\xf0\\xe8_@\\xfc\\x9b\\xc8\\xda\\xdaz\\xd1\\xa2E\\x00\\x10\\x9d\\x95%\\xeb>fB\\xdc\\n\\nB\\xe1\\xcf\\x17\\x9f<\\x19\\xb5i\\x93\\x02\\'R\\xa2\\x88\\xc9\\xca\\x1a\\xb5i\\x13b\\xca\\xc1\\xc2\\xe2\\x9a\\xbc+I\\xe1\\x8f\\x1f#\\xa6\\xdc\\xdc\\xdc\\xc42\\x05\\x03\\xd5,\\x00hnnvpp(**\\xc2\\xe3pq;v\\xa0\\xac\\x1fY\\xd1\\xcd\\xe3\\x1d\\x89\\x8d\\xddw\\xf3&\\xda\\x06\\xcd\\xfb\\xbb\\xefB\\x16-RT\\xc7\\\\PY\\xb9\\xe3\\xea\\xd5\\x98\\xac,\\x00\\xa0\\x90H\\xfb\\xe7\\xcf\\xdf\\xec\\xed-_&\\xd8\\xb3\\x82\\x82i\\xfb\\xf7wuw\\xeb\\xe9\\xe9eff\\x0e\\xb4-\\xf7\\x80d\\x01@AA\\xc1\\xc4\\x89\\x13[[[5\\x94\\x95_\\xfc\\xf6\\x9b\\xdc7\\xf9\\xbe\\xb2r\\xc5\\xb9sh\\x07\\x1c\\x02\\x1e\\xbf|\\xea\\xd4}\\xf3\\xe6\\r\\x1bD\\xb2iMK\\xcb\\x9e\\xa8\\xa8\\x0b\\xc9\\xc9h\\x08\\xe2H\\xa7\\x87\\xaf]K\\x17qB\\xc8\\x84\\xb2\\x86\\x06\\xfb\\x9d;\\xebZ[I$\\xd2\\xa3G\\x8f\\x9c\\x07\\x0eZ\\x91D\\x16\\x00$$$x{{\\xf3\\xf9|3*5\\xf3\\xe0A\\xb9s\\x81\\xf9\\x18v!9yoT\\x14\\x1a\\x94\\xaa\\x92\\xc9k\\xdc\\xdd\\x97L\\x992N\\xc6\\xe8\\xd3\\xf7\\x95\\x95\\xe1\\xc9\\xc9\\xe7\\x1e<@\\xce\\x93\\xe1::\\xfb\\xe7\\xcf_\\xe6\\xea\\x8a\\x97w\\xf8\\xce\\xee\\xec\\x9c\\x1c\\x1c\\x8c\\xb6\\xa0\\t\\x0b\\x0b[\\xb9r\\xa5\\x84\\xc2_ \\x0b\\x00\\x8e\\x1e=\\xbau\\xebV\\x00p\\x1d=\\xfaAp\\xf0`\\x12\\xc1;\\xba\\xbaB\\xef\\xdd\\x0b\\x89\\x89\\x11n^9\\xca\\xd0\\xd0\\xdf\\xc9i\\xc1\\xe4\\xc9\\x92}\\xc1\\x8dL\\xe6\\xb5\\xb4\\xb4\\xc8\\xa7O\\x85\\xcb\\x91\\x1a\\xca\\xca;\\xfc\\xfc6zy\\rf\\x93]\\x0c\\xc3~8~\\x1c\\xad\\xf8\\x07\\x06\\x06\\x86\\x86\\x86J.\\xffe\\xb2\\x00`\\xe9\\xd2\\xa5(\\t\\xfd\\xa7\\xe9\\xd3\\xcf\\xafZ%\\xb7q\\x08M,\\xd6\\xb1\\xb8\\xb8\\xc8\\x94\\x94\\x8a\\xc6F\\xe1Is*u\\x84\\xbe\\xbe\\x19\\x95jN\\xa5\\x9a\\xeb\\xeb\\xabS(\\xc555\\x8c\\xeajFu5\\xa3\\xaa\\xeaC]\\x9dpno\\xa0\\xad\\xbd\\xc4\\xc5%h\\xd6,\\xddAo\\xb2\\xbb\\'*j\\xff\\xcd\\x9b\\x00\\xe0\\xee\\xee\\x1e\\x1f\\x1f\\xff\\xc5\\x1f0\\x90\\x8a\\xac\\xce\\xceNWW\\xd7\\xf4\\xf4t\\x008\\x12\\x10\\xb0e\\xd6\\xacAZ\\t\\x00|\\x0c{\\xfa\\xee\\xdd\\x95\\xd4\\xd4\\x9b\\xe9\\xe9\\xd2\\xec\\x92\\xaaB&\\xcf\\x9e0a\\x89\\x8b\\xcb\\xb4\\xb1c\\xe5nt\\xa2\\xb8\\x94\\x92\\xb2\\xf4\\xcc\\x19\\x0c\\xc3\\xe8tzzz\\xba\\x96\\x14\\x8brR\\x91\\x05\\x00555\\xf6\\xf6\\xf6(\\x0e|\\x9d\\x87G\\xe8\\xb2e\\xfd\\xd7\\x04\\xe5C\\'\\x97\\xfb\\xf0\\xf5\\xeb\\xb7\\x15\\x15\\x1fjkKjk?\\xd4\\xd6\\x9654\\xf01l\\x98\\x96\\xd6\\x08}}s}}s*\\xd5j\\xf8p\\x0fkkEM\\xec1\\x0c\\xdb{\\xe3\\xc6\\x81[\\xb70\\x0c\\xd3\\xd2\\xd2\\xca\\xc8\\xc8\\x10.\\xcbK\\x86\\xb4d\\x01@nn\\xae\\xa7\\xa7\\'\\xda\\x12}\\xda\\xd8\\xb176o\\xfeJ\\xe3\\xccn\\x1e\\x8f\\xcb\\xe3}\\xa5\\x1d\\xbf\\xd9\\x9d\\x9dK\\xfe\\xf8\\x03\\xf5SZZZ\\xd1\\xd1\\xd1.R\\x87C\\xc9@\\x16\\x00TVV\\xfa\\xf9\\xf9\\xa1L\\xce\\x11\\xfa\\xfaq\\xdb\\xb7+jQ\\xf6\\xdb\\xa0\\xac\\xa1\\xc1\\'$\\x04\\xbd\\xfb\\xe8tzll\\xac\\x94u\\nA\\xb6!\\xdc\\xf0\\xe1\\xc3SRR\\x90\\x0f\\xa7\\xb8\\xa6f\\xe2\\xae]\\xf7sse\\x92\\xf0\\xff\\x11\\xcf\\n\\n\\xecw\\xeeDL\\xb9\\xbb\\xbb\\xa7\\xa7\\xa7\\xcb\\xc4\\x14\\xc8J\\x16\\x00(++\\xff\\xfd\\xf7\\xdf\\x07\\x0e\\x1c\\xc0\\xf5\\xec\\xeb\\x8c\\xf6\\x9a\\xfc/G\\xf8\\xe3\\xc7\\xd3\\xf6\\xefG[\\xd4\\x05\\x06\\x06\\xc6\\xc7\\xc7K\\xd3\\xa3\\xf7\\x81l\\xcdP\\x14w\\xee\\xdc\\t\\x08\\x08`\\xb3\\xd9\\x00\\xe0\\xef\\xe4t4 `0\\x83\\xf2\\xaf\\x87&\\x16k\\xd7\\xb5kh\\xdeG\"\\x91\\xce\\x9e=+y\\xe4)\\x01\\xf2\\x93\\x05\\x00yyy>>>eee\\x00\\xa0B&o\\xf4\\xf4\\xdc\\xee\\xe7\\'O\\xfa\\xd6\\xd7AGW\\xd7\\xc9\\xf8\\xf8\\x90\\x98\\x18\\xe4/\\xd3\\xd3\\xd3\\xbbu\\xeb\\x96\\x84\\xd9\\xcc\\x171(\\xb2\\x00\\xa0\\xae\\xaen\\xcd\\x9a5w\\xee\\xdcA\\x1f\\x87\\xa8\\xab\\x07\\xcf\\x9e\\xfd\\xb3\\x87\\x87\\xf4\\x9b\\xa6|\\r\\xf0\\xf8\\xfc\\xff<~\\xbc\\xf7\\xc6\\r\\xe1\\xbe\\xc9nnnaaa\\xb2\\xfepU\\x1f\\x0c\\x96,\\x84\\xe7\\xcf\\x9fo\\xdb\\xb6---\\r}4\\xd1\\xd3;\\xb0`\\x81\\xbf\\x93\\x93BF\\x8f\\xb2\"&+k\\xe7\\xd5\\xab\\xef++\\xd1Gkk\\xeb\\x90\\x90\\x90\\x81\\xbc.2A1d!DGG\\xef\\xdc\\xb9\\xb3\\xa0\\xa0\\x00}\\xb4\\xa6\\xd1\\xf6\\xcf\\x9f?\\xd3\\xd6v0\\xd3I\\xe9\\xc1\\xc7\\xb0\\xc7\\xf9\\xf9\\xbb\\xa3\\xa2\\xd0*\\x16\\x00\\xd0h\\xb4\\x03\\x07\\x0e,Z\\xb4HQ\\xd1\\x87\\x8a$\\x0b\\x00x<\\xde\\x85\\x0b\\x17\\xf6\\xee\\xdd+\\xfcA%-UUO[[?{\\xfb\\x1966\\n_\\x89\\x01\\x00\\x0e\\x97\\xfb\\xf0\\xf5\\xeb\\xe8\\xcc\\xcc\\xb8\\x97/\\xd1\\x1a2\\x00hkk\\xef\\xda\\xb5k\\xfd\\xfa\\xf5d\\x85z\\xeb\\x15L\\x16\\x02\\x9b\\xcd>q\\xe2\\xc4\\xe1\\xc3\\x87\\x99\"yVd\\x12\\xe9\\xfb1c\\xfc\\xec\\xed}\\xc6\\x8f\\xd7\\x97\\xfd\\xb5\\xdd\\x07\\xcdl\\xf6\\xdd\\x97/\\xa3\\xb3\\xb2\\x12ss\\x91\\xbb\\x06\\x81B\\xa1l\\xd8\\xb0a\\xe7\\xce\\x9dr\\x8c\\x0c\\xbe\\x88\\xafB\\x16BKKK\\\\\\\\\\\\LLLbb\"K\\xe472p8\\x9c\\xc3\\x88\\x11\\xde\\xdf}7\\xd6\\xd8\\xd8r\\xd803*U\\x9a\\xb7A7\\x8fWZ_\\xcf\\xa8\\xae~WQ\\x91\\xf0\\xeaU\\xca\\xfb\\xf7\\xa21\\x06\\x14\\n\\xc5\\xcd\\xcd\\xcd\\xd7\\xd7\\xd7\\xd7\\xd7W\\xef+\\xfc\\xc8\\x96\\xc0\\xf2\\xafG\\x96\\x10\\x9d\\x9d\\x9d\\xc9\\xc9\\xc9\\xb1\\xb1\\xb1\\xb1\\xb1\\xb1U\\xfd\\x02\\xc8\\tx\\xbc\\x89\\x9e\\x9e\\xe4\\x9f\\xec+ol\\xfcP[\\xdb?\\xb2VWW\\xd7\\xdb\\xdb\\xdb\\xd7\\xd7\\xd7\\xdd\\xdd}\\x90?N)\\r\\xbe\\x05YB`\\x18\\x96\\x9d\\x9d\\x1d\\x1b\\x1b\\x1b\\x13\\x13\\xf3Fd\\x1fgYaaa\\x81*\\x91\\xa3\\xa3\\xe37\\x0b\\x1d\\x87oL\\x96(ZZZ\\x18\\x0c\\x06\\xfa\\x99\\xd1\\xc2\\xc2\\xc2\\x8a\\x8a\\n)\\x7ff\\xd4\\xd2\\xd2\\xf2\\xeb54\\xc9\\xf8\\x7f\\xba\\xe7w\\xc2\\x98Sl\\xa3\\x00\\x00\\x00\\x00IEND\\xaeB`\\x82'\n"
     ]
    }
   ],
   "source": [
    "print(resultado.content)"
   ]
  },
  {
   "cell_type": "code",
   "execution_count": 40,
   "metadata": {
    "scrolled": true
   },
   "outputs": [
    {
     "data": {
      "text/plain": [
       "{'Connection': 'keep-alive', 'Server': 'gunicorn/19.9.0', 'Date': 'Tue, 05 Feb 2019 21:48:39 GMT', 'Content-Type': 'image/png', 'Content-Length': '8090', 'Access-Control-Allow-Origin': '*', 'Access-Control-Allow-Credentials': 'true', 'Via': '1.1 vegur'}"
      ]
     },
     "execution_count": 40,
     "metadata": {},
     "output_type": "execute_result"
    }
   ],
   "source": [
    "resultado.headers"
   ]
  },
  {
   "cell_type": "markdown",
   "metadata": {},
   "source": [
    "Para desplegar una imagen se utilziará el módulo _Image_ de iPython."
   ]
  },
  {
   "cell_type": "code",
   "execution_count": 33,
   "metadata": {},
   "outputs": [],
   "source": [
    "from IPython.display import Image"
   ]
  },
  {
   "cell_type": "code",
   "execution_count": 34,
   "metadata": {},
   "outputs": [
    {
     "data": {
      "image/png": "[encoded data removed]",
      "text/plain": [
       "<IPython.core.display.Image object>"
      ]
     },
     "execution_count": 34,
     "metadata": {},
     "output_type": "execute_result"
    }
   ],
   "source": [
    "Image(resultado.content)"
   ]
  },
  {
   "cell_type": "code",
   "execution_count": 41,
   "metadata": {},
   "outputs": [],
   "source": [
    "resultado.close()"
   ]
  },
  {
   "cell_type": "markdown",
   "metadata": {},
   "source": [
    "**Ejemplo:**\n",
    "\n",
    "El método post aplicado a https://httpbin.org"
   ]
  },
  {
   "cell_type": "code",
   "execution_count": 42,
   "metadata": {},
   "outputs": [],
   "source": [
    "respuesta = requests.post(\"https://httpbin.org/post\", json = {\"saludo\": \"Hola\"})"
   ]
  },
  {
   "cell_type": "code",
   "execution_count": 43,
   "metadata": {},
   "outputs": [
    {
     "data": {
      "text/plain": [
       "{'Connection': 'keep-alive', 'Server': 'gunicorn/19.9.0', 'Date': 'Tue, 05 Feb 2019 21:52:03 GMT', 'Content-Type': 'application/json', 'Content-Length': '445', 'Access-Control-Allow-Origin': '*', 'Access-Control-Allow-Credentials': 'true', 'Via': '1.1 vegur'}"
      ]
     },
     "execution_count": 43,
     "metadata": {},
     "output_type": "execute_result"
    }
   ],
   "source": [
    "respuesta.headers"
   ]
  },
  {
   "cell_type": "code",
   "execution_count": 44,
   "metadata": {},
   "outputs": [
    {
     "data": {
      "text/plain": [
       "200"
      ]
     },
     "execution_count": 44,
     "metadata": {},
     "output_type": "execute_result"
    }
   ],
   "source": [
    "respuesta.status_code"
   ]
  },
  {
   "cell_type": "code",
   "execution_count": 45,
   "metadata": {},
   "outputs": [
    {
     "data": {
      "text/plain": [
       "{'args': {},\n",
       " 'data': '{\"saludo\": \"Hola\"}',\n",
       " 'files': {},\n",
       " 'form': {},\n",
       " 'headers': {'Accept': '*/*',\n",
       "  'Accept-Encoding': 'gzip, deflate',\n",
       "  'Connection': 'close',\n",
       "  'Content-Length': '18',\n",
       "  'Content-Type': 'application/json',\n",
       "  'Host': 'httpbin.org',\n",
       "  'User-Agent': 'python-requests/2.21.0'},\n",
       " 'json': {'saludo': 'Hola'},\n",
       " 'origin': '132.248.38.55',\n",
       " 'url': 'https://httpbin.org/post'}"
      ]
     },
     "execution_count": 45,
     "metadata": {},
     "output_type": "execute_result"
    }
   ],
   "source": [
    "respuesta.json()"
   ]
  },
  {
   "cell_type": "code",
   "execution_count": 46,
   "metadata": {},
   "outputs": [],
   "source": [
    "respuesta.close()"
   ]
  },
  {
   "cell_type": "markdown",
   "metadata": {},
   "source": [
    "<p style=\"text-align: center\"><a rel=\"license\" href=\"http://creativecommons.org/licenses/by/4.0/\"><img alt=\"Licencia Creative Commons\" style=\"border-width:0\" src=\"https://i.creativecommons.org/l/by/4.0/80x15.png\" /></a><br />Esta obra está bajo una <a rel=\"license\" href=\"http://creativecommons.org/licenses/by/4.0/\">Licencia Creative Commons Atribución 4.0 Internacional</a>.</p>\n",
    "<p style=\"text-align: center\">&copy; José Luis Chiquete Valdivieso. 2019.</p>"
   ]
  }
 ],
 "metadata": {
  "kernelspec": {
   "display_name": "Python 3",
   "language": "python",
   "name": "python3"
  },
  "language_info": {
   "codemirror_mode": {
    "name": "ipython",
    "version": 3
   },
   "file_extension": ".py",
   "mimetype": "text/x-python",
   "name": "python",
   "nbconvert_exporter": "python",
   "pygments_lexer": "ipython3",
   "version": "3.6.6"
  }
 },
 "nbformat": 4,
 "nbformat_minor": 2
}
