{
 "cells": [
  {
   "cell_type": "markdown",
   "metadata": {},
   "source": [
    "[![imagenes/pythonista.png](imagenes/pythonista.png)](https://pythonista.io)"
   ]
  },
  {
   "cell_type": "markdown",
   "metadata": {},
   "source": [
    "*Django* cuenta desde su instalación con un sistema simple de:\n",
    "\n",
    "* Gestión de usuarios.\n",
    "* Gestión de grupos.\n",
    "* Autenticación básica.\n",
    "* Gestión de sesiones.\n",
    "\n",
    "https://docs.djangoproject.com/en/2.2/topics/auth/"
   ]
  },
  {
   "cell_type": "markdown",
   "metadata": {},
   "source": [
    "## Aplicaciones y middleware asociados."
   ]
  },
  {
   "cell_type": "markdown",
   "metadata": {},
   "source": [
    "Las aplicaciones instaladas para la gestión de usuarios y permisos son:\n",
    "* ```django.contrib.auth``` para la gestión de usuarios y grupos.\n",
    "* ```django.contrib.contenttypes``` para asignar permisoso a los modelos que cree el desarrollador."
   ]
  },
  {
   "cell_type": "markdown",
   "metadata": {},
   "source": [
    "El middleware que utliza Django por efecto es:\n",
    "\n",
    "* ```AuthenticationMiddleware```, el cual permite realizar la autenticación y autorización de acceso.\n",
    "* ```SessionMiddleware```, el cual gestiona las sesiones."
   ]
  },
  {
   "cell_type": "markdown",
   "metadata": {},
   "source": [
    "**Ejemplo:**"
   ]
  },
  {
   "cell_type": "code",
   "execution_count": 1,
   "metadata": {},
   "outputs": [],
   "source": [
    "%pycat tutorial/tutorial/settings.py"
   ]
  },
  {
   "cell_type": "markdown",
   "metadata": {},
   "source": [
    "##  Gestión de usuarios.\n",
    "\n",
    "Los usuarios y grupos en *Django* se crean mediante modelos predeterminados."
   ]
  },
  {
   "cell_type": "markdown",
   "metadata": {},
   "source": [
    "### La clase  ```django.contrib.auth.models.User```.  \n",
    "\n",
    "* La clase ```django.contrib.auth.models.User``` es una subclase de  ```django.db..models.Model``` y corresponde al modelo básico de un usuario de *Django*. A partir de este momento se hará referencia a esta clase como  \"el modelo ```User```\"."
   ]
  },
  {
   "cell_type": "markdown",
   "metadata": {},
   "source": [
    "### El atributo de clase ```User.objects```.\n",
    "\n",
    "Al ser una subclase de ```django.db.models.Model```, el modelo ```User``` cuenta con el atributo de clase ```objects```, el cual puede realizar operaciones de consulta, altas y bajas de instancias mediante métodos como:\n",
    "\n",
    "* ```save()```\n",
    "* ```delete()```\n",
    "* ```get()```\n",
    "* ```filter()```\n",
    "\n",
    "#### El método ```User.objects.create_user()```.\n",
    "\n",
    "Este método permite crear la cuenta de un usuario y guardarla en la base de datos.\n",
    "\n",
    "```\n",
    " User.objects.create_user('<nombre de usuario>', '<correo electrónico>', '<contraseña>')\n",
    "```"
   ]
  },
  {
   "cell_type": "markdown",
   "metadata": {},
   "source": [
    "#### Atributos del modelo ```User```.\n",
    "\n",
    "El modelo ```User``` cuenta con los siguientes atributos:\n",
    "\n",
    "* ```id```, el cual corresponde a un identificador numérico que *Django* le otorga al modelo cuando es instanciado.\n",
    "* ```username```, el cual corresponde al nombre de usuario. Este atributo es obligatorio para crear al modelo.\n",
    "* ```password```, el cual corresponde a la contraseña del usuario. Este atributo es obligatorio para crear al modelo.\n",
    "* ```first_name```, el cual corresponde al nombre del usuario.\n",
    "* ```last_name```, el cual corresponde al apellido del usuario.\n",
    "* ```email```, el cual corresponde a la dirección de correo electrónico del usuario.\n",
    "* ```is_superuser``` es un valor de tipo ```bool``` que indica si el usuario es in superusuario.\n",
    "* ```is_staff```  es un valor de tipo ```bool``` que indica si el usuario es parte del \"staff\" de la organización.\n",
    "* ```is_active``` es un valor de tipo ```bool``` que indica si el usuario está activo.\n",
    "* ```last_login``` es un valor de tipo ```datetime.datetime```con la fecha y hora del último acceso del usuario.\n",
    "* ```date_joined``` es un valor de tipo ```datetime.datetime```con la fecha y hora en la que el usuario fue creado."
   ]
  },
  {
   "cell_type": "markdown",
   "metadata": {},
   "source": [
    "### Creación de un usuario."
   ]
  },
  {
   "cell_type": "markdown",
   "metadata": {},
   "source": [
    "## Gestión de grupos."
   ]
  },
  {
   "cell_type": "markdown",
   "metadata": {},
   "source": [
    "### Tablas asociadas a usuarios y grupos en la base de datos.\n",
    "\n",
    "La gestión de usuarios está ligada a varias tablas de la base de datos asociada a *Django*, la cuales fueron creadas al ejecutar el comando ```manage.py migrate```.\n",
    "\n",
    "Estas tablas tienen el prefijo ```auth_```:\n",
    "\n",
    "* ```auth_user```.\n",
    "* ```auth_group```.\n",
    "* ```auth_permission```.\n",
    "* ```auth_group_permissions```.\n",
    "* ```auth_user_groups```.\n",
    "* ```auth_user_user_permissions```.\n"
   ]
  },
  {
   "cell_type": "code",
   "execution_count": null,
   "metadata": {},
   "outputs": [],
   "source": [
    "##"
   ]
  },
  {
   "cell_type": "markdown",
   "metadata": {},
   "source": [
    "## Creación de un superusuario."
   ]
  },
  {
   "cell_type": "markdown",
   "metadata": {},
   "source": [
    "```\n",
    "./manage.py createsuperuser --email=\"josech@gmail.com\" --user=\"josech\"\n",
    "```"
   ]
  },
  {
   "cell_type": "markdown",
   "metadata": {},
   "source": [
    "<p style=\"text-align: center\"><a rel=\"license\" \n",
    "                                 href=\"http://creativecommons.org/licenses/by/4.0/\"><img alt=\"Licencia Creative Commons\" style=\"border-width:0\" src=\"https://i.creativecommons.org/l/by/4.0/80x15.png\" /></a><br />Esta obra está bajo una <a rel=\"license\" href=\"http://creativecommons.org/licenses/by/4.0/\">Licencia Creative Commons Atribución 4.0 Internacional</a>.</p>\n",
    "<p style=\"text-align: center\">&copy; José Luis Chiquete Valdivieso. 2019.</p>"
   ]
  }
 ],
 "metadata": {
  "kernelspec": {
   "display_name": "Python 3",
   "language": "python",
   "name": "python3"
  },
  "language_info": {
   "codemirror_mode": {
    "name": "ipython",
    "version": 3
   },
   "file_extension": ".py",
   "mimetype": "text/x-python",
   "name": "python",
   "nbconvert_exporter": "python",
   "pygments_lexer": "ipython3",
   "version": "3.6.8"
  }
 },
 "nbformat": 4,
 "nbformat_minor": 2
}
