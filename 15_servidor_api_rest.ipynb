{
 "cells": [
  {
   "cell_type": "markdown",
   "metadata": {},
   "source": [
    "[![imagenes/pythonista.png](imagenes/pythonista.png)](https://pythonista.io)"
   ]
  },
  {
   "cell_type": "markdown",
   "metadata": {},
   "source": [
    "**ADVERTENCIA:**  \n",
    "\n",
    "Para poder realizar exitosamente los ejercicios de esta notebook, es necesario haber seguido al pie de la letra y en orden sucesivo las instrucciones de todas las notebooks previas."
   ]
  },
  {
   "cell_type": "code",
   "execution_count": null,
   "metadata": {},
   "outputs": [],
   "source": [
    "%cd tutorial"
   ]
  },
  {
   "cell_type": "markdown",
   "metadata": {},
   "source": [
    "El archivo *src/15/urls.py* contiene lo siguiente:\n",
    "\n",
    "``` python \n",
    "from django.urls import path, re_path\n",
    "from . import views, endpoint_views\n",
    "\n",
    "urlpatterns = [path('', views.vista),\n",
    "               path('carga', views.carga),\n",
    "               re_path(r'^(?P<clave>[0-9]{4}$)', endpoint_views.clave),]\n",
    "```"
   ]
  },
  {
   "cell_type": "code",
   "execution_count": null,
   "metadata": {},
   "outputs": [],
   "source": [
    "%cp ../src/15/urls.py api/urls.py"
   ]
  },
  {
   "cell_type": "markdown",
   "metadata": {},
   "source": [
    "``` python\n",
    "from . import models\n",
    "from django.views.decorators.csrf import csrf_exempt\n",
    "from django.http import JsonResponse, HttpResponseNotFound, HttpResponseBadRequest\n",
    "\n",
    "campos = {'numero_de_cuenta':(int, True), 'nombre':(str, True), 'primer_apellido':(str, True),\n",
    "          'segundo_apellido':(str, False), 'carrera':(str, True), 'semestre':(int, True),\n",
    "          'promedio':(float, True), 'al_corriente':(bool, True)}\n",
    "\n",
    "carreras = ('Sistemas', 'Derecho', 'Actuaría', 'Arquitectura', 'Administración')\n",
    "\n",
    "estructura_base = set(campos)\n",
    "\n",
    "\n",
    "def reglas(valor, campo):\n",
    "    if campo == \"carrera\" and valor not in carreras:\n",
    "        return False\n",
    "    elif campo == \"semestre\" and valor < 1:\n",
    "        return False\n",
    "    elif campo == \"promedio\" and (valor < 0 or valor > 10):\n",
    "        return False\n",
    "    elif (campo in (\"nombre\", \"primer_apellido\") and (valor == \"\")):\n",
    "        return False\n",
    "    else:\n",
    "        return True         \n",
    "\n",
    "    \n",
    "def valida(dato, campo):\n",
    "    tipo = campos[campo][0]\n",
    "    try:\n",
    "        if tipo is not str:\n",
    "            valor = eval(dato)\n",
    "        else:\n",
    "            valor = dato\n",
    "        if type(valor) is tipo or (tipo is float and type(dato) is int):\n",
    "            return reglas(valor, campo)\n",
    "        else:\n",
    "            return False\n",
    "    except:\n",
    "        return False\n",
    "\n",
    "\n",
    "@csrf_exempt\n",
    "def clave(request, clave):\n",
    "    '''Función de vista que define un endpoint correspondiente a una clave de 4 dígitos.\n",
    "    Opera con los métodos GET, POST, DELETE.'''\n",
    "    # Cuando la petición es GET va a obtener los datos del alumno con la clave correrspondiente.\n",
    "    # Esta operación se realiza en caso de que exista un objeto con el número de cuenta.\n",
    "    if request.method == \"GET\":\n",
    "        try:\n",
    "            alumno = models.Alumno.objects.get(numero_de_cuenta=clave) \n",
    "            return JsonResponse({campo:getattr(alumno, campo) for campo in campos})\n",
    "        # La excepción models.Alumno.DoesNotExist se desencadena cuando la búsqueda no arroje un resultado.\n",
    "        except models.Alumno.DoesNotExist:\n",
    "            return HttpResponseNotFound()\n",
    "        \n",
    "    # Cuando la petición es DELETE el alumno es eliminado de la base de datos.\n",
    "    # Esta operación se realiza en caso de que exista un objeto con el número de cuenta.\n",
    "    if request.method == \"DELETE\":\n",
    "        try:\n",
    "            alumno = models.Alumno.objects.get(numero_de_cuenta=clave)\n",
    "            alumno.delete()\n",
    "            return JsonResponse({'estado': 'eliminado'})   \n",
    "        except models.Alumno.DoesNotExist:\n",
    "            return HttpResponseNotFound()\n",
    "    # Cuando la petición es POST va a dar de alta los datos del alumno con la clave correspondiente y los datos enviados.\n",
    "    # Esta operación se realiza en caso de que no exista un objeto con el número de cuenta.\n",
    "    if request.method == \"POST\":\n",
    "        try:\n",
    "            alumno = models.Alumno.objects.get(numero_de_cuenta=clave) \n",
    "            return HttpResponseBadRequest()\n",
    "        except models.Alumno.DoesNotExist:\n",
    "            registro = request.POST.dict()\n",
    "            registro[\"numero_de_cuenta\"] = clave\n",
    "            objeto = models.Alumno()\n",
    "            estructura_registro = set(registro)\n",
    "            if estructura_registro.issubset(estructura_base):\n",
    "                for campo in estructura_base:\n",
    "                    if valida(registro[campo], campo):\n",
    "                        if campos[campo][0] is not str:\n",
    "                            valor = eval(registro[campo])\n",
    "                        else:\n",
    "                            valor = registro[campo]\n",
    "                        setattr(objeto, campo, valor)\n",
    "                    else:\n",
    "                        return HttpResponseBadRequest()\n",
    "                objeto.save()\n",
    "                return JsonResponse(registro)\n",
    "            else:\n",
    "                return HttpResponseBadRequest()\n",
    "```\n"
   ]
  },
  {
   "cell_type": "code",
   "execution_count": null,
   "metadata": {},
   "outputs": [],
   "source": [
    "%cp ../src/15/endpoint_views.py api/endpoint_views.py"
   ]
  },
  {
   "cell_type": "code",
   "execution_count": null,
   "metadata": {
    "scrolled": true
   },
   "outputs": [],
   "source": [
    "%cat api/endpoint_views.py"
   ]
  },
  {
   "cell_type": "markdown",
   "metadata": {},
   "source": [
    "**ADVERTENCIAS:** \n",
    "\n",
    "* Al ejecutar la siguiente celda el servidor se inciará desde la notebook, por lo que para ejecutar cualquier otra celda es necesario interrumpir la ejecución del kernel.\n",
    "\n",
    "* Asegúrese que no haya otro servicio escuchando en el puerto *5000*."
   ]
  },
  {
   "cell_type": "code",
   "execution_count": null,
   "metadata": {},
   "outputs": [],
   "source": [
    "!./manage.py runserver 0.0.0.0:5000"
   ]
  },
  {
   "cell_type": "markdown",
   "metadata": {},
   "source": [
    "http://localhost:5000/api/1221"
   ]
  },
  {
   "cell_type": "markdown",
   "metadata": {},
   "source": [
    "<p style=\"text-align: center\"><a rel=\"license\" href=\"http://creativecommons.org/licenses/by/4.0/\"><img alt=\"Licencia Creative Commons\" style=\"border-width:0\" src=\"https://i.creativecommons.org/l/by/4.0/80x15.png\" /></a><br />Esta obra está bajo una <a rel=\"license\" href=\"http://creativecommons.org/licenses/by/4.0/\">Licencia Creative Commons Atribución 4.0 Internacional</a>.</p>\n",
    "<p style=\"text-align: center\">&copy; José Luis Chiquete Valdivieso. 2019.</p>"
   ]
  }
 ],
 "metadata": {
  "kernelspec": {
   "display_name": "Python 3",
   "language": "python",
   "name": "python3"
  },
  "language_info": {
   "codemirror_mode": {
    "name": "ipython",
    "version": 3
   },
   "file_extension": ".py",
   "mimetype": "text/x-python",
   "name": "python",
   "nbconvert_exporter": "python",
   "pygments_lexer": "ipython3",
   "version": "3.6.6"
  }
 },
 "nbformat": 4,
 "nbformat_minor": 2
}
