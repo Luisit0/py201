{
 "cells": [
  {
   "cell_type": "markdown",
   "metadata": {},
   "source": [
    "[![imagenes/pythonista.png](imagenes/pythonista.png)](https://pythonista.io)"
   ]
  },
  {
   "cell_type": "markdown",
   "metadata": {},
   "source": [
    "**ADVERTENCIA:**  \n",
    "\n",
    "Para poder realizar exitosamente los ejercicios de esta notebook, es necesario haber seguido al pie de la letra y en orden sucesivo las instrucciones de todas las notebooks previas."
   ]
  },
  {
   "cell_type": "markdown",
   "metadata": {},
   "source": [
    "https://docs.djangoproject.com/en/2.2/topics/forms/"
   ]
  },
  {
   "cell_type": "markdown",
   "metadata": {},
   "source": [
    "## Formularios en HTML.\n",
    "\n",
    "Las formularios en HTML se definen mediante la etiqueta ```<form>``` de la siguiente forma:\n",
    "\n",
    "```\n",
    "<form action=\"[acción]\" method=\"[método]\">\n",
    "...\n",
    "...\n",
    "</form>\n",
    "```\n",
    "\n",
    "Donde: \n",
    "\n",
    "* ```[acción]``` puede ser:\n",
    "    * Una *URL* a la que se enviarán los datos obtenidos.\n",
    "    * La referencia a una función, generalmente de *Javascript*, capaz de procesar los datos obtenidos.\n",
    "* ```[método]``` define al método  que se utilizará para enviar los datos del formulario y puede ser ```GET``` o ```POST```.\n",
    "   \n",
    "Las etiquetas ```<form>``` sirven como contenedores para otras etiquetas *HTML* que pueden interactura con el usuario para ingresaqr datos. La etiqueta más común es ```<input>```.\n",
    "\n",
    "\n",
    "Para mayor referencia consultar en https://www.w3schools.com/html/html_forms.asp"
   ]
  },
  {
   "cell_type": "markdown",
   "metadata": {},
   "source": [
    "## Elementos de un formulario en *Django*.\n",
    "\n",
    "*Django* puede crear y gestionar formularios mediante los siguientes elementos.\n",
    " \n",
    "* Formularios (\"forms\"), los cuales son contendores para campos específicos.\n",
    "* Campos (\"fields\"), los cuales corresponden a los datos que serán obtenidos de las formas.\n",
    "* \"Widgets\", los cuales definen el tipo de elemento del front-end con el que se obtendrán los datos. \n",
    "* Validadores, los cuales permiten realizar valdiaciones de los datos ingresados."
   ]
  },
  {
   "cell_type": "markdown",
   "metadata": {},
   "source": [
    "## Los archivo ```forms.py```.\n",
    "\n",
    "Los archivos ```forms.py``` contienen las definiciones de formularios de una aplicación."
   ]
  },
  {
   "cell_type": "markdown",
   "metadata": {},
   "source": [
    "## La clase ```django.forms.Form```.\n",
    "\n",
    "La clase ```django.forms.Form``` es la clase base para la creación de formularios. A partir de sus subclases es posible diseñar otros formularios.\n",
    "\n",
    "Para mayor referencia sobre esta clase  se puede consultar la siguiente liga:\n",
    "\n",
    "https://docs.djangoproject.com/en/2.2/ref/forms/api/#django.forms.Form"
   ]
  },
  {
   "cell_type": "markdown",
   "metadata": {},
   "source": [
    "## La clase ```django.forms.ModelForm```.\n",
    "\n",
    "https://docs.djangoproject.com/en/2.2/topics/forms/modelforms/#django.forms.ModelForm"
   ]
  },
  {
   "cell_type": "markdown",
   "metadata": {},
   "source": [
    "## Los campos.\n",
    "\n",
    "https://docs.djangoproject.com/en/2.2/ref/forms/fields/#built-in-field-classes"
   ]
  },
  {
   "cell_type": "markdown",
   "metadata": {},
   "source": [
    "## Los \"widgets\" de los campos.\n",
    "\n",
    "https://docs.djangoproject.com/en/2.2/ref/forms/widgets/"
   ]
  },
  {
   "cell_type": "markdown",
   "metadata": {},
   "source": [
    "## Validadores.\n",
    "https://docs.djangoproject.com/en/2.2/ref/validators/"
   ]
  },
  {
   "cell_type": "markdown",
   "metadata": {},
   "source": [
    "## Protección contra el envío de falsificación de peticiones entre sitios (CSRF).\n",
    "\n",
    "Cross Site Request Forgery.\n",
    "\n",
    "https://docs.djangoproject.com/en/2.2/ref/csrf/\n",
    "\n",
    "django.middleware.csrf.CsrfViewMiddleware\n",
    "\n",
    "### La etiqueta de plantilla *csrf*.\n",
    "\n",
    "```\n",
    "{% csrf_token %}\n",
    "```\n"
   ]
  },
  {
   "cell_type": "code",
   "execution_count": null,
   "metadata": {},
   "outputs": [],
   "source": [
    "from tutorial.tutorial import settings as settings"
   ]
  },
  {
   "cell_type": "code",
   "execution_count": null,
   "metadata": {},
   "outputs": [],
   "source": [
    "settings.MIDDLEWARE"
   ]
  },
  {
   "cell_type": "markdown",
   "metadata": {},
   "source": [
    "## La función ```django.shortcuts.render()```.\n",
    "\n",
    "```\n",
    "render(request, '<plantilla>', context=<contexto>)\n",
    "```"
   ]
  },
  {
   "cell_type": "markdown",
   "metadata": {},
   "source": [
    "## Creación de una forma que consume una API REST para realizar altas."
   ]
  },
  {
   "cell_type": "markdown",
   "metadata": {},
   "source": [
    "### El script ```src/20/urls.py```.\n",
    "\n",
    "El script ```src/20/urls.py``` liga el patrón de la ruta ```/api/alta``` con la función ```tutorial.api.endpoint_views.clave()```.\n",
    "\n",
    "``` python\n",
    "from django.urls import path, re_path\n",
    "from . import views, endpoint_views, template_views\n",
    "\n",
    "urlpatterns = [path('', views.vista),\n",
    "               path('carga', views.carga),\n",
    "               re_path(r'^(?P<clave>[0-9]{4}$)', endpoint_views.clave),\n",
    "               path('vista/', template_views.vista),\n",
    "               path('valida/', template_views.valida),\n",
    "               path('alta/', template_views.forma),\n",
    "         ]\n",
    "```"
   ]
  },
  {
   "cell_type": "markdown",
   "metadata": {},
   "source": [
    "* Se sustiruirá al script ```tutorial/api/urls.py``` con el script ```src/20/urls.py```"
   ]
  },
  {
   "cell_type": "markdown",
   "metadata": {},
   "source": [
    "* Para las plataformas Linux y MacOS X."
   ]
  },
  {
   "cell_type": "code",
   "execution_count": null,
   "metadata": {},
   "outputs": [],
   "source": [
    "!cp src/20/urls.py tutorial/api/urls.py"
   ]
  },
  {
   "cell_type": "markdown",
   "metadata": {},
   "source": [
    "* Para la plataforma Windows."
   ]
  },
  {
   "cell_type": "code",
   "execution_count": null,
   "metadata": {},
   "outputs": [],
   "source": [
    "!copy src\\20\\urls.py tutorial\\api\\urls.py"
   ]
  },
  {
   "cell_type": "markdown",
   "metadata": {},
   "source": [
    "* La siguiente celda despelgará la sustitución hecha en el script ```tutorial/api/urls.py```."
   ]
  },
  {
   "cell_type": "code",
   "execution_count": null,
   "metadata": {},
   "outputs": [],
   "source": [
    "%cat tutorial/api/urls.py"
   ]
  },
  {
   "cell_type": "markdown",
   "metadata": {},
   "source": [
    "### Definción de una forma."
   ]
  },
  {
   "cell_type": "code",
   "execution_count": null,
   "metadata": {},
   "outputs": [],
   "source": [
    "%cp src/20/forms.py tutorial/api/forms.py"
   ]
  },
  {
   "cell_type": "code",
   "execution_count": null,
   "metadata": {
    "scrolled": false
   },
   "outputs": [],
   "source": [
    "%cat tutorial/api/forms.py"
   ]
  },
  {
   "cell_type": "markdown",
   "metadata": {},
   "source": [
    "### La función de vista que contiene la forma."
   ]
  },
  {
   "cell_type": "code",
   "execution_count": null,
   "metadata": {},
   "outputs": [],
   "source": [
    "%cp src/20/template_views.py tutorial/api/template_views.py"
   ]
  },
  {
   "cell_type": "code",
   "execution_count": null,
   "metadata": {
    "scrolled": true
   },
   "outputs": [],
   "source": [
    "%cat tutorial/api/template_views.py"
   ]
  },
  {
   "cell_type": "markdown",
   "metadata": {},
   "source": [
    "### La plantilla que incluye a la forma."
   ]
  },
  {
   "cell_type": "code",
   "execution_count": null,
   "metadata": {},
   "outputs": [],
   "source": [
    "%cp src/20/forma.html tutorial/templates/forma.html"
   ]
  },
  {
   "cell_type": "code",
   "execution_count": null,
   "metadata": {},
   "outputs": [],
   "source": [
    "%cat tutorial/templates/forma.html"
   ]
  },
  {
   "cell_type": "markdown",
   "metadata": {},
   "source": [
    "* Se iniciará el servidor."
   ]
  },
  {
   "cell_type": "code",
   "execution_count": null,
   "metadata": {},
   "outputs": [],
   "source": [
    "%cd tutorial"
   ]
  },
  {
   "cell_type": "markdown",
   "metadata": {},
   "source": [
    "**ADVERTENCIAS:** \n",
    "\n",
    "* Al ejecutar la siguiente celda el servidor se inciará desde la notebook, por lo que para ejecutar cualquier otra celda es necesario interrumpir la ejecución del kernel.\n",
    "\n",
    "* Asegúrese que no haya otro servicio escuchando en el puerto *5000*."
   ]
  },
  {
   "cell_type": "code",
   "execution_count": null,
   "metadata": {},
   "outputs": [],
   "source": [
    "!./manage.py runserver 0.0.0.0:8000"
   ]
  },
  {
   "cell_type": "markdown",
   "metadata": {},
   "source": [
    "http://localhost:5000/api/alta/"
   ]
  },
  {
   "cell_type": "markdown",
   "metadata": {},
   "source": [
    "<p style=\"text-align: center\"><a rel=\"license\" href=\"http://creativecommons.org/licenses/by/4.0/\"><img alt=\"Licencia Creative Commons\" style=\"border-width:0\" src=\"https://i.creativecommons.org/l/by/4.0/80x15.png\" /></a><br />Esta obra está bajo una <a rel=\"license\" href=\"http://creativecommons.org/licenses/by/4.0/\">Licencia Creative Commons Atribución 4.0 Internacional</a>.</p>\n",
    "<p style=\"text-align: center\">&copy; José Luis Chiquete Valdivieso. 2019.</p>"
   ]
  }
 ],
 "metadata": {
  "kernelspec": {
   "display_name": "Python 3",
   "language": "python",
   "name": "python3"
  },
  "language_info": {
   "codemirror_mode": {
    "name": "ipython",
    "version": 3
   },
   "file_extension": ".py",
   "mimetype": "text/x-python",
   "name": "python",
   "nbconvert_exporter": "python",
   "pygments_lexer": "ipython3",
   "version": "3.7.3"
  }
 },
 "nbformat": 4,
 "nbformat_minor": 2
}
