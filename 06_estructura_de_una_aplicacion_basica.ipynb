{
 "cells": [
  {
   "cell_type": "markdown",
   "metadata": {},
   "source": [
    "[![imagenes/pythonista.png](imagenes/pythonista.png)](https://pythonista.io)"
   ]
  },
  {
   "cell_type": "markdown",
   "metadata": {},
   "source": [
    "**ADVERTENCIA:** Es necesario haber creado previamente el proyecto definido en la notebook [02_introduccion_a_django.ipynb](02_introduccion_a_django.ipynb) localizado en el directorio [tutorial](tutorial)."
   ]
  },
  {
   "cell_type": "markdown",
   "metadata": {},
   "source": [
    "## Los archivos *urls.py*.\n",
    "\n",
    "Tanto el directorio de un proyecto como el directorio de una aplicación pueden contener un archivo *urls.py*.\n",
    "\n",
    "Este tipo de archivo es usado por *Django* para relacionar una URL a una función."
   ]
  },
  {
   "cell_type": "markdown",
   "metadata": {},
   "source": [
    "## El archivo *urls.py* de un proyecto.\n",
    "\n",
    "Los proyectos de *Django* siempre deben de hacer referencia a un archivo *urls.py*, partir del cual pueden ser mapeados todas las URL relacionadas.\n",
    "\n",
    "La localización de este archivo es definda con la variable *ROOT_URLCONF* del archivo *settings.py* del proyecto."
   ]
  },
  {
   "cell_type": "markdown",
   "metadata": {},
   "source": [
    "**Ejemplo:**\n",
    "\n",
    "* En caso de haber ejecutado todas las celdas de la notebook [*02_introduccion_a_django.ipynb*](02_introduccion_a_django.ipynb), la localización del archivo se obtendría de la siguiente manera."
   ]
  },
  {
   "cell_type": "code",
   "execution_count": null,
   "metadata": {},
   "outputs": [],
   "source": [
    "import tutorial.tutorial.settings as settings\n",
    "settings.ROOT_URLCONF"
   ]
  },
  {
   "cell_type": "markdown",
   "metadata": {},
   "source": [
    "El archivo se localizaría entonces en *tutorial/tutorial/urls.py*"
   ]
  },
  {
   "cell_type": "code",
   "execution_count": null,
   "metadata": {
    "scrolled": true
   },
   "outputs": [],
   "source": [
    "%cat tutorial/tutorial/urls.py"
   ]
  },
  {
   "cell_type": "markdown",
   "metadata": {},
   "source": [
    "### La lista *urlpatterns*.\n",
    "\n",
    "La variable *urlpatterns* corresponde a un objeto de tipo *list*, el cual contiene una colección de funciones *django.urls.path()*, las cuales describen el \"mapa\" del sitio, relacionando un patron de URL con algún objeto."
   ]
  },
  {
   "cell_type": "markdown",
   "metadata": {},
   "source": [
    "**Ejemplo:**\n",
    "\n",
    "El archivo  *tutorial/tutorial/urls.py* contiene la siguiente línea:\n",
    "\n",
    "``` python\n",
    "urlpatterns = [path('admin/', admin.site.urls),]\n",
    "```\n",
    "La lista *urlpatterns* contiene sólo una función *django.urls.path()*, la cual indica que al acceder a la ruta que contenga el patrón *admin/*  se invoque al objeto *admin.site.urls*"
   ]
  },
  {
   "cell_type": "markdown",
   "metadata": {},
   "source": [
    "### El paquete *django.urls*.\n",
    "\n",
    "Este paquete contiene funciones que permiten identificar URLs específicas y ligarlas con algún objeto."
   ]
  },
  {
   "cell_type": "code",
   "execution_count": null,
   "metadata": {},
   "outputs": [],
   "source": [
    "import django.urls"
   ]
  },
  {
   "cell_type": "code",
   "execution_count": null,
   "metadata": {
    "scrolled": false
   },
   "outputs": [],
   "source": [
    "help(django.urls)"
   ]
  },
  {
   "cell_type": "markdown",
   "metadata": {},
   "source": [
    "#### La función *django.urls.path()*.\n",
    "\n",
    "Esta función permite ligar una función.\n",
    "\n",
    "```\n",
    "django.urls.path('<ruta>', <función>, kwargs, name='<nombre>')\n",
    "```\n",
    "Donde:\n",
    "* *ruta* corresponde a un patrón de URL.\n",
    "* *objeto* corresponde un objeto de Django. \n",
    "* *nombre* es el nombre que se le dará a esta relación (opcional).\n"
   ]
  },
  {
   "cell_type": "markdown",
   "metadata": {},
   "source": [
    "#### La función *django.urls.include()*.\n",
    "\n",
    "Por convención, se utliza el nombre *include* cuando se desea importar algún archivo como un módulo de forma similar a la palabra reservada de Python *import*. \n",
    "\n",
    "En este caso, la función Esta función *django.urls.include()* permite cargar un archivo con una estructura de un archivo *urls.py* localizado en otra ruta.\n",
    "\n",
    "``` python\n",
    "django.urls.include('<ruta>', include('<modulo>')\n",
    "```"
   ]
  },
  {
   "cell_type": "markdown",
   "metadata": {},
   "source": [
    "**Ejemplo:**\n",
    "\n",
    "* Modificar el archivo *tutorial/tutorial/urls.py* con el siguiente código:\n",
    "\n",
    "``` python\n",
    "from django.contrib import admin\n",
    "from django.urls import include, path\n",
    "\n",
    "urlpatterns = [path('admin/', admin.site.urls), path('main/', include('main.urls')),]\n",
    "```\n",
    "* La primera ruta de la lista apunta a la URL *admin/*, ligándola a la función *admin.site.urls*.\n",
    "* La segunda ruta de la lista punta a la URL *main/*, indicando que debe de importarse el módulo *main.urls*."
   ]
  },
  {
   "cell_type": "markdown",
   "metadata": {},
   "source": [
    "* En vista de la referencia en el archivo *tutorial/tutorial/urls.py* es necesario crear el archivo *tutorial/main/urls.py* con el siguiente código:\n",
    "\n",
    "``` python\n",
    "from django.urls import path\n",
    "from . import views\n",
    "\n",
    "urlpatterns = [path('', views.index, name=\"inicio\"), path('calif', views.calificaciones)]\n",
    "```\n",
    "* Se importa la función *django.urls.path*.\n",
    "* Se importa el módulo *views* localizado en el mismo directorio donde se encuentra el archivo *tutorial/main/urls.py*. \n",
    "* La lista *urlpatterns* definen dos rutas:\n",
    "   * La ruta del subdirectorio *main/*, la cual se denota por una cadena de caracteres vacía (*''*), ligándola a la función *views.index*.\n",
    "   *    * La ruta del subdirectorio *main/calif*, la cual se denota por una cadena de caracteres *\"inicio\"*, ligándola a la función *views.calif*."
   ]
  },
  {
   "cell_type": "markdown",
   "metadata": {},
   "source": [
    "## Las funciones de vista.\n",
    "\n",
    "Una función de vista es aquella que es llamada por *Django* cuando esta corresponde a un patrón de URL. \n",
    "\n",
    "Una vez que un cliente accede a una URL, *Django* verifica que se encuentre en todos los patrones definidos en los archivos *urls.py* y en caso de que exista una coincidenca, se ejecutará la función correspondiente, ingresando la petición del cliente (*request*) como argumento. Más adelante se estudiará al objeto *request*.\n",
    "\n",
    "Las funciones de vista tienen la capacidad de regresar un objeto de respueta (*response*)."
   ]
  },
  {
   "cell_type": "markdown",
   "metadata": {},
   "source": [
    "## Los archivos *views.py*.\n",
    "\n",
    "*Django* define en su estructura a los archivos *views.py* como aquellos que contienen a las funciones de vista de las aplicaciones. "
   ]
  },
  {
   "cell_type": "markdown",
   "metadata": {},
   "source": [
    "**Ejemplo:**\n",
    "\n",
    "El archivo *tutorial/main/views.py* es referido como un módulo del archivo *tutorial/tutorial/urls.py*.\n",
    "\n",
    "Hasta el momento, este archivo no contiene ninguna función."
   ]
  },
  {
   "cell_type": "code",
   "execution_count": null,
   "metadata": {
    "scrolled": true
   },
   "outputs": [],
   "source": [
    "%cat tutorial/main/views.py"
   ]
  },
  {
   "cell_type": "markdown",
   "metadata": {},
   "source": [
    "* Modifique el archivo *tutorial/main/views.py* de tal forma que contenga lo siguiente:\n",
    "\n",
    "``` python\n",
    "from django.http import HttpResponse\n",
    "\n",
    "# Create your views here.\n",
    "def index(request):\n",
    "    return HttpResponse(\"<h1>Hola, mundo.</h1>\")\n",
    "\n",
    "def calificaciones(request):\n",
    "    pass\n",
    "```\n",
    "* Inicie el servidor de *Django*."
   ]
  },
  {
   "cell_type": "code",
   "execution_count": null,
   "metadata": {},
   "outputs": [],
   "source": [
    "%cd tutorial"
   ]
  },
  {
   "cell_type": "markdown",
   "metadata": {},
   "source": [
    "**ADVERTENCIAS:** \n",
    "\n",
    "* Al ejecutar la siguiente celda el servidor se inciará desde la notebook, por lo que para ejecutar cualquier otra celda es necesario interrumpir la ejecución del kernel.\n",
    "\n",
    "* Asegúrese que no haya otro servicio escuchando en el puerto *5000*."
   ]
  },
  {
   "cell_type": "code",
   "execution_count": null,
   "metadata": {},
   "outputs": [],
   "source": [
    "! ./manage.py runserver 0.0.0.0:5000"
   ]
  },
  {
   "cell_type": "markdown",
   "metadata": {},
   "source": [
    "* Al acceder a [http://localhost:5000/admin](http://localhost:5000/admin) aparecerá la interfaz de administración del proyecto.\n",
    "* Al acceder a [http://localhost:5000/main](http://localhost:5000/main/) aparecerá un mensaje de encabezado desplegando *Hola, mundo.*.\n",
    "* Al acceder a [http://localhost:5000/main/calif](http://localhost:5000/main/calif) se mostrará un mensaje de error. Debido a que *Django* está configurado en modo de depuración, desplegará los detalles del error de ejecución.\n",
    "* Al acceder a cualquier otra URL distina a las indicadas,  se mostrará un mensaje de error 404. Debido a que *Django* está configurado en modo de depuracion, desplegará los detalles y los patrones de URL válidos."
   ]
  },
  {
   "cell_type": "markdown",
   "metadata": {},
   "source": [
    "<p style=\"text-align: center\"><a rel=\"license\" href=\"http://creativecommons.org/licenses/by/4.0/\"><img alt=\"Licencia Creative Commons\" style=\"border-width:0\" src=\"https://i.creativecommons.org/l/by/4.0/80x15.png\" /></a><br />Esta obra está bajo una <a rel=\"license\" href=\"http://creativecommons.org/licenses/by/4.0/\">Licencia Creative Commons Atribución 4.0 Internacional</a>.</p>\n",
    "<p style=\"text-align: center\">&copy; José Luis Chiquete Valdivieso. 2019.</p>"
   ]
  }
 ],
 "metadata": {
  "kernelspec": {
   "display_name": "Python 3",
   "language": "python",
   "name": "python3"
  },
  "language_info": {
   "codemirror_mode": {
    "name": "ipython",
    "version": 3
   },
   "file_extension": ".py",
   "mimetype": "text/x-python",
   "name": "python",
   "nbconvert_exporter": "python",
   "pygments_lexer": "ipython3",
   "version": "3.6.6"
  }
 },
 "nbformat": 4,
 "nbformat_minor": 2
}
