{
 "cells": [
  {
   "cell_type": "markdown",
   "metadata": {},
   "source": [
    "[![imagenes/pythonista.png](imagenes/pythonista.png)](https://pythonista.io)"
   ]
  },
  {
   "cell_type": "markdown",
   "metadata": {},
   "source": [
    "**ADVERTENCIA:** Es necesario haber creado previamente el proyecto definido en la notebook [02_introduccion_a_django.ipynb](02_introduccion_a_django.ipynb) localizado en el directorio [tutorial](tutorial)."
   ]
  },
  {
   "cell_type": "markdown",
   "metadata": {},
   "source": [
    "## Los archivos *urls.py*.\n",
    "\n",
    "Tanto el directorio de un proyecto como el directorio de una aplicación pueden contener un archivo *urls.py*.\n",
    "\n",
    "Este tipo de archivo es usado por *Django* para relacionar una URL a una función."
   ]
  },
  {
   "cell_type": "markdown",
   "metadata": {},
   "source": [
    "## El archivo *urls.py* de un proyecto.\n",
    "\n",
    "Los proyectos de *Django* siempre deben de hacer referencia a un archivo *urls.py*, partir del cual pueden ser mapeados todas las URL relacionadas.\n",
    "\n",
    "La localización de este archivo es definda con la variable *ROOT_URLCONF* del archivo *settings.py* del proyecto."
   ]
  },
  {
   "cell_type": "markdown",
   "metadata": {},
   "source": [
    "**Ejemplo:**\n",
    "\n",
    "* En caso de haber ejecutado todas las celdas de la notebook [*02_introduccion_a_django.ipynb*](02_introduccion_a_django.ipynb), la localización del archivo se obtendría de la siguiente manera."
   ]
  },
  {
   "cell_type": "code",
   "execution_count": 1,
   "metadata": {},
   "outputs": [
    {
     "data": {
      "text/plain": [
       "'tutorial.urls'"
      ]
     },
     "execution_count": 1,
     "metadata": {},
     "output_type": "execute_result"
    }
   ],
   "source": [
    "import tutorial.tutorial.settings as settings\n",
    "settings.ROOT_URLCONF"
   ]
  },
  {
   "cell_type": "markdown",
   "metadata": {},
   "source": [
    "El archivo se localizaría entonces en *tutorial/tutorial/urls.py*"
   ]
  },
  {
   "cell_type": "code",
   "execution_count": 2,
   "metadata": {
    "scrolled": true
   },
   "outputs": [
    {
     "name": "stdout",
     "output_type": "stream",
     "text": [
      "\"\"\"tutorial URL Configuration\r\n",
      "\r\n",
      "The `urlpatterns` list routes URLs to views. For more information please see:\r\n",
      "    https://docs.djangoproject.com/en/2.1/topics/http/urls/\r\n",
      "Examples:\r\n",
      "Function views\r\n",
      "    1. Add an import:  from my_app import views\r\n",
      "    2. Add a URL to urlpatterns:  path('', views.home, name='home')\r\n",
      "Class-based views\r\n",
      "    1. Add an import:  from other_app.views import Home\r\n",
      "    2. Add a URL to urlpatterns:  path('', Home.as_view(), name='home')\r\n",
      "Including another URLconf\r\n",
      "    1. Import the include() function: from django.urls import include, path\r\n",
      "    2. Add a URL to urlpatterns:  path('blog/', include('blog.urls'))\r\n",
      "\"\"\"\r\n",
      "from django.contrib import admin\r\n",
      "from django.urls import path\r\n",
      "\r\n",
      "urlpatterns = [\r\n",
      "    path('admin/', admin.site.urls),\r\n",
      "]\r\n"
     ]
    }
   ],
   "source": [
    "%cat tutorial/tutorial/urls.py"
   ]
  },
  {
   "cell_type": "markdown",
   "metadata": {},
   "source": [
    "### La lista *urlpatterns*.\n",
    "\n",
    "La variable *urlpatterns* corresponde a un objeto de tipo *list*, el cual contiene una colección de funciones *django.urls.path()*, las cuales describen el \"mapa\" del sitio, relacionando un patron de URL con algún objeto."
   ]
  },
  {
   "cell_type": "markdown",
   "metadata": {},
   "source": [
    "**Ejemplo:**\n",
    "\n",
    "El archivo  *tutorial/tutorial/urls.py* contienes la siguientes líneas:\n",
    "\n",
    "``` python\n",
    "from django.contrib import admin\n",
    "from django.urls import include, path\n",
    "\n",
    "urlpatterns = [path('admin/', admin.site.urls),]\n",
    "```\n",
    "La lista *urlpatterns* contiene sólo una función *django.urls.path()*, la cual indica que al acceder a la ruta que contenga el patrón *admin/*  se invoque a la función *admin.site.urls()*."
   ]
  },
  {
   "cell_type": "markdown",
   "metadata": {},
   "source": [
    "### El paquete *django.urls*.\n",
    "\n",
    "Este paquete contiene funciones que permiten identificar URLs específicas y ligarlas con alguna función."
   ]
  },
  {
   "cell_type": "markdown",
   "metadata": {},
   "source": [
    "#### La función *django.urls.path()*.\n",
    "\n",
    "Esta función permite ligar una función.\n",
    "\n",
    "```\n",
    "django.urls.path('<ruta>', <función>, kwargs, name='<nombre>')\n",
    "```\n",
    "Donde:\n",
    "* *ruta* corresponde a un patrón de URL.\n",
    "* *objeto* corresponde un objeto de Django. \n",
    "* *nombre* es el nombre que se le dará a esta relación (opcional).\n"
   ]
  },
  {
   "cell_type": "markdown",
   "metadata": {},
   "source": [
    "#### La función *django.urls.include()*.\n",
    "\n",
    "Por convención, se utliza el nombre *include* cuando se desea importar algún archivo como un módulo de forma similar a la palabra reservada de Python *import*. \n",
    "\n",
    "En este caso, la función Esta función *django.urls.include()* permite cargar un archivo con una estructura de un archivo *urls.py* localizado en otra ruta.\n",
    "\n",
    "``` python\n",
    "django.urls.include('<ruta>', include('<modulo>')\n",
    "```"
   ]
  },
  {
   "cell_type": "markdown",
   "metadata": {},
   "source": [
    "**Ejemplo:**\n",
    "\n",
    "El archivo *src/06/tutorial_urls.py* contiene el siguiente código:\n",
    "\n",
    "``` python\n",
    "from django.contrib import admin\n",
    "from django.urls import include, path\n",
    "\n",
    "urlpatterns = [path('admin/', admin.site.urls), path('main/', include('main.urls')),]\n",
    "```\n",
    "La primera ruta de la lista apunta a la URL *admin/*, ligándola a la función *admin.site.urls()*.\n",
    "La segunda ruta de la lista punta a la URL *main/*, indicando que debe de importarse el módulo *main.urls*."
   ]
  },
  {
   "cell_type": "markdown",
   "metadata": {},
   "source": [
    "* Se sustituirá el archivo *tutorial/tutorial/urls.py* por el archivo *src/tutorial_urls.py*."
   ]
  },
  {
   "cell_type": "code",
   "execution_count": null,
   "metadata": {},
   "outputs": [],
   "source": [
    "%cp src/06/tutorial_urls.py tutorial/tutorial/urls.py"
   ]
  },
  {
   "cell_type": "code",
   "execution_count": null,
   "metadata": {},
   "outputs": [
    {
     "name": "stdout",
     "output_type": "stream",
     "text": [
      "from django.contrib import admin\r\n",
      "from django.urls import include, path\r\n",
      "\r\n",
      "urlpatterns = [path('admin/', admin.site.urls), path('main/', include('main.urls')),]"
     ]
    }
   ],
   "source": [
    "%cat tutorial/tutorial/urls.py"
   ]
  },
  {
   "cell_type": "markdown",
   "metadata": {},
   "source": [
    "En vista de que *tutorial/tutorial/urls.py* cargará como módulo el contenido de*tutorial/main/urls.py* es necesario que el archivo de referencia exista.\n",
    "\n",
    "El archivo *src/06/main_urls.py* contiene el siguiente código:\n",
    "\n",
    "``` python\n",
    "from django.urls import path\n",
    "from . import views\n",
    "\n",
    "urlpatterns = [path('', views.index, name=\"inicio\"), path('calif', views.calificaciones)]\n",
    "```\n",
    "\n",
    "Este código indica lo siguiente: \n",
    "\n",
    "* Importar la función *django.urls.path()*.\n",
    "* Importar el módulo *views* localizado en el mismo directorio donde se encuentra el archivo *tutorial/main/urls.py*. \n",
    "* La lista *urlpatterns* definen dos rutas:\n",
    "   * La ruta del subdirectorio *main/*, la cual se denota por una cadena de caracteres vacía (*''*), ligándola a la función *views.index()*.\n",
    "   *    * La ruta de *main/calif*, la cual se denota por una cadena de caracteres *\"calif\"*, ligándola a la función *views.calificaciones()*."
   ]
  },
  {
   "cell_type": "markdown",
   "metadata": {},
   "source": [
    "* La siguiente celda copiará el archivo *src/06/main_urls.py* como *tutorial/main/urls.py*"
   ]
  },
  {
   "cell_type": "code",
   "execution_count": null,
   "metadata": {},
   "outputs": [],
   "source": [
    "!cp src/06/main_urls.py tutorial/main/urls.py"
   ]
  },
  {
   "cell_type": "markdown",
   "metadata": {},
   "source": [
    "## Las funciones de vista.\n",
    "\n",
    "Una función de vista es aquella que es llamada por *Django* cuando esta corresponde a un patrón de URL. \n",
    "\n",
    "Una vez que un cliente accede a una URL, *Django* verifica que se encuentre en todos los patrones definidos en los archivos *urls.py* y en caso de que exista una coincidenca, se ejecutará la función correspondiente, ingresando la petición del cliente (*request*) como argumento. Más adelante se estudiará al objeto *request*.\n",
    "\n",
    "Las funciones de vista tienen la capacidad de regresar un objeto de respueta (*response*)."
   ]
  },
  {
   "cell_type": "markdown",
   "metadata": {},
   "source": [
    "## Los archivos *views.py*.\n",
    "\n",
    "*Django* define en su estructura a los archivos *views.py* como aquellos que contienen a las funciones de vista de las aplicaciones. "
   ]
  },
  {
   "cell_type": "markdown",
   "metadata": {},
   "source": [
    "**Ejemplo:**\n",
    "\n",
    "El archivo *tutorial/main/views.py* es referido como un módulo del archivo *tutorial/tutorial/urls.py*.\n",
    "\n",
    "Hasta el momento, este archivo no contiene ninguna función."
   ]
  },
  {
   "cell_type": "code",
   "execution_count": null,
   "metadata": {
    "scrolled": true
   },
   "outputs": [
    {
     "name": "stdout",
     "output_type": "stream",
     "text": [
      "from django.shortcuts import render\r\n",
      "\r\n",
      "# Create your views here.\r\n"
     ]
    }
   ],
   "source": [
    "%cat tutorial/main/views.py"
   ]
  },
  {
   "cell_type": "markdown",
   "metadata": {},
   "source": [
    "El archivo *src/06/views.py* contiene lo siguiente:\n",
    "\n",
    "``` python\n",
    "from django.http import HttpResponse\n",
    "\n",
    "# Create your views here.\n",
    "def index(request):\n",
    "    return HttpResponse(\"<h1>Hola, mundo.</h1>\")\n",
    "\n",
    "def calificaciones(request):\n",
    "    pass\n",
    "```"
   ]
  },
  {
   "cell_type": "markdown",
   "metadata": {},
   "source": [
    "* Copie el archivo *src/06/views.py* sustituyendo al archivo *tutorial.main.views.py*"
   ]
  },
  {
   "cell_type": "code",
   "execution_count": null,
   "metadata": {},
   "outputs": [],
   "source": [
    "!cp src/06/views.py tutorial/main/views.py"
   ]
  },
  {
   "cell_type": "code",
   "execution_count": null,
   "metadata": {},
   "outputs": [
    {
     "name": "stdout",
     "output_type": "stream",
     "text": [
      "from django.http import HttpResponse\r\n",
      "\r\n",
      "# Create your views here.\r\n",
      "def index(request):\r\n",
      "    return HttpResponse(\"<h1>Hola, mundo.</h1>\")\r\n",
      "\r\n",
      "def calificaciones(request):\r\n",
      "    pass"
     ]
    }
   ],
   "source": [
    "%cat tutorial/main/views.py"
   ]
  },
  {
   "cell_type": "markdown",
   "metadata": {},
   "source": [
    "Inicie el servidor de *Django* del proyecto *tutorial*."
   ]
  },
  {
   "cell_type": "code",
   "execution_count": null,
   "metadata": {},
   "outputs": [
    {
     "name": "stdout",
     "output_type": "stream",
     "text": [
      "/opt/pythonista/py231/tutorial\n"
     ]
    }
   ],
   "source": [
    "%cd tutorial"
   ]
  },
  {
   "cell_type": "markdown",
   "metadata": {},
   "source": [
    "**ADVERTENCIAS:** \n",
    "\n",
    "* Al ejecutar la siguiente celda el servidor se inciará desde la notebook, por lo que para ejecutar cualquier otra celda es necesario interrumpir la ejecución del kernel.\n",
    "\n",
    "* Asegúrese que no haya otro servicio escuchando en el puerto *5000*."
   ]
  },
  {
   "cell_type": "code",
   "execution_count": null,
   "metadata": {
    "scrolled": true
   },
   "outputs": [
    {
     "name": "stdout",
     "output_type": "stream",
     "text": [
      "Performing system checks...\n",
      "\n",
      "System check identified no issues (0 silenced).\n",
      "\u001b[31m\n",
      "You have 15 unapplied migration(s). Your project may not work properly until you apply the migrations for app(s): admin, auth, contenttypes, sessions.\u001b[0m\n",
      "\u001b[31mRun 'python manage.py migrate' to apply them.\n",
      "\u001b[0m\n",
      "February 20, 2019 - 18:55:33\n",
      "Django version 2.1.7, using settings 'tutorial.settings'\n",
      "Starting development server at http://0.0.0.0:5000/\n",
      "Quit the server with CONTROL-C.\n"
     ]
    }
   ],
   "source": [
    "! ./manage.py runserver 0.0.0.0:5000"
   ]
  },
  {
   "cell_type": "markdown",
   "metadata": {},
   "source": [
    "* Al acceder a [http://localhost:5000/admin](http://localhost:5000/admin) aparecerá la interfaz de administración del proyecto.\n",
    "* Al acceder a [http://localhost:5000/main](http://localhost:5000/main/) aparecerá un mensaje de encabezado desplegando *Hola, mundo.*.\n",
    "* Al acceder a [http://localhost:5000/main/calif](http://localhost:5000/main/calif) se mostrará un mensaje de error. Debido a que *Django* está configurado en modo de depuración, desplegará los detalles del error de ejecución.\n",
    "* Al acceder a cualquier otra URL distina a las indicadas,  se mostrará un mensaje de error 404. Debido a que *Django* está configurado en modo de depuracion, desplegará los detalles y los patrones de URL válidos."
   ]
  },
  {
   "cell_type": "markdown",
   "metadata": {},
   "source": [
    "<p style=\"text-align: center\"><a rel=\"license\" href=\"http://creativecommons.org/licenses/by/4.0/\"><img alt=\"Licencia Creative Commons\" style=\"border-width:0\" src=\"https://i.creativecommons.org/l/by/4.0/80x15.png\" /></a><br />Esta obra está bajo una <a rel=\"license\" href=\"http://creativecommons.org/licenses/by/4.0/\">Licencia Creative Commons Atribución 4.0 Internacional</a>.</p>\n",
    "<p style=\"text-align: center\">&copy; José Luis Chiquete Valdivieso. 2019.</p>"
   ]
  }
 ],
 "metadata": {
  "kernelspec": {
   "display_name": "Python 3",
   "language": "python",
   "name": "python3"
  },
  "language_info": {
   "codemirror_mode": {
    "name": "ipython",
    "version": 3
   },
   "file_extension": ".py",
   "mimetype": "text/x-python",
   "name": "python",
   "nbconvert_exporter": "python",
   "pygments_lexer": "ipython3",
   "version": "3.6.6"
  }
 },
 "nbformat": 4,
 "nbformat_minor": 2
}
