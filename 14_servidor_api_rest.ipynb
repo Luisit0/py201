{
 "cells": [
  {
   "cell_type": "markdown",
   "metadata": {},
   "source": [
    "[![imagenes/pythonista.png](imagenes/pythonista.png)](https://pythonista.io)"
   ]
  },
  {
   "cell_type": "code",
   "execution_count": null,
   "metadata": {},
   "outputs": [],
   "source": [
    "%cd tutorial"
   ]
  },
  {
   "cell_type": "markdown",
   "metadata": {},
   "source": [
    "El archivo *src/14/urls.py* contiene lo siguiente:\n",
    "\n",
    "``` python \n",
    "from django.urls import path, re_path\n",
    "from . import views, endpoint_views\n",
    "\n",
    "urlpatterns = [path('', views.vista),\n",
    "               path('carga', views.carga),\n",
    "               re_path(r'^(?P<clave>[0-9]{4}$)', endpoint_views.clave),]\n",
    "```"
   ]
  },
  {
   "cell_type": "code",
   "execution_count": null,
   "metadata": {},
   "outputs": [],
   "source": [
    "%cp ../src/14/urls.py api/urls.py"
   ]
  },
  {
   "cell_type": "markdown",
   "metadata": {},
   "source": [
    "El archivo *src/14/endpoint_views.py* contiene lo siguiente:\n",
    "\n",
    "``` python\n",
    "from . import models\n",
    "from django.views.decorators.csrf import csrf_exempt\n",
    "from django.http import JsonResponse, HttpResponseNotFound, HttpResponseBadRequest\n",
    "\n",
    "campos = {'numero_de_cuenta':int, 'nombre':str, 'primer_apellido':str,\n",
    "          'segundo_apellido':str, 'carrera':str, 'semestre':int, 'promedio':float,\n",
    "          'al_corriente':bool}\n",
    "\n",
    "@csrf_exempt\n",
    "def clave(request, clave):\n",
    "    '''Función de vista que define un endpoint correspondiente a una clave de 4 dígitos.\n",
    "    Opera con los métodos GET, POST, DELETE.'''\n",
    "    \n",
    "    # Cuando la petición es GET va a obtener los datos del alumno con la clave correrspondiente.\n",
    "    if request.method == \"GET\":\n",
    "        try:\n",
    "            alumno = models.Alumno.objects.get(numero_de_cuenta=clave) \n",
    "            return JsonResponse({campo:getattr(alumno, campo) for campo in campos})\n",
    "        # La excepción models.Alumno.DoesNotExist se desencadena cuando la búsqueda no arroje un resultado.\n",
    "        except models.Alumno.DoesNotExist:\n",
    "            return HttpResponseNotFound()\n",
    "    # Cuando la petición es POST va a dar de alta los datos del alumno con la clave correspondiente y los datos enviados.\n",
    "    if request.method == \"POST\":\n",
    "        try:\n",
    "            alumno = models.Alumno.objects.get(numero_de_cuenta=clave) \n",
    "            return HttpResponseBadRequest()\n",
    "        except models.Alumno.DoesNotExist:\n",
    "            registro = request.POST.dict()\n",
    "            registro[\"numero_de_cuenta\"] = int(clave)\n",
    "            objeto = models.Alumno()\n",
    "            for campo in registro:\n",
    "                setattr(objeto, campo, registro[campo])\n",
    "            objeto.save()\n",
    "            return JsonResponse(registro)\n",
    "    # Cuando la petición es DELETE el alumno es eliminado de la base de datos.\n",
    "    if request.method == \"DELETE\":\n",
    "        try:\n",
    "            alumno = models.Alumno.objects.get(numero_de_cuenta=clave)\n",
    "            alumno.delete()\n",
    "            return JsonResponse({'estado': 'eliminado'})   \n",
    "        except models.Alumno.DoesNotExist:\n",
    "            return HttpResponseNotFound()\n",
    "```\n"
   ]
  },
  {
   "cell_type": "code",
   "execution_count": null,
   "metadata": {},
   "outputs": [],
   "source": [
    "%cp ../src/14/endpoint_views.py api/endpoint_views.py"
   ]
  },
  {
   "cell_type": "code",
   "execution_count": null,
   "metadata": {
    "scrolled": true
   },
   "outputs": [],
   "source": [
    "%cat api/endpoint_views.py"
   ]
  },
  {
   "cell_type": "code",
   "execution_count": null,
   "metadata": {},
   "outputs": [],
   "source": [
    "!./manage.py runserver 0.0.0.0:5000"
   ]
  },
  {
   "cell_type": "markdown",
   "metadata": {},
   "source": [
    "http://localhost:5000/api/1221"
   ]
  },
  {
   "cell_type": "markdown",
   "metadata": {},
   "source": [
    "<p style=\"text-align: center\"><a rel=\"license\" href=\"http://creativecommons.org/licenses/by/4.0/\"><img alt=\"Licencia Creative Commons\" style=\"border-width:0\" src=\"https://i.creativecommons.org/l/by/4.0/80x15.png\" /></a><br />Esta obra está bajo una <a rel=\"license\" href=\"http://creativecommons.org/licenses/by/4.0/\">Licencia Creative Commons Atribución 4.0 Internacional</a>.</p>\n",
    "<p style=\"text-align: center\">&copy; José Luis Chiquete Valdivieso. 2019.</p>"
   ]
  }
 ],
 "metadata": {
  "kernelspec": {
   "display_name": "Python 3",
   "language": "python",
   "name": "python3"
  },
  "language_info": {
   "codemirror_mode": {
    "name": "ipython",
    "version": 3
   },
   "file_extension": ".py",
   "mimetype": "text/x-python",
   "name": "python",
   "nbconvert_exporter": "python",
   "pygments_lexer": "ipython3",
   "version": "3.6.6"
  }
 },
 "nbformat": 4,
 "nbformat_minor": 2
}
