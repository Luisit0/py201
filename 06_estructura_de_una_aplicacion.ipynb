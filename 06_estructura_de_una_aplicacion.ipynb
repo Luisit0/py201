{
 "cells": [
  {
   "cell_type": "markdown",
   "metadata": {},
   "source": [
    "[![imagenes/pythonista.png](imagenes/pythonista.png)](https://pythonista.io)"
   ]
  },
  {
   "cell_type": "markdown",
   "metadata": {},
   "source": [
    "Las aplicaciones de un sitio cuentan con una estructura básica que contiene los archivos:\n",
    "\n"
   ]
  },
  {
   "cell_type": "markdown",
   "metadata": {},
   "source": [
    "## Los archivos *urls.py*.\n",
    "\n",
    "Tanto el directorio de un proyecto como el directorio de una aplicación pueden contener un archivo *urls.py*.\n",
    "\n",
    "Este tipo de archivo es usado por *Django* para relacionar una URL a un objeto de Django en particular.\n",
    "\n",
    "\n",
    "**Nota:** Para fines de este módulo, un objeto de Django se puede referir a un componente de Django que en última instancia sea capaz de regresar una respuesta HTTP en particular."
   ]
  },
  {
   "cell_type": "markdown",
   "metadata": {},
   "source": [
    "**Ejemplo:**\n",
    "\n",
    "* En caso de haber ejecutado todas las celdas de la notebook [*02_introduccion_a_django.ipynb*](02_introduccion_a_django.ipynb), tendríamos el archivo *tutorial/tutorial/urls.py*"
   ]
  },
  {
   "cell_type": "code",
   "execution_count": null,
   "metadata": {
    "scrolled": true
   },
   "outputs": [],
   "source": [
    "%cat tutorial/tutorial/urls.py"
   ]
  },
  {
   "cell_type": "markdown",
   "metadata": {},
   "source": [
    "* Este archivo es referenciado en el archivo de configuración como la URL raíz."
   ]
  },
  {
   "cell_type": "code",
   "execution_count": null,
   "metadata": {},
   "outputs": [],
   "source": [
    "import tutorial.tutorial.settings as settings\n",
    "settings.ROOT_URLCONF"
   ]
  },
  {
   "cell_type": "markdown",
   "metadata": {},
   "source": [
    "### El objeto *urlpatterns*.\n",
    "\n",
    "El objeto *urlpatterns* es un objeto de tipo *list*, el cual contiene una colección de funciones *django.urls.path()*, las cuales describen el \"mapa\" del sitio, relacionando un patron de URL con algún objeto."
   ]
  },
  {
   "cell_type": "markdown",
   "metadata": {},
   "source": [
    "**Ejemplo:**\n",
    "\n",
    "El archivo  *tutorial/tutorial/urls.py* contiene la siguiente línea:\n",
    "\n",
    "``` python\n",
    "urlpatterns = [path('admin/', admin.site.urls),]\n",
    "```\n",
    "La lista *urlpatterns* contiene sólo una función *django.urls.path()*, la cual indica que al acceder a la ruta que contenga el patrón *admin/*  se invoque al objeto *admin.site.urls*"
   ]
  },
  {
   "cell_type": "markdown",
   "metadata": {},
   "source": [
    "## El paquete *django.urls*.\n",
    "\n",
    "Este paquete contiene funciones que permiten identificar URLs específicas y ligarlas con algún objeto."
   ]
  },
  {
   "cell_type": "code",
   "execution_count": null,
   "metadata": {},
   "outputs": [],
   "source": [
    "import django.urls"
   ]
  },
  {
   "cell_type": "code",
   "execution_count": null,
   "metadata": {},
   "outputs": [],
   "source": [
    "help(django.urls)"
   ]
  },
  {
   "cell_type": "markdown",
   "metadata": {},
   "source": [
    "### La función *django.urls.path()*.\n",
    "\n",
    "Esta función permite ligar una URL a un objeto de Django.\n",
    "\n",
    "```\n",
    "django.urls.path('<ruta>', <objeto de Django>, kwargs, name='<nombre>')\n",
    "```\n",
    "Donde:\n",
    "* *ruta* corresponde a un patrón de URL.\n",
    "* *objeto* corresponde un objeto de Django. \n",
    "* *nombre* es el nombre que se le dará a esta relación (opcional).\n"
   ]
  },
  {
   "cell_type": "markdown",
   "metadata": {},
   "source": [
    "### La función *django.urls.includes()*.\n",
    "\n",
    "Esta función permite cargar un archivo con una estrcutura propia de *urls.py* localizado en otra ruta como si fuera un módulo.\n",
    "\n",
    "``` python\n",
    "django.urls.includes('<ruta>', includes('<modulo>')\n",
    "```"
   ]
  },
  {
   "cell_type": "markdown",
   "metadata": {},
   "source": [
    "**Ejemplo:**\n",
    "\n",
    "Modificar el archivo *tutorial/tutorial/urls.py* con el siguiente código:\n",
    "\n",
    "```\n",
    "urlpatterns = [path('admin/', admin.site.urls),]\n",
    "```\n"
   ]
  },
  {
   "cell_type": "code",
   "execution_count": null,
   "metadata": {},
   "outputs": [],
   "source": []
  },
  {
   "cell_type": "code",
   "execution_count": null,
   "metadata": {},
   "outputs": [],
   "source": []
  },
  {
   "cell_type": "markdown",
   "metadata": {},
   "source": [
    "## El archivo *views.py*."
   ]
  },
  {
   "cell_type": "markdown",
   "metadata": {},
   "source": [
    "## El paquete *django.http*.\n",
    "\n",
    "Este paquete contiene varios módulos y clases que permiten a *Django* recibir peticiones y enviar respuestas apegadas al protocolo HTTP."
   ]
  },
  {
   "cell_type": "code",
   "execution_count": null,
   "metadata": {},
   "outputs": [],
   "source": [
    "import django.http"
   ]
  },
  {
   "cell_type": "markdown",
   "metadata": {},
   "source": [
    "help(django.http)"
   ]
  },
  {
   "cell_type": "markdown",
   "metadata": {},
   "source": [
    "### La clase *django.http.Response*.\n",
    "\n",
    "Esta clase permite crear objetos capaces de regresa una respuesta HTTP."
   ]
  },
  {
   "cell_type": "code",
   "execution_count": null,
   "metadata": {},
   "outputs": [],
   "source": []
  },
  {
   "cell_type": "code",
   "execution_count": null,
   "metadata": {},
   "outputs": [],
   "source": []
  },
  {
   "cell_type": "markdown",
   "metadata": {},
   "source": [
    "<p style=\"text-align: center\"><a rel=\"license\" href=\"http://creativecommons.org/licenses/by/4.0/\"><img alt=\"Licencia Creative Commons\" style=\"border-width:0\" src=\"https://i.creativecommons.org/l/by/4.0/80x15.png\" /></a><br />Esta obra está bajo una <a rel=\"license\" href=\"http://creativecommons.org/licenses/by/4.0/\">Licencia Creative Commons Atribución 4.0 Internacional</a>.</p>\n",
    "<p style=\"text-align: center\">&copy; José Luis Chiquete Valdivieso. 2019.</p>"
   ]
  }
 ],
 "metadata": {
  "kernelspec": {
   "display_name": "Python 3",
   "language": "python",
   "name": "python3"
  },
  "language_info": {
   "codemirror_mode": {
    "name": "ipython",
    "version": 3
   },
   "file_extension": ".py",
   "mimetype": "text/x-python",
   "name": "python",
   "nbconvert_exporter": "python",
   "pygments_lexer": "ipython3",
   "version": "3.6.6"
  }
 },
 "nbformat": 4,
 "nbformat_minor": 2
}
