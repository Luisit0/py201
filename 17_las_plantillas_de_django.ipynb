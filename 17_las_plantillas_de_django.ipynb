{
 "cells": [
  {
   "cell_type": "markdown",
   "metadata": {},
   "source": [
    "[![imagenes/pythonista.png](imagenes/pythonista.png)](https://pythonista.io)"
   ]
  },
  {
   "cell_type": "markdown",
   "metadata": {},
   "source": [
    "*Django* es un framework diseñado roimordialmente para desplegar páginas web de forma dinámica mediante el patrón MVT, el cual además de los modelos y las funciones de vista, aprovecha el uso de plantillas para lograr tal  finalidad."
   ]
  },
  {
   "cell_type": "markdown",
   "metadata": {},
   "source": [
    "## Plantillas (templates)."
   ]
  },
  {
   "cell_type": "markdown",
   "metadata": {},
   "source": [
    "Una plantilla es un documento el cual contiene texto y código que permite a *Django* crear un texto nuevo a partir del original y datos dentro de un *contexto*.\n",
    "\n",
    "**Ejemplo:**\n",
    "\n",
    "El archivo *src/17/base.html* contiene el siguiente texto que corresponde  una plantilla básicas que combina código en HTML y etiquetas basadas en el *lenguaje de plantillas de Django*.\n",
    "\n",
    "``` HTML\n",
    "<!DOCTYPE html>\n",
    "<html>\n",
    "    <header>\n",
    "        <meta charset=\"UTF-8\">\n",
    "        <title>{{ titulo }}</title>\n",
    "    </header>\n",
    "    <body>\n",
    "        {% block cuerpo %}\n",
    "        <h1>¡Hola, mundo!</h1>\n",
    "        {% endblock %)\n",
    "    </body>\n",
    "</html>\n",
    "```\n",
    "\n",
    "**Nota:**\n",
    "Aún cuando lo más común es usar HTML, las plantillas de *Django* pueden utilizarse para crear documentos en distintos formatos como *XML*, *YAML*, *JSON*, etc."
   ]
  },
  {
   "cell_type": "markdown",
   "metadata": {},
   "source": [
    "## El lenguaje de plantillas de *Django* (*DTL*).\n",
    "\n",
    "El lenguaje de plantillas de *Django* (*DTL* por sus siglas en inglés) permiten modificar a un  documento que contiene código basado en dicho lenguaje, ejecutándolo junto con datos externos que son asignados como si fueran variables globales.\n",
    "\n",
    "El *DTL* reconoce los tipos básicos de Python.\n",
    "\n",
    "### Tipos de etiquetas.\n",
    "\n",
    "El *DTL* utiliza etiquetas, la cuales se conforman por código encerrado entre llaves \"_{_\" y \"*}*\".\n",
    "\n",
    "#### Etiquetas para expresiones.\n",
    "\n",
    "```\n",
    "{{ <expresión> }}\n",
    "```\n",
    "\n",
    "#### Etiquetas para declaraciones.\n",
    "\n",
    "Las declaraciones pueden:\n",
    "\n",
    "* Ejecutarse de forma similar a una expresión.\n",
    "\n",
    "```\n",
    "{% <declaración> %}\n",
    "```\n",
    "\n",
    "* Delimitar un bloque de texto y código.\n",
    "\n",
    "```\n",
    "{% <declaración> %}\n",
    "...\n",
    "...\n",
    "...\n",
    "{% end<declaración> %}\n",
    "```\n",
    "\n",
    "A partir de estas etiquetas, es posible generar código que creará contenidos a utilizando el texto del documento original.\n",
    "\n",
    "**Nota:**\n",
    "En este capítulo se explorarán sólo las etiquetas más representativas, pero La referencia a las etiqueta de *DTL* pueden ser consultadas en https://docs.djangoproject.com/en/2.1/ref/templates/builtins/."
   ]
  },
  {
   "cell_type": "markdown",
   "metadata": {},
   "source": [
    "## El paquete *django.template*.\n",
    "\n",
    "Este paquete cuenta con una biblioteca de herramientas que permite crear contenidos a partir de plantillas con código escrito en *DTL*."
   ]
  },
  {
   "cell_type": "markdown",
   "metadata": {},
   "source": [
    "### La clase  *django.template.Template*.\n",
    "\n",
    "Esta es la clase primordial para el manejo de plantillas y permite crear un objeto capaz de ejecutar el código basado en *DTL* a partir de una cadena de caracteres, la cual corresponde al contenido de una plantilla.\n",
    "\n",
    "```\n",
    "Template(<objeto str>)\n",
    "```"
   ]
  },
  {
   "cell_type": "markdown",
   "metadata": {},
   "source": [
    "### La clase  *django.template.Context*.\n",
    "\n",
    "Esta clase permite crear definir el diccionario de contexto que consumirá la plantilla al ser procesada.\n",
    "\n",
    "```\n",
    "Context(<objeto tipo dict>)\n",
    "```"
   ]
  },
  {
   "cell_type": "markdown",
   "metadata": {},
   "source": [
    "**Ejemplo:**\n",
    "\n",
    "En un shell de Django ejecutar lo siguiente:\n",
    "\n",
    "``` python\n",
    "from django.template import Template, Context\n",
    "saludo = '¡Hola, {{ nombre }}'\n",
    "plantilla = Template(saludo)\n",
    "contexto = Context({'nombre': 'mundo'})\n",
    "plantilla.render(context=contexto)\n",
    "```"
   ]
  },
  {
   "cell_type": "markdown",
   "metadata": {},
   "source": [
    "## El módulo *django.template.loader* .\n",
    "\n",
    "Este módulo permite cargar un documento que contiene una plantilla y contiene las funciones:\n",
    "\n",
    "* *get_template()*, el cual permite \n",
    "* *select_template()*\n",
    "* *render_to_string()*\n"
   ]
  },
  {
   "cell_type": "code",
   "execution_count": 5,
   "metadata": {},
   "outputs": [],
   "source": [
    "%cp src/17/base.ht ml"
   ]
  },
  {
   "cell_type": "code",
   "execution_count": null,
   "metadata": {},
   "outputs": [],
   "source": []
  },
  {
   "cell_type": "code",
   "execution_count": 6,
   "metadata": {},
   "outputs": [
    {
     "name": "stdout",
     "output_type": "stream",
     "text": [
      "Help on module django.template.loader in django.template:\n",
      "\n",
      "NAME\n",
      "    django.template.loader\n",
      "\n",
      "FUNCTIONS\n",
      "    get_template(template_name, using=None)\n",
      "        Load and return a template for the given name.\n",
      "        \n",
      "        Raise TemplateDoesNotExist if no such template exists.\n",
      "    \n",
      "    render_to_string(template_name, context=None, request=None, using=None)\n",
      "        Load a template and render it with a context. Return a string.\n",
      "        \n",
      "        template_name may be a string or a list of strings.\n",
      "    \n",
      "    select_template(template_name_list, using=None)\n",
      "        Load and return a template for one of the given names.\n",
      "        \n",
      "        Try names in order and return the first template found.\n",
      "        \n",
      "        Raise TemplateDoesNotExist if no such template exists.\n",
      "\n",
      "DATA\n",
      "    engines = <django.template.utils.EngineHandler object>\n",
      "\n",
      "FILE\n",
      "    /home/oi/pythonista/lib/python3.6/site-packages/django/template/loader.py\n",
      "\n",
      "\n"
     ]
    }
   ],
   "source": [
    "help(django.template.loader)"
   ]
  },
  {
   "cell_type": "markdown",
   "metadata": {},
   "source": [
    "<p style=\"text-align: center\"><a rel=\"license\" href=\"http://creativecommons.org/licenses/by/4.0/\"><img alt=\"Licencia Creative Commons\" style=\"border-width:0\" src=\"https://i.creativecommons.org/l/by/4.0/80x15.png\" /></a><br />Esta obra está bajo una <a rel=\"license\" href=\"http://creativecommons.org/licenses/by/4.0/\">Licencia Creative Commons Atribución 4.0 Internacional</a>.</p>\n",
    "<p style=\"text-align: center\">&copy; José Luis Chiquete Valdivieso. 2019.</p>"
   ]
  }
 ],
 "metadata": {
  "kernelspec": {
   "display_name": "Python 3",
   "language": "python",
   "name": "python3"
  },
  "language_info": {
   "codemirror_mode": {
    "name": "ipython",
    "version": 3
   },
   "file_extension": ".py",
   "mimetype": "text/x-python",
   "name": "python",
   "nbconvert_exporter": "python",
   "pygments_lexer": "ipython3",
   "version": "3.6.6"
  }
 },
 "nbformat": 4,
 "nbformat_minor": 2
}
