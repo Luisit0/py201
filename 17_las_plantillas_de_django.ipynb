{
 "cells": [
  {
   "cell_type": "markdown",
   "metadata": {},
   "source": [
    "[![imagenes/pythonista.png](imagenes/pythonista.png)](https://pythonista.io)"
   ]
  },
  {
   "cell_type": "markdown",
   "metadata": {},
   "source": [
    "A lo largo de este curso se ha experimentado con modelos y vistas para realizar operaciones con HTTP. Sin embargo, como se ha mencionado previamente, *Django* se basa en el patrón *Modelo-Vista-Plantilla* (*MVT* por sus siglas en inglés)."
   ]
  },
  {
   "cell_type": "markdown",
   "metadata": {},
   "source": [
    "Una plantilla no es otra cosa más que un documento de texto el cual contiene etiquetas que permiten a *Django* crear contenidos a partir de datos generados en una función de vista."
   ]
  },
  {
   "cell_type": "markdown",
   "metadata": {},
   "source": [
    "## El lenguaje de plantillas de *Django* y *django.template*.\n",
    "\n",
    "El lenguaje de plantillas de *Django* (*DTL* por sus siglas en inglés) permiten modificar a un  documento que contiene código basado en dicho lenguaje, ejecutándolo junto con datos externos que son asignados como si fueran variables globales.\n",
    "\n",
    "El *DTL* reconoce los tipos básicos de Python.\n",
    "\n",
    "### Etiquetas básicas.\n",
    "\n",
    "El *DTL* utiliza etiquetas, la cuales se conforman por código encerrado entre llaves \"_{_\" y \"*}*\".\n",
    "\n",
    "#### Etiquetas para expresiones.\n",
    "\n",
    "```\n",
    "{{ <expresión> }}\n",
    "```\n",
    "\n",
    "#### Etiquetas para declaraciones.\n",
    "\n",
    "Las declaraciones pueden:\n",
    "\n",
    "* Ejecutarse de forma similar a una expresión.\n",
    "\n",
    "```\n",
    "{% <declaración> %}\n",
    "```\n",
    "\n",
    "* Delimitar un bloque de texto y código.\n",
    "\n",
    "```\n",
    "{% <declaración> %}\n",
    "...\n",
    "...\n",
    "...\n",
    "{% end<declaración> %}\n",
    "```\n",
    "\n",
    "A partir de estas etiquetas, es posible generar código que creará contenidos a utilizando el texto del documento original.\n",
    "\n",
    "**Nota:**\n",
    "En este capítulo se explorarán sólo las etiquetas más representativas, pero La referencia a las etiqueta de *DTL* pueden ser consultadas en https://docs.djangoproject.com/en/2.1/ref/templates/builtins/."
   ]
  },
  {
   "cell_type": "markdown",
   "metadata": {},
   "source": [
    "## El paquete *django.template*.\n",
    "\n",
    "Este paquete cuenta con una biblioteca de herramientas que permite crear contenidos a partir de plantillas con código escrito en *DTL*."
   ]
  },
  {
   "cell_type": "markdown",
   "metadata": {},
   "source": [
    "### La clase  *django.template.Template*.\n",
    "\n",
    "Esta clase permite crear un objeto capaz de ejecutar el código basado en el *DTL* a partir de una cadena de caracteres."
   ]
  },
  {
   "cell_type": "markdown",
   "metadata": {},
   "source": [
    " ### El método *render()*.\n",
    " \n",
    " Los objetos instanciadosa de *django.template.Template* cuentan con el método render, el cuale s cpaaz de ejecutar el código dentro de la plantilla, cuando se ingresa in objeto instanciado de *django.template.Context* de la siguiente manera:\n",
    " \n",
    " ```python\n",
    "<plantilla>.render(context=<objeto instanciado de Context>)\n",
    "```"
   ]
  },
  {
   "cell_type": "markdown",
   "metadata": {},
   "source": [
    "### La clase  *django.template.Context*.\n",
    "\n",
    "Esta clase permite crear definir un objeto de tipo *dict*, que define las variables globales que puede utilizar una plantilla."
   ]
  },
  {
   "cell_type": "markdown",
   "metadata": {},
   "source": [
    "**Ejemplo:**\n",
    "\n",
    "En un shell de Django ejecutar lo siguiente:\n",
    "\n",
    "``` python\n",
    "from django.template import Template, Context\n",
    "saludo = '¡Hola, {{ nombre }}'\n",
    "plantilla = Template(saludo)\n",
    "contexto = Context({'nombre': 'mundo'})\n",
    "plantilla.render(context=contexto)\n",
    "```"
   ]
  },
  {
   "cell_type": "markdown",
   "metadata": {},
   "source": [
    "<p style=\"text-align: center\"><a rel=\"license\" href=\"http://creativecommons.org/licenses/by/4.0/\"><img alt=\"Licencia Creative Commons\" style=\"border-width:0\" src=\"https://i.creativecommons.org/l/by/4.0/80x15.png\" /></a><br />Esta obra está bajo una <a rel=\"license\" href=\"http://creativecommons.org/licenses/by/4.0/\">Licencia Creative Commons Atribución 4.0 Internacional</a>.</p>\n",
    "<p style=\"text-align: center\">&copy; José Luis Chiquete Valdivieso. 2019.</p>"
   ]
  }
 ],
 "metadata": {
  "kernelspec": {
   "display_name": "Python 3",
   "language": "python",
   "name": "python3"
  },
  "language_info": {
   "codemirror_mode": {
    "name": "ipython",
    "version": 3
   },
   "file_extension": ".py",
   "mimetype": "text/x-python",
   "name": "python",
   "nbconvert_exporter": "python",
   "pygments_lexer": "ipython3",
   "version": "3.6.6"
  }
 },
 "nbformat": 4,
 "nbformat_minor": 2
}
