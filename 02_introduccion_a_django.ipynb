{
 "cells": [
  {
   "cell_type": "markdown",
   "metadata": {},
   "source": [
    "[![imagenes/pythonista.png](imagenes/pythonista.png)](https://pythonista.io)"
   ]
  },
  {
   "cell_type": "markdown",
   "metadata": {},
   "source": [
    "[Django](https://www.djangoproject.com/) es el marco de trabajo (framework) para desarrollo de aplicaciones web basado en Python de mayor popularidad y uno de los más [populares en general](https://hotframeworks.com/).\n",
    "\n",
    "Su lema es: \"El framework web para perfeccionistas con plazos de entrega\".\n",
    "\n",
    "A diferencia de microframeworks como [Flask](http://flask.pocoo.org/), *Django* viene con una basta cantidad de módulos y funcionalidades disponibles desde la instalación.\n",
    "\n",
    "Entre otras cosas, *Django* cuenta con las siguientes funcionalidades:\n",
    "\n",
    "* Instalación y configuración sensilla y rápida.\n",
    "* Cuenta con un ORM avanzado.\n",
    "* Utiliza plantillas (templates) para desplegar aplicaciones.\n",
    "* Soporta múltipes idiomas.\n",
    "* Diseñado para aprovechar el paradigma de desarrollo basado en pruebas (TDD).\n",
    "* Se apega al patrón [MVC](https://es.wikipedia.org/wiki/Modelo%E2%80%93vista%E2%80%93controlador) mediante la implementación del concepto  \"Model View Template\".\n",
    "* Hace énfasis en la seguridad.\n",
    "* Es escalable.\n",
    "* Es muy versátil, ya que no sólo es una execlente plataforma para:\n",
    "    * Deasrrollar aplicaciones web.\n",
    "    * Desarrollar API web.\n",
    "    * Desarrollo de aplicaciones móviles.\n",
    "\n",
    "La [documentación](https://docs.djangoproject.com/) del proyecto es extensa y aún cuando el idioma por defecto es el inglés, gran parte de ella está en [español](https://docs.djangoproject.com/es/2.1/)."
   ]
  },
  {
   "cell_type": "markdown",
   "metadata": {},
   "source": [
    "## Instalación.\n",
    "\n",
    "*Django* puede ser instalado con *pip* desde su repositorio en https://pypi.org/project/Django/."
   ]
  },
  {
   "cell_type": "markdown",
   "metadata": {},
   "source": [
    "**Ejemplo:**\n",
    "\n",
    "La siguiente celda instalará *Django* en el entorno virtual contenido en la Máquina Virtual proporcionada por Pythonista<sup>®</sup> en https://pythonista.io/descargas/base/view.\n",
    "\n",
    "**Nota:** En caso de utilizar esta notebook en un entorno distinto al del la máquina virtual de Pythonista<sup>®</sup>, tome en cuenta que debe de contar *pip* y los permisos necesarios para instalar el paquete correspondiente.\n"
   ]
  },
  {
   "cell_type": "code",
   "execution_count": null,
   "metadata": {},
   "outputs": [],
   "source": [
    "!pip install django"
   ]
  },
  {
   "cell_type": "markdown",
   "metadata": {},
   "source": [
    "## Proyectos (projects) y aplicaciones (apps) de Django.\n",
    "\n",
    "Al desarrollar aplicaciones web en *Django* se entoende lo siguiente:\n",
    "\n",
    "* Un proyecto se refiere a un producto completo que será desplegado por el framework. Por lo general un proyecto corresponde a un sitio web.\n",
    "* Una aplicación es un componente autocontenido del un proyecto y por lo general correposnde a una URL dentro del sitio."
   ]
  },
  {
   "cell_type": "markdown",
   "metadata": {},
   "source": [
    "## Despliegue de la estructura inicial de un proyecto.\n",
    "\n",
    "* La siguiente celda creará la estructura inicial de un proyecto, la cual realizará lo siguiente:\n",
    "\n",
    "   * Creará el subdirectorio *tutorial* en el subdirectorio en el que se encuentra la notebook.\n",
    "   * Desplegará la estructura mínima de subdirectorios de un proyecto de Django."
   ]
  },
  {
   "cell_type": "code",
   "execution_count": null,
   "metadata": {},
   "outputs": [],
   "source": [
    "!django-admin startproject tutorial"
   ]
  },
  {
   "cell_type": "markdown",
   "metadata": {},
   "source": [
    "### La estructura por defecto de un proyecto de Django.\n",
    "\n",
    "A continuación se mostrará la estructura creada dentro del subdirectorio [*tutorial*](tutorial)."
   ]
  },
  {
   "cell_type": "markdown",
   "metadata": {},
   "source": [
    "* La siguiente celda moverá la ejecución de esta notebook al subdirectorio *tutorial*."
   ]
  },
  {
   "cell_type": "code",
   "execution_count": null,
   "metadata": {},
   "outputs": [],
   "source": [
    "%cd tutorial"
   ]
  },
  {
   "cell_type": "markdown",
   "metadata": {},
   "source": [
    "* La siguiente celda desplegará la estructura del proyecto.\n",
    "\n",
    "**Nota:**\n",
    "    \n",
    "El comando *tree* es propio de sistemas basados en GNU/Linux. En caso de que se ejecute el siguiente comando en un entorno distinto al de la VM proporcionada por Pythonista<sup>®</sup>, es posible que tenga que instalarlo. En otros sistemas no es posible ejecutar este comando."
   ]
  },
  {
   "cell_type": "code",
   "execution_count": null,
   "metadata": {
    "scrolled": true
   },
   "outputs": [],
   "source": [
    "!tree"
   ]
  },
  {
   "cell_type": "markdown",
   "metadata": {},
   "source": [
    "El resutlado sería algo similar a lo siguiente:\n",
    "\n",
    "```\n",
    ".\n",
    "├── manage.py\n",
    "└── tutorial\n",
    "    ├── __init__.py\n",
    "    ├── settings.py\n",
    "    ├── urls.py\n",
    "    └── wsgi.py\n",
    "\n",
    "2 directories, 7 files\n",
    "```"
   ]
  },
  {
   "cell_type": "markdown",
   "metadata": {},
   "source": [
    "## Creación de una aplicación mínima.\n",
    "\n",
    "* La siguiente celda creará el sistema de archivos de una aplicación localizada en un nuevo subdirectorio llamado *main*."
   ]
  },
  {
   "cell_type": "code",
   "execution_count": null,
   "metadata": {},
   "outputs": [],
   "source": [
    "!./manage.py startapp main"
   ]
  },
  {
   "cell_type": "markdown",
   "metadata": {},
   "source": [
    "* La siguiente celda desplegará la estructura del nuevo subdirectorio [main](main).\n",
    "\n",
    "**Nota:**\n",
    "    \n",
    "El comando *tree* es propio de sistemas basados en GNU/Linux. En caso de que se ejecute el siguiente comando en un entorno distinto al de la VM proporcionada por Pythonista<sup>®</sup>, es posible que tenga que instalarlo. En otros sistemas no es posible ejecutar este comando."
   ]
  },
  {
   "cell_type": "code",
   "execution_count": null,
   "metadata": {
    "scrolled": true
   },
   "outputs": [],
   "source": [
    "!tree main"
   ]
  },
  {
   "cell_type": "markdown",
   "metadata": {
    "scrolled": true
   },
   "source": [
    "El resultado sería algo similar a lo siguiente:\n",
    "\n",
    "```\n",
    "main\n",
    "├── admin.py\n",
    "├── apps.py\n",
    "├── __init__.py\n",
    "├── migrations\n",
    "│   └── __init__.py\n",
    "├── models.py\n",
    "├── tests.py\n",
    "└── views.py\n",
    "```"
   ]
  },
  {
   "cell_type": "markdown",
   "metadata": {},
   "source": [
    "## Inicio del servicio.\n",
    "\n",
    "A continuación se ejecutará el servidor web de *Django*, el cual desplegará una página genérica.\n",
    "\n",
    "El servidor de *Django* está comfigurado para atender peticiones de *localhost* en el puerto *8000*, pero en este caso, se le indicará que atienda las peticiones desde cualquier IP en el puerto *5000*.\n",
    "\n",
    "**Nota:** \n",
    "Es necesario que el firewall de su equipo esté configurado para transmitir desde el puerto *5000*. \n",
    "\n",
    "**ADVERTENCIA:** Al ejecutar la siguiente celda, el servidor se inciará desde la notebook, por lo que para ejecutar cualquier otra celda, deberá interrumpir la ejecución del kernel."
   ]
  },
  {
   "cell_type": "code",
   "execution_count": null,
   "metadata": {},
   "outputs": [],
   "source": [
    "! ./manage.py runserver 0.0.0.0:5000"
   ]
  },
  {
   "cell_type": "markdown",
   "metadata": {},
   "source": [
    "El resultado puede ser visto desde http://localhost:5000"
   ]
  },
  {
   "cell_type": "markdown",
   "metadata": {},
   "source": [
    "<p style=\"text-align: center\"><a rel=\"license\" href=\"http://creativecommons.org/licenses/by/4.0/\"><img alt=\"Licencia Creative Commons\" style=\"border-width:0\" src=\"https://i.creativecommons.org/l/by/4.0/80x15.png\" /></a><br />Esta obra está bajo una <a rel=\"license\" href=\"http://creativecommons.org/licenses/by/4.0/\">Licencia Creative Commons Atribución 4.0 Internacional</a>.</p>\n",
    "<p style=\"text-align: center\">&copy; José Luis Chiquete Valdivieso. 2019.</p>"
   ]
  }
 ],
 "metadata": {
  "kernelspec": {
   "display_name": "Python 3",
   "language": "python",
   "name": "python3"
  },
  "language_info": {
   "codemirror_mode": {
    "name": "ipython",
    "version": 3
   },
   "file_extension": ".py",
   "mimetype": "text/x-python",
   "name": "python",
   "nbconvert_exporter": "python",
   "pygments_lexer": "ipython3",
   "version": "3.6.6"
  }
 },
 "nbformat": 4,
 "nbformat_minor": 2
}
