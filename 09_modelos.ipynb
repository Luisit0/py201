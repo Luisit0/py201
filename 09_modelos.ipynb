{
 "cells": [
  {
   "cell_type": "markdown",
   "metadata": {},
   "source": [
    "[![imagenes/pythonista.png](imagenes/pythonista.png)](https://pythonista.io)"
   ]
  },
  {
   "cell_type": "markdown",
   "metadata": {},
   "source": [
    "**ADVERTENCIAS:** \n",
    "\n",
    "* Para poder realizar exitosamente los ejercicios de esta notebook, es necesario haber seguido al pie de la letra y en orden sucesivo las instrucciones de todas las notebooks previas.\n",
    "* Se da por sentado de que el sistema desde el que se ejecute esta notebook tiene instalado y habilitado un gestor de bases de datos *MySQL* o *MariaDB* con un usuario *root* acreditado."
   ]
  },
  {
   "cell_type": "markdown",
   "metadata": {},
   "source": [
    "## Los modelos de *Django*.\n",
    "\n",
    "Los modelos de *Django* son los componentes relacionados con la estructura de los datos de una organización para un proceso, proyecto o aplicación específica.\n",
    "\n",
    "Como su nombre lo indica, los modelo se utilizan para describir los estados y actividades de los actores dentro de un proceso.\n",
    "\n",
    "*Django* permite crear objetos cuyo estado es mapeado en una base de datos mediante el uso de clases especiales con las siguientes características:\n",
    " \n",
    "* Cada clase corresponde al menos a una tabla, y por lo general solo  a una, en una base de datos relacional.\n",
    "* La clase puede mapear un atributo a una columna de una tabla.\n",
    "* Los objetos instanciados de estas clases son mapeados con un registro de la tabla en la que cada campo corresponde a un atributo mapeado del objeto.\n",
    "\n",
    "La referencia completa sobre modelos  puede ser consultada en: https://docs.djangoproject.com/en/2.1/topics/db/models/"
   ]
  },
  {
   "cell_type": "markdown",
   "metadata": {},
   "source": [
    "## La clase *django.db.models.Model*."
   ]
  },
  {
   "cell_type": "code",
   "execution_count": null,
   "metadata": {},
   "outputs": [],
   "source": [
    "from django.db.models import Model"
   ]
  },
  {
   "cell_type": "code",
   "execution_count": null,
   "metadata": {},
   "outputs": [],
   "source": [
    "help(Model)"
   ]
  },
  {
   "cell_type": "markdown",
   "metadata": {},
   "source": [
    "## Tipos de datos de los campos.\n",
    "\n",
    "*Django* tiene la capacidad de extender los tipos de datos de Python así como los de cada gestor de bases de datos mendiante el uso de su gestor de modelos de objetos relacional, también conocido como *ORM* por sus siglas en inglés.\n",
    "\n",
    "Lo anterior permite definir una extensa variedad de tipos de datos que optimiza el desarrollo de aplicaciones de forma transparente e independiente de la naturaleza del gestor de datos.\n",
    "\n",
    "Es posible consultar los tipos de datos definidos por *Django* desde la siguiente liga:\n",
    "\n",
    "https://docs.djangoproject.com/en/2.1/ref/models/fields/#field-types"
   ]
  },
  {
   "cell_type": "markdown",
   "metadata": {},
   "source": [
    "## Opciones de los campos.\n",
    "\n",
    "Además del tipo de datos, es posible definir algunas opciones que permiten a los campos tener caracterísdticas especiales.\n",
    "\n",
    "Es posible consultar las opciones definidos por *Django* desde la siguiente liga:\n",
    "\n",
    "https://docs.djangoproject.com/en/2.1/ref/models/fields/#field-options"
   ]
  },
  {
   "cell_type": "markdown",
   "metadata": {},
   "source": [
    "## Los archivos *models.py*.\n",
    "\n",
    "Estos archivos son los indicados por *Django* para la definiciónde modelos."
   ]
  },
  {
   "cell_type": "markdown",
   "metadata": {},
   "source": [
    "**Ejemplo:**\n",
    "\n",
    "El archivo *tutorial/main/models.py* es el indicado para definir los modelos "
   ]
  },
  {
   "cell_type": "code",
   "execution_count": 3,
   "metadata": {},
   "outputs": [
    {
     "name": "stdout",
     "output_type": "stream",
     "text": [
      "from django.db import models\r\n",
      "\r\n",
      "# Create your models here.\r\n"
     ]
    }
   ],
   "source": [
    "%cat tutorial/main/models.py"
   ]
  },
  {
   "cell_type": "markdown",
   "metadata": {},
   "source": [
    "## Definición de un modelo ilustrativo."
   ]
  },
  {
   "cell_type": "markdown",
   "metadata": {},
   "source": [
    "``` python\n",
    "class Alumno(models.Model):\n",
    "    \n",
    "\n"
   ]
  },
  {
   "cell_type": "code",
   "execution_count": null,
   "metadata": {},
   "outputs": [],
   "source": []
  },
  {
   "cell_type": "code",
   "execution_count": null,
   "metadata": {},
   "outputs": [],
   "source": []
  },
  {
   "cell_type": "code",
   "execution_count": null,
   "metadata": {},
   "outputs": [],
   "source": []
  },
  {
   "cell_type": "markdown",
   "metadata": {},
   "source": [
    "<p style=\"text-align: center\"><a rel=\"license\" href=\"http://creativecommons.org/licenses/by/4.0/\"><img alt=\"Licencia Creative Commons\" style=\"border-width:0\" src=\"https://i.creativecommons.org/l/by/4.0/80x15.png\" /></a><br />Esta obra está bajo una <a rel=\"license\" href=\"http://creativecommons.org/licenses/by/4.0/\">Licencia Creative Commons Atribución 4.0 Internacional</a>.</p>\n",
    "<p style=\"text-align: center\">&copy; José Luis Chiquete Valdivieso. 2019.</p>"
   ]
  }
 ],
 "metadata": {
  "kernelspec": {
   "display_name": "Python 3",
   "language": "python",
   "name": "python3"
  },
  "language_info": {
   "codemirror_mode": {
    "name": "ipython",
    "version": 3
   },
   "file_extension": ".py",
   "mimetype": "text/x-python",
   "name": "python",
   "nbconvert_exporter": "python",
   "pygments_lexer": "ipython3",
   "version": "3.6.6"
  }
 },
 "nbformat": 4,
 "nbformat_minor": 2
}
