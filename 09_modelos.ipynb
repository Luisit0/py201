{
 "cells": [
  {
   "cell_type": "markdown",
   "metadata": {},
   "source": [
    "[![imagenes/pythonista.png](imagenes/pythonista.png)](https://pythonista.io)"
   ]
  },
  {
   "cell_type": "markdown",
   "metadata": {},
   "source": [
    "**ADVERTENCIAS:** \n",
    "\n",
    "* Para poder realizar exitosamente los ejercicios de esta notebook, es necesario haber seguido al pie de la letra y en orden sucesivo las instrucciones de todas las notebooks previas.\n",
    "\n",
    "* Las configuraciones de las bases de datos utilizadas en este curso dan por sentado de que se están ejecutando en alguna de las  máquinas virtuales proporcionadas en el sitio de Pythonista<sup>®</sup>."
   ]
  },
  {
   "cell_type": "markdown",
   "metadata": {},
   "source": [
    "## Los modelos de *Django*.\n",
    "\n",
    "Los modelos de *Django* son los componentes relacionados con la estructura de los datos de una organización para un proceso, proyecto o aplicación específica.\n",
    "\n",
    "Como su nombre lo indica, los modelo se utilizan para describir los estados y actividades de los actores dentro de un proceso.\n",
    "\n",
    "*Django* permite crear objetos cuyo estado es mapeado en una base de datos mediante el uso de clases especiales con las siguientes características:\n",
    " \n",
    "* Cada clase corresponde al menos a una tabla, y por lo general solo  a una, en una base de datos relacional.\n",
    "* La clase puede mapear un atributo a una columna de una tabla.\n",
    "* Los objetos instanciados de estas clases son mapeados con un registro de la tabla en la que cada campo corresponde a un atributo mapeado del objeto."
   ]
  },
  {
   "cell_type": "markdown",
   "metadata": {},
   "source": [
    "## La clase *django.db.models.Model*."
   ]
  },
  {
   "cell_type": "code",
   "execution_count": 2,
   "metadata": {},
   "outputs": [],
   "source": [
    "from django.db.models import Model"
   ]
  },
  {
   "cell_type": "code",
   "execution_count": 3,
   "metadata": {},
   "outputs": [
    {
     "name": "stdout",
     "output_type": "stream",
     "text": [
      "Help on class Model in module django.db.models.base:\n",
      "\n",
      "class Model(builtins.object)\n",
      " |  Methods defined here:\n",
      " |  \n",
      " |  __eq__(self, other)\n",
      " |      Return self==value.\n",
      " |  \n",
      " |  __getstate__(self)\n",
      " |      Hook to allow choosing the attributes to pickle.\n",
      " |  \n",
      " |  __hash__(self)\n",
      " |      Return hash(self).\n",
      " |  \n",
      " |  __init__(self, *args, **kwargs)\n",
      " |      Initialize self.  See help(type(self)) for accurate signature.\n",
      " |  \n",
      " |  __reduce__(self)\n",
      " |      helper for pickle\n",
      " |  \n",
      " |  __repr__(self)\n",
      " |      Return repr(self).\n",
      " |  \n",
      " |  __setstate__(self, state)\n",
      " |  \n",
      " |  __str__(self)\n",
      " |      Return str(self).\n",
      " |  \n",
      " |  clean(self)\n",
      " |      Hook for doing any extra model-wide validation after clean() has been\n",
      " |      called on every field by self.clean_fields. Any ValidationError raised\n",
      " |      by this method will not be associated with a particular field; it will\n",
      " |      have a special-case association with the field defined by NON_FIELD_ERRORS.\n",
      " |  \n",
      " |  clean_fields(self, exclude=None)\n",
      " |      Clean all fields and raise a ValidationError containing a dict\n",
      " |      of all validation errors if any occur.\n",
      " |  \n",
      " |  date_error_message(self, lookup_type, field_name, unique_for)\n",
      " |  \n",
      " |  delete(self, using=None, keep_parents=False)\n",
      " |  \n",
      " |  full_clean(self, exclude=None, validate_unique=True)\n",
      " |      Call clean_fields(), clean(), and validate_unique() on the model.\n",
      " |      Raise a ValidationError for any errors that occur.\n",
      " |  \n",
      " |  get_deferred_fields(self)\n",
      " |      Return a set containing names of deferred fields for this instance.\n",
      " |  \n",
      " |  prepare_database_save(self, field)\n",
      " |  \n",
      " |  refresh_from_db(self, using=None, fields=None)\n",
      " |      Reload field values from the database.\n",
      " |      \n",
      " |      By default, the reloading happens from the database this instance was\n",
      " |      loaded from, or by the read router if this instance wasn't loaded from\n",
      " |      any database. The using parameter will override the default.\n",
      " |      \n",
      " |      Fields can be used to specify which fields to reload. The fields\n",
      " |      should be an iterable of field attnames. If fields is None, then\n",
      " |      all non-deferred fields are reloaded.\n",
      " |      \n",
      " |      When accessing deferred fields of an instance, the deferred loading\n",
      " |      of the field will call this method.\n",
      " |  \n",
      " |  save(self, force_insert=False, force_update=False, using=None, update_fields=None)\n",
      " |      Save the current instance. Override this in a subclass if you want to\n",
      " |      control the saving process.\n",
      " |      \n",
      " |      The 'force_insert' and 'force_update' parameters can be used to insist\n",
      " |      that the \"save\" must be an SQL insert or update (or equivalent for\n",
      " |      non-SQL backends), respectively. Normally, they should not be set.\n",
      " |  \n",
      " |  save_base(self, raw=False, force_insert=False, force_update=False, using=None, update_fields=None)\n",
      " |      Handle the parts of saving which should be done only once per save,\n",
      " |      yet need to be done in raw saves, too. This includes some sanity\n",
      " |      checks and signal sending.\n",
      " |      \n",
      " |      The 'raw' argument is telling save_base not to save any parent\n",
      " |      models and not to do any changes to the values before save. This\n",
      " |      is used by fixture loading.\n",
      " |  \n",
      " |  serializable_value(self, field_name)\n",
      " |      Return the value of the field name for this instance. If the field is\n",
      " |      a foreign key, return the id value instead of the object. If there's\n",
      " |      no Field object with this name on the model, return the model\n",
      " |      attribute's value.\n",
      " |      \n",
      " |      Used to serialize a field's value (in the serializer, or form output,\n",
      " |      for example). Normally, you would just access the attribute directly\n",
      " |      and not use this method.\n",
      " |  \n",
      " |  unique_error_message(self, model_class, unique_check)\n",
      " |  \n",
      " |  validate_unique(self, exclude=None)\n",
      " |      Check unique constraints on the model and raise ValidationError if any\n",
      " |      failed.\n",
      " |  \n",
      " |  ----------------------------------------------------------------------\n",
      " |  Class methods defined here:\n",
      " |  \n",
      " |  check(**kwargs) from django.db.models.base.ModelBase\n",
      " |  \n",
      " |  from_db(db, field_names, values) from django.db.models.base.ModelBase\n",
      " |  \n",
      " |  ----------------------------------------------------------------------\n",
      " |  Data descriptors defined here:\n",
      " |  \n",
      " |  __dict__\n",
      " |      dictionary for instance variables (if defined)\n",
      " |  \n",
      " |  __weakref__\n",
      " |      list of weak references to the object (if defined)\n",
      " |  \n",
      " |  pk\n",
      "\n"
     ]
    }
   ],
   "source": [
    "help(Model)"
   ]
  },
  {
   "cell_type": "markdown",
   "metadata": {},
   "source": [
    "## Tipos de datos de los campos.\n",
    "\n",
    "*Django* tiene la capacidad de extender los tipos de datos de Python así como los de cada gestor de bases de datos mendiante el uso de su gestor de modelos de datos relacional, también conocido como *ORM* por sus siglas en inglés.\n",
    "\n",
    "Lo anterior permite definir una extensa variedad de tipos de datos que optimiza el desarrollo de aplicaciones de forma transparente e independiente de la naturaleza del gestor de datos.\n",
    "\n",
    "Es posible consultar los tipos de datos definidos por *Django* desde la siguiente liga:\n",
    "\n",
    "https://docs.djangoproject.com/en/2.1/ref/models/fields/#field-types"
   ]
  },
  {
   "cell_type": "markdown",
   "metadata": {},
   "source": [
    "## Los archivos *models.py*.\n",
    "\n",
    "Estos archivos son los indicados por *Django* para la definiciónde modelos."
   ]
  },
  {
   "cell_type": "markdown",
   "metadata": {},
   "source": [
    "**Ejemplo:**\n",
    "\n",
    "El archivo *tutorial/main/models.py* es el indicado para definir los modelos "
   ]
  },
  {
   "cell_type": "code",
   "execution_count": 1,
   "metadata": {},
   "outputs": [
    {
     "name": "stdout",
     "output_type": "stream",
     "text": [
      "from django.db import models\r\n",
      "\r\n",
      "# Create your models here.\r\n"
     ]
    }
   ],
   "source": [
    "%cat tutorial/main/models.py"
   ]
  },
  {
   "cell_type": "markdown",
   "metadata": {},
   "source": [
    "<p style=\"text-align: center\"><a rel=\"license\" href=\"http://creativecommons.org/licenses/by/4.0/\"><img alt=\"Licencia Creative Commons\" style=\"border-width:0\" src=\"https://i.creativecommons.org/l/by/4.0/80x15.png\" /></a><br />Esta obra está bajo una <a rel=\"license\" href=\"http://creativecommons.org/licenses/by/4.0/\">Licencia Creative Commons Atribución 4.0 Internacional</a>.</p>\n",
    "<p style=\"text-align: center\">&copy; José Luis Chiquete Valdivieso. 2019.</p>"
   ]
  }
 ],
 "metadata": {
  "kernelspec": {
   "display_name": "Python 3",
   "language": "python",
   "name": "python3"
  },
  "language_info": {
   "codemirror_mode": {
    "name": "ipython",
    "version": 3
   },
   "file_extension": ".py",
   "mimetype": "text/x-python",
   "name": "python",
   "nbconvert_exporter": "python",
   "pygments_lexer": "ipython3",
   "version": "3.6.6"
  }
 },
 "nbformat": 4,
 "nbformat_minor": 2
}
