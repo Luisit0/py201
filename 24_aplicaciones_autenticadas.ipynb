{
 "cells": [
  {
   "cell_type": "markdown",
   "metadata": {},
   "source": [
    "[![imagenes/pythonista.png](imagenes/pythonista.png)](https://pythonista.io)"
   ]
  },
  {
   "cell_type": "markdown",
   "metadata": {},
   "source": [
    "## La función ```django.contrib.auth.decorators.login_required```.\n",
    "\n",
    "Esta función de primer orden permite ser aplicada como un decorador a aquellas funciones de vista que requieran que el usuario se autenticado con la siguiente sintaxis.\n",
    "\n",
    "```\n",
    "@login_required\n",
    "def <función de vista>(request):\n",
    "    ...\n",
    "    ...\n",
    "```"
   ]
  },
  {
   "cell_type": "markdown",
   "metadata": {},
   "source": [
    "## Ejemplo ilustrativo.\n",
    "\n",
    "El script ```src/24/template_views.py``` contiene el siguiente código, el cual restringirá el acceso a las *URLs* que contiene plantillas de la aplicación ```api/```.\n",
    "\n",
    "* En caso de que el usuario no haya ingresado correctamente, será redirigido a ```accounts/login/``` y una vez que haya hecho su ingreso exitoso, regresará a la *URL* original.\n",
    "\n",
    "```python\n",
    "from .models import Alumno\n",
    "from .forms import FormaAlumno\n",
    "from django.http import HttpResponseRedirect, HttpResponse, JsonResponse\n",
    "from django.shortcuts import render, render_to_response\n",
    "from requests import post\n",
    "from django.contrib.auth.decorators  import login_required \n",
    "\n",
    "campos = ('numero_de_cuenta', 'nombre', 'primer_apellido', 'segundo_apellido', 'carrera', 'semestre', 'promedio', 'al_corriente')\n",
    "\n",
    "\n",
    "@login_required\n",
    "def vista(request):\n",
    "    lista = [[(campo, getattr(alumno, campo)) for campo in campos] for alumno in Alumno.objects.all()]\n",
    "    return render_to_response('listado.html',{'lista': lista}) \n",
    "\n",
    "\n",
    "@login_required\n",
    "def valida(request):\n",
    "    lista = [[getattr(alumno, campo) for campo in campos] for alumno in Alumno.objects.all()]\n",
    "    return render_to_response('valida.html',{'lista': lista}) \n",
    "\n",
    "\n",
    "@login_required\n",
    "def forma(request):\n",
    "    if request.method == 'POST':\n",
    "        forma = FormaAlumno(request.POST)\n",
    "        if forma.is_valid():\n",
    "            datos = request.POST.dict()\n",
    "            datos.pop('csrfmiddlewaretoken')\n",
    "            cuenta = datos.pop('numero_de_cuenta')\n",
    "            if 'al_corriente' in datos:\n",
    "                datos['al_corriente']=True\n",
    "            else:\n",
    "                datos['al_corriente']=False\n",
    "            resultado = post('http://' + request.get_host() + '/api/{}'.format(cuenta), data=datos)\n",
    "            if resultado.status_code == 200:\n",
    "                return HttpResponse('<h1>¡Alta Exitosa!</h1>')    \n",
    "            else: \n",
    "                return HttpResponse('<h1>Ocurrió un error en el alta.</h1>')\n",
    "\n",
    "            \n",
    "    else:\n",
    "        forma = FormaAlumno()\n",
    "\n",
    "    return render(request, 'forma.html', {'forma': forma})\n",
    "```\n"
   ]
  },
  {
   "cell_type": "markdown",
   "metadata": {},
   "source": [
    "* Se sustituirá al script ```tutorial/api/template_views.py``` con el script ```src/24/template_views.py```."
   ]
  },
  {
   "cell_type": "markdown",
   "metadata": {},
   "source": [
    "* Para las plataforma GNU/Linux y MacOS X."
   ]
  },
  {
   "cell_type": "code",
   "execution_count": null,
   "metadata": {},
   "outputs": [],
   "source": [
    "%cp src/24/template_views.py tutorial/api/template_views.py"
   ]
  },
  {
   "cell_type": "markdown",
   "metadata": {},
   "source": [
    "* Para la plataforma Windows."
   ]
  },
  {
   "cell_type": "code",
   "execution_count": null,
   "metadata": {},
   "outputs": [],
   "source": [
    "% copy src\\24\\template_views.py tutorial\\api\\template_views.py"
   ]
  },
  {
   "cell_type": "markdown",
   "metadata": {},
   "source": [
    "* La siguiente celda mostrará el resultado de la sustitución."
   ]
  },
  {
   "cell_type": "code",
   "execution_count": null,
   "metadata": {},
   "outputs": [],
   "source": [
    "%pycat tutorial/api/template_views.py"
   ]
  },
  {
   "cell_type": "markdown",
   "metadata": {},
   "source": [
    "* Se iniciará el servidor."
   ]
  },
  {
   "cell_type": "code",
   "execution_count": null,
   "metadata": {},
   "outputs": [],
   "source": [
    "%cd tutorial"
   ]
  },
  {
   "cell_type": "markdown",
   "metadata": {},
   "source": [
    "**ADVERTENCIAS:** \n",
    "\n",
    "* Al ejecutar la siguiente celda el servidor se inciará desde la notebook, por lo que para ejecutar cualquier otra celda es necesario interrumpir la ejecución del kernel.\n",
    "\n",
    "* Asegúrese que no haya otro servicio escuchando en el puerto *5000*."
   ]
  },
  {
   "cell_type": "code",
   "execution_count": null,
   "metadata": {},
   "outputs": [],
   "source": [
    "!./manage.py runserver 0.0.0.0:5000"
   ]
  },
  {
   "cell_type": "markdown",
   "metadata": {},
   "source": [
    "<p style=\"text-align: center\"><a rel=\"license\" href=\"http://creativecommons.org/licenses/by/4.0/\"><img alt=\"Licencia Creative Commons\" style=\"border-width:0\" src=\"https://i.creativecommons.org/l/by/4.0/80x15.png\" /></a><br />Esta obra está bajo una <a rel=\"license\" href=\"http://creativecommons.org/licenses/by/4.0/\">Licencia Creative Commons Atribución 4.0 Internacional</a>.</p>\n",
    "<p style=\"text-align: center\">&copy; José Luis Chiquete Valdivieso. 2019.</p>"
   ]
  }
 ],
 "metadata": {
  "kernelspec": {
   "display_name": "Python 3",
   "language": "python",
   "name": "python3"
  },
  "language_info": {
   "codemirror_mode": {
    "name": "ipython",
    "version": 3
   },
   "file_extension": ".py",
   "mimetype": "text/x-python",
   "name": "python",
   "nbconvert_exporter": "python",
   "pygments_lexer": "ipython3",
   "version": "3.7.3"
  }
 },
 "nbformat": 4,
 "nbformat_minor": 2
}
