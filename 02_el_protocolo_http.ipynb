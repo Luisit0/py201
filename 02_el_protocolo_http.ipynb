{
 "cells": [
  {
   "cell_type": "markdown",
   "metadata": {},
   "source": [
    "[![imagenes](imagenes/pythonista.png)](https://pythonista.io)"
   ]
  },
  {
   "cell_type": "markdown",
   "metadata": {},
   "source": [
    "# Introducción a  *HTTP*."
   ]
  },
  {
   "cell_type": "markdown",
   "metadata": {},
   "source": [
    "Creado por [Tim Berners-Lee](https://es.wikipedia.org/wiki/Tim_Berners-Lee) en 1989, es el protocolo utilizado para acceder y publicar en la *World Wide Web*, o simplemente la web.\n",
    "Significa Protocolo de transmisión de hipertexto.\n",
    "\n",
    "Actualmente el [World Wide Web Consortium (*W3C*)](https://www.w3.org) es la entidad encargada, entre otras cosas, de publicar la especificación del protocolo *HTTP*. La versión más reciente es *HTTP/2*, pero la mayoría de los servidores utilizan la versión *HTTP/1.1*.\n",
    "\n",
    "La siguiente liga corresponde al listado de protocolos publicados por la *W3C*.\n",
    "\n",
    "https://www.w3.org/Protocols/"
   ]
  },
  {
   "cell_type": "markdown",
   "metadata": {},
   "source": [
    "### Características de *HTTP*.\n",
    "\n",
    "*HTTP* está basado en  una arquitectura cliente-servidor en la que se intercambian peticiones (requests) por parte del cliente y respuestas (responses) por parte del servidor y tiene las siguientes caracterísiticas. \n",
    "\n",
    "* **Sin estado.** Es decir, que cada una de las transacciones request/response que se realizan no afectan al estado del cliente o del servidor, además de que cada transacción es totalmente independiente de el resto.\n",
    "* **Independiente del contenido.** Aún cuando es muy común que un servidor *HTTP* entregue documentos *HTML*, pero no existe restricción en el tipo de recurso al que se pueda acceder.\n",
    "* **Sin conexión.** Una vez que la transacción petición/respuesta es terminada, la conexión entre cliente y servidor es destruida.\n"
   ]
  },
  {
   "cell_type": "markdown",
   "metadata": {},
   "source": [
    "### Uniform Resource Locator (*URL*).\n",
    "\n",
    "El protocolo *HTTP* permite localizar los diversos recursos disponbles en la web mediante los Localizadores Uniformes de Recursos (*URL* por sus siglas en inglés). La estructura de una *URL* es la siguiente:\n",
    "\n",
    "```\n",
    "http://<subdominio>.<dominio>:<puerto>/<ruta relativa>?<parámetros>\n",
    "```\n",
    "\n",
    "*HTTP* utiliza por defecto el puerto ```80```.\n",
    "\n",
    "El protocolo *HTTPS* es una variación del *HTTP* que permite cifrar las comunicaciones entre el cliente y el servidor usando el protocolo [*TLS/SSL*](https://es.wikipedia.org/wiki/Transport_Layer_Security) definiendo la *URL* de la siguiente forma: \n",
    "\n",
    "```\n",
    "https://<subdominio>.<dominio>:<puerto>/<ruta absoluta>?<parámetros>\n",
    "```\n",
    "\n",
    "*HTTPS* utiliza el puerto ```443``` por defecto."
   ]
  },
  {
   "cell_type": "markdown",
   "metadata": {},
   "source": [
    "## Peticiones, respuestas y sesiones.\n",
    "\n",
    "Las comunicaciones entre el cliente y el servidor consisten en un serie de intercambios de datos.\n",
    "\n",
    "*  Un cliente por lo general envía una petición (request) a un servidor que se encuentra atendiendo a una dirección específica. La petición incluye generalmente los datos del cliente, asi como la información necesaria para que el servidor pueda procesar correctamente el requerimiento.\n",
    "* El servidor recibe la petición y procesa los datos. Dependiendo de la petición, el servidor puede enviar cualquier tipo de recurso, así como mensajes de estado.\n",
    "* A este intercambio de peticiones y respuestas entre un cliente y un servidor se conocen como sesiones."
   ]
  },
  {
   "cell_type": "markdown",
   "metadata": {},
   "source": [
    "## Mensajes de estado.\n",
    "Los mensajes de estado permiten informar al cliente sobre la manera en la que ha sido procesada la petición. Está conformado por un número entero de 3 dígitos. En caso de que la petición haya sido procesada exitosamente, el servidor regresa el número ```200```.\n",
    "\n",
    "### Tipos por el número inicial:\n",
    "\n",
    "* 1xx Información.\n",
    "* 2xx Éxito.\n",
    "* 3xx Redireccionamiento.\n",
    "* 4xx Error del cliente.\n",
    "* 5xx Error del servidor.\n",
    "\n",
    "Puede consultar los mensajes de estado de *HTTP* en la siguiente liga: http://www.restapitutorial.com/httpstatuscodes.html"
   ]
  },
  {
   "cell_type": "markdown",
   "metadata": {},
   "source": [
    "## Métodos de *HTTP*.\n",
    "\n",
    "El protocolo *HTTP* define métodos o \"verbos\", los cuales permiten realizar peticiones específicas entre un cliente y un servidor. Algunos de los métodos más utilizados son:\n",
    "\n",
    "* ```GET``` se utiliza para obtener los datos de un recurso a partir de una *URL*. La información enviada mediante ```GET``` puede ser añadida a marcadores y puede ser regsitrada en las bitácoras del servidor.\n",
    "* ```HEAD``` es similar al método ```GET```, pero sólo proporciona el encabezado de la petición y el mensaje de estado resultante.\n",
    "* ```POST``` se utiliza para cear un recurso. Los datos enviados no son expuestos en la *URL* sino que son enviados dentro de la estructura de la petición. \n",
    "* ```PUT``` se utiliza para sustituir un recurso existente y su estructura es similar a la de ```POST```.\n",
    "* ```PATCH``` es un método que se utiliza para modificar parcialmente un recurso.\n",
    "* ```DELETE``` es un método que se utiliza para eliminar un recurso. \n",
    "\n",
    "Existen algunos otros métodos como ```OPTIONS```, ```TRACE``` y ```CONNECT```, pero no están contemplados en el alcance de este taller. Puede consultar más al respecto puede acceder a https://developer.mozilla.org/es/docs/Web/HTTP/Methods.\n",
    "\n",
    "### Idempotencia.\n",
    "\n",
    "Un método es 'idempotente' cuando no importan las veces que se envíe la misma petición, ésta dará el mismo resultado.\n",
    "\n",
    "### Seguridad.\n",
    "\n",
    "Un método se considera seguro si no modifica los recursos a los que accede.\n",
    "\n",
    "|  Método  |  Idempotente  |  Seguro  |\n",
    "| -------- | ------------- | -------- |\n",
    "|  ```GET```  | Sí | Sí |\n",
    "|  ```HEAD```  | Sí | Sí |\n",
    "|  ```DELETE```  |Sí| No |\n",
    "|  ```POST``` | No | No|\n",
    "|  ```PUT```  | Sí | No|\n",
    "|  ```PATCH``` |No| No| \n",
    "\n",
    "### Advertencia sobre los métodos seguros.\n",
    "\n",
    "La seguridad de un método depende de su implementación y aún cuando se considera como una mala práctica, es posible que los métodos como ```GET``` sean capaces de modificar al recurso al que acceden."
   ]
  },
  {
   "cell_type": "markdown",
   "metadata": {},
   "source": [
    "## El paquete ```requests```.\n",
    "\n",
    "El paquete [```requests```](https://requests.kennethreitz.org/en/master/)  permite iniciar una sesión con un servidor web, mediante funciones que emulan los métodos del protocolo *HTTP*, regresando un objeto de tipo ```requests.models.Response```.\n",
    "\n",
    "El paquete ```requests``` presenta funcionalidades avanzadas como autenticación, conexiones seguras, manejo de 'cookies', etc. "
   ]
  },
  {
   "cell_type": "code",
   "execution_count": null,
   "metadata": {},
   "outputs": [],
   "source": [
    "!pip install requests"
   ]
  },
  {
   "cell_type": "code",
   "execution_count": null,
   "metadata": {},
   "outputs": [],
   "source": [
    "import requests"
   ]
  },
  {
   "cell_type": "markdown",
   "metadata": {},
   "source": [
    "### Funciones de métodos de ```requests```.\n",
    "\n",
    "El paquete ```requests``` contiene varias funciones que pueden enviar peticiones a una *URL* utilizando un método en particular de la siguiente manera:\n",
    "\n",
    "```\n",
    "<funcion de método>('<URL>', <argumento 1>, <argumento 2>, ... , <argumento n>)\n",
    "```\n",
    "\n",
    "Donde:\n",
    "\n",
    "* ```<URL>``` es la *URL* de in recurso por el cual se hará la petición.\n",
    "* ```<argumento n>``` es un argumento que se aplicará a la petición.\n",
    "\n",
    "Estas funciones pueden ser:\n",
    "\n",
    "* ```requests.get()```, la cual accederá a una *URL* utilizando el método ```GET```.\n",
    "* ```requests.head()```, la cual accederá a una *URL* utilizando el método ```HEAD```.\n",
    "* ```requests.post()```, la cual accederá a una *URL* utilizando el método ```POST```.\n",
    "* ```requests.put()```, la cual accederá a una *URL* utilizando el método ```PUT```.\n",
    "* ```requests.patch()```, la cual accederá a una *URL* utilizando el método ```PATCH```.\n",
    "* ```requests.delete()```, la cual accederá a una *URL* utilizando el método ```DELETE```.\n",
    "* ```requests.connect()```, la cual accederá a una *URL* utilizando el método ```CONNECT```.\n",
    "* ```requests.options()```, la cual accederá a una *URL* utilizando el método ```OPTIONS```.\n",
    "* ```requests.trace()```, la cual accederá a una *URL* utilizando el método ```TRACE```.\n",
    "\n",
    "Del mismo modo, al recibir la respuesta del servidor, la función regresará a un objeto de tipo ```requests.models.Response```."
   ]
  },
  {
   "cell_type": "markdown",
   "metadata": {},
   "source": [
    "#### Argumentos de las funciones de métodos.\n",
    "\n",
    "* ```params```\n",
    "* ```header```\n",
    "* ```data```\n",
    "* ```json```\n",
    "* ```auth```"
   ]
  },
  {
   "cell_type": "markdown",
   "metadata": {},
   "source": [
    "**Ejemplo:**\n",
    "\n",
    "* Se utilizará la función ```requests.get()``` en la *URL* https://coder.mx para abir una conexión enviando una petición ```GET```  y el objeto resultante será nombrado ```sitio```."
   ]
  },
  {
   "cell_type": "code",
   "execution_count": null,
   "metadata": {},
   "outputs": [],
   "source": [
    "sitio = requests.get(\"https://coder.mx\") "
   ]
  },
  {
   "cell_type": "markdown",
   "metadata": {},
   "source": [
    "* El objeto sitio es una instancia de la clase ```requests.models.Response```."
   ]
  },
  {
   "cell_type": "code",
   "execution_count": null,
   "metadata": {},
   "outputs": [],
   "source": [
    "type(sitio)"
   ]
  },
  {
   "cell_type": "markdown",
   "metadata": {},
   "source": [
    "## Atributos y métodos de los objetos ```requests.models.Response```.\n",
    "\n",
    "Los objetos de tipo ```requests.models.Response``` contienen varios atributos y métodos que permiten acceder a diversos datos de la respuesta obtenida a partir de uan petición."
   ]
  },
  {
   "cell_type": "markdown",
   "metadata": {},
   "source": [
    "### Atributos.\n",
    "\n",
    "* El atributo ```headers```, el cual es un objeto de tipo ```dict``` conteniendo los atributos del encabezado de la respuesta del servidor. Cada clave del objeto corresponde al identificador de un atributo y los valores correspondientes a la calve siempre son objetos de tipo ```str```. Algunas de dichas claves son:\n",
    "    * La clave ```'Date'```, el cual contiene la fecha y hora en la que se envió la respuesta.\n",
    "    * La clave ```'Server'```, el cual contiene la descripción del servidor.\n",
    "    * La clave ```'Last-Modified'```, el cual contiene la fecha de la última modificación del recurso.\n",
    "    * La clave ```'Content-Encoding'```, el cual contiene la codificación del contenido.\n",
    "    * La clave ```'Content-Length'```, el cual contiene el tamaño en bytes del contenido.\n",
    "    * La clave ```'Content-Type'```, el cual describe el [tipo MIME](https://developer.mozilla.org/es/docs/Web/HTTP/Basics_of_HTTP/MIME_types#Tipos_MIME_importantes_para_desarrolladores_Web) del contenido.\n",
    "\n",
    "* El atributo ```status_code```, el cual corresponde al número de código de estado que regresa el servidor.\n",
    "* El atributo ```reason```, el cual es un objeto de tipo```str``` con un mensaje relacionado al código de estado.\n",
    "* El atributo ```url```, el cual es un objeto de tipo ```str``` que contiene a la *URL* a la que se le hizo la peitción.\n",
    "* El atributo ```content```, el cual es un objeto de tipo ```bytes``` con los datos enviados por el servidor.\n",
    "* El atributo ```encoding```, el cual es un objeto de tipo ```str``` que describe la codificación usada por el servidor.\n",
    "* El atributo ```text```, el cual es un objeto de tipo ```str``` que contiene una representación del contenido, en caso de que el tipo de contenido sea texto."
   ]
  },
  {
   "cell_type": "markdown",
   "metadata": {},
   "source": [
    "### Métodos.\n",
    "\n",
    "* El método ```close()```. Este método cierra la sesión entre el cliente y el servidor.\n",
    "* El método ```json()``` puede convertir en un objeto tipo ```dict``` al contenido de una respuesta cuando el atributo ```Content Type``` sea de tipo ```'application/json'```. "
   ]
  },
  {
   "cell_type": "markdown",
   "metadata": {},
   "source": [
    "**Ejemplos:**"
   ]
  },
  {
   "cell_type": "markdown",
   "metadata": {},
   "source": [
    "* La siguiente celda deplegará el contenido del atributo ```sitios.headers```."
   ]
  },
  {
   "cell_type": "code",
   "execution_count": null,
   "metadata": {
    "scrolled": true
   },
   "outputs": [],
   "source": [
    "sitio.headers"
   ]
  },
  {
   "cell_type": "markdown",
   "metadata": {},
   "source": [
    "* La siguiente celda deplegará el contenido de la clave ```'Content-Type'``` del atributo ```sitios.headers```."
   ]
  },
  {
   "cell_type": "code",
   "execution_count": null,
   "metadata": {},
   "outputs": [],
   "source": [
    "sitio.headers['Content-Type']"
   ]
  },
  {
   "cell_type": "markdown",
   "metadata": {},
   "source": [
    "* La siguiente celda deplegará el contenido del atributo ```sitio.status_code```."
   ]
  },
  {
   "cell_type": "code",
   "execution_count": null,
   "metadata": {
    "scrolled": false
   },
   "outputs": [],
   "source": [
    "sitio.status_code"
   ]
  },
  {
   "cell_type": "markdown",
   "metadata": {},
   "source": [
    "* La siguiente celda deplegará el contenido del atributo ```sitio.reason```."
   ]
  },
  {
   "cell_type": "code",
   "execution_count": null,
   "metadata": {},
   "outputs": [],
   "source": [
    "sitio.reason"
   ]
  },
  {
   "cell_type": "markdown",
   "metadata": {},
   "source": [
    "* La siguiente celda deplegará el contenido del atributo ```sitio.content```."
   ]
  },
  {
   "cell_type": "markdown",
   "metadata": {},
   "source": [
    "* La siguiente celda deplegará el contenido del atributo ```sitio.url```."
   ]
  },
  {
   "cell_type": "code",
   "execution_count": null,
   "metadata": {},
   "outputs": [],
   "source": [
    "sitio.url"
   ]
  },
  {
   "cell_type": "markdown",
   "metadata": {},
   "source": [
    "* La siguiente celda deplegará el contenido del atributo ```sitio.encoding```."
   ]
  },
  {
   "cell_type": "code",
   "execution_count": null,
   "metadata": {},
   "outputs": [],
   "source": [
    "sitio.encoding"
   ]
  },
  {
   "cell_type": "markdown",
   "metadata": {},
   "source": [
    "* La siguiente celda deplegará el contenido del atributo ```sitio.text```."
   ]
  },
  {
   "cell_type": "code",
   "execution_count": null,
   "metadata": {
    "scrolled": true
   },
   "outputs": [],
   "source": [
    "sitio.text"
   ]
  },
  {
   "cell_type": "markdown",
   "metadata": {},
   "source": [
    "* La siguiente celda cerrará la sesión mediante el método ```sitio.close()```."
   ]
  },
  {
   "cell_type": "code",
   "execution_count": null,
   "metadata": {},
   "outputs": [],
   "source": [
    "sitio.close()"
   ]
  },
  {
   "cell_type": "markdown",
   "metadata": {},
   "source": [
    "### Uso de la declaración ```with``` para objetos ```requests.models.Response```.\n",
    "\n",
    "En vista de que los objetos instanciado de ```requests.models.Response``` cuentan con un método ```close()``` es posible utilizar la declaración ```with```."
   ]
  },
  {
   "cell_type": "markdown",
   "metadata": {},
   "source": [
    "**Ejemplo:**\n",
    "\n",
    "Se utilizará la función ```requests.get()``` para acceder a la *URL* https://pythonista.io  enviando una petición con el método ```GET```. Se desplegarán los siguientes datos guardados en el objeto resultante.\n",
    "\n",
    "* El mensaje de estado resultante.\n",
    "* Los encabezados del mensaje de respuesta."
   ]
  },
  {
   "cell_type": "code",
   "execution_count": null,
   "metadata": {
    "scrolled": true
   },
   "outputs": [],
   "source": [
    "with requests.get(\"http://pythonista.io\") as sitio:\n",
    "    print(sitio.status_code)\n",
    "    print(sitio.headers)"
   ]
  },
  {
   "cell_type": "markdown",
   "metadata": {},
   "source": [
    "## Ejemplos prácticos para el uso de *HTTP*.\n",
    "\n",
    "El sitio https://httpbin.org/ ofrece un servicio web que permite experimentar con diveras peticiones *HTTP* de forma segura."
   ]
  },
  {
   "cell_type": "markdown",
   "metadata": {},
   "source": [
    "**Ejemplo:**\n",
    "\n",
    "* Se utilizará ```requests.get()``` para obtener un recurso que corresponde a una imagen loacalizada en la *URL* https://httpbin.org/image/png."
   ]
  },
  {
   "cell_type": "code",
   "execution_count": null,
   "metadata": {},
   "outputs": [],
   "source": [
    "resultado = requests.get(\"https://httpbin.org/image/png\")"
   ]
  },
  {
   "cell_type": "markdown",
   "metadata": {},
   "source": [
    "* La siguiente celda desplegará el contenido en formato de bytes que fue enviado como respuesta."
   ]
  },
  {
   "cell_type": "code",
   "execution_count": null,
   "metadata": {
    "scrolled": false
   },
   "outputs": [],
   "source": [
    "print(resultado.content)"
   ]
  },
  {
   "cell_type": "markdown",
   "metadata": {},
   "source": [
    "* La siguiente celda desplegará los encabezados de la respuesta. "
   ]
  },
  {
   "cell_type": "code",
   "execution_count": null,
   "metadata": {
    "scrolled": true
   },
   "outputs": [],
   "source": [
    "resultado.headers"
   ]
  },
  {
   "cell_type": "markdown",
   "metadata": {},
   "source": [
    "* La clave ```'Content-Type'``` del atributo ```resultado.headers``` indica que el contenido corresponde a una imagen en formato *png*."
   ]
  },
  {
   "cell_type": "code",
   "execution_count": null,
   "metadata": {},
   "outputs": [],
   "source": [
    "resultado.headers['Content-Type']"
   ]
  },
  {
   "cell_type": "markdown",
   "metadata": {},
   "source": [
    "* Para desplegar una imagen se utilizará el módulo ```IPython.Display.Image``` de *IPython*."
   ]
  },
  {
   "cell_type": "code",
   "execution_count": null,
   "metadata": {},
   "outputs": [],
   "source": [
    "from IPython.display import Image"
   ]
  },
  {
   "cell_type": "code",
   "execution_count": null,
   "metadata": {},
   "outputs": [],
   "source": [
    "Image(resultado.content)"
   ]
  },
  {
   "cell_type": "markdown",
   "metadata": {},
   "source": [
    "* A continuación se cerrará la sesión."
   ]
  },
  {
   "cell_type": "code",
   "execution_count": null,
   "metadata": {},
   "outputs": [],
   "source": [
    "resultado.close()"
   ]
  },
  {
   "cell_type": "markdown",
   "metadata": {},
   "source": [
    "**Ejemplo:**"
   ]
  },
  {
   "cell_type": "markdown",
   "metadata": {},
   "source": [
    "* A continuación se utilizará la función ```requests.post``` para enviar una carga de datos a la *URL* \"https://httpbin.org/post, la cual es capaz de procesar peticiones utilizando el método ```POST``` de *HTTP*.\n",
    "* La carga de dato se se enviará en formato *JSON*.\n",
    "* El objeto resultante tendrá el nomre ```respuesta```."
   ]
  },
  {
   "cell_type": "code",
   "execution_count": null,
   "metadata": {},
   "outputs": [],
   "source": [
    "respuesta = requests.post(\"https://httpbin.org/post\", json = {\"saludo\": \"Hola\"})"
   ]
  },
  {
   "cell_type": "markdown",
   "metadata": {},
   "source": [
    "* La clave ```'Content-Type'``` del objeto ```resultado.headers``` indica que el contenido son datos en formato *JSON*."
   ]
  },
  {
   "cell_type": "code",
   "execution_count": null,
   "metadata": {},
   "outputs": [],
   "source": [
    "respuesta.headers['Content-Type']"
   ]
  },
  {
   "cell_type": "markdown",
   "metadata": {},
   "source": [
    "* A continuación se desplegará el contenido de la respuesta del servidor."
   ]
  },
  {
   "cell_type": "code",
   "execution_count": null,
   "metadata": {},
   "outputs": [],
   "source": [
    "respuesta.content"
   ]
  },
  {
   "cell_type": "markdown",
   "metadata": {},
   "source": [
    "* En vista de que el atrubito ```Content-Type``` del objeto respuesta es ```'application/json'```, es posible ejecutar el método ```respuesta.json()``` el cual regresará un objeto de tipo ```dict``` al que s ele dará el nombre ```respuesta_json```."
   ]
  },
  {
   "cell_type": "code",
   "execution_count": null,
   "metadata": {},
   "outputs": [],
   "source": [
    "respuesta_json = respuesta.json()"
   ]
  },
  {
   "cell_type": "code",
   "execution_count": null,
   "metadata": {},
   "outputs": [],
   "source": [
    "respuesta_json"
   ]
  },
  {
   "cell_type": "code",
   "execution_count": null,
   "metadata": {},
   "outputs": [],
   "source": [
    "respuesta_json['json']"
   ]
  },
  {
   "cell_type": "code",
   "execution_count": null,
   "metadata": {},
   "outputs": [],
   "source": [
    "respuesta.close()"
   ]
  },
  {
   "cell_type": "markdown",
   "metadata": {},
   "source": [
    "<p style=\"text-align: center\"><a rel=\"license\" href=\"http://creativecommons.org/licenses/by/4.0/\"><img alt=\"Licencia Creative Commons\" style=\"border-width:0\" src=\"https://i.creativecommons.org/l/by/4.0/80x15.png\" /></a><br />Esta obra está bajo una <a rel=\"license\" href=\"http://creativecommons.org/licenses/by/4.0/\">Licencia Creative Commons Atribución 4.0 Internacional</a>.</p>\n",
    "<p style=\"text-align: center\">&copy; José Luis Chiquete Valdivieso. 2019.</p>"
   ]
  }
 ],
 "metadata": {
  "kernelspec": {
   "display_name": "Python 3",
   "language": "python",
   "name": "python3"
  },
  "language_info": {
   "codemirror_mode": {
    "name": "ipython",
    "version": 3
   },
   "file_extension": ".py",
   "mimetype": "text/x-python",
   "name": "python",
   "nbconvert_exporter": "python",
   "pygments_lexer": "ipython3",
   "version": "3.7.3"
  }
 },
 "nbformat": 4,
 "nbformat_minor": 2
}
