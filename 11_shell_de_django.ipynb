{
 "cells": [
  {
   "cell_type": "markdown",
   "metadata": {},
   "source": [
    "[![imagenes/pythonista.png](imagenes/pythonista.png)](https://pythonista.io)"
   ]
  },
  {
   "cell_type": "markdown",
   "metadata": {},
   "source": [
    "## El Shell de *Django*."
   ]
  },
  {
   "cell_type": "markdown",
   "metadata": {},
   "source": [
    "**ADVERTENCIA:**\n",
    "\n",
    "Para poder realizar exitosamente los ejercicios de esta notebook, es necesario haber seguido al pie de la letra y en orden sucesivo las instrucciones de todas las notebooks previas."
   ]
  },
  {
   "cell_type": "markdown",
   "metadata": {},
   "source": [
    "*Django* cuenta con una funcionalidad que permite desplegar un shell baasado en *IPython*, el cual permite interactuar con el entorno de un proyecto.\n",
    "\n",
    "De este modo, el shell de *Django* permite interactuar con los modelos definidos en dicho proyecto.\n",
    "\n",
    "Sólo es necesario ejecutar el siguiente comando desde una terminal,asegurándose de estar en el directorio del proyecto.\n",
    "\n",
    "``` bash\n",
    "python manage.py shell\n",
    "```\n",
    "\n",
    "Dicho comando ejecutará un shell, el cual estará configurado com las variables de entorno definidas en el archivo ```settings.py``` del proyecto."
   ]
  },
  {
   "cell_type": "markdown",
   "metadata": {},
   "source": [
    "## Ejemplo ilustrativo."
   ]
  },
  {
   "cell_type": "markdown",
   "metadata": {},
   "source": [
    "``` ipython\n",
    "In [1]: from django.http import HttpRequest, QueryDict, JsonResponse\n",
    "\n",
    "In [2]: import json\n",
    " \n",
    "In [3]: from main.views import vista\n",
    "   \n",
    "In [4]: peticion = HttpRequest()\n",
    "\n",
    "In [5]: peticion.GET=QueryDict(query_string=\"nombre=Juan&apellido=Pérez\")\n",
    "\n",
    "In [6]: respuesta = vista(peticion)\n",
    "\n",
    "In [7]: type(respuesta)\n",
    "Out[7]: django.http.response.HttpResponse\n",
    "\n",
    "In [8]: respuesta.status_code\n",
    "Out[8]: 200\n",
    "\n",
    "In [9]: respuesta.content\n",
    "Out[9]: b\"<ul><li>URL: </li><li>M\\xc3\\xa9todo: None</li><li>Codificaci\\xc3\\xb3n: None</li><li>Argument\n",
    "os: {'nombre': 'Juan', 'apellido': 'P\\xc3\\xa9rez'}</li></ul>\"\n",
    "    \n",
    "In [10]: respuesta_json = JsonResponse({'nombre':'Juan',\n",
    "    ...: 'apellido':'Pérez',\n",
    "    ...: 'calificaciones':[7.5, 9.2, 6, 8.3]})\n",
    "\n",
    "In [11]: respuesta_json.content\n",
    "Out[11]: b'{\"nombre\": \"Juan\", \"apellido\": \"P\\\\u00e9rez\", \"calificaciones\": [7.5, 9.2, 6, 8.3]}'\n",
    "\n",
    "In [12]: json.loads(str(respuesta_json.content, 'utf-8'))\n",
    "Out[12]: {'nombre': 'Juan', 'apellido': 'Pérez', 'calificaciones': [7.5, 9.2, 6, 8.3]}\n",
    "\n",
    "In [13]:\n",
    "```"
   ]
  },
  {
   "cell_type": "markdown",
   "metadata": {},
   "source": [
    "<p style=\"text-align: center\"><a rel=\"license\" href=\"http://creativecommons.org/licenses/by/4.0/\"><img alt=\"Licencia Creative Commons\" style=\"border-width:0\" src=\"https://i.creativecommons.org/l/by/4.0/80x15.png\" /></a><br />Esta obra está bajo una <a rel=\"license\" href=\"http://creativecommons.org/licenses/by/4.0/\">Licencia Creative Commons Atribución 4.0 Internacional</a>.</p>\n",
    "<p style=\"text-align: center\">&copy; José Luis Chiquete Valdivieso. 2019.</p>"
   ]
  }
 ],
 "metadata": {
  "kernelspec": {
   "display_name": "Python 3",
   "language": "python",
   "name": "python3"
  },
  "language_info": {
   "codemirror_mode": {
    "name": "ipython",
    "version": 3
   },
   "file_extension": ".py",
   "mimetype": "text/x-python",
   "name": "python",
   "nbconvert_exporter": "python",
   "pygments_lexer": "ipython3",
   "version": "3.7.3"
  }
 },
 "nbformat": 4,
 "nbformat_minor": 2
}
