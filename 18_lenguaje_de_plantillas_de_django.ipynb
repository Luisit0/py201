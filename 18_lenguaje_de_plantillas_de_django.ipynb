{
 "cells": [
  {
   "cell_type": "markdown",
   "metadata": {},
   "source": [
    "[![imagenes](imagenes/pythonista.png)](https://pythonista.mx)"
   ]
  },
  {
   "cell_type": "markdown",
   "metadata": {},
   "source": [
    "El *DTL* es un lenguaje extendido de Python y por lo tanto, puede realizar algunas operaciones cuando se ingresan objetos de Python como elementos de un contexto.\n",
    "\n",
    "Cabe hacer notar que los valores que puede manipular el *DTL* siempre serán convertidos a una cadena de caracteres.\n",
    "\n",
    "## Operaciones que se pueden realizar con el *DTL*.\n",
    "\n",
    "Las plantillas que incluyen código basado en el *DTL* puede realizar las siguientes operaciones.\n",
    "\n",
    "* Acceder a los objetos ingresados en un contexto de forma similar a como Python accede al espacio de nombres del ámbito global.\n",
    "* Acceder a atributos y métodos de los objetos.\n",
    "* Ejecutar expresiones utilizando de filtros.\n",
    "* Delimitar bloques.\n",
    "* Ejecutar declaraciones condicionales.\n",
    "* Realizar ciclos.\n",
    "* Delimitar bloques de texto.\n",
    "* Heredar de contenidos.\n",
    "\n",
    "## Operaciones que no puede realizar el *DTL*.\n",
    "\n",
    "* Ejecutar expresiones numéricas.\n",
    "* Definir variables en un ámbito global.\n",
    "* Definir funciones o macros.\n",
    "* Acceder a elementos de una colección mediante la sintaxis de indices usando corchetes.\n",
    "\n",
    "Referencia:https://docs.djangoproject.com/en/2.1/ref/templates/builtins/"
   ]
  },
  {
   "cell_type": "markdown",
   "metadata": {},
   "source": [
    "## Expresiones y filtros.\n",
    "\n",
    "Las expresiones se definen con la siguiente sintaxis:\n",
    "\n",
    "```\n",
    "{{ <expresión> }}\n",
    "```\n",
    "\n",
    "Una expresión debe de implicar al menos un elemento que será convertido en una cadena de caracteres. Este elemento puede ser:\n",
    "\n",
    "* Un objeto de Python ligado a un nombre.\n",
    "* Un atributo de un objeto de Python.\n",
    "* El resultado de la ejecuciónde un método de un objeto de Python.\n",
    "\n",
    "### Filtros.\n",
    "\n",
    "El *DTL* no soporta los operadores de Python para interpretar expresiones, sino que utiliza una serie de filtros mediante la siguiente sintaxis.\n",
    "\n",
    "```\n",
    "{{ <elemento>|<filtro 1>:\"<argumento>\"|<filtro 2>:\"<argumento>\"| ... |<filtro n>:\"<argumento>\" \n",
    "```\n",
    "* Las expresiones permiten \"concatentar\" filtros, por lo que la salida del filtro de la izquierda es la entrada del filtro de la derecha.\n",
    "* Los filtros pueden incluir argumentos.\n",
    "\n",
    "Los filtros dsiponibles pueden ser consultado en https://docs.djangoproject.com/en/2.1/ref/templates/builtins/#built-in-filter-reference."
   ]
  },
  {
   "cell_type": "markdown",
   "metadata": {},
   "source": [
    "## La declaración *filter*."
   ]
  },
  {
   "cell_type": "markdown",
   "metadata": {},
   "source": [
    "## La declaración *comment*."
   ]
  },
  {
   "cell_type": "markdown",
   "metadata": {},
   "source": [
    "## La declaración con *if*.\n",
    "\n",
    "Esta declaración permite evaluar declaraciones lógicas similares a las usadas en Python.\n",
    "\n",
    "```\n",
    "{% _if_ <expresión lógica 1>%}\n",
    "<Texto y código>\n",
    "\n",
    "{% endif %}\n",
    "```\n",
    "\n",
    "\n",
    "####  Uso de _else_ y _elif_ en un condicional .\n",
    "\n",
    "También es posible evaluar más de una expresión con la siguiente sintaxis:\n",
    "\n",
    "```\n",
    "{% _if_ <expresión lógica 1>%}\n",
    "<Texto y código>\n",
    "{% _elif_ <expresión lógica 2>%}\n",
    "<Texto y código>\n",
    "...\n",
    "...\n",
    "{% _elif_ <expresión lógica n>%}\n",
    "<Texto y código>\n",
    "{% _else %}\n",
    "<Texto y código>\n",
    "\n",
    "{% endif %}\n",
    "```\n",
    "**Ejemplo:**"
   ]
  },
  {
   "cell_type": "markdown",
   "metadata": {},
   "source": [
    "``` python\n",
    "from django.template import Template, Context\n",
    "\n",
    "plantilla = \"Hola {{ persona['nombre'] }}.\\n\\\n",
    "{% if persona['status'] == 'socio' %}\\\n",
    "Usted es socio distinguido.\\\n",
    "{% elif persona['status'] == 'cliente' %}\\\n",
    "Usted tiene una cuenta de cliente.\\\n",
    "{% else %}\\\n",
    "Por favor indique si es socio o cliente.\\\n",
    "{% endif %}\"\n",
    "\n",
    "persona={'nombre':'Juan Perez', 'status':'cliente'}\n",
    "\n",
    "contexto = Context({\"persona\": persona})\n",
    "contenido = Template(plantilla)\n",
    "contenido.render(pantilla, context=contexto)\n",
    "```"
   ]
  },
  {
   "cell_type": "markdown",
   "metadata": {},
   "source": [
    "## Declaraciones de iteraciones."
   ]
  },
  {
   "cell_type": "markdown",
   "metadata": {},
   "source": [
    "### Ciclos con _for_.\n",
    "\n",
    "La evaluación de ciclos con _for_ se comportan de forma idéntica a python, pero con la siguiente sintaxis:\n",
    "\n",
    "```\n",
    "{% for <elemento> in <iterable> %}\n",
    "    {{ <elemento> }}\n",
    "{% endfor %}\n",
    "```\n",
    "\n",
    "**Ejemplo:**\n",
    "Se utilizará el ciclo _for_ para una lista que a su vez contiene listas de dos elementos."
   ]
  },
  {
   "cell_type": "code",
   "execution_count": null,
   "metadata": {},
   "outputs": [],
   "source": [
    "texto = \"Enlaces recomendados:\\n\\\n",
    "{%for nombre, liga in dato %}\\\n",
    " \\n{{ nombre }}: {{ liga }}  \\\n",
    "{% endfor %}\""
   ]
  },
  {
   "cell_type": "code",
   "execution_count": null,
   "metadata": {},
   "outputs": [],
   "source": [
    "ligas = [['slashdot', 'https://slashdot.org'], \n",
    "         ['pythonista', 'https://pythonista.mx'], \n",
    "         ['cloudevel', 'https://cloudevel.com']]"
   ]
  },
  {
   "cell_type": "markdown",
   "metadata": {},
   "source": [
    "### La estructura *for..empty*."
   ]
  },
  {
   "cell_type": "markdown",
   "metadata": {},
   "source": [
    "### La declaración *cycle*."
   ]
  },
  {
   "cell_type": "markdown",
   "metadata": {},
   "source": [
    "### La declaración *resetcycle*."
   ]
  },
  {
   "cell_type": "markdown",
   "metadata": {},
   "source": [
    "## La declaración *with*."
   ]
  },
  {
   "cell_type": "markdown",
   "metadata": {},
   "source": [
    "## La declaración *block*."
   ]
  },
  {
   "cell_type": "markdown",
   "metadata": {},
   "source": [
    "## La declaración *include*."
   ]
  },
  {
   "cell_type": "markdown",
   "metadata": {},
   "source": [
    "## Herencia de plantillas.\n",
    "\n",
    "Jinja 2 tiene la capacidad de aprovechar plantillas que pueden ser modificadas utilizando el concepto de bloques.\n",
    "\n",
    "### Bloques.\n",
    "Los bloques son etiquetas que lleva un nombre y que se definen con la siguiente sintaxis:\n",
    "\n",
    "```\n",
    "{% block <nombre> %}\n",
    "...\n",
    "...\n",
    "{% endblock% }\n",
    "```\n",
    "Los bloques pueden ser anidados.\n",
    "\n",
    "### Herencia con _extends_.\n",
    "\n",
    "Es posible crear una nueva plantilla partir de mediante la siguiente sintaxis:\n",
    "\n",
    "```{% extends '<ruta de la platilla de origen>' %}\n",
    "```\n",
    "\n",
    "Esto traerá consigo el contenido completo de la plantilla de origen y es posible sobrescribir los bloques simpremente redefiniéndolos."
   ]
  },
  {
   "cell_type": "markdown",
   "metadata": {},
   "source": [
    "**Ejemplo:**\n",
    "\n",
    "El archivo [*plantillas/plantilla_base.html*](plantillas/plantilla_base.html) contiene el siguiente código.\n",
    "\n",
    "``` html\n",
    "<!DOCTYPE html>\n",
    "<html>\n",
    "<head>\n",
    "    {% block head %}\n",
    "    <link rel=\"stylesheet\" href=\"style.css\" />\n",
    "    <title>Bienvenidos a {% block title%}Pythonista{% endblock %}</title>\n",
    "    {% endblock %}\n",
    "</head>\n",
    "<body>\n",
    "    <div id=\"content\">{% block content %}Hola, Bienvenidos.{% endblock %}</div>\n",
    "    <div id=\"footer\">\n",
    "        {% block footer %}\n",
    "        &copy; Copyright 2018 <a href=\"https://pythonista.io/\">Pythonista®.</a>.\n",
    "        {% endblock %}\n",
    "    </div>\n",
    "</body>\n",
    "```"
   ]
  },
  {
   "cell_type": "code",
   "execution_count": null,
   "metadata": {},
   "outputs": [],
   "source": [
    "%pwd"
   ]
  },
  {
   "cell_type": "markdown",
   "metadata": {},
   "source": [
    "**Nota:** Asegúrese que la ruta de la celda de abajo coresponda a la de la celda superior."
   ]
  },
  {
   "cell_type": "markdown",
   "metadata": {},
   "source": [
    "El archivo [*plantillas/plantilla_hija.html*](plantillas/plantilla_hija.html) contiene el siguiente código, el cual hereda el código del archivo *plantilla_base.html*.\n",
    "\n",
    "``` html\n",
    "{% extends \"plantilla_base.html\" %}\n",
    "{% block title %} Cloudevel {%endblock %}\n",
    "{% block footer %}\n",
    "    &copy; Copyright 2018 <a href=\"https://cloudevel.com/\">Cloudevel.</a>.\n",
    "{% endblock %}\n",
    "```"
   ]
  },
  {
   "cell_type": "markdown",
   "metadata": {},
   "source": [
    "<p style=\"text-align: center\"><a rel=\"license\" href=\"http://creativecommons.org/licenses/by/4.0/\"><img alt=\"Licencia Creative Commons\" style=\"border-width:0\" src=\"https://i.creativecommons.org/l/by/4.0/80x15.png\" /></a><br />Esta obra está bajo una <a rel=\"license\" href=\"http://creativecommons.org/licenses/by/4.0/\">Licencia Creative Commons Atribución 4.0 Internacional</a>.</p>\n",
    "<p style=\"text-align: center\">&copy; José Luis Chiquete Valdivieso. 2019.</p>"
   ]
  }
 ],
 "metadata": {
  "kernelspec": {
   "display_name": "Python 3",
   "language": "python",
   "name": "python3"
  },
  "language_info": {
   "codemirror_mode": {
    "name": "ipython",
    "version": 3
   },
   "file_extension": ".py",
   "mimetype": "text/x-python",
   "name": "python",
   "nbconvert_exporter": "python",
   "pygments_lexer": "ipython3",
   "version": "3.6.6"
  }
 },
 "nbformat": 4,
 "nbformat_minor": 2
}
