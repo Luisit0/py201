{
 "cells": [
  {
   "cell_type": "markdown",
   "metadata": {},
   "source": [
    "[![imagenes](imagenes/pythonista.png)](https://pythonista.mx)"
   ]
  },
  {
   "cell_type": "markdown",
   "metadata": {},
   "source": [
    "El *DTL* es un lenguaje compatible con los tipos y objetos de Python que cuenta con los siguientes elementos:\n",
    "\n",
    "* Expresiones.\n",
    "* Declaraciones.\n",
    "* Filtros.\n",
    "* Definiciónc y sustitución de bloques.\n",
    "* Herencia de contenidos."
   ]
  },
  {
   "cell_type": "markdown",
   "metadata": {},
   "source": [
    "## Declaraciones."
   ]
  },
  {
   "cell_type": "markdown",
   "metadata": {},
   "source": [
    "### Condicionales con *if*.\n",
    "\n",
    "Esta declaración permite evaluar declaraciones lógicas similares a las usadas en Python.\n",
    "\n",
    "```\n",
    "{% _if_ <expresión lógica 1>%}\n",
    "<Texto y código>\n",
    "\n",
    "{% endif %}\n",
    "```\n",
    "\n",
    "\n",
    "####  Uso de _else_ y _elif_ en un condicional .\n",
    "\n",
    "También es posible evaluar más de una expresión con la siguiente sintaxis:\n",
    "\n",
    "```\n",
    "{% _if_ <expresión lógica 1>%}\n",
    "<Texto y código>\n",
    "{% _elif_ <expresión lógica 2>%}\n",
    "<Texto y código>\n",
    "...\n",
    "...\n",
    "{% _elif_ <expresión lógica n>%}\n",
    "<Texto y código>\n",
    "{% _else %}\n",
    "<Texto y código>\n",
    "\n",
    "{% endif %}\n",
    "```\n",
    "**Ejemplo:**"
   ]
  },
  {
   "cell_type": "markdown",
   "metadata": {},
   "source": [
    "``` python\n",
    "from django.template import Template, Context\n",
    "\n",
    "plantilla = \"Hola {{persona['nombre']}}.\\n\\\n",
    "{% if persona['status'] == 'socio' %}\\\n",
    "Usted es socio distinguido.\\\n",
    "{% elif persona['status'] == 'cliente' %}\\\n",
    "Usted tiene una cuenta de cliente.\\\n",
    "{% else %}\\\n",
    "Por favor indique si es socio o cliente.\\\n",
    "{% endif %}\"\n",
    "\n",
    "persona={'nombre' :'Juan Pérez', 'status':'cliente'}\n",
    "\n",
    "contexto = Context({persona})\n",
    "contenido = Templaste(plantilla)\n",
    "contenido.render(pantilla, context=contexto)\n",
    "```"
   ]
  },
  {
   "cell_type": "markdown",
   "metadata": {},
   "source": [
    "### Ciclos con _for_.\n",
    "\n",
    "La evaluación de ciclos con _for_ se comportan de forma idéntica a python, pero con la siguiente sintaxis:\n",
    "\n",
    "```\n",
    "{% for <elemento> in <iterable> %}\n",
    "    {{ <elemento> }}\n",
    "{% endfor %}\n",
    "```\n",
    "\n",
    "**Ejemplo:**\n",
    "Se utilizará el ciclo _for_ para una lista que a su vez contiene listas de dos elementos."
   ]
  },
  {
   "cell_type": "code",
   "execution_count": null,
   "metadata": {},
   "outputs": [],
   "source": [
    "texto = \"Enlaces recomendados:\\n\\\n",
    "{%for nombre, liga in dato %}\\\n",
    " \\n{{ nombre }}: {{ liga }}  \\\n",
    "{% endfor %}\""
   ]
  },
  {
   "cell_type": "code",
   "execution_count": null,
   "metadata": {},
   "outputs": [],
   "source": [
    "ligas = [['slashdot', 'https://slashdot.org'], \n",
    "         ['pythonista', 'https://pythonista.mx'], \n",
    "         ['cloudevel', 'https://cloudevel.com']]"
   ]
  },
  {
   "cell_type": "markdown",
   "metadata": {},
   "source": [
    "## Herencia de plantillas.\n",
    "\n",
    "Jinja 2 tiene la capacidad de aprovechar plantillas que pueden ser modificadas utilizando el concepto de bloques.\n",
    "\n",
    "### Bloques.\n",
    "Los bloques son etiquetas que lleva un nombre y que se definen con la siguiente sintaxis:\n",
    "\n",
    "```\n",
    "{% block <nombre> %}\n",
    "...\n",
    "...\n",
    "{% endblock% }\n",
    "```\n",
    "Los bloques pueden ser anidados.\n",
    "\n",
    "### Herencia con _extends_.\n",
    "\n",
    "Es posible crear una nueva plantilla partir de mediante la siguiente sintaxis:\n",
    "\n",
    "```{% extends '<ruta de la platilla de origen>' %}\n",
    "```\n",
    "\n",
    "Esto traerá consigo el contenido completo de la plantilla de origen y es posible sobrescribir los bloques simpremente redefiniéndolos."
   ]
  },
  {
   "cell_type": "markdown",
   "metadata": {},
   "source": [
    "**Ejemplo:**\n",
    "\n",
    "El archivo [*plantillas/plantilla_base.html*](plantillas/plantilla_base.html) contiene el siguiente código.\n",
    "\n",
    "``` html\n",
    "<!DOCTYPE html>\n",
    "<html>\n",
    "<head>\n",
    "    {% block head %}\n",
    "    <link rel=\"stylesheet\" href=\"style.css\" />\n",
    "    <title>Bienvenidos a {% block title%}Pythonista{% endblock %}</title>\n",
    "    {% endblock %}\n",
    "</head>\n",
    "<body>\n",
    "    <div id=\"content\">{% block content %}Hola, Bienvenidos.{% endblock %}</div>\n",
    "    <div id=\"footer\">\n",
    "        {% block footer %}\n",
    "        &copy; Copyright 2018 <a href=\"https://pythonista.io/\">Pythonista®.</a>.\n",
    "        {% endblock %}\n",
    "    </div>\n",
    "</body>\n",
    "```"
   ]
  },
  {
   "cell_type": "code",
   "execution_count": null,
   "metadata": {},
   "outputs": [],
   "source": [
    "%pwd"
   ]
  },
  {
   "cell_type": "markdown",
   "metadata": {},
   "source": [
    "**Nota:** Asegúrese que la ruta de la celda de abajo coresponda a la de la celda superior."
   ]
  },
  {
   "cell_type": "code",
   "execution_count": null,
   "metadata": {},
   "outputs": [],
   "source": [
    "entorno = jinja2.Environment(loader=jinja2.FileSystemLoader('/opt/pythonista/py201/plantillas'))\n",
    "plantilla = entorno.get_template(\"plantilla_base.html\")\n",
    "print(plantilla.render())"
   ]
  },
  {
   "cell_type": "markdown",
   "metadata": {},
   "source": [
    "El archivo [*plantillas/plantilla_hija.html*](plantillas/plantilla_hija.html) contiene el siguiente código, el cual hereda el código del archivo *plantilla_base.html*.\n",
    "\n",
    "``` html\n",
    "{% extends \"plantilla_base.html\" %}\n",
    "{% block title %} Cloudevel {%endblock %}\n",
    "{% block footer %}\n",
    "    &copy; Copyright 2018 <a href=\"https://cloudevel.com/\">Cloudevel.</a>.\n",
    "{% endblock %}\n",
    "```"
   ]
  },
  {
   "cell_type": "markdown",
   "metadata": {},
   "source": [
    "## Filtros.\n",
    "\n",
    "https://docs.djangoproject.com/en/2.1/ref/templates/builtins/#built-in-filter-reference"
   ]
  },
  {
   "cell_type": "markdown",
   "metadata": {},
   "source": [
    "<p style=\"text-align: center\"><a rel=\"license\" href=\"http://creativecommons.org/licenses/by/4.0/\"><img alt=\"Licencia Creative Commons\" style=\"border-width:0\" src=\"https://i.creativecommons.org/l/by/4.0/80x15.png\" /></a><br />Esta obra está bajo una <a rel=\"license\" href=\"http://creativecommons.org/licenses/by/4.0/\">Licencia Creative Commons Atribución 4.0 Internacional</a>.</p>\n",
    "<p style=\"text-align: center\">&copy; José Luis Chiquete Valdivieso. 2018.</p>"
   ]
  }
 ],
 "metadata": {
  "kernelspec": {
   "display_name": "Python 3",
   "language": "python",
   "name": "python3"
  },
  "language_info": {
   "codemirror_mode": {
    "name": "ipython",
    "version": 3
   },
   "file_extension": ".py",
   "mimetype": "text/x-python",
   "name": "python",
   "nbconvert_exporter": "python",
   "pygments_lexer": "ipython3",
   "version": "3.6.6"
  }
 },
 "nbformat": 4,
 "nbformat_minor": 2
}
