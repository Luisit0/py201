{
 "cells": [
  {
   "cell_type": "markdown",
   "metadata": {},
   "source": [
    "\n",
    "[![imagenes](imagenes/pythonista.png)](https://pythonista.mx)"
   ]
  },
  {
   "cell_type": "markdown",
   "metadata": {},
   "source": [
    "**ADVERTENCIA:**  \n",
    "\n",
    "Para poder realizar exitosamente los ejercicios de esta notebook, es necesario haber seguido al pie de la letra y en orden sucesivo las instrucciones de todas las notebooks previas."
   ]
  },
  {
   "cell_type": "markdown",
   "metadata": {},
   "source": [
    "## El formato *JSON*.\n",
    "\n",
    "*JSON* es el acrónimo de Javascript Object Notation y antes de las modificaciones publicadas en el estándar *ECMAScript 2015*, correspondía al modo en el que se definen objetos en Javascript. Sin embargo, la notación es tan simple y práctica que ha sido adoptada como un formato para la transmisión de datos y ha evolucionado de forma paralela a Javascript.\n",
    "\n",
    "Para aprender más acerca de *JSON* puede consultar esta liga: https://www.w3schools.com/js/js_json_intro.asp"
   ]
  },
  {
   "cell_type": "code",
   "execution_count": null,
   "metadata": {},
   "outputs": [],
   "source": [
    "import json"
   ]
  },
  {
   "cell_type": "markdown",
   "metadata": {},
   "source": [
    "## El paquete *json* de Python.\n",
    "\n",
    "Este paquete *json* cuenta con una biblioteca de herramientas capaces transformar objetos de Python a cadenas de caracteres con una estructura apegada a *JSON* y viceversa."
   ]
  },
  {
   "cell_type": "markdown",
   "metadata": {},
   "source": [
    "### Las funciones *json.dumps()* y *json.loads()*.\n",
    "\n",
    "Estas dos funciones permiten tranformar cadenas de caracteres que contengan una estructura de datos apegadas a *JSON* y objetos de Python (primordialmente objetos tipo *dict*)."
   ]
  },
  {
   "cell_type": "markdown",
   "metadata": {},
   "source": [
    "\n",
    "#### La función *json.dumps()*.\n",
    "Transforma a un objeto ingresada como primer parámetro a una cadena de texto en formato *JSON*.\n",
    "\n",
    "**Sintaxis:**\n",
    "\n",
    "```\n",
    "json.dumps(<objeto>)\n",
    "```\n"
   ]
  },
  {
   "cell_type": "markdown",
   "metadata": {},
   "source": [
    "**Ejemplo:**\n",
    "\n",
    "* Se aplicará la función *json.dumps* al objeto tipo *dict* con nombre *estudiante*."
   ]
  },
  {
   "cell_type": "code",
   "execution_count": null,
   "metadata": {},
   "outputs": [],
   "source": [
    "estudiante = {'nombre completo': ['Juan', 'Pérez', 'Sánchez'], 'rol': 'estudiante'}"
   ]
  },
  {
   "cell_type": "code",
   "execution_count": null,
   "metadata": {},
   "outputs": [],
   "source": [
    "json.dumps(estudiante)"
   ]
  },
  {
   "cell_type": "markdown",
   "metadata": {},
   "source": [
    "* La cadena de caracteres resultante se ligará al nombre *estudiante_json* y s eutilizará en los ejemplos siguientes. "
   ]
  },
  {
   "cell_type": "code",
   "execution_count": null,
   "metadata": {},
   "outputs": [],
   "source": [
    "estudiante_json = json.dumps(estudiante)"
   ]
  },
  {
   "cell_type": "markdown",
   "metadata": {},
   "source": [
    "#### La función *json.loads()*\n",
    "\n",
    "Esta función transforma una cadena de caracteres que contiene información en formato *JSON* y la transforma en un objeto de tipo *dict*.\n",
    "\n",
    "**Sintaxis:**\n",
    "\n",
    "```\n",
    "json.loads(<cadena de caracteres>)\n",
    "```"
   ]
  },
  {
   "cell_type": "markdown",
   "metadata": {},
   "source": [
    "**Ejemplo:**\n",
    "\n",
    "* Se utilizará el objeto tipo *str* llamado *estudiante_json* para recuperar los datos y transferirlos a un objeto de Python llamado *nuevo_estudiante*."
   ]
  },
  {
   "cell_type": "code",
   "execution_count": null,
   "metadata": {},
   "outputs": [],
   "source": [
    "nuevo_estudiante = json.loads(estudiante_json)"
   ]
  },
  {
   "cell_type": "code",
   "execution_count": null,
   "metadata": {},
   "outputs": [],
   "source": [
    "nuevo_estudiante"
   ]
  },
  {
   "cell_type": "markdown",
   "metadata": {},
   "source": [
    "* Aún cuando los datos de *nuevo_estudiante* son los mismos de *estudiante*, no son el mismo objeto."
   ]
  },
  {
   "cell_type": "code",
   "execution_count": null,
   "metadata": {},
   "outputs": [],
   "source": [
    "estudiante == nuevo_estudiante"
   ]
  },
  {
   "cell_type": "code",
   "execution_count": null,
   "metadata": {},
   "outputs": [],
   "source": [
    "estudiante is nuevo_estudiante"
   ]
  },
  {
   "cell_type": "markdown",
   "metadata": {},
   "source": [
    "### Las funciones *json.dump()* y *json.load()*.\n",
    "\n",
    "Estas dos funciones realizan tranformaciones con *JSON*, pero a partir de archivos."
   ]
  },
  {
   "cell_type": "markdown",
   "metadata": {},
   "source": [
    "#### La función *json.dump()*.\n",
    "Transforma a un objeto ingresado como primer parámetro a una cadena de texto en formato *JSON* y la guarda en un objeto de tipo archvo que se ingresa como segundo parámetro.\n",
    "\n",
    "**Sintaxis:**\n",
    "\n",
    "```\n",
    "json.dump(<objeto>, <archivo>)\n",
    "```"
   ]
  },
  {
   "cell_type": "markdown",
   "metadata": {},
   "source": [
    "**Ejemplo:**\n",
    "\n",
    "* A continuación se creará un archivo de texto *alumno.txt* y el objeto correspondiente será llamado *archivo*.\n",
    "* El resultado de aplicar *json.dump()* al objeto *alumno* será guardado en el archivo de texto."
   ]
  },
  {
   "cell_type": "code",
   "execution_count": null,
   "metadata": {},
   "outputs": [],
   "source": [
    "with open(\"alumno.txt\", \"wt\") as archivo:\n",
    "    json.dump(estudiante, archivo)"
   ]
  },
  {
   "cell_type": "code",
   "execution_count": null,
   "metadata": {},
   "outputs": [],
   "source": [
    "%cat alumno.txt"
   ]
  },
  {
   "cell_type": "markdown",
   "metadata": {},
   "source": [
    "#### La función *json.load()*.\n",
    "Lee el contenido de un archivo que contiene información en formato *JSON* y la transforma en un objeto de tipo _dict_.\n",
    "\n",
    "**Sintaxis:**\n",
    "\n",
    "```\n",
    "json.load(<archivo>)\n",
    "```"
   ]
  },
  {
   "cell_type": "markdown",
   "metadata": {},
   "source": [
    "**Ejemplo:**\n",
    "\n",
    "* La siguiente celda accederá al archivo de texto *alumno.txt* y el objeto correspondiente será llamado *archivo*.\n",
    "* Al aplicar *json.load()* al objeto *alumno* se creará un objeto de tipo *dict*, el que se le asignará el nombre *otro_estudiante*."
   ]
  },
  {
   "cell_type": "code",
   "execution_count": null,
   "metadata": {},
   "outputs": [],
   "source": [
    "with open(\"alumno.txt\", \"rt\") as archivo:\n",
    "    otro_estudiante = json.load(archivo)"
   ]
  },
  {
   "cell_type": "code",
   "execution_count": null,
   "metadata": {},
   "outputs": [],
   "source": [
    "otro_estudiante"
   ]
  },
  {
   "cell_type": "code",
   "execution_count": null,
   "metadata": {},
   "outputs": [],
   "source": [
    "otro_estudiante == estudiante"
   ]
  },
  {
   "cell_type": "code",
   "execution_count": null,
   "metadata": {},
   "outputs": [],
   "source": [
    "otro_estudiante is estudiante"
   ]
  },
  {
   "cell_type": "markdown",
   "metadata": {},
   "source": [
    "## Incompatibilidad con objetos *bytes*.\n",
    "\n",
    "Las herramientas de *JSON* no pueden transformar objeto de tipo *bytes* y al intentarlo se levantará una excepción *TypeError*."
   ]
  },
  {
   "cell_type": "markdown",
   "metadata": {},
   "source": [
    "**Ejemplo:**"
   ]
  },
  {
   "cell_type": "code",
   "execution_count": null,
   "metadata": {},
   "outputs": [],
   "source": [
    "json.dumps({'Nombre': b'Jose'})"
   ]
  },
  {
   "cell_type": "markdown",
   "metadata": {},
   "source": [
    "## La clase *django.http.JsonResponse*.\n",
    "\n",
    "La clase *django.http.JsonResponse* le permite a una función de vista regresar una respuesta en formato *JSON* a partir de un objeto *dict* de Python.\n",
    "\n",
    "``` python\n",
    "JsonResponse(<objeto>)\n",
    "```"
   ]
  },
  {
   "cell_type": "markdown",
   "metadata": {},
   "source": [
    "**Ejemplo:**\n",
    "\n",
    "El archivo *src/11/urls.py* incluye una ruta apuntando a *main/path* y ligándola a la función de vista *views.respuesta_json()*.\n",
    "\n",
    "``` python\n",
    "from django.urls import path, re_path \n",
    "from . import views\n",
    "\n",
    "urlpatterns = [path('', views.index, name=\"inicio\"), \n",
    "               path('calif', views.calificaciones),\n",
    "               re_path(r'^claves/(?P<clave>[0-9]{4}$)', views.clave),\n",
    "               path('claves/<int:numero>', views.numero),\n",
    "               path('claves/<str:nombre>', views.saluda),\n",
    "               path('json', views.respuesta_json)]\n",
    "```"
   ]
  },
  {
   "cell_type": "markdown",
   "metadata": {},
   "source": [
    "* La siguiente celda sustituirá al archivo *tutorial/main/urls.py* con el archivo *src/11/urls.py*."
   ]
  },
  {
   "cell_type": "code",
   "execution_count": null,
   "metadata": {},
   "outputs": [],
   "source": [
    "%cp src/11/urls.py tutorial/main/urls.py"
   ]
  },
  {
   "cell_type": "code",
   "execution_count": null,
   "metadata": {},
   "outputs": [],
   "source": [
    "%cat tutorial/main/urls.py"
   ]
  },
  {
   "cell_type": "markdown",
   "metadata": {},
   "source": [
    "El archivo *src/11/views.py* incluye a la función de vista *respuesta_json()* con el siguiente código:\n",
    "\n",
    "``` python\n",
    "def respuesta_json(request):\n",
    "    \n",
    "    return JsonResponse({'tipo contenido':request.content_type, 'metodo':request.method, 'ruta':request.path})\n",
    "```\n",
    "Esta función regresa un objeto instanciado de *django.http.JsonResponse*, el cual contiene algunos atributos del objeto *request* que se ingresa como argumento."
   ]
  },
  {
   "cell_type": "markdown",
   "metadata": {},
   "source": [
    "* La siguiente celda sustituirá al archivo *tutorial/main/views.py* con el archivo *src/11/views.py*."
   ]
  },
  {
   "cell_type": "code",
   "execution_count": null,
   "metadata": {},
   "outputs": [],
   "source": [
    "%cp src/11/views.py tutorial/main/views.py"
   ]
  },
  {
   "cell_type": "code",
   "execution_count": null,
   "metadata": {},
   "outputs": [],
   "source": [
    "%cat tutorial/main/views.py"
   ]
  },
  {
   "cell_type": "markdown",
   "metadata": {},
   "source": [
    "* Es necesario iniciar el servidor."
   ]
  },
  {
   "cell_type": "code",
   "execution_count": null,
   "metadata": {},
   "outputs": [],
   "source": [
    "%cd tutorial/"
   ]
  },
  {
   "cell_type": "markdown",
   "metadata": {},
   "source": [
    "**ADVERTENCIAS:** \n",
    "\n",
    "* Al ejecutar la siguiente celda el servidor se inciará desde la notebook, por lo que para ejecutar cualquier otra celda es necesario interrumpir la ejecución del kernel.\n",
    "\n",
    "* Asegúrese que no haya otro servicio escuchando en el puerto *5000*."
   ]
  },
  {
   "cell_type": "code",
   "execution_count": null,
   "metadata": {
    "scrolled": true
   },
   "outputs": [],
   "source": [
    "! ./manage.py runserver 0.0.0.0:5000"
   ]
  },
  {
   "cell_type": "markdown",
   "metadata": {},
   "source": [
    "El resultado puede observarser en http://localhost:5000/main/json"
   ]
  },
  {
   "cell_type": "markdown",
   "metadata": {},
   "source": [
    "<p style=\"text-align: center\"><a rel=\"license\" href=\"http://creativecommons.org/licenses/by/4.0/\"><img alt=\"Licencia Creative Commons\" style=\"border-width:0\" src=\"https://i.creativecommons.org/l/by/4.0/80x15.png\" /></a><br />Esta obra está bajo una <a rel=\"license\" href=\"http://creativecommons.org/licenses/by/4.0/\">Licencia Creative Commons Atribución 4.0 Internacional</a>.</p>\n",
    "<p style=\"text-align: center\">&copy; José Luis Chiquete Valdivieso. 2019.</p>"
   ]
  }
 ],
 "metadata": {
  "kernelspec": {
   "display_name": "Python 3",
   "language": "python",
   "name": "python3"
  },
  "language_info": {
   "codemirror_mode": {
    "name": "ipython",
    "version": 3
   },
   "file_extension": ".py",
   "mimetype": "text/x-python",
   "name": "python",
   "nbconvert_exporter": "python",
   "pygments_lexer": "ipython3",
   "version": "3.6.6"
  }
 },
 "nbformat": 4,
 "nbformat_minor": 2
}
