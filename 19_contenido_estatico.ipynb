{
 "cells": [
  {
   "cell_type": "markdown",
   "metadata": {},
   "source": [
    "[![imagenes/pythonista.png](imagenes/pythonista.png)](https://pythonista.io)"
   ]
  },
  {
   "cell_type": "markdown",
   "metadata": {},
   "source": [
    "Existen algunos archivos a los que las plantillas de *Django* pueden acceder como contenido estáticos tales como.\n",
    "\n",
    "* Hojas de estilo.\n",
    "* Scripts en Javascript.\n",
    "* Imágenes.\n",
    "* Medios.\n",
    "* Documentos de diversas índoles."
   ]
  },
  {
   "cell_type": "markdown",
   "metadata": {},
   "source": [
    "## Contenido estático en función del tipo de entorno.\n",
    "\n",
    "*Django* es un servidor de aplicaciones web que permirte crear contenido de forma dinámica. Utilizarlo como un servidor web dedicado como lo son el servidor [*Apache*](https://httpd.apache.org/) y [*Nginx*](https://nginx.org) no sólo es ineficiente, sino que incluso podría representar un riesgo de seguridad."
   ]
  },
  {
   "cell_type": "markdown",
   "metadata": {},
   "source": [
    "### Entornos de desarrollo.\n",
    "\n",
    "Durante el ciclo de vida de un proyecto de desarrollo de software es común y recomendable desplegar distintos entornos para ciertas etapas. Los más comunes son:\n",
    "\n",
    "* *Entorno de desarrollo*, el cual corresponde al conjunto de recursos utilizado por el equipo de desarrollo a lo largo de un proyecto.\n",
    "* *Entorno de pruebas* el cual corresponde a los recursos utilizados para realizar las diversas pruebas y contrloes de calidad del producto de software.\n",
    "* *Entorno de producción* el entorno en el que el producto de software será publicado y utilizado por los usuarios del producto. \n"
   ]
  },
  {
   "cell_type": "markdown",
   "metadata": {},
   "source": [
    "#### Contenidos estático en entornos de producción.\n",
    "\n",
    "En el caso de que *Django* se encuentre en el entorno de producción, se recomienda que los contenidos estáticos sean puestos a disposición mediantes un servidor web dedicado, al cual accederá *Django*."
   ]
  },
  {
   "cell_type": "markdown",
   "metadata": {},
   "source": [
    "#### Contenidos estáticos en entornos de pruebas.\n",
    "\n",
    "Los entornos de pruebas pueden tener diversas configuraciones dependiendo de la metodólogía de desarrollo utilizada y de la naturaleza de las pruebas a realizarse.\n",
    "\n",
    "En este caso debe de ponderarse la conveniencia de utilizar un servidor web dedicado o utilizar a *Django* directamente."
   ]
  },
  {
   "cell_type": "markdown",
   "metadata": {},
   "source": [
    "#### Contenidos estáticos en entornos de desarrollo.\n",
    "\n",
    "Conforme las herramientas de virtualización y de contenedores han avanzado, los desarrolladores han podido acceder a entornos cada vez más dinámicos y capaces de emular, desplegar y configurar infraestructura de forma automatizada.\n",
    "\n",
    "Cada vez es más común que los entornos de desarrollo y pruebas sean lo más parecidos al entorno de producción, pero con recursos más limitados. Sin embargo, es posible tener un entorno de desarrollo razonablemente estable, permitiendo que *Django* gestione los contenidos estáticos en los entornos de desarrollo, particularmente si dicho entorno reside en computadoras personales de pocos recursos."
   ]
  },
  {
   "cell_type": "markdown",
   "metadata": {},
   "source": [
    "## La aplicación *django.contrib.staticfiles*.\n",
    "\n",
    "Esta es una de las aplicaciones que viene por defecto con *Django* y es la que permite identificar, recolectar y guardar contendido estático."
   ]
  },
  {
   "cell_type": "markdown",
   "metadata": {},
   "source": [
    "## La instrucción *manage.py collectstatic*.\n",
    "\n",
    "Esta instrucción ejecutada en el directorio del proyecto, recolectará los archivos estáticos de las aplicaciones y los guardará en el directorio indicado en la configuración.\n",
    "\n",
    "```\n",
    "./manage.py collectstatic <argumentos>\n",
    "```\n",
    "\n",
    "Al ejecutarse el comando, se realizará una búsqueda en todos los subdirectorios de proyecto y se pedirá una confirmación de la escritura de archivo.\n",
    "\n",
    "El argumento ```--noinput``` permite realizar la operación descrita sin que sea necesario interactuar con el usuario."
   ]
  },
  {
   "cell_type": "markdown",
   "metadata": {},
   "source": [
    "## Tratamiento de los recursos estáticos con la variable *settings.DEBUG*.\n",
    "\n",
    "La variable *settings.DEBUG* define el comportamiento de *Django* en varios aspectos, incluyendo la forma en la que guarda los recursos estáticos.\n",
    "\n",
    "Cuando el valor de *settings.DEBUG* es *True*, Django buscará automáticamente en el subdirectorio *static/* de cada aplicación en el proyecto y no es necesario tener un directorio único de dfindo por *settings.STATIC_ROOT*."
   ]
  },
  {
   "cell_type": "markdown",
   "metadata": {},
   "source": [
    "## Configuración de los recursos estáticos.\n",
    "\n",
    "El archivo *settings.py* de un proyecto de *Django* permite definir ciertas variables para el manejo de archivos estáticos."
   ]
  },
  {
   "cell_type": "markdown",
   "metadata": {},
   "source": [
    "### La variable *settings.STATIC_URL*.\n",
    "\n",
    "Esta variable indica la URL del servidor local que estará siriviendo el contenido estático. Por defecto el valor de la variable es *'/static/'*.\n",
    "\n",
    "Es importante que *Django* cuente con las credenciales y permisos para acceder a los recursos de esta URL."
   ]
  },
  {
   "cell_type": "markdown",
   "metadata": {},
   "source": [
    "### La variable *settings.STATIC_ROOT*.\n",
    "\n",
    "Esta variable indica la localización de los contenidos estáticos, la variable *settings.STATIC_ROOT* define la ruta completa del directorio donde se encontrarán los recursos estáticos recolectados mediante la instrucción *manage.py collectstatic* .\n",
    "\n",
    "Si el valor de *settings.DEBUG* es *True*, *Django* no consultará este directorio.\n",
    "\n",
    "Este directorio es al que debe de apuntar el servidor web para la URL definida por *settings.STATIC_URL*."
   ]
  },
  {
   "cell_type": "markdown",
   "metadata": {},
   "source": [
    "### La variable *STATICFILES_DIRS*.\n",
    "\n",
    "Esta variable contiene una lista de posibles rutas en las que se podría encontrar contenido estático al ejecutar la instrucción *manage.py collectstatic*."
   ]
  },
  {
   "cell_type": "markdown",
   "metadata": {},
   "source": [
    "### La variable *STATICFILES_STORAGE*.\n",
    "\n"
   ]
  },
  {
   "cell_type": "markdown",
   "metadata": {},
   "source": [
    "### La variable *STATICFILES_FINDERS*."
   ]
  },
  {
   "cell_type": "markdown",
   "metadata": {},
   "source": [
    "**Ejemplo:**\n"
   ]
  },
  {
   "cell_type": "code",
   "execution_count": 1,
   "metadata": {},
   "outputs": [],
   "source": [
    "%cp src/19/settings.py tutorial/tutorial/settings.py"
   ]
  },
  {
   "cell_type": "code",
   "execution_count": 2,
   "metadata": {},
   "outputs": [
    {
     "name": "stdout",
     "output_type": "stream",
     "text": [
      "\"\"\"\r\n",
      "Django settings for tutorial project.\r\n",
      "\r\n",
      "Generated by 'django-admin startproject' using Django 2.1.5.\r\n",
      "\r\n",
      "For more information on this file, see\r\n",
      "https://docs.djangoproject.com/en/2.1/topics/settings/\r\n",
      "\r\n",
      "For the full list of settings and their values, see\r\n",
      "https://docs.djangoproject.com/en/2.1/ref/settings/\r\n",
      "\"\"\"\r\n",
      "\r\n",
      "import os\r\n",
      "\r\n",
      "# Build paths inside the project like this: os.path.join(BASE_DIR, ...)\r\n",
      "BASE_DIR = os.path.dirname(os.path.dirname(os.path.abspath(__file__)))\r\n",
      "\r\n",
      "\r\n",
      "# Quick-start development settings - unsuitable for production\r\n",
      "# See https://docs.djangoproject.com/en/2.1/howto/deployment/checklist/\r\n",
      "\r\n",
      "# SECURITY WARNING: keep the secret key used in production secret!\r\n",
      "SECRET_KEY = 'u-e8u-a-y!%oeerca9e@=x&i+8d@b%^g@)@^sg2=6do(@7#u&x'\r\n",
      "\r\n",
      "# SECURITY WARNING: don't run with debug turned on in production!\r\n",
      "DEBUG = True\r\n",
      "\r\n",
      "ALLOWED_HOSTS = []\r\n",
      "\r\n",
      "\r\n",
      "# Application definition\r\n",
      "\r\n",
      "INSTALLED_APPS = [\r\n",
      "    'django.contrib.admin',\r\n",
      "    'django.contrib.auth',\r\n",
      "    'django.contrib.contenttypes',\r\n",
      "    'django.contrib.sessions',\r\n",
      "    'django.contrib.messages',\r\n",
      "    'django.contrib.staticfiles',\r\n",
      "    'api',\r\n",
      "    'main'\r\n",
      "]\r\n",
      "\r\n",
      "MIDDLEWARE = [\r\n",
      "    'django.middleware.security.SecurityMiddleware',\r\n",
      "    'django.contrib.sessions.middleware.SessionMiddleware',\r\n",
      "    'django.middleware.common.CommonMiddleware',\r\n",
      "    'django.middleware.csrf.CsrfViewMiddleware',\r\n",
      "    'django.contrib.auth.middleware.AuthenticationMiddleware',\r\n",
      "    'django.contrib.messages.middleware.MessageMiddleware',\r\n",
      "    'django.middleware.clickjacking.XFrameOptionsMiddleware',\r\n",
      "]\r\n",
      "\r\n",
      "ROOT_URLCONF = 'tutorial.urls'\r\n",
      "\r\n",
      "TEMPLATES = [\r\n",
      "    {\r\n",
      "        'BACKEND': 'django.template.backends.django.DjangoTemplates',\r\n",
      "        'DIRS': [BASE_DIR + '/templates/'],\r\n",
      "        'APP_DIRS': True,\r\n",
      "        'OPTIONS': {\r\n",
      "            'context_processors': [\r\n",
      "                'django.template.context_processors.debug',\r\n",
      "                'django.template.context_processors.request',\r\n",
      "                'django.contrib.auth.context_processors.auth',\r\n",
      "                'django.contrib.messages.context_processors.messages',\r\n",
      "            ],\r\n",
      "        },\r\n",
      "    },\r\n",
      "]\r\n",
      "\r\n",
      "WSGI_APPLICATION = 'tutorial.wsgi.application'\r\n",
      "\r\n",
      "\r\n",
      "# Database\r\n",
      "# https://docs.djangoproject.com/en/2.1/ref/settings/#databases\r\n",
      "\r\n",
      "DATABASES = {'default': {'ENGINE': 'mysql.connector.django',\r\n",
      "                'NAME': 'db_django',\r\n",
      "                'USER': 'root',\r\n",
      "                'PASSWORD': '0p3n5t4ck',\r\n",
      "                'HOST': 'localhost',\r\n",
      "                'PORT': 3306},\r\n",
      "}\r\n",
      "\r\n",
      "\r\n",
      "# Password validation\r\n",
      "# https://docs.djangoproject.com/en/2.1/ref/settings/#auth-password-validators\r\n",
      "\r\n",
      "AUTH_PASSWORD_VALIDATORS = [\r\n",
      "    {\r\n",
      "        'NAME': 'django.contrib.auth.password_validation.UserAttributeSimilarityValidator',\r\n",
      "    },\r\n",
      "    {\r\n",
      "        'NAME': 'django.contrib.auth.password_validation.MinimumLengthValidator',\r\n",
      "    },\r\n",
      "    {\r\n",
      "        'NAME': 'django.contrib.auth.password_validation.CommonPasswordValidator',\r\n",
      "    },\r\n",
      "    {\r\n",
      "        'NAME': 'django.contrib.auth.password_validation.NumericPasswordValidator',\r\n",
      "    },\r\n",
      "]\r\n",
      "\r\n",
      "\r\n",
      "# Internationalization\r\n",
      "# https://docs.djangoproject.com/en/2.1/topics/i18n/\r\n",
      "\r\n",
      "LANGUAGE_CODE = 'en-us'\r\n",
      "\r\n",
      "TIME_ZONE = 'UTC'\r\n",
      "\r\n",
      "USE_I18N = True\r\n",
      "\r\n",
      "USE_L10N = True\r\n",
      "\r\n",
      "USE_TZ = True\r\n",
      "\r\n",
      "\r\n",
      "# Static files (CSS, JavaScript, Images)\r\n",
      "# https://docs.djangoproject.com/en/2.1/howto/static-files/\r\n",
      "\r\n",
      "STATIC_URL = '/static/'\r\n",
      "STATIC_ROOT = BASE_DIR + '/static'"
     ]
    }
   ],
   "source": [
    "%cat tutorial/tutorial/settings.py "
   ]
  },
  {
   "cell_type": "code",
   "execution_count": 3,
   "metadata": {},
   "outputs": [],
   "source": [
    "from tutorial.tutorial import settings as settings"
   ]
  },
  {
   "cell_type": "code",
   "execution_count": 6,
   "metadata": {},
   "outputs": [
    {
     "data": {
      "text/plain": [
       "['django.contrib.admin',\n",
       " 'django.contrib.auth',\n",
       " 'django.contrib.contenttypes',\n",
       " 'django.contrib.sessions',\n",
       " 'django.contrib.messages',\n",
       " 'django.contrib.staticfiles',\n",
       " 'api',\n",
       " 'main']"
      ]
     },
     "execution_count": 6,
     "metadata": {},
     "output_type": "execute_result"
    }
   ],
   "source": [
    "settings.INSTALLED_APPS"
   ]
  },
  {
   "cell_type": "code",
   "execution_count": 4,
   "metadata": {},
   "outputs": [
    {
     "data": {
      "text/plain": [
       "'/static/'"
      ]
     },
     "execution_count": 4,
     "metadata": {},
     "output_type": "execute_result"
    }
   ],
   "source": [
    "settings.STATIC_URL"
   ]
  },
  {
   "cell_type": "code",
   "execution_count": 5,
   "metadata": {},
   "outputs": [
    {
     "data": {
      "text/plain": [
       "'/opt/pythonista/py231/tutorial/static'"
      ]
     },
     "execution_count": 5,
     "metadata": {},
     "output_type": "execute_result"
    }
   ],
   "source": [
    "settings.STATIC_ROOT"
   ]
  },
  {
   "cell_type": "code",
   "execution_count": 8,
   "metadata": {},
   "outputs": [
    {
     "name": "stdout",
     "output_type": "stream",
     "text": [
      "/opt/pythonista/py231/tutorial\n"
     ]
    }
   ],
   "source": [
    "%cd tutorial"
   ]
  },
  {
   "cell_type": "code",
   "execution_count": 11,
   "metadata": {},
   "outputs": [
    {
     "name": "stdout",
     "output_type": "stream",
     "text": [
      "\r\n",
      "0 static files copied to '/opt/pythonista/py231/tutorial/static', 119 unmodified.\r\n"
     ]
    }
   ],
   "source": [
    "!./manage.py collectstatic --noinput"
   ]
  },
  {
   "cell_type": "code",
   "execution_count": null,
   "metadata": {},
   "outputs": [],
   "source": []
  },
  {
   "cell_type": "markdown",
   "metadata": {},
   "source": [
    "## Contenido estáticos en plantillas de *Django*.\n",
    "\n",
    "### La declaración *load*.\n",
    "\n",
    "La declaración *load* es usada por el *DTL* para cargar bibliotecas de etiquetas a partir "
   ]
  },
  {
   "cell_type": "code",
   "execution_count": null,
   "metadata": {},
   "outputs": [],
   "source": []
  },
  {
   "cell_type": "markdown",
   "metadata": {},
   "source": [
    "<p style=\"text-align: center\"><a rel=\"license\" href=\"http://creativecommons.org/licenses/by/4.0/\"><img alt=\"Licencia Creative Commons\" style=\"border-width:0\" src=\"https://i.creativecommons.org/l/by/4.0/80x15.png\" /></a><br />Esta obra está bajo una <a rel=\"license\" href=\"http://creativecommons.org/licenses/by/4.0/\">Licencia Creative Commons Atribución 4.0 Internacional</a>.</p>\n",
    "<p style=\"text-align: center\">&copy; José Luis Chiquete Valdivieso. 2019.</p>"
   ]
  }
 ],
 "metadata": {
  "kernelspec": {
   "display_name": "Python 3",
   "language": "python",
   "name": "python3"
  },
  "language_info": {
   "codemirror_mode": {
    "name": "ipython",
    "version": 3
   },
   "file_extension": ".py",
   "mimetype": "text/x-python",
   "name": "python",
   "nbconvert_exporter": "python",
   "pygments_lexer": "ipython3",
   "version": "3.6.6"
  }
 },
 "nbformat": 4,
 "nbformat_minor": 2
}
