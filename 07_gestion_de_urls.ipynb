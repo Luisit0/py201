{
 "cells": [
  {
   "cell_type": "markdown",
   "metadata": {},
   "source": [
    "[![imagenes/pythonista.png](imagenes/pythonista.png)](https://pythonista.io)"
   ]
  },
  {
   "cell_type": "markdown",
   "metadata": {},
   "source": [
    "# Gestión de *URLs*."
   ]
  },
  {
   "cell_type": "markdown",
   "metadata": {},
   "source": [
    "**ADVERTENCIA:**  \n",
    "\n",
    "Para poder realizar exitosamente los ejercicios de esta notebook, es necesario haber seguido al pie de la letra y en orden sucesivo las instrucciones de todas las notebooks previas."
   ]
  },
  {
   "cell_type": "markdown",
   "metadata": {},
   "source": [
    "El módulo ```django.urls``` cuenta con herramientas que permiten identificar y filtrar *URLs*  de modo tal que pueda crear servicios dinámicos a partir de la información contenida en ellos.\n",
    "\n",
    "La documentacióm corresondiente puede ser consultada en https://docs.djangoproject.com/en/2.2/topics/http/urls/"
   ]
  },
  {
   "cell_type": "markdown",
   "metadata": {},
   "source": [
    "## Identificación de segmentos en una *URL*.\n",
    "\n",
    "Previamente se estudió la funcionalidad básica de ```django.urls.path()``` realizando las siguientes operaciones:\n",
    "\n",
    "* Identificando un patrón de *URL*.\n",
    "* Llamando a una función de vista relacionada con el patrón.\n",
    "* Ingresando automáticamente al objeto ```request``` como argumento de la función de vista.\n",
    "\n",
    "Es convieniente recordar que la sintaxis de la función ```django.urls.path()``` es:\n",
    "\n",
    "```\n",
    "django.urls.path('<patrón>', <funcion de vista>, <kwargs>)\n",
    "```\n",
    "\n",
    "* Donde  ```<patrón>``` es una cadena de cartacteres que debe de coincidir con la *URL*. "
   ]
  },
  {
   "cell_type": "markdown",
   "metadata": {},
   "source": [
    "### Segmentos indentificables en una *URL*.\n",
    "\n",
    "La función ```django.urls.path()``` puede:\n",
    "* Identificar segmentos de caracteres delimitados por el caracter ```/```.\n",
    "* Convertir cada cadena de caracteres segmentada en un tipo de dato específico.\n",
    "* Asignarle un nombre a cada valor obtenido.\n",
    "\n",
    "### Tipos de datos extraibles de un segmento de *URL*:\n",
    "\n",
    "Los tipos de datos en los que puede ser convertido un segmento son los siguiientes:\n",
    "\n",
    "* ```string```: es el tipo de datos por defecto y corresponde a una cadena de caracteres.\n",
    "* ```int```: corrsponde a un número entero positivo, incluyendo al cero.\n",
    "* ```slug```: es una combinación de caracteres *ASCII*, guiones medios ```-``` y guiones bajos ```_```.\n",
    "* ```uuid```: para las secuencias que se apegan a la especificación [*RFC 4122*](https://tools.ietf.org/html/rfc4122.html).\n",
    "* ```path```: captura el segmento de la *URL* incluyendo las diagonales ```/```."
   ]
  },
  {
   "cell_type": "markdown",
   "metadata": {},
   "source": [
    "**Ejemplo:**\n",
    "\n",
    "* La *URL* ```main/53/azul/01``` puede ser segmentada obteniendo las cadenas de caracteres:\n",
    "    * ```'53'```.\n",
    "    * ```'azul'```.\n",
    "    * ```'01'```.\n",
    "* Cada uno de estos segmentos puede ser convertido en un tipo compatible. Por defecto, todos los segmentos son de tipo ```string```."
   ]
  },
  {
   "cell_type": "markdown",
   "metadata": {},
   "source": [
    "### Definción del patrón de extracción de segmentos.\n",
    "\n",
    "La cadena de caracteres que define a un patrón con sefgmentos extaibles tend'ria una sintaxcis similar a la siguiente:\n",
    "\n",
    "```\n",
    "'<patrón inicial>/<segmento 1>/<segmento 2>/.../<segmento n>'\n",
    "```\n",
    "\n",
    "Donde:\n",
    "\n",
    "* ```<patrón inicial>``` es un patrón específico que debe de coincidir en la URL.\n",
    "* ```<segmento X>``` corresponde a cada segmento a extraer."
   ]
  },
  {
   "cell_type": "markdown",
   "metadata": {},
   "source": [
    "### Definición de nombre y tipo de cada segmento.\n",
    "\n",
    "Es posible asignarle un nombre a cada segmento mediante la sintaxis ```tipo:nombre``` encerrado entre los signos de \"menor que\" ```<``` y \"mayor que\" ```>```.  "
   ]
  },
  {
   "cell_type": "markdown",
   "metadata": {},
   "source": [
    "**Ejemplo:**\n",
    " * Para capturar los segmentos de la *URL* ```main/53/azul/01``` se usaría el siguiente patrón:\n",
    " \n",
    " ``` python\n",
    " 'main/<int:codigo>/<string:color>/<int:cantidad>'\n",
    "```\n",
    "* Se obtendrían:\n",
    "    * El objeto con nombre ```codigo```, de tipo ```int``` y con valor de ```53```.\n",
    "    * El objeto con nombre ```color```, de tipo ```string``` y con valor de ```'azul'```.\n",
    "    * El objeto con nombre ```cantidad```, de tipo ```ìnt``` y con valor de ```1```.   \n",
    "    \n",
    "Estos valores serían usados como argumentos adicionales a ```request``` en la función de vista correspondiente."
   ]
  },
  {
   "cell_type": "markdown",
   "metadata": {},
   "source": [
    "## Identificación de rutas con expresiones regulares.\n",
    "\n",
    "La función ```django.url.re_path()``` permite hacer búsquedas que coincidan con una expresión regular.\n",
    "\n",
    "```\n",
    "re_path(r'<expresión regular>', <función de vista>)\n",
    "```\n",
    "En caso de que la expresión regular extraiga datos, estos datos se ingresarán como argumentos después del objeto ```request```. \n"
   ]
  },
  {
   "cell_type": "markdown",
   "metadata": {},
   "source": [
    "## Ejemplo ilustrativo."
   ]
  },
  {
   "cell_type": "markdown",
   "metadata": {},
   "source": [
    "### El archivo ```src/07/urls.py```.\n",
    "\n",
    "El archivo ```src/07/urls.py``` contiene lo siguiente:\n",
    "\n",
    "\n",
    "``` python\n",
    "from django.urls import path, re_path \n",
    "from . import views\n",
    "\n",
    "urlpatterns = [path('', views.index, name=\"inicio\"), \n",
    "               path('vista', views.vista),\n",
    "               re_path(r'^claves/(?P<clave>[0-9]{4}$)', views.clave),\n",
    "               path('claves/<int:numero>', views.numero),\n",
    "               path('claves/<str:nombre>', views.saluda),]\n",
    "```\n",
    "\n",
    "* En caso de que se ingrese una *URL* con exactamente 4 dígitos después de ```main/claves/```, se ejecutará la función ```views.clave()``` y se enviarán los 4 dígitos como segundo argumento.\n",
    "* En caso de que se ingrese una *URL* con números que no sean de 4 dígitos después de ```main/claves/```, se ejecutará la función ```views.numero()``` y se enviará el número entero como segundo argumento.\n",
    "* En caso de que se ingrese una *URL* con algo que no cumpla las condiciones previas después de ```main/claves/```, se ejecutará la función ```views.saluda()``` y se enviará el contenido como segundo argumento."
   ]
  },
  {
   "cell_type": "markdown",
   "metadata": {},
   "source": [
    "* A continuación se sustituirá al archivo ```tutorial/main/urls.py```  con el archivo ```src/07/urls.py```."
   ]
  },
  {
   "cell_type": "markdown",
   "metadata": {},
   "source": [
    "* Para la plataforma GNU/Linux y MacOS X."
   ]
  },
  {
   "cell_type": "code",
   "execution_count": null,
   "metadata": {},
   "outputs": [],
   "source": [
    "!cp src/07/urls.py tutorial/main/urls.py "
   ]
  },
  {
   "cell_type": "markdown",
   "metadata": {},
   "source": [
    "* Para la plataforma Windows."
   ]
  },
  {
   "cell_type": "code",
   "execution_count": null,
   "metadata": {},
   "outputs": [],
   "source": [
    "!copy src\\07\\urls.py tutorial\\main\\urls.py "
   ]
  },
  {
   "cell_type": "code",
   "execution_count": null,
   "metadata": {},
   "outputs": [],
   "source": [
    "%pycat tutorial\\main\\urls.py "
   ]
  },
  {
   "cell_type": "markdown",
   "metadata": {},
   "source": [
    "### El archivo ```src/07/views.py```.\n",
    "\n",
    "El archivo ```src/07/views.py``` contiene el siguiente código:\n",
    "\n",
    "``` python\n",
    "from django.http import HttpResponse\n",
    "\n",
    "\n",
    "def index(request):\n",
    "    return HttpResponse(\"<h1>Hola, mundo.</h1>\")\n",
    "\n",
    "\n",
    "def vista(request):\n",
    "    return HttpResponse('<ul><li>URL: {}</li><li>Método: {}</li><li>Codificación: {}</li><li>Argumentos: {}</li></ul>'.format(request.path, request.method, request.encoding, request.GET.dict()))\n",
    "\n",
    "\n",
    "def clave(request, clave):\n",
    "    return HttpResponse('<h1>Ingresaste la clave: {}</h1>'.format(str(clave)))\n",
    "\n",
    "\n",
    "def numero(request, numero):\n",
    "    return HttpResponse('<h1>Ingresaste el número: {}</h1>'.format(str(numero)))\n",
    "\n",
    "\n",
    "def saluda(request, nombre):\n",
    "    return HttpResponse('<h1>¡Hola, {}!</h1>'.format(nombre))\n",
    "```"
   ]
  },
  {
   "cell_type": "markdown",
   "metadata": {},
   "source": [
    "* A continuación se sustituirá al archivo ```tutorial/main/views.py```  con el archivo ```src/07/views.py```."
   ]
  },
  {
   "cell_type": "markdown",
   "metadata": {},
   "source": [
    "* Para la plataforma GNU/Linux y MacOS X."
   ]
  },
  {
   "cell_type": "code",
   "execution_count": null,
   "metadata": {},
   "outputs": [],
   "source": [
    "!cp src/07/views.py tutorial/main/views.py "
   ]
  },
  {
   "cell_type": "markdown",
   "metadata": {},
   "source": [
    "* Para la plataforma Windows."
   ]
  },
  {
   "cell_type": "code",
   "execution_count": null,
   "metadata": {},
   "outputs": [],
   "source": [
    "!copy src\\07\\views.py tutorial\\main\\views.py "
   ]
  },
  {
   "cell_type": "code",
   "execution_count": null,
   "metadata": {},
   "outputs": [],
   "source": [
    "%pycat tutorial/main/views.py "
   ]
  },
  {
   "cell_type": "markdown",
   "metadata": {},
   "source": [
    "* A continuación se iniciará el servidor de *Django*."
   ]
  },
  {
   "cell_type": "code",
   "execution_count": null,
   "metadata": {},
   "outputs": [],
   "source": [
    "%cd tutorial"
   ]
  },
  {
   "cell_type": "markdown",
   "metadata": {},
   "source": [
    "**ADVERTENCIAS:** \n",
    "\n",
    "* Al ejecutar la siguiente celda el servidor se inciará desde la notebook, por lo que para ejecutar cualquier otra celda es necesario interrumpir la ejecución del kernel.\n",
    "\n",
    "* Asegúrese que no haya otro servicio escuchando en el puerto *5000*."
   ]
  },
  {
   "cell_type": "code",
   "execution_count": null,
   "metadata": {
    "scrolled": true
   },
   "outputs": [],
   "source": [
    "!python manage.py runserver 0.0.0.0:5000"
   ]
  },
  {
   "cell_type": "markdown",
   "metadata": {},
   "source": [
    "* La URL *http://localhost:5000/main/claves/12345678* ejecutará la función *views.numero()*.\n",
    "\n",
    "* La URL *http://localhost:5000/main/claves/0* ejecutará la función *views.numero()*.\n",
    "\n",
    "* La URL *http://localhost:5000/main/claves/1234* ejecutará la función *views.clave()*.\n",
    "\n",
    "* La URL *http://localhost:5000/main/claves/Juan* ejecutará la función *views.saluda()*."
   ]
  },
  {
   "cell_type": "markdown",
   "metadata": {},
   "source": [
    "<p style=\"text-align: center\"><a rel=\"license\" href=\"http://creativecommons.org/licenses/by/4.0/\"><img alt=\"Licencia Creative Commons\" style=\"border-width:0\" src=\"https://i.creativecommons.org/l/by/4.0/80x15.png\" /></a><br />Esta obra está bajo una <a rel=\"license\" href=\"http://creativecommons.org/licenses/by/4.0/\">Licencia Creative Commons Atribución 4.0 Internacional</a>.</p>\n",
    "<p style=\"text-align: center\">&copy; José Luis Chiquete Valdivieso. 2019.</p>"
   ]
  }
 ],
 "metadata": {
  "kernelspec": {
   "display_name": "Python 3",
   "language": "python",
   "name": "python3"
  },
  "language_info": {
   "codemirror_mode": {
    "name": "ipython",
    "version": 3
   },
   "file_extension": ".py",
   "mimetype": "text/x-python",
   "name": "python",
   "nbconvert_exporter": "python",
   "pygments_lexer": "ipython3",
   "version": "3.7.3"
  }
 },
 "nbformat": 4,
 "nbformat_minor": 2
}
