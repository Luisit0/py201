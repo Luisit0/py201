{
 "cells": [
  {
   "cell_type": "markdown",
   "metadata": {},
   "source": [
    "[![imagenes/pythonista.png](imagenes/pythonista.png)](https://pythonista.io)"
   ]
  },
  {
   "cell_type": "markdown",
   "metadata": {},
   "source": [
    "**ADVERTENCIA:** Para poder ejecutar correctamente las celdas de esta notebook, es necesario: \n",
    "* Haber creado el proyecto de la notebook [*02_introduccion_a_django.ipynb*](02_introduccion_a_django.ipynb) localizado en el directorio *tutorial*.\n",
    "* Haber ejecutado todas las celdas de la notebook [*06_estructura_de_una_aplicacion_basica.ipynb*](06_estructura_de_una_aplicacion_basica.ipynb)."
   ]
  },
  {
   "cell_type": "markdown",
   "metadata": {},
   "source": [
    "## El módulo *django.http*.\n",
    "\n",
    "Este módulo contiene diversos recursos que permiten a *Django* desplegar servicios basa\n",
    "ados en el protocolo HTTP.\n",
    "\n",
    "* Contiene varias clases que permiten definir y capturar como si fueran excepciones diversos estados de HTTP distintos a *200*.\n",
    "* Contiene a la clase *django.http.HttpRequest*.\n",
    "* Contiene a la clase *django.http.HttpResponse*.\n",
    "\n",
    "La referencia a estas clases puede ser consultada desde https://docs.djangoproject.com/en/2.1/ref/request-response/"
   ]
  },
  {
   "cell_type": "code",
   "execution_count": null,
   "metadata": {},
   "outputs": [],
   "source": [
    "import django.http"
   ]
  },
  {
   "cell_type": "code",
   "execution_count": null,
   "metadata": {
    "scrolled": false
   },
   "outputs": [],
   "source": [
    "help(django.http)"
   ]
  },
  {
   "cell_type": "markdown",
   "metadata": {},
   "source": [
    "## Sesiones.\n",
    "\n",
    "Si un cliente cuenta con las credenciales y los permisos adecuados, éste puede iniciar una sesión con un servidor. \n",
    "\n",
    "Una sesión consiste en intercambio de peticiones y respuestas entre un cliente y un servidor.\n",
    "\n",
    "**Nota:** En capítulos posteriores se estudiarán temas relacionados a la creación de sesiones seguras y a la autenticación de usuarios."
   ]
  },
  {
   "cell_type": "markdown",
   "metadata": {},
   "source": [
    "## Los objetos *request*.\n",
    "\n",
    "A los objetos instanciados de la clase *django.http.HttpRequest*, se les conoce como *request*. Utilizaremos este término para referirnos a dichos objetos.\n",
    "\n",
    "* El estado de estos objetos contiene información acerca de la petición formulada desde un cliente.\n",
    "* Además, estos objetos cuentan con métodos que nos permiten facilitar el manejo de las peticiones.\n",
    "* *Django* ingresa un objeto *request* como el primer argumento de una función de vista."
   ]
  },
  {
   "cell_type": "markdown",
   "metadata": {},
   "source": [
    "### Atributos de los objetos *request*.\n",
    "\n",
    "* *scheme*\n",
    "* *body*\n",
    "* *encoding*\n",
    "* *path*\n",
    "* *path_info*\n",
    "* *method*\n",
    "* *content_type*\n",
    "* *content_params*\n",
    "* *GET*\n",
    "* *POST*\n",
    "* *COOKIES*\n",
    "* *FILES*\n",
    "* *META*"
   ]
  },
  {
   "cell_type": "markdown",
   "metadata": {},
   "source": [
    "## La clase *django.http.HttpResponse*.\n",
    "\n",
    "Existen diversos tipos de respuestas (responses) que *Django* puede enviar a un cliente. Sin embargo, todas estas respuestas son objetos instanciados de la clase *django.http.HttpResponse*\n",
    "\n",
    "Las funciones de vista deben de regresar objetos instanciados de dicha clase.\n",
    "\n",
    "```\n",
    "django.http.HttpResponse(<contenido>)\n",
    "```\n",
    "\n",
    "El contenido que regresa este objeto debe de ser conformado por la función de vista."
   ]
  },
  {
   "cell_type": "code",
   "execution_count": null,
   "metadata": {},
   "outputs": [],
   "source": [
    "from django.http import HttpResponse"
   ]
  },
  {
   "cell_type": "code",
   "execution_count": null,
   "metadata": {},
   "outputs": [],
   "source": [
    "help(HttpResponse)"
   ]
  },
  {
   "cell_type": "markdown",
   "metadata": {},
   "source": [
    "**Ejemplo:**\n",
    "\n",
    "El archivo *tutorial/main/views.py*  contiene las funciones de vista:\n",
    "* *index()*,  la cual crea y regresa un objeto instanciado de *django.http.HttpResponse*.\n",
    "* *calificaciones()* la cual regresa *None*."
   ]
  },
  {
   "cell_type": "code",
   "execution_count": null,
   "metadata": {},
   "outputs": [],
   "source": [
    "%cat tutorial/main/views.py"
   ]
  },
  {
   "cell_type": "markdown",
   "metadata": {},
   "source": [
    "El siguiente código modifica a la función *calificaciones()* para que regrese algún componente del objeto *request*, en este caso, el método usado por el cliente.\n",
    "    \n",
    "``` python\n",
    "def calificaciones(request):\n",
    "    return HttpResponse(request.method)\n",
    "```"
   ]
  },
  {
   "cell_type": "markdown",
   "metadata": {},
   "source": [
    "El archivo *src/07/views.py* contiene el código con la función *calificaciones()* modificada."
   ]
  },
  {
   "cell_type": "code",
   "execution_count": null,
   "metadata": {},
   "outputs": [],
   "source": [
    "%cat src/07/views.py"
   ]
  },
  {
   "cell_type": "markdown",
   "metadata": {},
   "source": [
    "* La siguiente celda sustituirá al archivo *tutorial/main/views.py* por el archivo *src/07/views.py*."
   ]
  },
  {
   "cell_type": "code",
   "execution_count": null,
   "metadata": {},
   "outputs": [],
   "source": [
    "!cp src/07/views.py tutorial/main/views.py"
   ]
  },
  {
   "cell_type": "code",
   "execution_count": null,
   "metadata": {},
   "outputs": [],
   "source": [
    "%cat tutorial/main/views.py"
   ]
  },
  {
   "cell_type": "markdown",
   "metadata": {},
   "source": [
    "* Inicie el servidor."
   ]
  },
  {
   "cell_type": "code",
   "execution_count": null,
   "metadata": {},
   "outputs": [],
   "source": [
    "%cd tutorial"
   ]
  },
  {
   "cell_type": "markdown",
   "metadata": {},
   "source": [
    "**ADVERTENCIAS:** \n",
    "\n",
    "* Al ejecutar la siguiente celda el servidor se inciará desde la notebook, por lo que para ejecutar cualquier otra celda es necesario interrumpir la ejecución del kernel.\n",
    "\n",
    "* Asegúrese que no haya otro servicio escuchando en el puerto *5000*."
   ]
  },
  {
   "cell_type": "code",
   "execution_count": null,
   "metadata": {},
   "outputs": [],
   "source": [
    "! ./manage.py runserver 0.0.0.0:5000"
   ]
  },
  {
   "cell_type": "markdown",
   "metadata": {},
   "source": [
    "* Al acceder a [http://localhost:5000/main/calif](http://localhost:5000/main/calif) se mostrará el método usado por el cliente."
   ]
  },
  {
   "cell_type": "markdown",
   "metadata": {},
   "source": [
    "## TAREA.\n",
    "\n",
    "Modifique la función *calificaciones()* del archivo *tutorial/main/views.py*  para que regrese un recurso en particular."
   ]
  },
  {
   "cell_type": "markdown",
   "metadata": {},
   "source": [
    "<p style=\"text-align: center\"><a rel=\"license\" href=\"http://creativecommons.org/licenses/by/4.0/\"><img alt=\"Licencia Creative Commons\" style=\"border-width:0\" src=\"https://i.creativecommons.org/l/by/4.0/80x15.png\" /></a><br />Esta obra está bajo una <a rel=\"license\" href=\"http://creativecommons.org/licenses/by/4.0/\">Licencia Creative Commons Atribución 4.0 Internacional</a>.</p>\n",
    "<p style=\"text-align: center\">&copy; José Luis Chiquete Valdivieso. 2019.</p>"
   ]
  }
 ],
 "metadata": {
  "kernelspec": {
   "display_name": "Python 3",
   "language": "python",
   "name": "python3"
  },
  "language_info": {
   "codemirror_mode": {
    "name": "ipython",
    "version": 3
   },
   "file_extension": ".py",
   "mimetype": "text/x-python",
   "name": "python",
   "nbconvert_exporter": "python",
   "pygments_lexer": "ipython3",
   "version": "3.6.6"
  }
 },
 "nbformat": 4,
 "nbformat_minor": 2
}
