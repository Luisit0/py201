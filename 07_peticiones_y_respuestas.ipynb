{
 "cells": [
  {
   "cell_type": "markdown",
   "metadata": {},
   "source": [
    "[![imagenes/pythonista.png](imagenes/pythonista.png)](https://pythonista.io)"
   ]
  },
  {
   "cell_type": "markdown",
   "metadata": {},
   "source": [
    "# Peticiones y respuestas."
   ]
  },
  {
   "cell_type": "markdown",
   "metadata": {},
   "source": [
    "**ADVERTENCIA:**  \n",
    "\n",
    "Para poder realizar exitosamente los ejercicios de esta notebook, es necesario haber seguido al pie de la letra y en orden sucesivo las instrucciones de todas las notebooks previas."
   ]
  },
  {
   "cell_type": "markdown",
   "metadata": {},
   "source": [
    "## Sesiones.\n",
    "\n",
    "Si un cliente cuenta con las credenciales y los permisos adecuados, éste puede iniciar una sesión con un servidor. \n",
    "\n",
    "Una sesión consiste en intercambio de peticiones (equests) y respuestas (responses) entre un cliente y un servidor.\n",
    "\n",
    "**Nota:** En capítulos subsecuentes se estudiarán temas relacionados a la creación de sesiones seguras y a la autenticación de usuarios."
   ]
  },
  {
   "cell_type": "markdown",
   "metadata": {},
   "source": [
    "## El módulo ```django.http```.\n",
    "\n",
    "Este módulo contiene diversos recursos que permiten a *Django* desplegar servicios basados en el protocolo *HTTP*.\n",
    "\n",
    "* Contiene varias clases que permiten definir y capturar como si fueran excepciones diversos estados de *HTTP* distintos a ```200```.\n",
    "* Contiene a la clase ```django.http.HttpRequest```.\n",
    "* Contiene a la clase ```django.http.HttpResponse```.\n",
    "\n",
    "La referencia a estas clases puede ser consultada desde https://docs.djangoproject.com/en/2.2/ref/request-response/"
   ]
  },
  {
   "cell_type": "markdown",
   "metadata": {},
   "source": [
    "## Los objetos *request*.\n",
    "\n",
    "A los objetos instanciados de la clase ```django.http.HttpRequest```, se les conoce como *request*. Utilizaremos este término para referirnos a dichos objetos.\n",
    "\n",
    "* El estado de estos objetos contiene información acerca de la petición formulada desde un cliente.\n",
    "* Además, estos objetos cuentan con métodos que nos permiten facilitar el manejo de las peticiones.\n",
    "* *Django* ingresa un objeto *request* como el primer argumento de una función de vista."
   ]
  },
  {
   "cell_type": "markdown",
   "metadata": {},
   "source": [
    "### Atributos de los objetos *request*.\n",
    "\n",
    "* ```scheme```: el cual contiene una cadena de caracteres que describe el esquema de autenticación utilizado para la conexión conforme a la [*RFC7617*](https://tools.ietf.org/html/rfc7617). Generalmente es ```'http'``` o ```'https'```. \n",
    "* ```body```: el cual contiene datos que han sido enviados dentro de la petición en formato binario, como imágenes, videos, etc.\n",
    "* ```encoding```: el cual contiene una cadena de caracteres con los datos de codificación de la petición.\n",
    "* ```path```: el cual contiene una cadena de caracteres de la ruta del recurso en el servidor sin incluir el esquema o el dominio.\n",
    "* ```path_info```: ofrece información de la ruta capaz de ser procesada por diversos servidores web.\n",
    "* ```method```: el cual contiene una cadena de caracteres que indica el método utilizado para enviar la petición.\n",
    "* ```content_type```: el contiene una cadena de caracteres la cual indica el tipo de contenido de la petición. Los tipos MIME que pueden ser enviados pueden ser consultados en https://developer.mozilla.org/es/docs/Web/HTTP/Basics_of_HTTP/MIME_types.\n",
    "* ```resolver_match```: Contiene una cadena de caracteres con la *URL*.\n",
    "* ```content_params```: contiene un diccionario con la definición de tipo de contenido en formato ```clave:valor```.\n",
    "* ```COOKIES```: contiene un objeto ```dict``` con las cookies enviadas en la petición.\n",
    "* ```FILES```: contiene un diccionario con los datos de los archivos enviados en la petición.\n",
    "* ```META```: Contiene un objeto tipo ```dict``` con una serie de datos los cuales pueden ser consultados en https://docs.djangoproject.com/en/2.2/ref/request-response/#django.http.HttpRequest.META.\n",
    "* ```GET```: contiene un objeto de clase ```django.http.QueryDict``` con los parámetros enviados mediante el método ```GET```.\n",
    "* ```POST```: contiene un objeto de clase ```django.http.QueryDict``` con los parámetros enviados mediante el método ```POST```.\n",
    "\n",
    "Los principales métodos y particularidades de la clase ```django.http.HttpRequest```, así como la clase ```django.http.QueryDict``` se estudiarán en capítulos subsecuentes."
   ]
  },
  {
   "cell_type": "markdown",
   "metadata": {},
   "source": [
    "## La clase ```django.http.HttpResponse```.\n",
    "\n",
    "Existen diversos tipos de respuestas (responses) que *Django* puede enviar a un cliente. Sin embargo, casi todos los objetos *response* son instancias de subclases de ```django.http.HttpResponse```.\n",
    "\n",
    "Las funciones de vista deben de regresar objetos instanciados de dichas clases.\n",
    "\n",
    "La siguiente es la sintaxis para instanciar un objeto a partir de la clase  ```django.http.HttpResponse```:\n",
    "```\n",
    "django.http.HttpResponse(<contenido>)\n",
    "```"
   ]
  },
  {
   "cell_type": "markdown",
   "metadata": {},
   "source": [
    "### Atributos de la clase *django.http.HttpResponse*.\n",
    "\n",
    "* *content*\n",
    "* *charset*\n",
    "* *status_code*\n",
    "* *reason_phrase*\n",
    "* *streaming*\n",
    "* *closed*"
   ]
  },
  {
   "cell_type": "markdown",
   "metadata": {},
   "source": [
    "**Ejemplo:**\n",
    "\n",
    "El archivo *src/07/views.py*  contiene las funciones de vista:\n",
    "* *index()*,  la cual crea y regresa un objeto instanciado de *django.http.HttpResponse*.\n",
    "* *vista()* la cual regresa *None*."
   ]
  },
  {
   "cell_type": "code",
   "execution_count": null,
   "metadata": {},
   "outputs": [],
   "source": [
    "%cat src/07/views.py"
   ]
  },
  {
   "cell_type": "markdown",
   "metadata": {},
   "source": [
    "* La siguiente celda sustituirá al archivo *tutorial/main/views.py* por el archivo *src/07/views.py*."
   ]
  },
  {
   "cell_type": "code",
   "execution_count": null,
   "metadata": {},
   "outputs": [],
   "source": [
    "!cp src/07/views.py tutorial/main/views.py"
   ]
  },
  {
   "cell_type": "code",
   "execution_count": null,
   "metadata": {
    "scrolled": true
   },
   "outputs": [],
   "source": [
    "%cat tutorial/main/views.py"
   ]
  },
  {
   "cell_type": "markdown",
   "metadata": {},
   "source": [
    "* Inicie el servidor."
   ]
  },
  {
   "cell_type": "code",
   "execution_count": null,
   "metadata": {},
   "outputs": [],
   "source": [
    "%cd tutorial"
   ]
  },
  {
   "cell_type": "markdown",
   "metadata": {},
   "source": [
    "**ADVERTENCIAS:** \n",
    "\n",
    "* Al ejecutar la siguiente celda el servidor se inciará desde la notebook, por lo que para ejecutar cualquier otra celda es necesario interrumpir la ejecución del kernel.\n",
    "\n",
    "* Asegúrese que no haya otro servicio escuchando en el puerto *5000*."
   ]
  },
  {
   "cell_type": "code",
   "execution_count": null,
   "metadata": {
    "scrolled": false
   },
   "outputs": [],
   "source": [
    "! ./manage.py runserver 0.0.0.0:5000"
   ]
  },
  {
   "cell_type": "markdown",
   "metadata": {},
   "source": [
    "* Al acceder a [http://localhost:5000/main/vista](http://localhost:5000/main/vista) se mostrará el método usado por el cliente.\n",
    "* Al acceder a [http://localhost:5000/main/vista?nombre=jose](http://localhost:5000/main/vista?nombre=jose) se mostrará el método usado por el cliente."
   ]
  },
  {
   "cell_type": "markdown",
   "metadata": {},
   "source": [
    "## TAREA.\n",
    "\n",
    "Modifique la función *calificaciones()* del archivo *tutorial/main/views.py*  para que regrese un recurso en particular."
   ]
  },
  {
   "cell_type": "markdown",
   "metadata": {},
   "source": [
    "<p style=\"text-align: center\"><a rel=\"license\" href=\"http://creativecommons.org/licenses/by/4.0/\"><img alt=\"Licencia Creative Commons\" style=\"border-width:0\" src=\"https://i.creativecommons.org/l/by/4.0/80x15.png\" /></a><br />Esta obra está bajo una <a rel=\"license\" href=\"http://creativecommons.org/licenses/by/4.0/\">Licencia Creative Commons Atribución 4.0 Internacional</a>.</p>\n",
    "<p style=\"text-align: center\">&copy; José Luis Chiquete Valdivieso. 2019.</p>"
   ]
  }
 ],
 "metadata": {
  "kernelspec": {
   "display_name": "Python 3",
   "language": "python",
   "name": "python3"
  },
  "language_info": {
   "codemirror_mode": {
    "name": "ipython",
    "version": 3
   },
   "file_extension": ".py",
   "mimetype": "text/x-python",
   "name": "python",
   "nbconvert_exporter": "python",
   "pygments_lexer": "ipython3",
   "version": "3.6.8"
  }
 },
 "nbformat": 4,
 "nbformat_minor": 2
}
