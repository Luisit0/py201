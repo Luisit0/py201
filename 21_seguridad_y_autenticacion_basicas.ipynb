{
 "cells": [
  {
   "cell_type": "markdown",
   "metadata": {},
   "source": [
    "[![imagenes/pythonista.png](imagenes/pythonista.png)](https://pythonista.io)"
   ]
  },
  {
   "cell_type": "markdown",
   "metadata": {},
   "source": [
    "*Django* cuenta desde su instalación con un sistema simple de:\n",
    "\n",
    "* Gestión de usuarios.\n",
    "* Gestión de grupos.\n",
    "* Autenticación básica.\n",
    "* Gestión de sesiones.\n",
    "\n",
    "La documentación correspondiente puede ser consultada en https://docs.djangoproject.com/en/2.2/topics/auth/\n",
    "\n",
    "**Nota:** Los alcances de este curso sólo cubren los temas de gestión básica de usuarios y autenticación simple."
   ]
  },
  {
   "cell_type": "markdown",
   "metadata": {},
   "source": [
    "## Aplicaciones y middleware asociados."
   ]
  },
  {
   "cell_type": "markdown",
   "metadata": {},
   "source": [
    "Las aplicaciones instaladas para la gestión de usuarios y permisos son:\n",
    "* ```django.contrib.auth``` para la gestión de usuarios y grupos.\n",
    "* ```django.contrib.contenttypes``` para asignar permisoso a los modelos que cree el desarrollador."
   ]
  },
  {
   "cell_type": "markdown",
   "metadata": {},
   "source": [
    "El middleware que utliza Django por efecto es:\n",
    "\n",
    "* ```AuthenticationMiddleware```, el cual permite realizar la autenticación y autorización de acceso.\n",
    "* ```SessionMiddleware```, el cual gestiona las sesiones."
   ]
  },
  {
   "cell_type": "markdown",
   "metadata": {},
   "source": [
    "**Ejemplo:**"
   ]
  },
  {
   "cell_type": "code",
   "execution_count": null,
   "metadata": {},
   "outputs": [],
   "source": [
    "%pycat tutorial/tutorial/settings.py"
   ]
  },
  {
   "cell_type": "markdown",
   "metadata": {},
   "source": [
    "##  La clase  ```django.contrib.auth.models.User```.  \n",
    "\n",
    "Los usuarios y grupos en *Django* se crean mediante modelos predeterminados.\n",
    "\n",
    "* La clase ```django.contrib.auth.models.User``` es una subclase de  ```django.db..models.Model``` y corresponde al modelo básico de un usuario de *Django*. A partir de este momento se hará referencia a esta clase como  \"el modelo ```User```\"."
   ]
  },
  {
   "cell_type": "markdown",
   "metadata": {},
   "source": [
    "### El atributo de clase ```User.objects```.\n",
    "\n",
    "Al ser una subclase de ```django.db.models.Model```, el modelo ```User``` cuenta con el atributo de clase ```objects```, el cual puede realizar operaciones de consulta, altas y bajas de instancias mediante métodos como:\n",
    "\n",
    "* ```all()```.\n",
    "* ```get()```.\n",
    "* ```filter()```.\n",
    "\n",
    "#### El método ```User.objects.create_user()```.\n",
    "\n",
    "Este método permite crear la cuenta de un usuario y guardarla en la base de datos.\n",
    "\n",
    "```\n",
    " User.objects.create_user('<nombre de usuario>', '<correo electrónico>', '<contraseña>')\n",
    "```"
   ]
  },
  {
   "cell_type": "markdown",
   "metadata": {},
   "source": [
    "### Atributos de las instancias de  ```User```.\n",
    "\n",
    "Las instancias del modelo ```User``` cuenta con los siguientes atributos:\n",
    "\n",
    "* ```id```, el cual corresponde a un identificador numérico que *Django* le otorga al modelo cuando es instanciado.\n",
    "* ```username```, el cual corresponde al nombre de usuario. Este atributo es obligatorio para crear al modelo.\n",
    "* ```password```, el cual corresponde a la contraseña del usuario. Este atributo es obligatorio para crear al modelo.\n",
    "* ```first_name```, el cual corresponde al nombre del usuario.\n",
    "* ```last_name```, el cual corresponde al apellido del usuario.\n",
    "* ```email```, el cual corresponde a la dirección de correo electrónico del usuario.\n",
    "* ```is_superuser``` es un valor de tipo ```bool``` que indica si el usuario es in superusuario.\n",
    "* ```is_staff```  es un valor de tipo ```bool``` que indica si el usuario es parte del \"staff\" de la organización.\n",
    "* ```is_active``` es un valor de tipo ```bool``` que indica si el usuario está activo.\n",
    "* ```last_login``` es un valor de tipo ```datetime.datetime```con la fecha y hora del último acceso del usuario.\n",
    "* ```date_joined``` es un valor de tipo ```datetime.datetime```con la fecha y hora en la que el usuario fue creado."
   ]
  },
  {
   "cell_type": "markdown",
   "metadata": {},
   "source": [
    "## Creación de un superusuario con ```manage.py```.\n",
    "\n",
    "\n",
    "```\n",
    "manage.py createsuperuser --email=\"<correo electronico>\" --user=\"<usuario>\"\n",
    "```"
   ]
  },
  {
   "cell_type": "markdown",
   "metadata": {},
   "source": [
    "## Tablas asociadas a usuarios y grupos en la base de datos.\n",
    "\n",
    "La gestión de usuarios está ligada a varias tablas de la base de datos asociada a *Django*, la cuales fueron creadas al ejecutar el comando ```manage.py migrate```.\n",
    "\n",
    "Estas tablas tienen el prefijo ```auth_```:\n",
    "\n",
    "* ```auth_user```.\n",
    "* ```auth_group```.\n",
    "* ```auth_permission```.\n",
    "* ```auth_group_permissions```.\n",
    "* ```auth_user_groups```.\n",
    "* ```auth_user_user_permissions```.\n"
   ]
  },
  {
   "cell_type": "markdown",
   "metadata": {},
   "source": [
    "## El módulo ```django.contrib.auth.urls```.\n",
    "\n",
    "Este módulo define los siguientes patrones de *URL* predefinidos para gestionar los accesos de un usuario:\n",
    "\n",
    "* ```'login/'``` ingreso a la sesión de un usuario. \n",
    "* ```'logout/'``` salida de la sesión de un usuario.\n",
    "* ```'password_change/'```, la cual permite cambiar la contraseña de un usuario.\n",
    "* ```'password_reset/'```, la cual permite recuperar una contraseña.\n",
    "* ```'reset/<uid64>/<totken>'```, el cual perimite reiniciar a un usuario.\n",
    "* ```'password_change/done/'```.\n",
    "* ```'password_reset/done/'```.\n",
    "* ```'reset/done/'```.\n",
    "\n",
    "Para que estos patrones puedan ser accedidos es necesario incluir un patrón en el objeto ```urlpatterns``` del script ```urls.py``` del proyecto de la siguiente manera:\n",
    "\n",
    "```\n",
    " path('<ruta base>', include('django.contrib.auth.urls'))\n",
    "```\n",
    "\n",
    "* Donde ```<ruta base>``` corresponde a la ruta desde la cual se accederá a cada *URL* definida por ```django.contrib.auth.urls```. \n",
    "\n",
    "Con excepción de ```'login/'``` cada función de vista relacionada con cada patrón cuenta con una plantilla predefinida. Sin embargo, es posible crear plantillas a la medida.\n",
    "\n",
    "Pro defecto las *URLs* de este módulo buscarán las plantillas correspondientes en el directorio```registration/``` el cual se encuentras a su vez en el directorio definido para las plantillas del proyecto."
   ]
  },
  {
   "cell_type": "markdown",
   "metadata": {},
   "source": [
    "### Configuración de la función de la *URL* ```login/```\n",
    "\n",
    "En el caso de la *URL* ligada a la regla ```'login/'```, es necesario crear una plantilla en la ruta ```registration/login.html```, la cual permita enviar  el usuario y la contraseña.\n",
    "\n",
    "Un ejemplo de esta plantilla puede ser consultado en https://docs.djangoproject.com/en/2.2/topics/auth/default/#all-authentication-views."
   ]
  },
  {
   "cell_type": "markdown",
   "metadata": {},
   "source": [
    "### Redireccionamiento en caso de un ingreso correcto.\n",
    "\n",
    "Cuando las credenciales ingresadas y enviadas son correctas, *Django* redirigirá al navegador a la ruta ```'/accounts/profile/'```. \n",
    "\n",
    "Para indicar un redireccionamiento a una *URL* distinta es necesario definirla con el nombre ```LOGIN_REDIRECT_URL``` en el script ```settings.py``` del proyecto.\n",
    "\n",
    "```\n",
    "LOGIN_REDIRECT_URL = '<ruta>'\n",
    "```"
   ]
  },
  {
   "cell_type": "markdown",
   "metadata": {},
   "source": [
    "## Ejemplo ilustrativo."
   ]
  },
  {
   "cell_type": "markdown",
   "metadata": {},
   "source": [
    "### Definición del patrón de *URLs*.\n",
    "\n",
    "El archivo ```src/22/urls.py``` contiene la siguiente definición de  ```urlpatterns``` ligando al módulo ``` django.contrib.auth.urls``` con la ruta ```usuarios/```.\n",
    "\n",
    "```python\n",
    "urlpatterns = [path('admin/', admin.site.urls), \n",
    "               path('main/', include('main.urls')),\n",
    "               path('api/', include('api.urls')),\n",
    "               path('accounts/', include('django.contrib.auth.urls')),\n",
    "              ]\n",
    "```"
   ]
  },
  {
   "cell_type": "markdown",
   "metadata": {},
   "source": [
    "* Se sustituirá el scrpit ```tutorial/tutorial/urls.py``` con ```src/22/urls.py```."
   ]
  },
  {
   "cell_type": "markdown",
   "metadata": {},
   "source": [
    "* Para las platafomas GNU/Linux y MacOS X."
   ]
  },
  {
   "cell_type": "code",
   "execution_count": null,
   "metadata": {},
   "outputs": [],
   "source": [
    "!cp src/22/urls.py tutorial/tutorial/urls.py"
   ]
  },
  {
   "cell_type": "markdown",
   "metadata": {},
   "source": [
    "* Para la plataforma Windows."
   ]
  },
  {
   "cell_type": "code",
   "execution_count": null,
   "metadata": {},
   "outputs": [],
   "source": [
    "!copy src\\22\\urls.py tutorial\\tutorial\\urls.py"
   ]
  },
  {
   "cell_type": "markdown",
   "metadata": {},
   "source": [
    "* La siguiente celda desplegará el archivo sustituido."
   ]
  },
  {
   "cell_type": "code",
   "execution_count": null,
   "metadata": {},
   "outputs": [],
   "source": [
    "%pycat tutorial/tutorial/urls.py"
   ]
  },
  {
   "cell_type": "markdown",
   "metadata": {},
   "source": [
    "### Creación del subdirectorio ```registration/```.\n",
    "\n",
    "* La siguiente celda creará el directorio ```registration/``` dentro del directorio ```tutorial/templates```."
   ]
  },
  {
   "cell_type": "code",
   "execution_count": null,
   "metadata": {
    "scrolled": true
   },
   "outputs": [],
   "source": [
    "%mkdir tutorial/templates/registration"
   ]
  },
  {
   "cell_type": "markdown",
   "metadata": {},
   "source": [
    "### La plantilla ```registration/login.html```.\n",
    "\n",
    "La plantilla  ```src/22/login.html``` contiene el siguiente código:\n",
    "\n",
    "``` html\n",
    "{% extends \"base.html\" %}\n",
    "\n",
    "{% block cuerpo %}\n",
    "\n",
    "{% if form.errors %}\n",
    "  <p>Ingresó una contraseña incorrecta. Vuelva a intentar.</p>\n",
    "{% endif %}\n",
    "\n",
    "{% if next %}\n",
    "  {% if user.is_authenticated %}\n",
    "    <p>Su cuenta no tiene acceso a esta página. Vuelva a intentar con un usuario autorizado.</p>\n",
    "  {% else %}\n",
    "    <p>Por favor ingrese con usuario con los permisos adecuados.</p>\n",
    "  {% endif %}\n",
    "{% endif %}\n",
    "\n",
    "<form method=\"post\" action=\"{% url 'login' %}\">\n",
    "{% csrf_token %}\n",
    "<table>\n",
    "\n",
    "<tr>\n",
    "  <td>{{ form.username.label_tag }}</td>\n",
    "  <td>{{ form.username }}</td>\n",
    "</tr>\n",
    "\n",
    "<tr>\n",
    "  <td>{{ form.password.label_tag }}</td>\n",
    "  <td>{{ form.password }}</td>\n",
    "</tr>\n",
    "</table>\n",
    "\n",
    "<input type=\"submit\" value=\"login\" />\n",
    "<input type=\"hidden\" name=\"next\" value=\"{{ next }}\" />\n",
    "</form>\n",
    "\n",
    "{# Assumes you setup the password_reset view in your URLconf #}\n",
    "<p><a href=\"{% url 'password_reset' %}\">¿Perdió su contraseña?</a></p>\n",
    "\n",
    "{% endblock %}\n",
    "```"
   ]
  },
  {
   "cell_type": "code",
   "execution_count": null,
   "metadata": {},
   "outputs": [],
   "source": [
    "%cp src/22/login.html tutorial/templates/registration/"
   ]
  },
  {
   "cell_type": "code",
   "execution_count": null,
   "metadata": {},
   "outputs": [],
   "source": [
    "%copy src\\22\\login.html tutorial\\templates\\registration\\"
   ]
  },
  {
   "cell_type": "code",
   "execution_count": null,
   "metadata": {},
   "outputs": [],
   "source": [
    "%pycat tutorial/templates/registration/login.html"
   ]
  },
  {
   "cell_type": "markdown",
   "metadata": {},
   "source": [
    "### Configuración del redireccionamiento de ingreso exitoso.\n",
    "\n",
    "El script ```src/22/settings.py``` define a ```/api/``` como la ruta a la que el navegador será redirigido en caso de que el acceso sea exitoso.\n",
    "\n",
    "``` python\n",
    "LOGIN_REDIRECT_URL = '/api/'\n",
    "```"
   ]
  },
  {
   "cell_type": "markdown",
   "metadata": {},
   "source": [
    "* A continuación se sustituirá al script ```tutorial/tutorial/settings.py``` con ```src/22/settings.py```."
   ]
  },
  {
   "cell_type": "code",
   "execution_count": null,
   "metadata": {},
   "outputs": [],
   "source": [
    "%cp src/22/settings.py tutorial/tutorial/settings.py"
   ]
  },
  {
   "cell_type": "code",
   "execution_count": null,
   "metadata": {},
   "outputs": [],
   "source": [
    "%copy src\\22\\settings.py tutorial\\tutorial\\settings.py"
   ]
  },
  {
   "cell_type": "code",
   "execution_count": null,
   "metadata": {},
   "outputs": [],
   "source": [
    "%pycat tutorial/tutorial/settings.py"
   ]
  },
  {
   "cell_type": "markdown",
   "metadata": {},
   "source": [
    "* Se iniciará el servidor."
   ]
  },
  {
   "cell_type": "code",
   "execution_count": null,
   "metadata": {},
   "outputs": [],
   "source": [
    "%cd tutorial/"
   ]
  },
  {
   "cell_type": "markdown",
   "metadata": {},
   "source": [
    "**ADVERTENCIAS:** \n",
    "\n",
    "* Al ejecutar la siguiente celda el servidor se inciará desde la notebook, por lo que para ejecutar cualquier otra celda es necesario interrumpir la ejecución del kernel.\n",
    "\n",
    "* Asegúrese que no haya otro servicio escuchando en el puerto *5000*."
   ]
  },
  {
   "cell_type": "code",
   "execution_count": null,
   "metadata": {},
   "outputs": [],
   "source": [
    "!./manage.py runserver 0.0.0.0:5000"
   ]
  },
  {
   "cell_type": "markdown",
   "metadata": {},
   "source": [
    "<p style=\"text-align: center\"><a rel=\"license\" \n",
    "                                 href=\"http://creativecommons.org/licenses/by/4.0/\"><img alt=\"Licencia Creative Commons\" style=\"border-width:0\" src=\"https://i.creativecommons.org/l/by/4.0/80x15.png\" /></a><br />Esta obra está bajo una <a rel=\"license\" href=\"http://creativecommons.org/licenses/by/4.0/\">Licencia Creative Commons Atribución 4.0 Internacional</a>.</p>\n",
    "<p style=\"text-align: center\">&copy; José Luis Chiquete Valdivieso. 2019.</p>"
   ]
  }
 ],
 "metadata": {
  "kernelspec": {
   "display_name": "Python 3",
   "language": "python",
   "name": "python3"
  },
  "language_info": {
   "codemirror_mode": {
    "name": "ipython",
    "version": 3
   },
   "file_extension": ".py",
   "mimetype": "text/x-python",
   "name": "python",
   "nbconvert_exporter": "python",
   "pygments_lexer": "ipython3",
   "version": "3.7.3"
  }
 },
 "nbformat": 4,
 "nbformat_minor": 2
}
