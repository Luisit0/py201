{
 "cells": [
  {
   "cell_type": "markdown",
   "metadata": {},
   "source": [
    "[![imagenes/pythonista.png](imagenes/pythonista.png)](https://pythonista.io)"
   ]
  },
  {
   "cell_type": "markdown",
   "metadata": {},
   "source": [
    "En este capítulo se estudiarán los métodos más simples de operación de modelos en una base de datos. \n",
    "\n",
    "https://docs.djangoproject.com/en/2.1/topics/db/queries/"
   ]
  },
  {
   "cell_type": "markdown",
   "metadata": {},
   "source": [
    "```javascript\n",
    "[{\"numero_de_cuenta\": 1221, \"al_corriente\": false, \"carrera\": \"Arquitectura\", \"nombre\": \"Pedro\", \"primer_apellido\": \"Solis\", \"promedio\": 7.8, \"semestre\": 3, \"segundo_apellido\": \"Cabañas\"},\n",
    " {\"numero_de_cuenta\": 1222, \"al_corriente\": false, \"carrera\": \"Actuaría\", \"nombre\": \"Yolanda\", \"primer_apellido\": \"Jiménez\",  \"segundo_apellido\": \"Lerdo\", \"promedio\": 6, \"semestre\": 3},\n",
    " {\"numero_de_cuenta\": 1223, \"al_corriente\": true, \"carrera\": \"Sistemas\", \"nombre\": \"Juan\", \"primer_apellido\": \"Ramos\",  \"segundo_apellido\": \"Breña\", \"promedio\": 8.6, \"semestre\": 9}, \n",
    " {\"numero_de_cuenta\": 1224, \"al_corriente\": true, \"carrera\": \"Derecho\", \"nombre\": \"Mayra Jimena\", \"primer_apellido\": \"Cervantes\",  \"segundo_apellido\": \"Lisama\", \"promedio\": 9.2, \"semestre\": 12}]\n",
    "```"
   ]
  },
  {
   "cell_type": "code",
   "execution_count": null,
   "metadata": {
    "scrolled": true
   },
   "outputs": [],
   "source": [
    "import json"
   ]
  },
  {
   "cell_type": "code",
   "execution_count": null,
   "metadata": {
    "scrolled": true
   },
   "outputs": [],
   "source": [
    "with open('src/13/alumnos.json', 'tr') as archivo:\n",
    "    resultado = json.load(archivo)"
   ]
  },
  {
   "cell_type": "code",
   "execution_count": null,
   "metadata": {
    "scrolled": true
   },
   "outputs": [],
   "source": [
    "resultado"
   ]
  },
  {
   "cell_type": "markdown",
   "metadata": {},
   "source": []
  },
  {
   "cell_type": "code",
   "execution_count": null,
   "metadata": {
    "scrolled": true
   },
   "outputs": [],
   "source": [
    "%cd tutorial"
   ]
  },
  {
   "cell_type": "code",
   "execution_count": null,
   "metadata": {
    "scrolled": true
   },
   "outputs": [],
   "source": [
    "%cp ../src/13/alumnos.json alumnos.json"
   ]
  },
  {
   "cell_type": "code",
   "execution_count": null,
   "metadata": {
    "scrolled": true
   },
   "outputs": [],
   "source": [
    "!./manage.py startapp api"
   ]
  },
  {
   "cell_type": "code",
   "execution_count": null,
   "metadata": {
    "scrolled": true
   },
   "outputs": [],
   "source": [
    "! tree api"
   ]
  },
  {
   "cell_type": "markdown",
   "metadata": {},
   "source": [
    "``` python\n",
    "from django.contrib import admin\n",
    "from django.urls import include, path\n",
    "\n",
    "urlpatterns = [path('admin/', admin.site.urls), \n",
    "               path('main/', include('main.urls')),\n",
    "               path('api/', include('api.urls')),\n",
    "              ]\n",
    "``` "
   ]
  },
  {
   "cell_type": "code",
   "execution_count": null,
   "metadata": {
    "scrolled": true
   },
   "outputs": [],
   "source": [
    "%cp ../src/13/tutorial_urls.py tutorial/urls.py"
   ]
  },
  {
   "cell_type": "markdown",
   "metadata": {},
   "source": [
    "``` python\n",
    "INSTALLED_APPS = [\n",
    "    'django.contrib.admin',\n",
    "    'django.contrib.auth',\n",
    "    'django.contrib.contenttypes',\n",
    "    'django.contrib.sessions',\n",
    "    'django.contrib.messages',\n",
    "    'django.contrib.staticfiles',\n",
    "    'main',\n",
    "    'api',\n",
    "]\n",
    "```"
   ]
  },
  {
   "cell_type": "code",
   "execution_count": null,
   "metadata": {
    "scrolled": true
   },
   "outputs": [],
   "source": [
    "%cp ../src/13/settings.py tutorial/settings.py"
   ]
  },
  {
   "cell_type": "code",
   "execution_count": null,
   "metadata": {
    "scrolled": true
   },
   "outputs": [],
   "source": [
    "import tutorial.settings as settings"
   ]
  },
  {
   "cell_type": "code",
   "execution_count": null,
   "metadata": {
    "scrolled": false
   },
   "outputs": [],
   "source": [
    "settings.INSTALLED_APPS"
   ]
  },
  {
   "cell_type": "markdown",
   "metadata": {},
   "source": [
    "``` python\n",
    "from django.urls import path\n",
    "form . import views\n",
    "\n",
    "urlpatterns = [path('', views.vista),\n",
    "    path('carga', views.carga),]\n",
    "```"
   ]
  },
  {
   "cell_type": "code",
   "execution_count": null,
   "metadata": {
    "scrolled": true
   },
   "outputs": [],
   "source": [
    "%cp ../src/13/api_urls.py api/urls.py"
   ]
  },
  {
   "cell_type": "markdown",
   "metadata": {},
   "source": [
    "``` python\n",
    "from django.db import models\n",
    "\n",
    "class Alumno(models.Model):\n",
    "    numero_de_cuenta = models.PositiveIntegerField(unique=True)\n",
    "    nombre = models.CharField(max_length=50)\n",
    "    primer_apellido = models.CharField(max_length=50)\n",
    "    segundo_apellido = models.CharField(max_length=50)\n",
    "    carrera = models.CharField(max_length=20)\n",
    "    semestre = models.PositiveIntegerField()\n",
    "    promedio = models.FloatField()\n",
    "    al_corriente = models.BooleanField()\n",
    "```"
   ]
  },
  {
   "cell_type": "code",
   "execution_count": null,
   "metadata": {
    "scrolled": true
   },
   "outputs": [],
   "source": [
    "%cp ../src/13/models.py api/models.py"
   ]
  },
  {
   "cell_type": "markdown",
   "metadata": {},
   "source": [
    "``` python\n",
    "from . import models\n",
    "from django.http import JsonResponse\n",
    "import json\n",
    "\n",
    "campos = {'numero_de_cuenta':int, 'nombre':str, 'primer_apellido':str,\n",
    "          'segundo_apellido':str, 'carrera':str, 'semestre':int, 'promedio':float,\n",
    "          'al_corriente':bool}\n",
    "\n",
    "def carga(request):\n",
    "    with open('alumnos.json', 'tr') as archivo:\n",
    "        alumnos = json.load(archivo)\n",
    "    for registro in alumnos:\n",
    "        objeto = models.Alumno()\n",
    "        for campo in registro:\n",
    "            setattr(objeto, campo, registro[campo])\n",
    "        objeto.save()\n",
    "    return JsonResponse({'respuesta':alumnos})\n",
    "  \n",
    "    \n",
    "def vista(request):\n",
    "    return JsonResponse({'respuesta':[{campo:getattr(alumno, campo) for campo in campos} for alumno in models.Alumno.objects.all()]})\n",
    "```"
   ]
  },
  {
   "cell_type": "code",
   "execution_count": null,
   "metadata": {
    "scrolled": true
   },
   "outputs": [],
   "source": [
    "%cp ../src/13/views.py api/views.py"
   ]
  },
  {
   "cell_type": "code",
   "execution_count": null,
   "metadata": {
    "scrolled": true
   },
   "outputs": [],
   "source": [
    "! ./manage.py makemigrations"
   ]
  },
  {
   "cell_type": "code",
   "execution_count": null,
   "metadata": {
    "scrolled": true
   },
   "outputs": [],
   "source": [
    "! ./manage.py migrate"
   ]
  },
  {
   "cell_type": "code",
   "execution_count": null,
   "metadata": {
    "scrolled": true
   },
   "outputs": [],
   "source": [
    "! ./manage.py runserver 0.0.0.0:5000"
   ]
  },
  {
   "cell_type": "markdown",
   "metadata": {},
   "source": [
    "http://localhost:5000/api/carga\n",
    "\n",
    "http://localhost:5000/api/\n"
   ]
  },
  {
   "cell_type": "markdown",
   "metadata": {},
   "source": [
    "<p style=\"text-align: center\"><a rel=\"license\" href=\"http://creativecommons.org/licenses/by/4.0/\"><img alt=\"Licencia Creative Commons\" style=\"border-width:0\" src=\"https://i.creativecommons.org/l/by/4.0/80x15.png\" /></a><br />Esta obra está bajo una <a rel=\"license\" href=\"http://creativecommons.org/licenses/by/4.0/\">Licencia Creative Commons Atribución 4.0 Internacional</a>.</p>\n",
    "<p style=\"text-align: center\">&copy; José Luis Chiquete Valdivieso. 2019.</p>"
   ]
  }
 ],
 "metadata": {
  "kernelspec": {
   "display_name": "Python 3",
   "language": "python",
   "name": "python3"
  },
  "language_info": {
   "codemirror_mode": {
    "name": "ipython",
    "version": 3
   },
   "file_extension": ".py",
   "mimetype": "text/x-python",
   "name": "python",
   "nbconvert_exporter": "python",
   "pygments_lexer": "ipython3",
   "version": "3.6.6"
  }
 },
 "nbformat": 4,
 "nbformat_minor": 2
}
