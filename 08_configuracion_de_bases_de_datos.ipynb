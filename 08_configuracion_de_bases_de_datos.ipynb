{
 "cells": [
  {
   "cell_type": "markdown",
   "metadata": {},
   "source": [
    "[![imagenes/pythonista.png](imagenes/pythonista.png)](https://pythonista.io)"
   ]
  },
  {
   "cell_type": "markdown",
   "metadata": {},
   "source": [
    "**ADVERTENCIAS:** \n",
    "\n",
    "* Para poder realizar exitosamente los ejercicios de esta notebook, es necesario haber seguido al pie de la letra y en orden sucesivo las instrucciones de todas las notebooks previas.\n",
    "\n",
    "* Las configuraciones de las bases de datos utilizadas en este curso dan por sentado de que se están ejecutando en alguna de las  máquinas virtuales proporcionadas en el sitio de Pythonista<sup>®</sup>."
   ]
  },
  {
   "cell_type": "markdown",
   "metadata": {},
   "source": [
    "## Bases de datos soportadas por *Django*.\n",
    "\n",
    "El paquete *django.db.backends* contiene los artefactos o *engines* que *Django* puede utilizar para conectarse a las siguientes bases de datos.\n",
    "\n",
    "* *PostgreSQL*.\n",
    "* *MySQL*.\n",
    "* *Oracle*.\n",
    "* *SQLite*.\n",
    "\n",
    "**Nota:** Existen proyectos que pueden soportan la creación de modelos en bases de datos NoSQL, tales como [*djongo*](https://nesdis.github.io/djongo/), pero para este curso sólo se estudiarán las bases de datos relacionales soportadas por defecto."
   ]
  },
  {
   "cell_type": "markdown",
   "metadata": {},
   "source": [
    "**Ejemplo:**"
   ]
  },
  {
   "cell_type": "code",
   "execution_count": null,
   "metadata": {},
   "outputs": [],
   "source": [
    "from django.db import backends as backends"
   ]
  },
  {
   "cell_type": "code",
   "execution_count": null,
   "metadata": {},
   "outputs": [],
   "source": [
    "help(backends)"
   ]
  },
  {
   "cell_type": "markdown",
   "metadata": {},
   "source": [
    "## Configuración de la base de datos.\n",
    "\n",
    "Django siempre estará ligado a una base de datos desde su instalación.\n",
    "\n",
    "La confguración de las bases de datos a las que *Django* puede acceder se encuentran en la variable *DATABASES* del archivo *settings* del proyecto."
   ]
  },
  {
   "cell_type": "markdown",
   "metadata": {},
   "source": [
    "**Ejemplo:**\n",
    "\n",
    "* Se consultará la configuración de las bases de datos del proyecto localizado en el subdirectorio *tutorial*."
   ]
  },
  {
   "cell_type": "code",
   "execution_count": null,
   "metadata": {},
   "outputs": [],
   "source": [
    "import tutorial.tutorial.settings as settings"
   ]
  },
  {
   "cell_type": "code",
   "execution_count": null,
   "metadata": {
    "scrolled": true
   },
   "outputs": [],
   "source": [
    "settings.DATABASES"
   ]
  },
  {
   "cell_type": "markdown",
   "metadata": {},
   "source": [
    "* En este caso, la instalación de *Django* está utilizando un archivo que contiene una base de datos de [*SQLite*](https://www.sqlite.org)."
   ]
  },
  {
   "cell_type": "markdown",
   "metadata": {},
   "source": [
    "### Estructura del objeto *DATABASES*.\n",
    "\n",
    "El objeto database es de tipo *dict* y puede contener más de un acceso a base de datos conforme a la siguiente sintaxis.\n",
    "\n",
    "```\n",
    "DATABASE = {<dentificador 1>:{<argumentos de configuración>}, \n",
    "            <dentificador 2>:{<argumentos de configuración>},...\n",
    "            ...\n",
    "            <dentificador n>:{<argumentos de configuración>},} \n",
    "```\n",
    "La configuración de cada base de datos también corresponde a un objeto *dict*, ligado a un identificador. El identificador por defecto es *default*. "
   ]
  },
  {
   "cell_type": "markdown",
   "metadata": {},
   "source": [
    "### Parámetros de configuración de una base de datos.\n",
    "\n",
    "Los parámetros que definen la conexión de una base de datos pueden ser consultados en la siguiente liga:\n",
    "\n",
    "https://docs.djangoproject.com/en/2.1/ref/settings/#databases\n",
    "\n",
    "Los parámetros más comunes son los siguientes:\n",
    "\n",
    "* *'ENGINE'*': indica el módulo de *Django* que se utilizará, dependiendo de la base de datos de la que se trate.\n",
    "* *'NAME'*: indica el nombre de la base de datos.\n",
    "* *'USER'*: indica el usuario con acceso a los recursos de la base da datos.\n",
    "* *'PASSWORD'*: indica la contraseña del usuario con acceso a los recursos de la base da datos.\n",
    "* *'HOST*: Indica la URL en la que se encuentra escuchando el gestor de la base de datos.\n",
    "* *'PORT'*: Indica el puerto en el que se encuentra escuchando el gestor de la base de datos."
   ]
  },
  {
   "cell_type": "markdown",
   "metadata": {},
   "source": [
    "**Ejemplo:**\n",
    "\n",
    "* La siguiente configuración define 2 conexiones a bases de datos:\n",
    "    * *'default'* corresponde al acceso un gestor de  base de datos *SQLite* cuyo archivo se localliza en *tutorial/db.sqlite3*.\n",
    "    * *'pythonista'* corresponde a los datos de acceso a un gestor base de datos *MySQL* accediendo a la base con nombre *db_django*."
   ]
  },
  {
   "cell_type": "markdown",
   "metadata": {},
   "source": [
    "``` python\n",
    "{'default': {'ENGINE': 'django.db.backends.sqlite3',\n",
    "             'NAME': '/opt/pythonista/py231/tutorial/db.sqlite3'},\n",
    " 'pythonista': {'ENGINE': 'django.db.backends.mysql',\n",
    "                'NAME': 'db_django',\n",
    "                'USER': 'root',\n",
    "                'PASSWORD': '0p3n5t4ck',\n",
    "                'HOST': 'localhost',\n",
    "                'PORT': 3306},\n",
    "}\n",
    "```"
   ]
  },
  {
   "cell_type": "markdown",
   "metadata": {},
   "source": [
    "**ADVERTENCIA:** Esta configuración es meramente ilustrativa."
   ]
  },
  {
   "cell_type": "markdown",
   "metadata": {},
   "source": [
    "## Sincronizando las bases de datos.\n",
    "\n",
    "El subcomando *migrate* del gestos de *manage.py* permite dar de alta y sincronizar cada bases de datos a partir del indentificador definido en *settings.py*.\n",
    "\n",
    "``` bash\n",
    "./manage.py migrate --database= <identificador>\n",
    "```\n",
    "https://docs.djangoproject.com/en/2.1/topics/db/multi-db/"
   ]
  },
  {
   "cell_type": "code",
   "execution_count": 4,
   "metadata": {},
   "outputs": [
    {
     "name": "stdout",
     "output_type": "stream",
     "text": [
      "/opt/pythonista/py231/tutorial\n"
     ]
    }
   ],
   "source": [
    "%cd tutorial"
   ]
  },
  {
   "cell_type": "code",
   "execution_count": 11,
   "metadata": {},
   "outputs": [
    {
     "name": "stdout",
     "output_type": "stream",
     "text": [
      "\u001b[36;1mOperations to perform:\u001b[0m\n",
      "\u001b[1m  Apply all migrations: \u001b[0madmin, auth, contenttypes, sessions\n",
      "\u001b[36;1mRunning migrations:\u001b[0m\n",
      "  Applying contenttypes.0001_initial...\u001b[32;1m OK\u001b[0m\n",
      "  Applying auth.0001_initial...\u001b[32;1m OK\u001b[0m\n",
      "  Applying admin.0001_initial...\u001b[32;1m OK\u001b[0m\n",
      "  Applying admin.0002_logentry_remove_auto_add...\u001b[32;1m OK\u001b[0m\n",
      "  Applying admin.0003_logentry_add_action_flag_choices...\u001b[32;1m OK\u001b[0m\n",
      "  Applying contenttypes.0002_remove_content_type_name...\u001b[32;1m OK\u001b[0m\n",
      "  Applying auth.0002_alter_permission_name_max_length...\u001b[32;1m OK\u001b[0m\n",
      "  Applying auth.0003_alter_user_email_max_length...\u001b[32;1m OK\u001b[0m\n",
      "  Applying auth.0004_alter_user_username_opts...\u001b[32;1m OK\u001b[0m\n",
      "  Applying auth.0005_alter_user_last_login_null...\u001b[32;1m OK\u001b[0m\n",
      "  Applying auth.0006_require_contenttypes_0002...\u001b[32;1m OK\u001b[0m\n",
      "  Applying auth.0007_alter_validators_add_error_messages...\u001b[32;1m OK\u001b[0m\n",
      "  Applying auth.0008_alter_user_username_max_length...\u001b[32;1m OK\u001b[0m\n",
      "  Applying auth.0009_alter_user_last_name_max_length...\u001b[32;1m OK\u001b[0m\n",
      "  Applying sessions.0001_initial...\u001b[32;1m OK\u001b[0m\n"
     ]
    }
   ],
   "source": [
    "! ./manage.py migrate --database=default"
   ]
  },
  {
   "cell_type": "markdown",
   "metadata": {},
   "source": [
    "* A continuación se iniciará el servidor de *Django*."
   ]
  },
  {
   "cell_type": "markdown",
   "metadata": {},
   "source": [
    "**ADVERTENCIAS:** \n",
    "\n",
    "* Al ejecutar la siguiente celda el servidor se inciará desde la notebook, por lo que para ejecutar cualquier otra celda es necesario interrumpir la ejecución del kernel.\n",
    "\n",
    "* Asegúrese que no haya otro servicio escuchando en el puerto *5000*."
   ]
  },
  {
   "cell_type": "code",
   "execution_count": null,
   "metadata": {
    "scrolled": true
   },
   "outputs": [
    {
     "name": "stdout",
     "output_type": "stream",
     "text": [
      "Performing system checks...\n",
      "\n",
      "System check identified no issues (0 silenced).\n",
      "February 12, 2019 - 20:58:23\n",
      "Django version 2.1.5, using settings 'tutorial.settings'\n",
      "Starting development server at http://0.0.0.0:5000/\n",
      "Quit the server with CONTROL-C.\n"
     ]
    }
   ],
   "source": [
    "! ./manage.py runserver 0.0.0.0:5000"
   ]
  },
  {
   "cell_type": "markdown",
   "metadata": {},
   "source": [
    "* En las notebooks previas la ejecución del servidor indicaba ciertas advertencias. En este caso, dichas advertencias dejaron de presentarse debido a que se definió una conexión a una base de datos."
   ]
  },
  {
   "cell_type": "markdown",
   "metadata": {},
   "source": [
    "<p style=\"text-align: center\"><a rel=\"license\" href=\"http://creativecommons.org/licenses/by/4.0/\"><img alt=\"Licencia Creative Commons\" style=\"border-width:0\" src=\"https://i.creativecommons.org/l/by/4.0/80x15.png\" /></a><br />Esta obra está bajo una <a rel=\"license\" href=\"http://creativecommons.org/licenses/by/4.0/\">Licencia Creative Commons Atribución 4.0 Internacional</a>.</p>\n",
    "<p style=\"text-align: center\">&copy; José Luis Chiquete Valdivieso. 2019.</p>"
   ]
  }
 ],
 "metadata": {
  "kernelspec": {
   "display_name": "Python 3",
   "language": "python",
   "name": "python3"
  },
  "language_info": {
   "codemirror_mode": {
    "name": "ipython",
    "version": 3
   },
   "file_extension": ".py",
   "mimetype": "text/x-python",
   "name": "python",
   "nbconvert_exporter": "python",
   "pygments_lexer": "ipython3",
   "version": "3.6.6"
  }
 },
 "nbformat": 4,
 "nbformat_minor": 2
}
