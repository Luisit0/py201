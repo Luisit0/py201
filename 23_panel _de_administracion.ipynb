{
 "cells": [
  {
   "cell_type": "markdown",
   "metadata": {},
   "source": [
    "[![imagenes/pythonista.png](imagenes/pythonista.png)](https://pythonista.io)"
   ]
  },
  {
   "cell_type": "markdown",
   "metadata": {},
   "source": [
    "# Panel de administración.\n",
    "\n",
    "El panel de administración de Django es una herramienta muy poderosa que no sólo permite administrar usarios y grupos, sino que es capaz de administrar modelos."
   ]
  },
  {
   "cell_type": "markdown",
   "metadata": {},
   "source": [
    "## El paquete ```django.contrib import admin```.\n",
    "\n",
    "Este paquete contiene la biblioteca que gestiona la administración de modelos.\n",
    "\n",
    "https://docs.djangoproject.com/en/2.2/ref/contrib/admin"
   ]
  },
  {
   "cell_type": "code",
   "execution_count": 1,
   "metadata": {},
   "outputs": [],
   "source": [
    "from django.contrib import admin"
   ]
  },
  {
   "cell_type": "markdown",
   "metadata": {},
   "source": [
    "## Los scripts ```admin.py```.\n",
    "\n",
    "Cada aplicación de *Django* cuenta con un script llamado ```admin.py```, el cual permite definis los modelos que pueden ser gestionados desde el panel de administración."
   ]
  },
  {
   "cell_type": "markdown",
   "metadata": {},
   "source": [
    "**Ejemplo:**\n",
    "\n",
    "El script ```tutorial/api/admin.py``` fue creado junto con la aplicación ```api``` y contiene sólo lo siguiente:\n",
    "\n",
    "``` python\n",
    "from django.contrib import admin\n",
    "\n",
    "# Register your models here.\n",
    "```"
   ]
  },
  {
   "cell_type": "markdown",
   "metadata": {},
   "source": [
    "* La siguiente celda mostrará el contenido del script ```tutorial/api/admin.py```."
   ]
  },
  {
   "cell_type": "code",
   "execution_count": 3,
   "metadata": {},
   "outputs": [],
   "source": [
    "%pycat tutorial/api/admin.py"
   ]
  },
  {
   "cell_type": "markdown",
   "metadata": {},
   "source": [
    "## La función  ```django.contrib.admin.site.register()```.\n",
    "\n",
    "Esta función permite registrar los modelos que podrán ser gestionados desde el panel de administración.\n",
    "\n",
    "```\n",
    "from django.contrib.admin.site import register\n",
    "...\n",
    "...\n",
    "register(<modelo 1>, <modelo 2>, ... <modelo n>)\n",
    "```"
   ]
  },
  {
   "cell_type": "markdown",
   "metadata": {},
   "source": [
    "## Ejemplo ilustrativo."
   ]
  },
  {
   "cell_type": "markdown",
   "metadata": {},
   "source": [
    "## El script ```src/23/admin.py```.\n",
    "\n",
    "El script ```src/23/admin.py``` contiene el siguiente código.\n",
    "\n",
    "```python\n",
    "from django.contrib import admin\n",
    "from . import models import Alumno\n",
    "\n",
    "admin.register(Alumno)\n",
    "```"
   ]
  },
  {
   "cell_type": "markdown",
   "metadata": {},
   "source": [
    "* A continuación se sutituirá el script ```tutorial/api/admin.py``` con el script ```src/23/admin.py```."
   ]
  },
  {
   "cell_type": "markdown",
   "metadata": {},
   "source": [
    "* Para las plataformas Linux y MacOS X."
   ]
  },
  {
   "cell_type": "code",
   "execution_count": null,
   "metadata": {},
   "outputs": [],
   "source": [
    "!cp src/23/admin.py tutorial/api/admin.py"
   ]
  },
  {
   "cell_type": "markdown",
   "metadata": {},
   "source": [
    "* Para la plataforma Windows."
   ]
  },
  {
   "cell_type": "code",
   "execution_count": null,
   "metadata": {},
   "outputs": [],
   "source": [
    "!copy src\\23\\admin.py tutorial\\api\\admin.py"
   ]
  },
  {
   "cell_type": "code",
   "execution_count": null,
   "metadata": {},
   "outputs": [],
   "source": [
    "%pycat tutorial/api/admin.py"
   ]
  },
  {
   "cell_type": "markdown",
   "metadata": {},
   "source": [
    "## Arranque desde una terminal.\n",
    "\n",
    "* Desde una terminal diríjase al directorio ```tutorial```, en el cual se encuentra el script ```manage.py```.\n",
    "* Ejecute el siguiente comando:\n",
    "\n",
    "\n",
    "```\n",
    "python manage.py runserver 0.0.0.0:8000\n",
    "```\n",
    "\n",
    "**Nota:** \n",
    "Es necesario que el firewall de su equipo esté configurado para transmitir desde el puerto ```8000```. "
   ]
  },
  {
   "cell_type": "markdown",
   "metadata": {},
   "source": [
    "<p style=\"text-align: center\"><a rel=\"license\" href=\"http://creativecommons.org/licenses/by/4.0/\"><img alt=\"Licencia Creative Commons\" style=\"border-width:0\" src=\"https://i.creativecommons.org/l/by/4.0/80x15.png\" /></a><br />Esta obra está bajo una <a rel=\"license\" href=\"http://creativecommons.org/licenses/by/4.0/\">Licencia Creative Commons Atribución 4.0 Internacional</a>.</p>\n",
    "<p style=\"text-align: center\">&copy; José Luis Chiquete Valdivieso. 2019.</p>"
   ]
  }
 ],
 "metadata": {
  "kernelspec": {
   "display_name": "Python 3",
   "language": "python",
   "name": "python3"
  },
  "language_info": {
   "codemirror_mode": {
    "name": "ipython",
    "version": 3
   },
   "file_extension": ".py",
   "mimetype": "text/x-python",
   "name": "python",
   "nbconvert_exporter": "python",
   "pygments_lexer": "ipython3",
   "version": "3.7.3"
  }
 },
 "nbformat": 4,
 "nbformat_minor": 2
}
