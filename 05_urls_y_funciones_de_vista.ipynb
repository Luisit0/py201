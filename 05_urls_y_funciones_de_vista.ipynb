{
 "cells": [
  {
   "cell_type": "markdown",
   "metadata": {},
   "source": [
    "[![imagenes/pythonista.png](imagenes/pythonista.png)](https://pythonista.io)"
   ]
  },
  {
   "cell_type": "markdown",
   "metadata": {},
   "source": [
    "# Gestión de *URLs* y funciones de vista."
   ]
  },
  {
   "cell_type": "markdown",
   "metadata": {},
   "source": [
    "**ADVERTENCIA:** Es necesario haber creado previamente el proyecto definido en la notebook [```01_introduccion_a_django.ipynb```](01_introduccion_a_django.ipynb) localizado en el directorio [```tutorial```](tutorial)."
   ]
  },
  {
   "cell_type": "markdown",
   "metadata": {},
   "source": [
    "## *URLs* y funciones de vista.\n",
    "\n",
    "*Django* tiene la capacidad de identificar patrones específicos a partir de la *URL* a la que pretende acceder un cliente, de tal manera que puede crear una relación entre dicho patrón y una \"función de vista\".\n",
    "\n",
    "Una función de vista es aquella que recibe como primer argumento a un objeto ```request``` creado a partir de la petición enviada por un cliente y que a su vez regresa un objeto ```response``` al servidor de *Django* para que éste envié una respuesta al cliente que hizo la petición. \n",
    "\n",
    "Los objetos ```response```y ```request``` se estudiarán en capítulos próximos."
   ]
  },
  {
   "cell_type": "markdown",
   "metadata": {},
   "source": [
    "## Los scripts ```urls.py```.\n",
    "\n",
    "Estos scripts son usados por *Django* para relacionar una *URL* con una función de vista.\n",
    "\n",
    "Es posible desplegar scripts ```urls.py``` tanto para el proyecto como para cada aplicación."
   ]
  },
  {
   "cell_type": "markdown",
   "metadata": {},
   "source": [
    "### Configuración del archivo```urls.py``` de un proyecto.\n",
    "\n",
    "Los proyectos de *Django* siempre deben de hacer referencia a al menos un archivo ```urls.py``` el cual se importaría como un módulo y a partir del cual pueden ser mapeadas las *URLs* del proyecto y de sus aplicaciones.\n",
    "\n",
    "La localización de este archivo es definda con la variable ```ROOT_URLCONF``` del archivo ```settings.py``` del proyecto."
   ]
  },
  {
   "cell_type": "markdown",
   "metadata": {},
   "source": [
    "**Ejemplo:**\n",
    "\n",
    "* En caso de haber ejecutado correctamente todas las celdas de la notebook [```01_introduccion_a_django.ipynb```](01_introduccion_a_django.ipynb), la variable ```settings.ROOT_URLCONF``` indicaría que el script  ```'tutorial.urls'```"
   ]
  },
  {
   "cell_type": "code",
   "execution_count": null,
   "metadata": {},
   "outputs": [],
   "source": [
    "from tutorial.tutorial import settings"
   ]
  },
  {
   "cell_type": "code",
   "execution_count": null,
   "metadata": {},
   "outputs": [],
   "source": [
    "settings.ROOT_URLCONF"
   ]
  },
  {
   "cell_type": "markdown",
   "metadata": {},
   "source": [
    "### El script ```urls.py``` de un proyecto.\n",
    "\n",
    "El script ```urls.py``` del proyecto ```tutorial``` se localiza en ```tutorial/tutorial/urls.py``` y tiene un contenido similar al siguiente: \n",
    "\n",
    "``` python\n",
    "from django.contrib import admin\n",
    "from django.urls import path\n",
    "\n",
    "urlpatterns = [\n",
    "    path('admin/', admin.site.urls),\n",
    "]\n",
    "```\n",
    "\n"
   ]
  },
  {
   "cell_type": "markdown",
   "metadata": {},
   "source": [
    "* La siguiente celda desplegará el contenido del script ```tutorial/tutorial/urls.py``` el cual fue creado al momento en el que se creó el proyecto ```tutorial```."
   ]
  },
  {
   "cell_type": "code",
   "execution_count": null,
   "metadata": {
    "scrolled": true
   },
   "outputs": [],
   "source": [
    "%pycat tutorial/tutorial/urls.py"
   ]
  },
  {
   "cell_type": "markdown",
   "metadata": {},
   "source": [
    "* El código de este script realiza lo siguiente:\n",
    "\n",
    "    * Importa la función ```admin()``` del módulo ```django.contrib```.\n",
    "    * Importa la función ```path()``` del módulo ```django.urls.path```.\n",
    "    * Define al objeto tipo ```list``` con el nombre ```urlpatterns```."
   ]
  },
  {
   "cell_type": "markdown",
   "metadata": {},
   "source": [
    "## El paquete ```django.urls```.\n",
    "\n",
    "Este paquete contiene a las herramientas que permitirán identificar patrones de *URLs* específicas y ligarlas con  funciones de vista."
   ]
  },
  {
   "cell_type": "code",
   "execution_count": null,
   "metadata": {},
   "outputs": [],
   "source": [
    "import django.urls"
   ]
  },
  {
   "cell_type": "code",
   "execution_count": null,
   "metadata": {},
   "outputs": [],
   "source": [
    "help(django.urls)"
   ]
  },
  {
   "cell_type": "markdown",
   "metadata": {},
   "source": [
    "### La función ```django.urls.path()```.\n",
    "\n",
    "Esta función permite relacionar a un patrón de *URL* a una función.\n",
    "\n",
    "```\n",
    "django.urls.path('<patrón>', <función>, <kwargs>, name='<nombre>')\n",
    "```\n",
    "Donde:\n",
    "\n",
    "* ```<patrón>``` corresponde a un patrón de *URL*.\n",
    "* ```<función>``` corresponde a una función o  a un método que será invocado. \n",
    "* ```<kwargs>``` corresponde a argumentos ```clave=valor```.\n",
    "* ```<nombre>``` es el nombre que se le dará a esta relación (opcional).\n"
   ]
  },
  {
   "cell_type": "markdown",
   "metadata": {},
   "source": [
    "### La función ```django.urls.include()```.\n",
    "\n",
    "En los lenguajes de programación como en el caso de *C*, se utliza la palabra clave *include* cuando se desea importar algún módulo de forma similar a la palabra reservada de Python ```import```. \n",
    "\n",
    "En este caso, la función ```django.urls.include()``` permite importar un archivo con una estructura de un script ```urls.py``` localizado en otra ruta como si fuera un módulo dentro de un paquete.\n",
    "\n",
    "``` python\n",
    "django.urls.include('<patrón>', include('<módulo>')\n",
    "```\n",
    "\n",
    "Donde:\n",
    "\n",
    "* ```<patrón>``` corresponde a un patrón de *URL*.\n",
    "* ```<módulo>``` corresponde la localización de un módulo con la estructura de un script ```urls.py```. "
   ]
  },
  {
   "cell_type": "markdown",
   "metadata": {},
   "source": [
    "### La lista ```urlpatterns```.\n",
    "\n",
    "El nombre ```urlpatterns``` corresponde a un objeto de tipo ```list```, el cual puede contener una colección de funciones ```django.urls.path()```."
   ]
  },
  {
   "cell_type": "markdown",
   "metadata": {},
   "source": [
    "## La aplicación de administación de *Django*.\n",
    "\n",
    "Django cuenta con una aplicación de administración de sitios llamada (```admin```) la cual se encuentra en el paquete ```django.contrib```."
   ]
  },
  {
   "cell_type": "markdown",
   "metadata": {},
   "source": [
    "### El paquete ```django.contrib```.\n",
    "\n",
    "El paquete ```django.contrib``` es una biblioteca que contiene herramientas de uso común en el desarrollo de proyectos basados en *Django*.\n",
    "\n",
    "Para mayores referencias sobre el paquete ```django.contrib```, se puede consultar la siguiente liga: \n",
    "\n",
    "https://docs.djangoproject.com/en/2.2/ref/contrib/"
   ]
  },
  {
   "cell_type": "markdown",
   "metadata": {},
   "source": [
    "### El paquete ```django.contrib.admin```.\n",
    "\n",
    "Este paquete contiene un conjunto de herramientas capaces de desplegar una aplicación de administración de un proyecto de *Django*.\n",
    "\n",
    "La documentación de este paquete puede ser consultada en https://docs.djangoproject.com/en/2.2/ref/contrib/admin/\n",
    "\n",
    "**Notas:**\n",
    "* Aún cuando esta la aplicación de administración es habilitada automáticamente al momento en el que se crea un proyecto, puede ser un recurso opcional.\n",
    "* La aplicación de administración requiere que se definan usuarios con los roles y permisos correspondientes. Ese tema se verá en capítulos posteriores."
   ]
  },
  {
   "cell_type": "markdown",
   "metadata": {},
   "source": [
    "## Ejemplo ilustrativo sobre el uso de los scripts ```urls.py```.\n",
    "\n",
    "A continuación se crearán las reglas de patrones de *URLs* del proyecto ```tutorial``` y de la aplicación ```tutorial/main```."
   ]
  },
  {
   "cell_type": "markdown",
   "metadata": {},
   "source": [
    "### Configuración del archivo ```tutorial/tutorial/urls.py```.\n",
    "\n",
    "El archivo ```src/05/tutorial_urls.py``` contiene el siguiente código:\n",
    "\n",
    "``` python\n",
    "from django.contrib import admin\n",
    "from django.urls import include, path\n",
    "\n",
    "urlpatterns = [path('admin/', admin.site.urls), \n",
    "               path('main/', include('main.urls')),]\n",
    "```\n",
    "\n",
    "* El primer elemento de ```urlpatterns``` relaciona al patron de  *URL* ```admin/``` con la función ```admin.site.urls()```.\n",
    "* El segundo elemento de ```urlpatterns``` indica que es necesario importar el módulo ```main.urls``` para definir todas las *URLs* relativas a la ruta```main/```."
   ]
  },
  {
   "cell_type": "markdown",
   "metadata": {},
   "source": [
    "* La siguiente celda sustituirá al archivo ```tutorial/tutorial/urls.py``` con el archivo ```src/tutorial_urls.py```."
   ]
  },
  {
   "cell_type": "markdown",
   "metadata": {},
   "source": [
    "   * En entornos Linux y MacOS X."
   ]
  },
  {
   "cell_type": "code",
   "execution_count": null,
   "metadata": {
    "scrolled": true
   },
   "outputs": [],
   "source": [
    "!cp src/05/tutorial_urls.py tutorial/tutorial/urls.py"
   ]
  },
  {
   "cell_type": "markdown",
   "metadata": {},
   "source": [
    "  * En entornos Windows."
   ]
  },
  {
   "cell_type": "code",
   "execution_count": null,
   "metadata": {},
   "outputs": [],
   "source": [
    "!copy src\\05\\tutorial_urls.py tutorial\\tutorial\\urls.py"
   ]
  },
  {
   "cell_type": "markdown",
   "metadata": {},
   "source": [
    "* La siguiente celda desplegará los cambios en el archivo ```tutorial\\tutorial\\urls.py```."
   ]
  },
  {
   "cell_type": "code",
   "execution_count": null,
   "metadata": {},
   "outputs": [],
   "source": [
    "%pycat tutorial/tutorial/urls.py"
   ]
  },
  {
   "cell_type": "markdown",
   "metadata": {},
   "source": [
    "### Configuración del archivo ```tutorial/main/urls.py```.\n",
    "\n",
    "En vista de que ```tutorial/tutorial/urls.py``` cargará como módulo el contenido de \n",
    "```tutorial/main/urls.py``` es necesario que el archivo de referencia exista.\n",
    "\n",
    "El archivo ```src/05/main_urls.py``` contiene el siguiente código:\n",
    "\n",
    "``` python\n",
    "from django.urls import path\n",
    "from . import views\n",
    "\n",
    "urlpatterns = [path('', views.index, name=\"inicio\"), \n",
    "               path('vista', views.vista)]\n",
    "```\n",
    "\n",
    "Este código indica lo siguiente: \n",
    "\n",
    "* Importar la función ```django.urls.path()```.\n",
    "* Importar el módulo ```views``` localizado en el mismo directorio donde se encuentra el archivo ```tutorial/main/urls.py``` (denotado por el punto ```.```). \n",
    "* La lista ```urlpatterns``` definen dos patrones de rutas:\n",
    "   * La ruta de ```main/```, la cual se denota por una cadena de caracteres vacía ```''```, ligándola a la función ```views.index()```.\n",
    "   * La ruta de ```main/vista```, la cual se denota por una cadena de caracteres ```'vista'```, ligándola a la función ```views.vista()```."
   ]
  },
  {
   "cell_type": "markdown",
   "metadata": {},
   "source": [
    "* La siguiente celda copiará el archivo ```src/05/main_urls.py``` a ```tutorial/main/urls.py```."
   ]
  },
  {
   "cell_type": "markdown",
   "metadata": {},
   "source": [
    "* En entornos Linux y MacOS X."
   ]
  },
  {
   "cell_type": "code",
   "execution_count": null,
   "metadata": {
    "scrolled": true
   },
   "outputs": [],
   "source": [
    "!cp src/05/main_urls.py tutorial/main/urls.py"
   ]
  },
  {
   "cell_type": "markdown",
   "metadata": {},
   "source": [
    "  * En entornos Windows."
   ]
  },
  {
   "cell_type": "code",
   "execution_count": null,
   "metadata": {},
   "outputs": [],
   "source": [
    "!copy src\\05\\main_urls.py tutorial\\main\\urls.py"
   ]
  },
  {
   "cell_type": "markdown",
   "metadata": {},
   "source": [
    "* La siguiente celda desplegará los cambios en el archivo ```tutorial\\main\\urls.py```."
   ]
  },
  {
   "cell_type": "code",
   "execution_count": null,
   "metadata": {},
   "outputs": [],
   "source": [
    "%pycat tutorial/main/urls.py"
   ]
  },
  {
   "cell_type": "markdown",
   "metadata": {},
   "source": [
    "## Mapeo de patrones de *URLs* con funciones de vista.\n",
    "\n",
    "Una vez que un cliente envía una petición a una *URL* gestionada por el servidor de *Django* ocurre lo siguiente:\n",
    "\n",
    "* El servidor verifica que la *URL* coincida con alguno de los patrones definidos en los archivos ```urls.py```. \n",
    "* En caso de que exista una coincidencia, se ejecutará la función de vista correspondiente de la siguiente forma:\n",
    "    * Ingresando un objeto ```request``` como primer argumento. \n",
    "    * La función deberá de regresar un objeto ```response```. Dicho objeto será utilizado como base para que el servidor transmita una respuesta al cliente que hizo la petición.\n",
    "* En caso de que no exista un patrón que coincida con la *URL* de la petición, se gestionará un código de estado ```404```."
   ]
  },
  {
   "cell_type": "markdown",
   "metadata": {},
   "source": [
    "## Los scripts *views.py*.\n",
    "\n",
    "*Django* define en su estructura de archivos ```views.py```, los cuales contienen a las funciones de vista que gestionarán las peticiones hechas a las *URLs* a las que están ligadas."
   ]
  },
  {
   "cell_type": "markdown",
   "metadata": {},
   "source": [
    "**Ejemplo:**\n",
    "\n",
    "El archivo ```tutorial/main/views.py``` es referido como un módulo en el archivo ```tutorial/main/urls.py```.\n",
    "\n",
    "Hasta el momento, este archivo no contiene ninguna función."
   ]
  },
  {
   "cell_type": "markdown",
   "metadata": {},
   "source": [
    "* La siguiente celda desplegará el contenido del script ```tutorial/main/views.py```."
   ]
  },
  {
   "cell_type": "code",
   "execution_count": null,
   "metadata": {
    "scrolled": true
   },
   "outputs": [],
   "source": [
    "%pycat tutorial/main/views.py"
   ]
  },
  {
   "cell_type": "markdown",
   "metadata": {},
   "source": [
    "## Ejemplo ilustrativo sobre los scripts ```view.py```."
   ]
  },
  {
   "cell_type": "markdown",
   "metadata": {},
   "source": [
    "### El script ```tutorial/main/views.py```.\n",
    "\n",
    "Este script contiene las funciones de vista habilitadas para la aplicación ```main``` del proyecto ```tutorial```."
   ]
  },
  {
   "cell_type": "markdown",
   "metadata": {},
   "source": [
    "El archivo ```src/05/views.py``` contiene lo siguiente:\n",
    "\n",
    "``` python\n",
    "from django.http import HttpResponse\n",
    "\n",
    "# Create your views here.\n",
    "def index(request):\n",
    "    return HttpResponse(\"<h1>Hola, mundo.</h1>\")\n",
    "\n",
    "def vista(request):\n",
    "    pass\n",
    "```\n",
    "\n",
    "Este código realiza lo siguiente:\n",
    "\n",
    "* Importa la clase ```HttpResponse``` desde el módulo ```django.http```, la cual es la clase base de los objetos ```response```.\n",
    "* Define la función de vista ```index()```, la cual regresa un objeto ```response``` conteniendo código en *HTML*.\n",
    "* Define la función de vista ```vista()```, la cual regresa ```None```.\n"
   ]
  },
  {
   "cell_type": "markdown",
   "metadata": {},
   "source": [
    "* La siguiente celda sustituirá al archivo ```tutorial/main/views.py``` con el archivo ```src/05/views.py```."
   ]
  },
  {
   "cell_type": "markdown",
   "metadata": {},
   "source": [
    "* En entornos Linux o MacOS X."
   ]
  },
  {
   "cell_type": "code",
   "execution_count": null,
   "metadata": {},
   "outputs": [],
   "source": [
    "!cp src/05/views.py tutorial/main/views.py"
   ]
  },
  {
   "cell_type": "markdown",
   "metadata": {},
   "source": [
    "* En entornos Windows."
   ]
  },
  {
   "cell_type": "code",
   "execution_count": null,
   "metadata": {},
   "outputs": [],
   "source": [
    "!copy src\\05\\views.py tutorial\\main\\views.py"
   ]
  },
  {
   "cell_type": "markdown",
   "metadata": {},
   "source": [
    "* La siguiente celda desplegará los cambios en el script ```tutorial/main/views.py```."
   ]
  },
  {
   "cell_type": "code",
   "execution_count": null,
   "metadata": {},
   "outputs": [],
   "source": [
    "%pycat tutorial/main/views.py"
   ]
  },
  {
   "cell_type": "markdown",
   "metadata": {},
   "source": [
    "## Arranque desde una terminal.\n",
    "\n",
    "* Desde una terminal diríjase al directorio ```tutorial```, en el cual se encuentra el script ```manage.py```.\n",
    "* Ejecute el siguiente comando:\n",
    "\n",
    "\n",
    "```\n",
    "python manage.py runserver 0.0.0.0:8000\n",
    "```\n",
    "\n",
    "**Nota:** \n",
    "Es necesario que el firewall de su equipo esté configurado para transmitir desde el puerto ```8000```. "
   ]
  },
  {
   "cell_type": "markdown",
   "metadata": {},
   "source": [
    "## Resultados."
   ]
  },
  {
   "cell_type": "markdown",
   "metadata": {},
   "source": [
    "### La ruta ```/main/```.\n",
    "\n",
    "Al acceder a http://localhost:8000/main/ aparecerá un mensaje de encabezado desplegando ```Hola, mundo.```.\n",
    "\n",
    "El navegador desplegará algo similar a la siguiente imagen:\n",
    "\n",
    "<img src=\"imagenes/05/hola.png\" width=\"400px\">"
   ]
  },
  {
   "cell_type": "markdown",
   "metadata": {},
   "source": [
    "### La ruta ```/main/vista```.\n",
    "\n",
    "Al acceder a http://localhost:8000/main/vista se mostrará un mensaje de error en vista de que el objeto que regresa la función ```tutorial.main.views.vista()``` no regresa un objeto ```response```. Debido a que *Django* está configurado en modo de depuración, desplegará los detalles del error de ejecución.\n",
    "\n",
    "El navegador desplegará algo similar a la siguiente imagen:\n",
    "\n",
    "\n",
    "<img src=\"imagenes/05/error.png\" width=\"600px\">"
   ]
  },
  {
   "cell_type": "markdown",
   "metadata": {},
   "source": [
    "### Rutas no definidas.\n",
    "\n",
    "* Al acceder a cualquier otra *URL* distinta a las indicadas, se mostrará un mensaje de estado ```404```.  Debido a que *Django* está configurado en modo de depuracion, desplegará los detalles y los patrones de ```URL``` válidos.\n",
    "\n",
    "El navegador desplegará algo similar a la siguiente imagen:\n",
    "\n",
    "<img src=\"imagenes/05/404.png\" width=\"600px\">"
   ]
  },
  {
   "cell_type": "markdown",
   "metadata": {},
   "source": [
    "<p style=\"text-align: center\"><a rel=\"license\" href=\"http://creativecommons.org/licenses/by/4.0/\"><img alt=\"Licencia Creative Commons\" style=\"border-width:0\" src=\"https://i.creativecommons.org/l/by/4.0/80x15.png\" /></a><br />Esta obra está bajo una <a rel=\"license\" href=\"http://creativecommons.org/licenses/by/4.0/\">Licencia Creative Commons Atribución 4.0 Internacional</a>.</p>\n",
    "<p style=\"text-align: center\">&copy; José Luis Chiquete Valdivieso. 2019.</p>"
   ]
  }
 ],
 "metadata": {
  "kernelspec": {
   "display_name": "Python 3",
   "language": "python",
   "name": "python3"
  },
  "language_info": {
   "codemirror_mode": {
    "name": "ipython",
    "version": 3
   },
   "file_extension": ".py",
   "mimetype": "text/x-python",
   "name": "python",
   "nbconvert_exporter": "python",
   "pygments_lexer": "ipython3",
   "version": "3.7.3"
  }
 },
 "nbformat": 4,
 "nbformat_minor": 2
}
