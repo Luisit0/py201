{
 "cells": [
  {
   "cell_type": "markdown",
   "metadata": {},
   "source": [
    "[![imagenes/pythonista.png](imagenes/pythonista.png)](https://pythonista.io)"
   ]
  },
  {
   "cell_type": "code",
   "execution_count": 1,
   "metadata": {},
   "outputs": [],
   "source": [
    "import requests"
   ]
  },
  {
   "cell_type": "code",
   "execution_count": 2,
   "metadata": {},
   "outputs": [],
   "source": [
    "respuesta = requests.get(\"http://localhost:8000/api/\")"
   ]
  },
  {
   "cell_type": "code",
   "execution_count": 3,
   "metadata": {},
   "outputs": [
    {
     "data": {
      "text/plain": [
       "200"
      ]
     },
     "execution_count": 3,
     "metadata": {},
     "output_type": "execute_result"
    }
   ],
   "source": [
    "respuesta.status_code"
   ]
  },
  {
   "cell_type": "code",
   "execution_count": 4,
   "metadata": {},
   "outputs": [
    {
     "data": {
      "text/plain": [
       "{'respuesta': [{'numero_de_cuenta': 1221,\n",
       "   'nombre': 'Pedro',\n",
       "   'primer_apellido': 'Solis',\n",
       "   'segundo_apellido': 'Cabañas',\n",
       "   'carrera': 'Arquitectura',\n",
       "   'semestre': 3,\n",
       "   'promedio': 7.8,\n",
       "   'al_corriente': False},\n",
       "  {'numero_de_cuenta': 1222,\n",
       "   'nombre': 'Yolanda',\n",
       "   'primer_apellido': 'Jiménez',\n",
       "   'segundo_apellido': 'Lerdo',\n",
       "   'carrera': 'Actuaría',\n",
       "   'semestre': 3,\n",
       "   'promedio': 6.0,\n",
       "   'al_corriente': False},\n",
       "  {'numero_de_cuenta': 1223,\n",
       "   'nombre': 'Ulises',\n",
       "   'primer_apellido': 'Ramos',\n",
       "   'segundo_apellido': 'Breña',\n",
       "   'carrera': 'Sistemas',\n",
       "   'semestre': 9,\n",
       "   'promedio': 8.6,\n",
       "   'al_corriente': True},\n",
       "  {'numero_de_cuenta': 1224,\n",
       "   'nombre': 'Mayra Jimena',\n",
       "   'primer_apellido': 'Cervantes',\n",
       "   'segundo_apellido': 'Lisama',\n",
       "   'carrera': 'Derecho',\n",
       "   'semestre': 12,\n",
       "   'promedio': 9.2,\n",
       "   'al_corriente': True}]}"
      ]
     },
     "execution_count": 4,
     "metadata": {},
     "output_type": "execute_result"
    }
   ],
   "source": [
    "respuesta.json()"
   ]
  },
  {
   "cell_type": "code",
   "execution_count": 10,
   "metadata": {},
   "outputs": [],
   "source": [
    "respuesta = requests.get(\"http://localhost:8000/api/1223\")"
   ]
  },
  {
   "cell_type": "code",
   "execution_count": 9,
   "metadata": {},
   "outputs": [
    {
     "data": {
      "text/plain": [
       "404"
      ]
     },
     "execution_count": 9,
     "metadata": {},
     "output_type": "execute_result"
    }
   ],
   "source": [
    "respuesta.status_code"
   ]
  },
  {
   "cell_type": "code",
   "execution_count": 7,
   "metadata": {},
   "outputs": [
    {
     "data": {
      "text/plain": [
       "{'numero_de_cuenta': 1223,\n",
       " 'nombre': 'Ulises',\n",
       " 'primer_apellido': 'Ramos',\n",
       " 'segundo_apellido': 'Breña',\n",
       " 'carrera': 'Sistemas',\n",
       " 'semestre': 9,\n",
       " 'promedio': 8.6,\n",
       " 'al_corriente': True}"
      ]
     },
     "execution_count": 7,
     "metadata": {},
     "output_type": "execute_result"
    }
   ],
   "source": [
    "respuesta.json()"
   ]
  },
  {
   "cell_type": "code",
   "execution_count": 30,
   "metadata": {},
   "outputs": [],
   "source": [
    "datos ={'nombre':'Julian', 'primer_apellido':'Pérez',\n",
    "        'carrera':'Arquitectura', 'semestre':1, 'promedio':8, 'al_corriente':True,}"
   ]
  },
  {
   "cell_type": "code",
   "execution_count": 31,
   "metadata": {},
   "outputs": [],
   "source": [
    "respuesta = requests.post(\"http://localhost:8000/api/1228\", data=datos)"
   ]
  },
  {
   "cell_type": "code",
   "execution_count": 32,
   "metadata": {},
   "outputs": [
    {
     "data": {
      "text/plain": [
       "200"
      ]
     },
     "execution_count": 32,
     "metadata": {},
     "output_type": "execute_result"
    }
   ],
   "source": [
    "respuesta.status_code"
   ]
  },
  {
   "cell_type": "code",
   "execution_count": 33,
   "metadata": {},
   "outputs": [
    {
     "data": {
      "text/plain": [
       "{'nombre': 'Julian',\n",
       " 'primer_apellido': 'Pérez',\n",
       " 'carrera': 'Arquitectura',\n",
       " 'semestre': '1',\n",
       " 'promedio': '8',\n",
       " 'al_corriente': 'True',\n",
       " 'numero_de_cuenta': '1228',\n",
       " 'segundo_apellido': ''}"
      ]
     },
     "execution_count": 33,
     "metadata": {},
     "output_type": "execute_result"
    }
   ],
   "source": [
    "respuesta.json()"
   ]
  },
  {
   "cell_type": "code",
   "execution_count": 34,
   "metadata": {},
   "outputs": [],
   "source": [
    "respuesta = requests.delete(\"http://localhost:8000/api/1224\")"
   ]
  },
  {
   "cell_type": "code",
   "execution_count": 35,
   "metadata": {},
   "outputs": [
    {
     "data": {
      "text/plain": [
       "200"
      ]
     },
     "execution_count": 35,
     "metadata": {},
     "output_type": "execute_result"
    }
   ],
   "source": [
    "respuesta.status_code"
   ]
  },
  {
   "cell_type": "code",
   "execution_count": 36,
   "metadata": {},
   "outputs": [
    {
     "data": {
      "text/plain": [
       "{'estado': 'eliminado'}"
      ]
     },
     "execution_count": 36,
     "metadata": {},
     "output_type": "execute_result"
    }
   ],
   "source": [
    "respuesta.json()"
   ]
  },
  {
   "cell_type": "markdown",
   "metadata": {},
   "source": [
    "<p style=\"text-align: center\"><a rel=\"license\" href=\"http://creativecommons.org/licenses/by/4.0/\"><img alt=\"Licencia Creative Commons\" style=\"border-width:0\" src=\"https://i.creativecommons.org/l/by/4.0/80x15.png\" /></a><br />Esta obra está bajo una <a rel=\"license\" href=\"http://creativecommons.org/licenses/by/4.0/\">Licencia Creative Commons Atribución 4.0 Internacional</a>.</p>\n",
    "<p style=\"text-align: center\">&copy; José Luis Chiquete Valdivieso. 2019.</p>"
   ]
  }
 ],
 "metadata": {
  "kernelspec": {
   "display_name": "Python 3",
   "language": "python",
   "name": "python3"
  },
  "language_info": {
   "codemirror_mode": {
    "name": "ipython",
    "version": 3
   },
   "file_extension": ".py",
   "mimetype": "text/x-python",
   "name": "python",
   "nbconvert_exporter": "python",
   "pygments_lexer": "ipython3",
   "version": "3.6.9"
  }
 },
 "nbformat": 4,
 "nbformat_minor": 2
}
