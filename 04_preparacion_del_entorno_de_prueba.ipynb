{
 "cells": [
  {
   "cell_type": "markdown",
   "metadata": {},
   "source": [
    "[![imagenes/pythonista.png](imagenes/pythonista.png)](https://pythonista.io)"
   ]
  },
  {
   "cell_type": "markdown",
   "metadata": {},
   "source": [
    "## El archivo *settings.py*.\n",
    "\n",
    "**Nota:** Es necesario haber creado el proyecto localizado en el directorio [tutorial](tutorial).\n",
    "\n",
    "La configuración básica de un proyecto de Django se encuentra en un archivo de Python llamado *settings.py* \n",
    "\n",
    "En el caso del proyecto creado en la notebook [02_introduccion_a_django.ipynb](02_introduccion_a_django.ipynb), dicho arcivo se encuentra en [tutorial/tutorial/settings.py](tutorial/tutorial/settings.py)"
   ]
  },
  {
   "cell_type": "markdown",
   "metadata": {},
   "source": [
    "**Ejemplo:**\n",
    "\n",
    "* La siguiente celda contiene el comando mágico de Jupyter *%pycat*, el cual permite ver el contenido de un archivo de Python en una ventana."
   ]
  },
  {
   "cell_type": "code",
   "execution_count": 2,
   "metadata": {},
   "outputs": [],
   "source": [
    "%pycat tutorial/tutorial/settings.py"
   ]
  },
  {
   "cell_type": "markdown",
   "metadata": {},
   "source": [
    "Este archivo debe de ser modificado conforme a los requerimientos del proyecto.\n",
    "\n",
    "Todas las opciones disponibles para la configuración de *Django* están disponibles en https://docs.djangoproject.com/en/2.1/ref/settings."
   ]
  },
  {
   "cell_type": "markdown",
   "metadata": {},
   "source": [
    "## La base de datos del proyecto.\n",
    "\n",
    "En el caso del proyecto actual, se utilizará [SQLite](https://www.sqlite.org/index.html) y el archivo correspondiente a la base de datos se localiza en *tutoria/db.sqlite3*.\n",
    "\n",
    "Para saber más sobre SQLite, es posible consultar el tutorial localizado en http://www.sqlitetutorial.net/."
   ]
  },
  {
   "cell_type": "markdown",
   "metadata": {},
   "source": [
    "## Middleware.\n",
    "\n",
    "https://docs.djangoproject.com/en/1.10/ref/middleware/#module-django.middleware"
   ]
  },
  {
   "cell_type": "markdown",
   "metadata": {},
   "source": [
    "## El módulo *settings*."
   ]
  },
  {
   "cell_type": "code",
   "execution_count": null,
   "metadata": {},
   "outputs": [],
   "source": [
    "%cd tutorial"
   ]
  },
  {
   "cell_type": "code",
   "execution_count": 6,
   "metadata": {},
   "outputs": [],
   "source": [
    "import tutorial.settings as settings"
   ]
  },
  {
   "cell_type": "code",
   "execution_count": 7,
   "metadata": {},
   "outputs": [
    {
     "data": {
      "text/plain": [
       "['ALLOWED_HOSTS',\n",
       " 'AUTH_PASSWORD_VALIDATORS',\n",
       " 'BASE_DIR',\n",
       " 'DATABASES',\n",
       " 'DEBUG',\n",
       " 'INSTALLED_APPS',\n",
       " 'LANGUAGE_CODE',\n",
       " 'MIDDLEWARE',\n",
       " 'ROOT_URLCONF',\n",
       " 'SECRET_KEY',\n",
       " 'STATIC_URL',\n",
       " 'TEMPLATES',\n",
       " 'TIME_ZONE',\n",
       " 'USE_I18N',\n",
       " 'USE_L10N',\n",
       " 'USE_TZ',\n",
       " 'WSGI_APPLICATION',\n",
       " '__builtins__',\n",
       " '__cached__',\n",
       " '__doc__',\n",
       " '__file__',\n",
       " '__loader__',\n",
       " '__name__',\n",
       " '__package__',\n",
       " '__spec__',\n",
       " 'os']"
      ]
     },
     "execution_count": 7,
     "metadata": {},
     "output_type": "execute_result"
    }
   ],
   "source": [
    "dir(settings)"
   ]
  },
  {
   "cell_type": "markdown",
   "metadata": {},
   "source": [
    "## Despliegue en producción.\n",
    "\n",
    "https://docs.djangoproject.com/en/2.1/howto/deployment/checklist/"
   ]
  },
  {
   "cell_type": "code",
   "execution_count": 1,
   "metadata": {},
   "outputs": [
    {
     "name": "stdout",
     "output_type": "stream",
     "text": [
      "/opt/pythonista/py231/tutorial\n"
     ]
    }
   ],
   "source": [
    "%cd tutorial"
   ]
  },
  {
   "cell_type": "markdown",
   "metadata": {},
   "source": [
    "<p style=\"text-align: center\"><a rel=\"license\" href=\"http://creativecommons.org/licenses/by/4.0/\"><img alt=\"Licencia Creative Commons\" style=\"border-width:0\" src=\"https://i.creativecommons.org/l/by/4.0/80x15.png\" /></a><br />Esta obra está bajo una <a rel=\"license\" href=\"http://creativecommons.org/licenses/by/4.0/\">Licencia Creative Commons Atribución 4.0 Internacional</a>.</p>\n",
    "<p style=\"text-align: center\">&copy; José Luis Chiquete Valdivieso. 2019.</p>"
   ]
  }
 ],
 "metadata": {
  "kernelspec": {
   "display_name": "Python 3",
   "language": "python",
   "name": "python3"
  },
  "language_info": {
   "codemirror_mode": {
    "name": "ipython",
    "version": 3
   },
   "file_extension": ".py",
   "mimetype": "text/x-python",
   "name": "python",
   "nbconvert_exporter": "python",
   "pygments_lexer": "ipython3",
   "version": "3.6.6"
  }
 },
 "nbformat": 4,
 "nbformat_minor": 2
}
