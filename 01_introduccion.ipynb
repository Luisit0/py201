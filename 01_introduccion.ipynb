{
 "cells": [
  {
   "cell_type": "markdown",
   "metadata": {},
   "source": [
    "[![imagenes/pythonista.png](imagenes/pythonista.png)](https://pythonista.io)"
   ]
  },
  {
   "cell_type": "markdown",
   "metadata": {},
   "source": [
    "# Introducción."
   ]
  },
  {
   "cell_type": "markdown",
   "metadata": {},
   "source": [
    "## Objetivos de este módulo.\n",
    "\n",
    "Este módulo tiene como objetivo el de presentar de forma detallada las principales funcionalidades del framework para desarrollo de aplicaciones web, *Django*.\n",
    "\n",
    "El módulo consta de dos secciones:\n",
    "\n",
    "### Primera sección: \n",
    "\n",
    "La primera sección es una introducción al desarrollo de aplicaciones web y a las funcionalidades básicas de  *Django* en un entorno de prueba.\n",
    "\n",
    "* Introducción al protocolo HTTP.\n",
    "* Conceptos básicos relacionados con *Django*.\n",
    "* Instalación básica.\n",
    "* Configuración mínima.\n",
    "* Funcionalidades.\n",
    "* Desarrollo de aplicaciones web simples.\n",
    "* Desarrollo de una API basada en REST. \n",
    "\n",
    "## Segunda sección.\n",
    "\n",
    "Durante la segunda sección se estudiará el modo de crear un producto específico.\n",
    "\n",
    "* Definiendo las especificaciones y requeirmientos de las aplicaciones del producto.\n",
    "* Definiendo los componentes y modelos del producto.\n",
    "* Diseñando la arquitectura de datos de las aplicaciones.\n",
    "* Configurando y desplegando el entorno de desarrollo y de pruebas.\n",
    "* Preparando el entorno de producción en un servidor AWS.\n",
    "* Migrando a producción.\n",
    "* Publicando el producto."
   ]
  },
  {
   "cell_type": "markdown",
   "metadata": {},
   "source": [
    "<p style=\"text-align: center\"><a rel=\"license\" href=\"http://creativecommons.org/licenses/by/4.0/\"><img alt=\"Licencia Creative Commons\" style=\"border-width:0\" src=\"https://i.creativecommons.org/l/by/4.0/80x15.png\" /></a><br />Esta obra está bajo una <a rel=\"license\" href=\"http://creativecommons.org/licenses/by/4.0/\">Licencia Creative Commons Atribución 4.0 Internacional</a>.</p>\n",
    "<p style=\"text-align: center\">&copy; José Luis Chiquete Valdivieso. 2019.</p>"
   ]
  }
 ],
 "metadata": {
  "kernelspec": {
   "display_name": "Python 3",
   "language": "python",
   "name": "python3"
  },
  "language_info": {
   "codemirror_mode": {
    "name": "ipython",
    "version": 3
   },
   "file_extension": ".py",
   "mimetype": "text/x-python",
   "name": "python",
   "nbconvert_exporter": "python",
   "pygments_lexer": "ipython3",
   "version": "3.6.8"
  }
 },
 "nbformat": 4,
 "nbformat_minor": 2
}
