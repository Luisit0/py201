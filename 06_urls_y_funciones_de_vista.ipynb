{
 "cells": [
  {
   "cell_type": "markdown",
   "metadata": {},
   "source": [
    "[![imagenes/pythonista.png](imagenes/pythonista.png)](https://pythonista.io)"
   ]
  },
  {
   "cell_type": "markdown",
   "metadata": {},
   "source": [
    "# Gestión de *URLs* y funciones de vista."
   ]
  },
  {
   "cell_type": "markdown",
   "metadata": {},
   "source": [
    "**ADVERTENCIA:** Es necesario haber creado previamente el proyecto definido en la notebook [```02_introduccion_a_django.ipynb```](02_introduccion_a_django.ipynb) localizado en el directorio [```tutorial```](tutorial)."
   ]
  },
  {
   "cell_type": "code",
   "execution_count": null,
   "metadata": {},
   "outputs": [],
   "source": [
    "! tree tutorial"
   ]
  },
  {
   "cell_type": "markdown",
   "metadata": {},
   "source": [
    "## *URLs* y funciones de vista.\n",
    "\n",
    "*Django* tiene la capacidad de identificar patrones específicos a partir de la *URL* a la que pretende acceder un cliente, de tal manera que puede ligar una \"función de vista\" a dicho patrón."
   ]
  },
  {
   "cell_type": "markdown",
   "metadata": {},
   "source": [
    "### Los scripts ```urls.py```.\n",
    "\n",
    "Tanto el directorio de un proyecto como el directorio de una aplicación pueden contener un archivo ```urls.py```.\n",
    "\n",
    "Estos scripts son usados por *Django* para relacionar una *URL* con un objeto invocable (funciones o métodos) que será referido como una *función de vista*."
   ]
  },
  {
   "cell_type": "markdown",
   "metadata": {},
   "source": [
    "## El script ```urls.py``` de un proyecto.\n",
    "\n",
    "Los proyectos de *Django* siempre deben de hacer referencia a un archivo ```urls.py``` el cual se importaría como un módulo y a partir del cual pueden ser mapeados todas las *URLs* del proyecto y de sus aplicaciones.\n",
    "\n",
    "La localización de este archivo es definda con la variable ```ROOT_URLCONF``` del archivo ```settings.py``` del proyecto."
   ]
  },
  {
   "cell_type": "markdown",
   "metadata": {},
   "source": [
    "**Ejemplo:**\n",
    "\n",
    "* En caso de haber ejecutado correctamente todas las celdas de la notebook [```02_introduccion_a_django.ipynb```](02_introduccion_a_django.ipynb), la variable ```settings.ROOT_URLCONF``` indicaría que el script  ```'tutorial.urls'```"
   ]
  },
  {
   "cell_type": "code",
   "execution_count": null,
   "metadata": {},
   "outputs": [],
   "source": [
    "import tutorial.tutorial.settings as settings"
   ]
  },
  {
   "cell_type": "code",
   "execution_count": null,
   "metadata": {},
   "outputs": [],
   "source": [
    "settings.ROOT_URLCONF"
   ]
  },
  {
   "cell_type": "markdown",
   "metadata": {},
   "source": [
    "* El archivo se localizaría entonces en ```tutorial/tutorial/urls.py``` y tendría el siguiente contenido (sin incluir docstrings): \n",
    "\n",
    "``` python\n",
    "from django.contrib import admin\n",
    "from django.urls import path\n",
    "\n",
    "urlpatterns = [\n",
    "    path('admin/', admin.site.urls),\n",
    "]\n",
    "```"
   ]
  },
  {
   "cell_type": "code",
   "execution_count": null,
   "metadata": {
    "scrolled": true
   },
   "outputs": [],
   "source": [
    "%pycat tutorial/tutorial/urls.py"
   ]
  },
  {
   "cell_type": "markdown",
   "metadata": {},
   "source": [
    "* Este archivo realiza lo siguiente:\n",
    "\n",
    "    * Importa la función ```django.contrib.admin``` y le asigna el nombre ```admin```.\n",
    "    * Importa la función ```django.urls.path``` y le asigna el nombre ```path```.\n",
    "    * Define al objeto tipo ```list``` con el nombre ```urlpatterns```."
   ]
  },
  {
   "cell_type": "markdown",
   "metadata": {},
   "source": [
    "### El paquete ```django.contrib```.\n",
    "\n",
    "Este paquete contiene una biblioteca general herramientas de *Django*. \n",
    "\n",
    "La documentación de este paquete puede ser consultada en https://docs.djangoproject.com/en/2.2/ref/contrib/"
   ]
  },
  {
   "cell_type": "code",
   "execution_count": null,
   "metadata": {},
   "outputs": [],
   "source": [
    "import django.contrib"
   ]
  },
  {
   "cell_type": "code",
   "execution_count": null,
   "metadata": {},
   "outputs": [],
   "source": [
    "help(django.contrib)"
   ]
  },
  {
   "cell_type": "markdown",
   "metadata": {},
   "source": [
    "#### El paquete ```django.contrib.admin```.\n",
    "\n",
    "Este paquete permite desplegar una aplicación que contiene al sitio de administración del proyecto. \n",
    "\n",
    "La documentación de este paquete puede ser consultada en https://docs.djangoproject.com/en/2.2/ref/contrib/admin/\n",
    "\n",
    "**Notas:**\n",
    "* Aún cuando este paquete es cargado por defecto al crear un proyecto de *Django*, puede ser un recurso opcional.\n",
    "* El sitio de administración requiere que se definan usuarios con los roles y permisos correspondientes. Ese tema se verá en capítulos posteriores."
   ]
  },
  {
   "cell_type": "markdown",
   "metadata": {},
   "source": [
    "### El paquete ```django.urls```.\n",
    "\n",
    "Este paquete contiene a las herramientas que permitirán identificar patrones de *URLs* específicas y ligarlas con  funciones de vista."
   ]
  },
  {
   "cell_type": "code",
   "execution_count": null,
   "metadata": {},
   "outputs": [],
   "source": [
    "import django.urls"
   ]
  },
  {
   "cell_type": "code",
   "execution_count": null,
   "metadata": {},
   "outputs": [],
   "source": [
    "help(django.urls)"
   ]
  },
  {
   "cell_type": "markdown",
   "metadata": {},
   "source": [
    "#### La función ```django.urls.path()```.\n",
    "\n",
    "Esta función permite relacionar a un patrón de *URL* a una función.\n",
    "\n",
    "```\n",
    "django.urls.path('<patrón>', <función>, kwargs, name='<nombre>')\n",
    "```\n",
    "Donde:\n",
    "\n",
    "* ```patrón de ruta``` corresponde a un patrón de *URL*.\n",
    "* ```función``` corresponde una función. \n",
    "* ```nombre``` es el nombre que se le dará a esta relación (opcional).\n"
   ]
  },
  {
   "cell_type": "markdown",
   "metadata": {},
   "source": [
    "#### La función ```django.urls.include()```.\n",
    "\n",
    "Por convención, se utliza el nombre ```include``` cuando se desea importar algún archivo como un módulo de forma similar a la palabra reservada de Python ```import```. \n",
    "\n",
    "En este caso, la función ```django.urls.include()``` permite cargar un archivo con una estructura de un archivo ```urls.py``` localizado en otra ruta.\n",
    "\n",
    "``` python\n",
    "django.urls.include('<patrón>', include('<módulo>')\n",
    "```\n",
    "\n",
    "Donde:\n",
    "\n",
    "* ```patrón de ruta``` corresponde a un patrón de *URL*.\n",
    "* ```módulo``` corresponde un archivo que contenga una estructura ```urls.py``` expresado como módulo. "
   ]
  },
  {
   "cell_type": "markdown",
   "metadata": {},
   "source": [
    "### La lista ```urlpatterns```.\n",
    "\n",
    "El nombre ```urlpatterns``` corresponde a un objeto de tipo ```list```, el cual puede contener una colección de funciones ```django.urls.path()```."
   ]
  },
  {
   "cell_type": "markdown",
   "metadata": {},
   "source": [
    "### Ejemplo ilustrativo.\n",
    "\n",
    "El archivo ```src/06/tutorial_urls.py``` contiene el siguiente código:\n",
    "\n",
    "``` python\n",
    "from django.contrib import admin\n",
    "from django.urls import include, path\n",
    "\n",
    "urlpatterns = [path('admin/', admin.site.urls), \n",
    "               path('main/', include('main.urls')),]\n",
    "```\n",
    "\n",
    "* El primer elemento de ```urlpatterns``` relaciona al patron de  *URL* ```admin/``` con la función ```admin.site.urls()```.\n",
    "* El segundo elemento de ```urlpatterns``` indica que es necesario importar el módulo ```main.urls``` para definir todas las *URLs* relativas a la ruta```main/```."
   ]
  },
  {
   "cell_type": "markdown",
   "metadata": {},
   "source": [
    "* La siguiente celda sustituirá al archivo ```tutorial/tutorial/urls.py``` con el archivo ```src/tutorial_urls.py```."
   ]
  },
  {
   "cell_type": "code",
   "execution_count": null,
   "metadata": {},
   "outputs": [],
   "source": [
    "%cp src/06/tutorial_urls.py tutorial/tutorial/urls.py"
   ]
  },
  {
   "cell_type": "code",
   "execution_count": null,
   "metadata": {},
   "outputs": [],
   "source": [
    "%pycat tutorial/tutorial/urls.py"
   ]
  },
  {
   "cell_type": "markdown",
   "metadata": {},
   "source": [
    "En vista de que ```tutorial/tutorial/urls.py``` cargará como módulo el contenido de \n",
    "```tutorial/main/urls.py``` es necesario que el archivo de referencia exista.\n",
    "\n",
    "El archivo ```src/06/main_urls.py``` contiene el siguiente código:\n",
    "\n",
    "``` python\n",
    "from django.urls import path\n",
    "from . import views\n",
    "\n",
    "urlpatterns = [path('', views.index, name=\"inicio\"), \n",
    "               path('vista', views.vista)]\n",
    "```\n",
    "\n",
    "Este código indica lo siguiente: \n",
    "\n",
    "* Importar la función ```django.urls.path()```.\n",
    "* Importar el módulo ```views``` localizado en el mismo directorio donde se encuentra el archivo ```tutorial/main/urls.py``` (denotado por el punto ```.```). \n",
    "* La lista ```urlpatterns``` definen dos patrones de rutas:\n",
    "   * La ruta de ```main/```, la cual se denota por una cadena de caracteres vacía ```''```, ligándola a la función ```views.index()```.\n",
    "   * La ruta de ```main/vista```, la cual se denota por una cadena de caracteres ```'vista'```, ligándola a la función ```views.vista()```."
   ]
  },
  {
   "cell_type": "markdown",
   "metadata": {},
   "source": [
    "* La siguiente celda copiará el archivo ```src/06/main_urls.py``` a ```tutorial/main/urls.py```."
   ]
  },
  {
   "cell_type": "code",
   "execution_count": null,
   "metadata": {},
   "outputs": [],
   "source": [
    "%cp src/06/main_urls.py tutorial/main/urls.py"
   ]
  },
  {
   "cell_type": "code",
   "execution_count": null,
   "metadata": {},
   "outputs": [],
   "source": [
    "%pycat tutorial/main/urls.py"
   ]
  },
  {
   "cell_type": "markdown",
   "metadata": {},
   "source": [
    "## Las funciones de vista.\n",
    "\n",
    "Una función de vista es aquella que le permite al servidor de *Django* enviar una respuesta (*response*) a partir de una petición *request* hecha por un cliente a la *URL* correspondiente. \n",
    "\n",
    "Una vez que un cliente envía una petición a una *URL* gestionada por el servidor de *Django* ocurre lo siguiente:\n",
    "\n",
    "* El servidor verifica que la *URL* coincida con alguno de los patrones definidos en los archivos ```urls.py```. \n",
    "* En caso de que exista una coincidencia, se ejecutará la función de vista correspondiente de la siguiente forma:\n",
    "    * Ingresando un objeto instanciado de ```django.http.HttpRequest``` como argumento. \n",
    "    * La función deberá de regresar un objeto instanciado de alguna subclase de ```django.http.HttpResponse```. Dicho objeto será utilizado como base para que el servidor transmita una respuesta al cliente que hizo la petición.\n",
    "* En caso de que no exista coincidencia, se gestionará un error de tipo ```404```.\n",
    "\n",
    "\n",
    "**Nota:** Tanto las clases ```django.http.HttpRequest``` y ```django.http.HttpResponse```, así como la gestión de errores se estudiarán en capítulos subsecuentes."
   ]
  },
  {
   "cell_type": "markdown",
   "metadata": {},
   "source": [
    "## Los scripts *views.py*.\n",
    "\n",
    "*Django* define en su estructura de archivos ```views.py```, los cuales contienen a las funciones de vista de las aplicaciones. "
   ]
  },
  {
   "cell_type": "markdown",
   "metadata": {},
   "source": [
    "**Ejemplo:**\n",
    "\n",
    "El archivo ```tutorial/main/views.py``` es referido como un módulo en el archivo ```tutorial/main/urls.py```.\n",
    "\n",
    "Hasta el momento, este archivo no contiene ninguna función."
   ]
  },
  {
   "cell_type": "code",
   "execution_count": null,
   "metadata": {
    "scrolled": true
   },
   "outputs": [],
   "source": [
    "%pycat tutorial/main/views.py"
   ]
  },
  {
   "cell_type": "markdown",
   "metadata": {},
   "source": [
    "### Ejemplo ilustrativo."
   ]
  },
  {
   "cell_type": "markdown",
   "metadata": {},
   "source": [
    "El archivo ```src/06/views.py``` contiene lo siguiente:\n",
    "\n",
    "``` python\n",
    "from django.http import HttpResponse\n",
    "\n",
    "# Create your views here.\n",
    "def index(request):\n",
    "    return HttpResponse(\"<h1>Hola, mundo.</h1>\")\n",
    "\n",
    "def vista(request):\n",
    "    pass\n",
    "```\n",
    "\n",
    "Este código realiza lo siguiente:\n",
    "\n",
    "* Importa la clase ```HttpResponse``` desde el módulo ```django.http```.\n",
    "* Define la función de vista ```index()```, la cual regresa una instancia de ```HttpResponse``` conteniendo código en *HTML*.\n",
    "* Define la función de vista ```vista()```, la cual regresa ```None```.\n"
   ]
  },
  {
   "cell_type": "markdown",
   "metadata": {},
   "source": [
    "* La siguiente celda sustituirá al archivo ```tutorial/main/views.py``` con el archivo ```src/06/views.py```."
   ]
  },
  {
   "cell_type": "code",
   "execution_count": null,
   "metadata": {},
   "outputs": [],
   "source": [
    "%cp src/06/views.py tutorial/main/views.py"
   ]
  },
  {
   "cell_type": "code",
   "execution_count": null,
   "metadata": {},
   "outputs": [],
   "source": [
    "%pycat tutorial/main/views.py"
   ]
  },
  {
   "cell_type": "markdown",
   "metadata": {},
   "source": [
    "* Las siguientes celda iniciará el servidor de *Django* del proyecto ```tutorial```."
   ]
  },
  {
   "cell_type": "code",
   "execution_count": null,
   "metadata": {},
   "outputs": [],
   "source": [
    "%cd tutorial"
   ]
  },
  {
   "cell_type": "markdown",
   "metadata": {},
   "source": [
    "**ADVERTENCIAS:** \n",
    "\n",
    "* Al ejecutar la siguiente celda el servidor se inciará desde la notebook, por lo que para ejecutar cualquier otra celda es necesario interrumpir la ejecución del kernel.\n",
    "\n",
    "* Asegúrese que no haya otro servicio escuchando en el puerto ```5000```."
   ]
  },
  {
   "cell_type": "code",
   "execution_count": null,
   "metadata": {
    "scrolled": true
   },
   "outputs": [],
   "source": [
    "! ./manage.py runserver 0.0.0.0:5000"
   ]
  },
  {
   "cell_type": "markdown",
   "metadata": {},
   "source": [
    "* Al acceder a [```http://localhost:5000/admin```](http://localhost:5000/admin) aparecerá la interfaz de administración del proyecto.\n",
    "* Al acceder a [```http://localhost:5000/main/```](http://localhost:5000/main/) aparecerá un mensaje de encabezado desplegando ```Hola, mundo.```.\n",
    "* Al acceder a [```http://localhost:5000/main/vista```](http://localhost:5000/main/vista) se mostrará un mensaje de error. Debido a que *Django* está configurado en modo de depuración, desplegará los detalles del error de ejecución.\n",
    "* Al acceder a cualquier otra *URL* distinta a las indicadas, se mostrará un mensaje de error ```404```. Debido a que *Django* está configurado en modo de depuracion, desplegará los detalles y los patrones de ```URL``` válidos."
   ]
  },
  {
   "cell_type": "markdown",
   "metadata": {},
   "source": [
    "<p style=\"text-align: center\"><a rel=\"license\" href=\"http://creativecommons.org/licenses/by/4.0/\"><img alt=\"Licencia Creative Commons\" style=\"border-width:0\" src=\"https://i.creativecommons.org/l/by/4.0/80x15.png\" /></a><br />Esta obra está bajo una <a rel=\"license\" href=\"http://creativecommons.org/licenses/by/4.0/\">Licencia Creative Commons Atribución 4.0 Internacional</a>.</p>\n",
    "<p style=\"text-align: center\">&copy; José Luis Chiquete Valdivieso. 2019.</p>"
   ]
  }
 ],
 "metadata": {
  "kernelspec": {
   "display_name": "Python 3",
   "language": "python",
   "name": "python3"
  },
  "language_info": {
   "codemirror_mode": {
    "name": "ipython",
    "version": 3
   },
   "file_extension": ".py",
   "mimetype": "text/x-python",
   "name": "python",
   "nbconvert_exporter": "python",
   "pygments_lexer": "ipython3",
   "version": "3.6.8"
  }
 },
 "nbformat": 4,
 "nbformat_minor": 2
}
