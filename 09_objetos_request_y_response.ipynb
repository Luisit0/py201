{
 "cells": [
  {
   "cell_type": "markdown",
   "metadata": {},
   "source": [
    "[![imagenes/pythonista.png](imagenes/pythonista.png)](https://pythonista.io)"
   ]
  },
  {
   "cell_type": "markdown",
   "metadata": {},
   "source": [
    "# Objetos ```request``` y ```response```."
   ]
  },
  {
   "cell_type": "markdown",
   "metadata": {},
   "source": [
    "**ADVERTENCIA:**  \n",
    "\n",
    "Para poder realizar exitosamente los ejercicios de esta notebook, es necesario haber seguido al pie de la letra y en orden sucesivo las instrucciones de todas las notebooks previas."
   ]
  },
  {
   "cell_type": "markdown",
   "metadata": {},
   "source": [
    "## Notas preliminares sobre este capítulo.\n",
    "\n",
    "Este capítulo está dividido en dos notebooks:\n",
    "\n",
    "* La parte teórica y del servidor, corresponde al presente documento.\n",
    "(10_clases_de_django_http_cliente.ipynb).\n",
    "\n",
    "La notebook del cliente consume los recursos que el servidor que esta notebook despliega, por lo que es necesario que el servidor de Django de esta notebook esté en ejecución cuando la notebook del cliente se esté ejecutando."
   ]
  },
  {
   "cell_type": "markdown",
   "metadata": {},
   "source": [
    "## El paquete *django.http*.\n",
    "\n",
    "Este paquete cuenta con herramientas diseñadas para gestionar las peticiones y repuestas más comunes de *HTTP*, incluyendo algunos mensajes de estado.\n",
    "\n",
    "En el capítulo [```06_peticiones_y_respuestas.ipynb```](06_peticiones_y_respuestas.ipynb) se describió brevemente:\n",
    "\n",
    "* El modo en el que los datos de las peticiones (requests) enviadas por un cliente son recibidas por el servidor de *Django* y contenidas en objetos instanciados de la clase ```django.http.HttpRequest```.\n",
    "* El modo en el que una función de vista  permite enviar una respuestas (responses) a un cliente por medio de una instancia de la clase ```django.http.HttpResponse```. \n",
    "\n",
    "En este capítulo se explorarán a detalle algunos recursos del módulo ```django.http```, incluyendo más información sobre ```django.http.HttpRequest``` y ```django.http.HttpResponse```.\n",
    "\n",
    "La referencia de este paquete puede ser consultada en https://docs.djangoproject.com/en/2.2/ref/request-response/."
   ]
  },
  {
   "cell_type": "markdown",
   "metadata": {},
   "source": [
    "## Detalles sobre la clase ```django.http.HttpRequest```."
   ]
  },
  {
   "cell_type": "markdown",
   "metadata": {},
   "source": [
    "### Métodos de ´´´django.http.HttpRequest´´´.\n",
    "\n",
    "#### Métodos informativos.\n",
    "\n",
    "* ```get_host()``` regresa la *URL* del servidor.\n",
    "* ```get_port()``` regresa el puerto de conexión al servidor.\n",
    "* ```get_full_path()``` regresa la URL incluyendo los argumentos.\n",
    "* ```get_full_path_info()``` es similar a ```get_full_path()```, pero utilizando el atributo ```path_info```.\n",
    "* ```build_absolute_uri()``` regresa la *URL* absoluta.\n",
    "* ```is_secure()``` indica si la conexión es segura.\n",
    "\n",
    "#### Métodos de XML.\n",
    "\n",
    "* ```is_ajax()``` indica si el contenido es AJAX.\n",
    "* ```read()``` lee todo el contenido de forma similar al método ```read()``` de ```open()```.\n",
    "* ```readline()``` lee una línea del contenido de forma similar al método ```readline()``` de ```open()```.\n",
    "* ```readlines()``` lee cada línea del contenido y regresaun un objeto tipo ```list``` de forma similar al método ```readlines()``` de ```open()```.\n",
    "* ```__iter__()``` regresa un iterador.\n",
    "\n",
    "#### Métodos de *cookies*.\n",
    "\n",
    "* ```get_signed_cookie()``` recibe una cookie firmada."
   ]
  },
  {
   "cell_type": "markdown",
   "metadata": {},
   "source": [
    "## La clase *django.http.QueryDict*.\n",
    "\n",
    "Los atributos ```GET``` y ```PUT``` de la clase ```django.http.HtmlRequest``` son instancias de la clase ```django.http.QueryDict```.\n",
    "\n",
    "La clase ```django.http.QueryDict``` es similar a un objeto tipo ```dict```, con la diferencia de que puede contener más de un elemento con el mismo identificador, el cual es guradado en un objeto de tipo ```list```.\n",
    "\n",
    "La clase ```django.http.QueryDict``` es inmutable.\n",
    "\n",
    "``` python\n",
    "QueryDict.(query_string=None, mutable=False, encoding=None)\n",
    "````"
   ]
  },
  {
   "cell_type": "markdown",
   "metadata": {},
   "source": [
    "### Métodos de ```django.http.QueryDict```.\n",
    "\n",
    "Cuenta con los siguientes métodos que son similares a los del tipo ```dict```:\n",
    "* ```clear()```.\n",
    "* ```pop()```.\n",
    "* ```popitem()```.\n",
    "* ```setdefault()```.\n",
    "* ```update()```.\n",
    "* ```items()```.\n",
    "* ```values()```.\n",
    "\n",
    "#### Métodos de gestión.\n",
    "\n",
    "* ```__setitem__()```.\n",
    "* ```__getitem__()```.\n",
    "* ```_contains__()```.\n",
    "* ```get()```.\n",
    "* ```dict()``` convierte el contenido del objeto ```django.http.QueryDict``` en un objeto tipo ```dict```.\n",
    "* ```copy()```.\n",
    "* ```urlencode()```.\n",
    "\n",
    "#### Métodos de listas.\n",
    "\n",
    "* ```getlist()```.\n",
    "* ```setlist()```.\n",
    "* ```appendlist()```.\n",
    "* ```setlistdefault()```.\n",
    "* ```lists()```."
   ]
  },
  {
   "cell_type": "markdown",
   "metadata": {},
   "source": [
    "## Detalles sobre la clase *django.http.HttpResponse*.\n",
    "\n",
    "``` python\n",
    "django.http.HttpResponse(content='', content_type=None, status=200, reason=None, charset=None)\n",
    "```"
   ]
  },
  {
   "cell_type": "markdown",
   "metadata": {},
   "source": [
    "### Métodos de *django.http.HttpResponse*.\n",
    "\n",
    "#### Métodos de gestión.\n",
    "\n",
    "* ```__setitem__()```\n",
    "* ```__getitem__()```\n",
    "* ```__delitem__()```\n",
    "* ```has_header()```\n",
    "* ```setdefault()```\n",
    "\n",
    "\n",
    "\n",
    "#### Métodos de gestión de *cookies*.\n",
    "\n",
    "* ```set_cookie()```\n",
    "* ```set_signed_cookie()```\n",
    "* ```delete_cookie()```"
   ]
  },
  {
   "cell_type": "markdown",
   "metadata": {},
   "source": [
    "## Otras subclases de ```django.http.Reponse```."
   ]
  },
  {
   "cell_type": "markdown",
   "metadata": {},
   "source": [
    "### Respuestas por tipo.\n",
    "\n",
    "* ```django.http.JsonResponse```.\n",
    "* ```django.http.FileResponse```.\n",
    "* ```django.http.StreamingResponse```."
   ]
  },
  {
   "cell_type": "markdown",
   "metadata": {},
   "source": [
    "### Mensajes de estado.\n",
    "\n",
    "####  Mensajes de reenvío (```300```).\n",
    "\n",
    "* ```django.http.HttpResponseRedirect``` (```302```).\n",
    "* ```django.http.HttpResponseNotModified``` (```304```).\n",
    "* ```django.http.HttpResponsePermanentRedirect``` (```308```). \n",
    "\n",
    "#### Mensajes de error del cliente (```400```).\n",
    "\n",
    "* ```django.http.HttpResponseBadRequest``` (```400```)\n",
    "* ```django.http.HttpResponseForbidden``` (```403```)\n",
    "* ```django.http.HttpResponseNotFound``` (```404```)\n",
    "* ```django.http.HttpResponseNotAllowed``` (```405```)\n",
    "* ```django.http.HttpResponseGone``` (```410```)\n",
    "\n",
    "#### Mensajes de error del servidor (```500```).\n",
    "* ```django.http.HttpResponseServerError``` (```500```)."
   ]
  },
  {
   "cell_type": "markdown",
   "metadata": {},
   "source": [
    "## Excepciones.\n",
    "\n",
    "* ```django.http.UnreadablePostError```.\n",
    "* ```django.http.Http404```.\n",
    "* ```django.http.BadHeaderError```."
   ]
  },
  {
   "cell_type": "markdown",
   "metadata": {},
   "source": [
    "## Ejemplo ilustrativo.\n",
    "\n",
    "El archivo ```src/09/urls.py``` contiene el siguiente código:\n",
    "\n",
    "\n",
    "``` python\n",
    "from django.urls import path, re_path \n",
    "from . import views\n",
    "\n",
    "\n",
    "urlpatterns = [path('', views.index, name=\"inicio\"), \n",
    "               path('vista', views.vista),\n",
    "               re_path(r'^claves/(?P<clave>[0-9]{4}$)', views.clave),\n",
    "               path('claves/<int:numero>', views.numero),\n",
    "               path('claves/<str:nombre>', views.saluda),\n",
    "               path('json', views.respuesta_json),\n",
    "               path('contenido', views.contenido),\n",
    "               path('error', views.error),\n",
    "               path('listas', views.listas)]\n",
    "```"
   ]
  },
  {
   "cell_type": "markdown",
   "metadata": {},
   "source": [
    "* Para la plataforma GNU/Linux y MacOS X:"
   ]
  },
  {
   "cell_type": "code",
   "execution_count": null,
   "metadata": {},
   "outputs": [],
   "source": [
    "!cp src/09/urls.py tutorial/main/urls.py "
   ]
  },
  {
   "cell_type": "markdown",
   "metadata": {},
   "source": [
    "* Para la plataforma Windows:"
   ]
  },
  {
   "cell_type": "code",
   "execution_count": null,
   "metadata": {},
   "outputs": [],
   "source": [
    "!copy src\\09\\urls.py tutorial\\main\\urls.py "
   ]
  },
  {
   "cell_type": "code",
   "execution_count": null,
   "metadata": {},
   "outputs": [],
   "source": [
    "%pycat tutorial/main/urls.py"
   ]
  },
  {
   "cell_type": "markdown",
   "metadata": {},
   "source": [
    "El archivo ```src/09/views.py``` contiene el siguiente código:\n",
    "\n",
    "\n",
    "``` python\n",
    "from django.http import HttpResponse, HttpResponseServerError, JsonResponse\n",
    "from django.views.decorators.csrf import csrf_exempt\n",
    "\n",
    "\n",
    "def index(request):\n",
    "    return HttpResponse(\"<h1>Hola, mundo.</h1>\")\n",
    "\n",
    "\n",
    "def vista(request):\n",
    "    return HttpResponse('<ul><li>URL: {}</li><li>Método: {}</li><li>Codificación: {}</li><li>Argumentos: {}</li></ul>'.format(request.path, request.method, request.encoding, request.GET.dict()))\n",
    "\n",
    "\n",
    "def clave(request, clave):\n",
    "    return HttpResponse('<h1>Introdujiste la clave: {}</h1>'.format(str(clave)))\n",
    "\n",
    "\n",
    "def numero(request, numero):\n",
    "    return HttpResponse('<h1>Introdujiste el número: {}</h1>'.format(str(numero)))\n",
    "\n",
    "\n",
    "def saluda(request, nombre):\n",
    "    return HttpResponse('<h1>¡Hola, {}!</h1>'.format(nombre))\n",
    "\n",
    "\n",
    "def respuesta_json(request):\n",
    "    return JsonResponse({'tipo contenido':request.content_type, 'metodo':request.method, 'ruta':request.path})\n",
    "\n",
    "\n",
    "def error(request):\n",
    "    return HttpResponseServerError('<h1>¡Ups!</h1>')\n",
    "\n",
    "\n",
    "@csrf_exempt\n",
    "def contenido(request):\n",
    "    return JsonResponse(request.POST.dict())\n",
    "\n",
    "\n",
    "def listas (request):\n",
    "    return HttpResponse(request.GET.lists()\n",
    "```"
   ]
  },
  {
   "cell_type": "markdown",
   "metadata": {},
   "source": [
    "* Para la plataforma GNU/Linux y MacOS X."
   ]
  },
  {
   "cell_type": "code",
   "execution_count": null,
   "metadata": {
    "scrolled": true
   },
   "outputs": [],
   "source": [
    "!cp src/09/views.py tutorial/main/views.py "
   ]
  },
  {
   "cell_type": "markdown",
   "metadata": {},
   "source": [
    "* Para la plataforma Windows:"
   ]
  },
  {
   "cell_type": "code",
   "execution_count": null,
   "metadata": {},
   "outputs": [],
   "source": [
    "!copy src\\09\\views.py tutorial\\main\\views.py "
   ]
  },
  {
   "cell_type": "code",
   "execution_count": null,
   "metadata": {},
   "outputs": [],
   "source": [
    "%pycat tutorial/main/views.py"
   ]
  },
  {
   "cell_type": "markdown",
   "metadata": {},
   "source": [
    "* Iniciar el servidor."
   ]
  },
  {
   "cell_type": "code",
   "execution_count": null,
   "metadata": {},
   "outputs": [],
   "source": [
    "%cd tutorial"
   ]
  },
  {
   "cell_type": "markdown",
   "metadata": {},
   "source": [
    "**ADVERTENCIAS:** \n",
    "\n",
    "* Al ejecutar la siguiente celda el servidor se inciará desde la notebook, por lo que para ejecutar cualquier otra celda es necesario interrumpir la ejecución del kernel.\n",
    "\n",
    "* Asegúrese que no haya otro servicio escuchando en el puerto *5000*."
   ]
  },
  {
   "cell_type": "code",
   "execution_count": null,
   "metadata": {
    "scrolled": true
   },
   "outputs": [],
   "source": [
    "! ./manage.py runserver 0.0.0.0:5000"
   ]
  },
  {
   "cell_type": "markdown",
   "metadata": {},
   "source": [
    "http://localhost:5000/main/error\n"
   ]
  },
  {
   "cell_type": "markdown",
   "metadata": {},
   "source": [
    "http://localhost:5000/main/listas\n",
    "\n",
    "http://localhost:5000/main/listas?nombre=jose&apellido=perez\n",
    "\n",
    "\n",
    "http://localhost:5000/main/listas?nombre=jose&apellido=perez&nombre=Jesus&nombre=Pablo"
   ]
  },
  {
   "cell_type": "markdown",
   "metadata": {},
   "source": [
    "http://localhost:5000/main/contenido?nombre=jose&apellido=perez&nombre=Jesus&nombre=Pablo"
   ]
  },
  {
   "cell_type": "markdown",
   "metadata": {},
   "source": [
    "<p style=\"text-align: center\"><a rel=\"license\" href=\"http://creativecommons.org/licenses/by/4.0/\"><img alt=\"Licencia Creative Commons\" style=\"border-width:0\" src=\"https://i.creativecommons.org/l/by/4.0/80x15.png\" /></a><br />Esta obra está bajo una <a rel=\"license\" href=\"http://creativecommons.org/licenses/by/4.0/\">Licencia Creative Commons Atribución 4.0 Internacional</a>.</p>\n",
    "<p style=\"text-align: center\">&copy; José Luis Chiquete Valdivieso. 2019.</p>"
   ]
  }
 ],
 "metadata": {
  "kernelspec": {
   "display_name": "Python 3",
   "language": "python",
   "name": "python3"
  },
  "language_info": {
   "codemirror_mode": {
    "name": "ipython",
    "version": 3
   },
   "file_extension": ".py",
   "mimetype": "text/x-python",
   "name": "python",
   "nbconvert_exporter": "python",
   "pygments_lexer": "ipython3",
   "version": "3.7.3"
  }
 },
 "nbformat": 4,
 "nbformat_minor": 2
}
