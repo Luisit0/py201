{
 "cells": [
  {
   "cell_type": "markdown",
   "metadata": {},
   "source": [
    "[![imagenes/pythonista.png](imagenes/pythonista.png)](https://pythonista.io)"
   ]
  },
  {
   "cell_type": "markdown",
   "metadata": {},
   "source": [
    "**ADVERTENCIA:**  \n",
    "\n",
    "Para poder realizar exitosamente los ejercicios de esta notebook, es necesario haber seguido al pie de la letra y en orden sucesivo las instrucciones de todas las notebooks previas."
   ]
  },
  {
   "cell_type": "markdown",
   "metadata": {},
   "source": [
    "## Plantillas (templates).\n",
    "\n",
    "*Django* es un framework diseñado primordialmente para desplegar páginas web de forma dinámica mediante el patrón *MVT*, el cual además de los modelos y las funciones de vista, aprovecha el uso de plantillas para lograr tal  finalidad.\n",
    "\n",
    "Una plantilla es un documento el cual contiene texto y código que permite a *Django* crear un texto nuevo a partir del original combinándolo con los datos que se le ingresan mendiante un *contexto*.\n",
    "\n",
    "**Ejemplo:**\n",
    "\n",
    "El archivo *src/18/base.html* contiene el siguiente texto que corresponde  una plantilla básicas que combina código en HTML y etiquetas basadas en el *lenguaje de plantillas de Django*.\n",
    "\n",
    "``` HTML\n",
    "<!DOCTYPE html>\n",
    "<html>\n",
    "    <header>\n",
    "        <meta charset=\"UTF-8\">\n",
    "        <title>{{ titulo }}</title>\n",
    "    </header>\n",
    "    <body>\n",
    "        {% block cuerpo %}\n",
    "        <h1>¡Hola, mundo!</h1>\n",
    "        {% endblock %)\n",
    "    </body>\n",
    "</html>\n",
    "```\n",
    "\n",
    "**Nota:**\n",
    "Aún cuando lo más común es usar HTML, las plantillas de *Django* pueden utilizarse para crear documentos en distintos formatos como *XML*, *YAML*, *JSON*, etc."
   ]
  },
  {
   "cell_type": "markdown",
   "metadata": {},
   "source": [
    "## El lenguaje de plantillas de *Django* (*DTL*).\n",
    "\n",
    "El lenguaje de plantillas de *Django* (*DTL* por sus siglas en inglés) permiten modificar a un  documento que contiene código basado en dicho lenguaje, ejecutándolo junto con datos externos que son asignados como si fueran variables globales.\n",
    "\n",
    "El *DTL* reconoce los tipos básicos de Python.\n",
    "\n",
    "### Tipos de etiquetas.\n",
    "\n",
    "El *DTL* utiliza etiquetas, la cuales se conforman por código encerrado entre llaves \"_{_\" y \"*}*\".\n",
    "\n",
    "#### Etiquetas para expresiones.\n",
    "\n",
    "```\n",
    "{{ <expresión> }}\n",
    "```\n",
    "\n",
    "#### Etiquetas para declaraciones.\n",
    "\n",
    "Las declaraciones pueden:\n",
    "\n",
    "* Ejecutarse de forma similar a una expresión.\n",
    "\n",
    "```\n",
    "{% <declaración> %}\n",
    "```\n",
    "\n",
    "* Delimitar un bloque de texto y código.\n",
    "\n",
    "```\n",
    "{% <declaración> %}\n",
    "...\n",
    "...\n",
    "...\n",
    "{% end<declaración> %}\n",
    "```\n",
    "\n",
    "A partir de estas etiquetas, es posible generar código que creará contenidos a utilizando el texto del documento original.\n",
    "\n",
    "**Nota:**\n",
    "En este capítulo se explorarán sólo las etiquetas más representativas, pero La referencia a las etiqueta de *DTL* pueden ser consultadas en https://docs.djangoproject.com/en/2.1/ref/templates/builtins/."
   ]
  },
  {
   "cell_type": "markdown",
   "metadata": {},
   "source": [
    "## El paquete *django.template*.\n",
    "\n",
    "Este paquete cuenta con una biblioteca de herramientas que permite crear contenidos a partir de plantillas con código escrito en *DTL*."
   ]
  },
  {
   "cell_type": "code",
   "execution_count": 1,
   "metadata": {},
   "outputs": [],
   "source": [
    "import django.template"
   ]
  },
  {
   "cell_type": "code",
   "execution_count": 2,
   "metadata": {},
   "outputs": [
    {
     "name": "stdout",
     "output_type": "stream",
     "text": [
      "Help on package django.template in django:\n",
      "\n",
      "NAME\n",
      "    django.template - Django's support for templates.\n",
      "\n",
      "DESCRIPTION\n",
      "    The django.template namespace contains two independent subsystems:\n",
      "    \n",
      "    1. Multiple Template Engines: support for pluggable template backends,\n",
      "       built-in backends and backend-independent APIs\n",
      "    2. Django Template Language: Django's own template engine, including its\n",
      "       built-in loaders, context processors, tags and filters.\n",
      "    \n",
      "    Ideally these subsystems would be implemented in distinct packages. However\n",
      "    keeping them together made the implementation of Multiple Template Engines\n",
      "    less disruptive .\n",
      "    \n",
      "    Here's a breakdown of which modules belong to which subsystem.\n",
      "    \n",
      "    Multiple Template Engines:\n",
      "    \n",
      "    - django.template.backends.*\n",
      "    - django.template.loader\n",
      "    - django.template.response\n",
      "    \n",
      "    Django Template Language:\n",
      "    \n",
      "    - django.template.base\n",
      "    - django.template.context\n",
      "    - django.template.context_processors\n",
      "    - django.template.loaders.*\n",
      "    - django.template.debug\n",
      "    - django.template.defaultfilters\n",
      "    - django.template.defaulttags\n",
      "    - django.template.engine\n",
      "    - django.template.loader_tags\n",
      "    - django.template.smartif\n",
      "    \n",
      "    Shared:\n",
      "    \n",
      "    - django.template.utils\n",
      "\n",
      "PACKAGE CONTENTS\n",
      "    backends (package)\n",
      "    base\n",
      "    context\n",
      "    context_processors\n",
      "    defaultfilters\n",
      "    defaulttags\n",
      "    engine\n",
      "    exceptions\n",
      "    library\n",
      "    loader\n",
      "    loader_tags\n",
      "    loaders (package)\n",
      "    response\n",
      "    smartif\n",
      "    utils\n",
      "\n",
      "CLASSES\n",
      "    builtins.object\n",
      "        django.template.base.Template\n",
      "        django.template.engine.Engine\n",
      "    django.template.context.BaseContext(builtins.object)\n",
      "        django.template.context.Context\n",
      "            django.template.context.RequestContext\n",
      "    \n",
      "    class Context(BaseContext)\n",
      "     |  A stack container for variable context\n",
      "     |  \n",
      "     |  Method resolution order:\n",
      "     |      Context\n",
      "     |      BaseContext\n",
      "     |      builtins.object\n",
      "     |  \n",
      "     |  Methods defined here:\n",
      "     |  \n",
      "     |  __copy__(self)\n",
      "     |  \n",
      "     |  __init__(self, dict_=None, autoescape=True, use_l10n=None, use_tz=None)\n",
      "     |      Initialize self.  See help(type(self)) for accurate signature.\n",
      "     |  \n",
      "     |  bind_template(self, template)\n",
      "     |  \n",
      "     |  update(self, other_dict)\n",
      "     |      Push other_dict to the stack of dictionaries in the Context\n",
      "     |  \n",
      "     |  ----------------------------------------------------------------------\n",
      "     |  Methods inherited from BaseContext:\n",
      "     |  \n",
      "     |  __contains__(self, key)\n",
      "     |  \n",
      "     |  __delitem__(self, key)\n",
      "     |      Delete a variable from the current context\n",
      "     |  \n",
      "     |  __eq__(self, other)\n",
      "     |      Compare two contexts by comparing theirs 'dicts' attributes.\n",
      "     |  \n",
      "     |  __getitem__(self, key)\n",
      "     |      Get a variable's value, starting at the current context and going upward\n",
      "     |  \n",
      "     |  __iter__(self)\n",
      "     |  \n",
      "     |  __repr__(self)\n",
      "     |      Return repr(self).\n",
      "     |  \n",
      "     |  __setitem__(self, key, value)\n",
      "     |      Set a variable in the current context\n",
      "     |  \n",
      "     |  flatten(self)\n",
      "     |      Return self.dicts as one dictionary.\n",
      "     |  \n",
      "     |  get(self, key, otherwise=None)\n",
      "     |  \n",
      "     |  new(self, values=None)\n",
      "     |      Return a new context with the same properties, but with only the\n",
      "     |      values given in 'values' stored.\n",
      "     |  \n",
      "     |  pop(self)\n",
      "     |  \n",
      "     |  push(self, *args, **kwargs)\n",
      "     |  \n",
      "     |  set_upward(self, key, value)\n",
      "     |      Set a variable in one of the higher contexts if it exists there,\n",
      "     |      otherwise in the current context.\n",
      "     |  \n",
      "     |  setdefault(self, key, default=None)\n",
      "     |  \n",
      "     |  ----------------------------------------------------------------------\n",
      "     |  Data descriptors inherited from BaseContext:\n",
      "     |  \n",
      "     |  __dict__\n",
      "     |      dictionary for instance variables (if defined)\n",
      "     |  \n",
      "     |  __weakref__\n",
      "     |      list of weak references to the object (if defined)\n",
      "     |  \n",
      "     |  ----------------------------------------------------------------------\n",
      "     |  Data and other attributes inherited from BaseContext:\n",
      "     |  \n",
      "     |  __hash__ = None\n",
      "    \n",
      "    class Engine(builtins.object)\n",
      "     |  Methods defined here:\n",
      "     |  \n",
      "     |  __init__(self, dirs=None, app_dirs=False, context_processors=None, debug=False, loaders=None, string_if_invalid='', file_charset='utf-8', libraries=None, builtins=None, autoescape=True)\n",
      "     |      Initialize self.  See help(type(self)) for accurate signature.\n",
      "     |  \n",
      "     |  find_template(self, name, dirs=None, skip=None)\n",
      "     |  \n",
      "     |  find_template_loader(self, loader)\n",
      "     |  \n",
      "     |  from_string(self, template_code)\n",
      "     |      Return a compiled Template object for the given template code,\n",
      "     |      handling template inheritance recursively.\n",
      "     |  \n",
      "     |  get_template(self, template_name)\n",
      "     |      Return a compiled Template object for the given template name,\n",
      "     |      handling template inheritance recursively.\n",
      "     |  \n",
      "     |  get_template_builtins(self, builtins)\n",
      "     |  \n",
      "     |  get_template_libraries(self, libraries)\n",
      "     |  \n",
      "     |  get_template_loaders(self, template_loaders)\n",
      "     |  \n",
      "     |  render_to_string(self, template_name, context=None)\n",
      "     |      Render the template specified by template_name with the given context.\n",
      "     |      For use in Django's test suite.\n",
      "     |  \n",
      "     |  select_template(self, template_name_list)\n",
      "     |      Given a list of template names, return the first that can be loaded.\n",
      "     |  \n",
      "     |  template_context_processors = <django.utils.functional.cached_property object>\n",
      "     |  template_loaders = <django.utils.functional.cached_property object>\n",
      "     |  ----------------------------------------------------------------------\n",
      "     |  Static methods defined here:\n",
      "     |  \n",
      "     |  get_default()\n",
      "     |      Return the first DjangoTemplates backend that's configured, or raise\n",
      "     |      ImproperlyConfigured if none are configured.\n",
      "     |      \n",
      "     |      This is required for preserving historical APIs that rely on a\n",
      "     |      globally available, implicitly configured engine such as:\n",
      "     |      \n",
      "     |      >>> from django.template import Context, Template\n",
      "     |      >>> template = Template(\"Hello {{ name }}!\")\n",
      "     |      >>> context = Context({'name': \"world\"})\n",
      "     |      >>> template.render(context)\n",
      "     |      'Hello world!'\n",
      "     |  \n",
      "     |  ----------------------------------------------------------------------\n",
      "     |  Data descriptors defined here:\n",
      "     |  \n",
      "     |  __dict__\n",
      "     |      dictionary for instance variables (if defined)\n",
      "     |  \n",
      "     |  __weakref__\n",
      "     |      list of weak references to the object (if defined)\n",
      "     |  \n",
      "     |  ----------------------------------------------------------------------\n",
      "     |  Data and other attributes defined here:\n",
      "     |  \n",
      "     |  default_builtins = ['django.template.defaulttags', 'django.template.de...\n",
      "    \n",
      "    class RequestContext(Context)\n",
      "     |  This subclass of template.Context automatically populates itself using\n",
      "     |  the processors defined in the engine's configuration.\n",
      "     |  Additional processors can be specified as a list of callables\n",
      "     |  using the \"processors\" keyword argument.\n",
      "     |  \n",
      "     |  Method resolution order:\n",
      "     |      RequestContext\n",
      "     |      Context\n",
      "     |      BaseContext\n",
      "     |      builtins.object\n",
      "     |  \n",
      "     |  Methods defined here:\n",
      "     |  \n",
      "     |  __init__(self, request, dict_=None, processors=None, use_l10n=None, use_tz=None, autoescape=True)\n",
      "     |      Initialize self.  See help(type(self)) for accurate signature.\n",
      "     |  \n",
      "     |  bind_template(self, template)\n",
      "     |  \n",
      "     |  new(self, values=None)\n",
      "     |      Return a new context with the same properties, but with only the\n",
      "     |      values given in 'values' stored.\n",
      "     |  \n",
      "     |  ----------------------------------------------------------------------\n",
      "     |  Methods inherited from Context:\n",
      "     |  \n",
      "     |  __copy__(self)\n",
      "     |  \n",
      "     |  update(self, other_dict)\n",
      "     |      Push other_dict to the stack of dictionaries in the Context\n",
      "     |  \n",
      "     |  ----------------------------------------------------------------------\n",
      "     |  Methods inherited from BaseContext:\n",
      "     |  \n",
      "     |  __contains__(self, key)\n",
      "     |  \n",
      "     |  __delitem__(self, key)\n",
      "     |      Delete a variable from the current context\n",
      "     |  \n",
      "     |  __eq__(self, other)\n",
      "     |      Compare two contexts by comparing theirs 'dicts' attributes.\n",
      "     |  \n",
      "     |  __getitem__(self, key)\n",
      "     |      Get a variable's value, starting at the current context and going upward\n",
      "     |  \n",
      "     |  __iter__(self)\n",
      "     |  \n",
      "     |  __repr__(self)\n",
      "     |      Return repr(self).\n",
      "     |  \n",
      "     |  __setitem__(self, key, value)\n",
      "     |      Set a variable in the current context\n",
      "     |  \n",
      "     |  flatten(self)\n",
      "     |      Return self.dicts as one dictionary.\n",
      "     |  \n",
      "     |  get(self, key, otherwise=None)\n",
      "     |  \n",
      "     |  pop(self)\n",
      "     |  \n",
      "     |  push(self, *args, **kwargs)\n",
      "     |  \n",
      "     |  set_upward(self, key, value)\n",
      "     |      Set a variable in one of the higher contexts if it exists there,\n",
      "     |      otherwise in the current context.\n",
      "     |  \n",
      "     |  setdefault(self, key, default=None)\n",
      "     |  \n",
      "     |  ----------------------------------------------------------------------\n",
      "     |  Data descriptors inherited from BaseContext:\n",
      "     |  \n",
      "     |  __dict__\n",
      "     |      dictionary for instance variables (if defined)\n",
      "     |  \n",
      "     |  __weakref__\n",
      "     |      list of weak references to the object (if defined)\n",
      "     |  \n",
      "     |  ----------------------------------------------------------------------\n",
      "     |  Data and other attributes inherited from BaseContext:\n",
      "     |  \n",
      "     |  __hash__ = None\n",
      "    \n",
      "    class Template(builtins.object)\n",
      "     |  Methods defined here:\n",
      "     |  \n",
      "     |  __init__(self, template_string, origin=None, name=None, engine=None)\n",
      "     |      Initialize self.  See help(type(self)) for accurate signature.\n",
      "     |  \n",
      "     |  __iter__(self)\n",
      "     |  \n",
      "     |  compile_nodelist(self)\n",
      "     |      Parse and compile the template source into a nodelist. If debug\n",
      "     |      is True and an exception occurs during parsing, the exception is\n",
      "     |      is annotated with contextual line information where it occurred in the\n",
      "     |      template source.\n",
      "     |  \n",
      "     |  get_exception_info(self, exception, token)\n",
      "     |      Return a dictionary containing contextual line information of where\n",
      "     |      the exception occurred in the template. The following information is\n",
      "     |      provided:\n",
      "     |      \n",
      "     |      message\n",
      "     |          The message of the exception raised.\n",
      "     |      \n",
      "     |      source_lines\n",
      "     |          The lines before, after, and including the line the exception\n",
      "     |          occurred on.\n",
      "     |      \n",
      "     |      line\n",
      "     |          The line number the exception occurred on.\n",
      "     |      \n",
      "     |      before, during, after\n",
      "     |          The line the exception occurred on split into three parts:\n",
      "     |          1. The content before the token that raised the error.\n",
      "     |          2. The token that raised the error.\n",
      "     |          3. The content after the token that raised the error.\n",
      "     |      \n",
      "     |      total\n",
      "     |          The number of lines in source_lines.\n",
      "     |      \n",
      "     |      top\n",
      "     |          The line number where source_lines starts.\n",
      "     |      \n",
      "     |      bottom\n",
      "     |          The line number where source_lines ends.\n",
      "     |      \n",
      "     |      start\n",
      "     |          The start position of the token in the template source.\n",
      "     |      \n",
      "     |      end\n",
      "     |          The end position of the token in the template source.\n",
      "     |  \n",
      "     |  render(self, context)\n",
      "     |      Display stage -- can be called many times\n",
      "     |  \n",
      "     |  ----------------------------------------------------------------------\n",
      "     |  Data descriptors defined here:\n",
      "     |  \n",
      "     |  __dict__\n",
      "     |      dictionary for instance variables (if defined)\n",
      "     |  \n",
      "     |  __weakref__\n",
      "     |      list of weak references to the object (if defined)\n",
      "\n",
      "DATA\n",
      "    __all__ = ('Engine', 'engines', 'Template', 'Context', 'RequestContext...\n",
      "    engines = <django.template.utils.EngineHandler object>\n",
      "\n",
      "FILE\n",
      "    /home/oi/pythonista/lib/python3.6/site-packages/django/template/__init__.py\n",
      "\n",
      "\n"
     ]
    }
   ],
   "source": [
    "help(django.template)"
   ]
  },
  {
   "cell_type": "markdown",
   "metadata": {},
   "source": [
    "### La clase  *django.template.Template*.\n",
    "\n",
    "Esta es la clase primordial para el manejo de plantillas y permite crear un objeto capaz de ejecutar el código basado en *DTL* a partir de una cadena de caracteres, la cual corresponde al contenido de una plantilla.\n",
    "\n",
    "```\n",
    "Template(<objeto str>)\n",
    "```"
   ]
  },
  {
   "cell_type": "markdown",
   "metadata": {},
   "source": [
    "### La clase  *django.template.Context*.\n",
    "\n",
    "Esta clase permite crear definir el diccionario de contexto que consumirá la plantilla al ser procesada.\n",
    "\n",
    "```\n",
    "Context(<objeto tipo dict>)\n",
    "```"
   ]
  },
  {
   "cell_type": "markdown",
   "metadata": {},
   "source": [
    "**Ejemplo:**\n",
    "\n",
    "En un shell de Django ejecutar lo siguiente:\n",
    "\n",
    "``` python\n",
    "from django.template import Template, Context\n",
    "saludo = '¡Hola, {{ nombre }}'\n",
    "plantilla = Template(saludo)\n",
    "contexto = Context({'nombre': 'mundo'})\n",
    "plantilla.render(context=contexto)\n",
    "```"
   ]
  },
  {
   "cell_type": "markdown",
   "metadata": {},
   "source": [
    "## Configuración de las plantillas.\n",
    "\n",
    "El archivo *tutorial/tutorial/settings.py* contiene una sección que define la configuración de las plantillas de forma similar a lo siguiente:\n",
    "\n",
    "``` python\n",
    "TEMPLATES = [{'BACKEND': 'django.template.backends.django.DjangoTemplates',\n",
    "  'DIRS': [],\n",
    "  'APP_DIRS': True,\n",
    "  'OPTIONS': {'context_processors': ['django.template.context_processors.debug',\n",
    "    'django.template.context_processors.request',\n",
    "    'django.contrib.auth.context_processors.auth',\n",
    "    'django.contrib.messages.context_processors.messages']}}]\n",
    "```\n",
    "### Configuración del directorio de plantillas.\n",
    "\n",
    "La lista correspondiente al nombre *DIRS* contiene la lista de directorios a los que puede consultar Django en busca de una plantilla."
   ]
  },
  {
   "cell_type": "markdown",
   "metadata": {},
   "source": [
    "**Ejemplo:**\n",
    "\n",
    "El archivo *src/18/settings.py* contiene la siguiente configuración de directorios:\n",
    "\n",
    "``` python\n",
    "'DIRS': [BASE_DIR + '/templates/'],\n",
    "```\n",
    "\n",
    "En el que *BASE_DIR* corresponde al directorio base del proyecto de *Django*."
   ]
  },
  {
   "cell_type": "markdown",
   "metadata": {},
   "source": [
    "* La siguiente celda sustituirá al archivo *tutorial/tutorial/settings.py* con el archivo *src/18/settings.py*."
   ]
  },
  {
   "cell_type": "code",
   "execution_count": 3,
   "metadata": {},
   "outputs": [],
   "source": [
    "!cp src/18/settings.py tutorial/tutorial/settings.py"
   ]
  },
  {
   "cell_type": "code",
   "execution_count": 4,
   "metadata": {},
   "outputs": [
    {
     "name": "stdout",
     "output_type": "stream",
     "text": [
      "/usr/bin/sh: copy: command not found\r\n"
     ]
    }
   ],
   "source": [
    "!copy src\\18\\settings.py tutorial\\tutorial\\settings.py"
   ]
  },
  {
   "cell_type": "code",
   "execution_count": 5,
   "metadata": {},
   "outputs": [],
   "source": [
    "%pycat tutorial/tutorial/settings.py"
   ]
  },
  {
   "cell_type": "markdown",
   "metadata": {},
   "source": [
    "* La nueva configuración puede ser vista de la siguiente manera:"
   ]
  },
  {
   "cell_type": "markdown",
   "metadata": {},
   "source": [
    "* Siendo el valor de *BASE_DIR* el siguiente:"
   ]
  },
  {
   "cell_type": "code",
   "execution_count": null,
   "metadata": {},
   "outputs": [],
   "source": [
    "from tutorial.tutorial import settings"
   ]
  },
  {
   "cell_type": "code",
   "execution_count": null,
   "metadata": {},
   "outputs": [],
   "source": [
    "settings.BASE_DIR"
   ]
  },
  {
   "cell_type": "code",
   "execution_count": null,
   "metadata": {},
   "outputs": [],
   "source": [
    "!mkdir tutorial/templates"
   ]
  },
  {
   "cell_type": "markdown",
   "metadata": {},
   "source": [
    "## El módulo *django.template.loader* .\n",
    "\n",
    "Este módulo permite cargar documentos que contiene una plantillas e incluso procesarlos.\n",
    "\n",
    "### La función *django.template.loader.get_template()*, \n",
    "\n",
    "Esta función permite cargar una plantilla a partir de un archivo que se encuentre dentro de las rutas predefinidas en la configuración de *Django*.\n",
    "\n",
    "``` python \n",
    "get_template('<archivo>')\n",
    "\n",
    "```\n",
    "\n",
    "### La función *django.template.loader.select_template()*, \n",
    "\n",
    "La cual permite cargar la primera plantilla dentro de una ruta predefinida que encuentra dentro de una lista.\n",
    "\n",
    "``` python \n",
    "select_template(['<archivo 1 >', '<archivo 2 >'... '<archivo n >'] )\n",
    "\n",
    "```\n",
    "\n",
    "### La función *django.template.loader.render_to_string()*, \n",
    "\n",
    "La cual permite cargar una plantilla dentro de una ruta predefinida y procesarla utilizando un objeto tipo *dict* como contexto.\n",
    "\n",
    "``` python \n",
    "render_to_string('<archivo>', <contexto>)\n",
    "\n",
    "```"
   ]
  },
  {
   "cell_type": "markdown",
   "metadata": {},
   "source": [
    "**Ejemplo:**\n",
    "\n",
    "El archivo *src/18/ejemplo.html* contiene el siguiente texto, el cual mezcla código *HTML* con código *DTL*:\n",
    "\n",
    "```html\n",
    "<!DOCTYPE html>\n",
    "<html>\n",
    "    <header>\n",
    "        <meta charset=\"UTF-8\">\n",
    "        <title>{{ titulo }}</title>\n",
    "    </header>\n",
    "    <body>\n",
    "        {% block cuerpo %}\n",
    "        <h1>¡Hola, {{ nombre }}!</h1>\n",
    "        {% endblock %}\n",
    "    </body>\n",
    "</html>\n",
    "```"
   ]
  },
  {
   "cell_type": "markdown",
   "metadata": {},
   "source": [
    "* La siguiente celda copiará el archivo *src/18/base.html* al directorio *tutorial/templates*, el cual fue definido en *settings.py* como un directorio de plantillas."
   ]
  },
  {
   "cell_type": "code",
   "execution_count": 6,
   "metadata": {},
   "outputs": [],
   "source": [
    "!cp src/18/ejemplo.html tutorial/templates/"
   ]
  },
  {
   "cell_type": "code",
   "execution_count": null,
   "metadata": {},
   "outputs": [],
   "source": [
    "!copy src\\18\\ejemplo.html tutorial\\templates\\"
   ]
  },
  {
   "cell_type": "code",
   "execution_count": 7,
   "metadata": {
    "scrolled": true
   },
   "outputs": [],
   "source": [
    "%pycat tutorial/templates/ejemplo.html"
   ]
  },
  {
   "cell_type": "markdown",
   "metadata": {},
   "source": [
    "* En un shell de *Django* ejecute el siguiente código:\n",
    "\n",
    "``` python\n",
    "from django.template.loader import render_to_string\n",
    "contexto = {'titulo':'Página de prueba', 'nombre':'extraño'}\n",
    "print(render_to_string(\"ejemplo.html\", contexto))\n",
    "```"
   ]
  },
  {
   "cell_type": "markdown",
   "metadata": {},
   "source": [
    "* El resultado será:\n",
    "``` html\n",
    "<!DOCTYPE html>\n",
    "<html>\n",
    "    <header>\n",
    "        <meta charset=\"UTF-8\">\n",
    "        <title>Página de prueba</title>\n",
    "    </header>\n",
    "    <body>\n",
    "\n",
    "        <h1>¡Hola, extraño!</h1>\n",
    "\n",
    "    </body>\n",
    "</html>\n",
    "```"
   ]
  },
  {
   "cell_type": "markdown",
   "metadata": {},
   "source": [
    "## Publicación de una plantilla como resultado de una función de vista."
   ]
  },
  {
   "cell_type": "markdown",
   "metadata": {},
   "source": [
    "La función ```django.shortcuts.render_to_response``` permite que una función de vista envíe a un cliewnte un documento creado a partir de una plantilla y un contexto específico:\n",
    "\n",
    "``` python\n",
    "render_to_response(<plantilla>, context=<contexto>, content_type=<tipo de contenido>, status=<estado>)\n",
    "```\n",
    "Donde:\n",
    "\n",
    "* *plantilla* es el nombre del archivo que contiene a la plantilla y que debe de estar localizado en algún directorio configurado para acceder a estas.\n",
    "* *context* es un objeto de tipo *dict* que contiene el contexto.\n",
    "* *content-type* es un parámetro opcional que indica el tipo de contenido del que se trata.\n",
    "* *status* corresponde al mensaje de estado que se eviará junto con el contenido. El valor por defecto es *200*."
   ]
  },
  {
   "cell_type": "markdown",
   "metadata": {},
   "source": [
    "**Ejemplo:**"
   ]
  },
  {
   "cell_type": "markdown",
   "metadata": {},
   "source": [
    "El archivo *src/18/views.py* contiene, entre otras, a la función *saluda()* la cual corresponde al siguiente código:\n",
    "\n",
    "``` python \n",
    "def saluda(request, nombre):\n",
    "    return render_to_response('ejemplo.html', {titulo:\"Prueba de plantilla\", nombre: nombre})\n",
    "```\n",
    "\n",
    "Esta función realizará lo siguiente: \n",
    "* Obtendrá una cadena de caracteres correspondiente al segmento final de la URL *main/claves/* siempre que sea alfanumérico.\n",
    "* Cargará al archivo *tutorial/templates/base.html* como una plantilla.\n",
    "* Procesará la plantilla con el contexto dado.\n",
    "* Enviará el contenido a un cliente."
   ]
  },
  {
   "cell_type": "markdown",
   "metadata": {},
   "source": [
    "* La siguiente celda sustiruirá al archivo *tutorial/main/views.py* con el archivo *src/18/views.py*."
   ]
  },
  {
   "cell_type": "code",
   "execution_count": 8,
   "metadata": {},
   "outputs": [],
   "source": [
    "!cp src/18/views.py tutorial/main/views.py"
   ]
  },
  {
   "cell_type": "code",
   "execution_count": 9,
   "metadata": {},
   "outputs": [],
   "source": [
    "%pycat tutorial/main/views.py"
   ]
  },
  {
   "cell_type": "markdown",
   "metadata": {},
   "source": [
    "* Inicie el servidor."
   ]
  },
  {
   "cell_type": "code",
   "execution_count": 10,
   "metadata": {},
   "outputs": [
    {
     "name": "stdout",
     "output_type": "stream",
     "text": [
      "/opt/pythonista/py231/tutorial\n"
     ]
    }
   ],
   "source": [
    "%cd tutorial"
   ]
  },
  {
   "cell_type": "markdown",
   "metadata": {},
   "source": [
    "**ADVERTENCIAS:** \n",
    "\n",
    "* Al ejecutar la siguiente celda el servidor se inciará desde la notebook, por lo que para ejecutar cualquier otra celda es necesario interrumpir la ejecución del kernel.\n",
    "\n",
    "* Asegúrese que no haya otro servicio escuchando en el puerto *5000*."
   ]
  },
  {
   "cell_type": "code",
   "execution_count": 11,
   "metadata": {},
   "outputs": [
    {
     "name": "stdout",
     "output_type": "stream",
     "text": [
      "Performing system checks...\n",
      "\n",
      "System check identified no issues (0 silenced).\n",
      "May 31, 2019 - 19:38:25\n",
      "Django version 2.1.1, using settings 'tutorial.settings'\n",
      "Starting development server at http://0.0.0.0:5000/\n",
      "Quit the server with CONTROL-C.\n",
      "[31/May/2019 19:38:27] \u001b[m\"GET /main/claves/Juan HTTP/1.1\" 200 203\u001b[0m\n",
      "[31/May/2019 19:38:33] \u001b[m\"GET /main/claves/Juan%20Pablo HTTP/1.1\" 200 209\u001b[0m\n",
      "^C\n"
     ]
    }
   ],
   "source": [
    "!./manage.py runserver 0.0.0.0:5000"
   ]
  },
  {
   "cell_type": "markdown",
   "metadata": {},
   "source": [
    "Cualquier URL que al final de *main/claves/* contenga caracteres alfanuméricos, regresará un documento HTML generado mediante la función saluda.\n",
    "\n",
    "* El elemento *&lt;title&gt;* del código *HTML* contiene el texto *Prueba de plantilla*. \n",
    "* El segmento de la URL capturado se deplegará en un mensaje de saludo.\n",
    "\n",
    "http://localhost:5000/main/claves/Juan"
   ]
  },
  {
   "cell_type": "markdown",
   "metadata": {},
   "source": [
    "<p style=\"text-align: center\"><a rel=\"license\" href=\"http://creativecommons.org/licenses/by/4.0/\"><img alt=\"Licencia Creative Commons\" style=\"border-width:0\" src=\"https://i.creativecommons.org/l/by/4.0/80x15.png\" /></a><br />Esta obra está bajo una <a rel=\"license\" href=\"http://creativecommons.org/licenses/by/4.0/\">Licencia Creative Commons Atribución 4.0 Internacional</a>.</p>\n",
    "<p style=\"text-align: center\">&copy; José Luis Chiquete Valdivieso. 2019.</p>"
   ]
  }
 ],
 "metadata": {
  "kernelspec": {
   "display_name": "Python 3",
   "language": "python",
   "name": "python3"
  },
  "language_info": {
   "codemirror_mode": {
    "name": "ipython",
    "version": 3
   },
   "file_extension": ".py",
   "mimetype": "text/x-python",
   "name": "python",
   "nbconvert_exporter": "python",
   "pygments_lexer": "ipython3",
   "version": "3.6.8"
  }
 },
 "nbformat": 4,
 "nbformat_minor": 2
}
